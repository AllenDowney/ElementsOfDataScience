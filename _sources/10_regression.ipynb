{
 "cells": [
  {
   "cell_type": "markdown",
   "metadata": {},
   "source": [
    "# Regression"
   ]
  },
  {
   "cell_type": "code",
   "execution_count": 1,
   "metadata": {
    "tags": [
     "remove-print"
    ]
   },
   "outputs": [],
   "source": [
    "from os.path import basename, exists\n",
    "\n",
    "def download(url):\n",
    "    filename = basename(url)\n",
    "    if not exists(filename):\n",
    "        from urllib.request import urlretrieve\n",
    "\n",
    "        local, _ = urlretrieve(url, filename)\n",
    "        print(\"Downloaded \" + str(local))\n",
    "    return filename\n",
    "\n",
    "download('https://raw.githubusercontent.com/AllenDowney/ElementsOfDataScience/v1/utils.py')\n",
    "\n",
    "import utils"
   ]
  },
  {
   "cell_type": "markdown",
   "metadata": {
    "tags": [
     "remove-print"
    ]
   },
   "source": [
    "[Click here to run this notebook on Colab](https://colab.research.google.com/github/AllenDowney/ElementsOfDataScience/blob/v1/10_regression.ipynb)."
   ]
  },
  {
   "cell_type": "markdown",
   "metadata": {},
   "source": [
    "In the previous chapter we used simple linear regression to quantify the relationship between two variables.\n",
    "In this chapter we'll get farther into regression, including multiple regression and one of my all-time favorite tools, logistic regression.\n",
    "These tools will allow us to explore relationships among sets of variables.\n",
    "As an example, we will use data from the General Social Survey (GSS) to explore the relationship between income, education, age, and sex.\n",
    "\n",
    "The GSS dataset contains hundreds of columns.\n",
    "We'll work with an extract that contains just the columns we need, as we did in Chapter 8.\n",
    "Instructions for downloading the extract are in the notebook for this chapter."
   ]
  },
  {
   "cell_type": "code",
   "execution_count": 2,
   "metadata": {
    "tags": [
     "remove-cell"
    ]
   },
   "outputs": [],
   "source": [
    "download('https://github.com/AllenDowney/ElementsOfDataScience/' +\n",
    "         'raw/v1/data/gss_extract_2022.hdf');"
   ]
  },
  {
   "cell_type": "markdown",
   "metadata": {},
   "source": [
    "We can read the `DataFrame` like this and display the first few rows."
   ]
  },
  {
   "cell_type": "code",
   "execution_count": 49,
   "metadata": {},
   "outputs": [
    {
     "data": {
      "text/html": [
       "\\begin{tabular}{lrrrrrrrrr}\n",
       "\\toprule\n",
       " & year & id & age & educ & degree & sex & gunlaw & grass & realinc \\\\\n",
       "\\midrule\n",
       "0 & 1972 & 1 & 23.000000 & 16.000000 & 3.000000 & 2.000000 & 1.000000 & NaN & 18951.000000 \\\\\n",
       "1 & 1972 & 2 & 70.000000 & 10.000000 & 0.000000 & 1.000000 & 1.000000 & NaN & 24366.000000 \\\\\n",
       "2 & 1972 & 3 & 48.000000 & 12.000000 & 1.000000 & 2.000000 & 1.000000 & NaN & 24366.000000 \\\\\n",
       "3 & 1972 & 4 & 27.000000 & 17.000000 & 3.000000 & 2.000000 & 1.000000 & NaN & 30458.000000 \\\\\n",
       "4 & 1972 & 5 & 61.000000 & 12.000000 & 1.000000 & 2.000000 & 1.000000 & NaN & 50763.000000 \\\\\n",
       "\\bottomrule\n",
       "\\end{tabular}\n"
      ],
      "text/plain": [
       "   year  id   age  educ  degree  sex  gunlaw  grass  realinc\n",
       "0  1972   1  23.0  16.0     3.0  2.0     1.0    NaN  18951.0\n",
       "1  1972   2  70.0  10.0     0.0  1.0     1.0    NaN  24366.0\n",
       "2  1972   3  48.0  12.0     1.0  2.0     1.0    NaN  24366.0\n",
       "3  1972   4  27.0  17.0     3.0  2.0     1.0    NaN  30458.0\n",
       "4  1972   5  61.0  12.0     1.0  2.0     1.0    NaN  50763.0"
      ]
     },
     "execution_count": 49,
     "metadata": {},
     "output_type": "execute_result"
    }
   ],
   "source": [
    "import pandas as pd\n",
    "\n",
    "gss = pd.read_hdf('gss_extract_2022.hdf', 'gss')\n",
    "gss.head()"
   ]
  },
  {
   "cell_type": "markdown",
   "metadata": {},
   "source": [
    "We'll start with a simple regression, estimating the parameters of real income as a function of years of education.\n",
    "First we'll select the subset of the data where both variables are valid."
   ]
  },
  {
   "cell_type": "code",
   "execution_count": 5,
   "metadata": {},
   "outputs": [],
   "source": [
    "data = gss.dropna(subset=['realinc', 'educ'])\n",
    "xs = data['educ']\n",
    "ys = data['realinc']"
   ]
  },
  {
   "cell_type": "markdown",
   "metadata": {},
   "source": [
    "Now we can use `linregress` to fit a line to the data."
   ]
  },
  {
   "cell_type": "code",
   "execution_count": 6,
   "metadata": {},
   "outputs": [
    {
     "data": {
      "text/plain": [
       "{'slope': 3631.0761003894995,\n",
       " 'intercept': -15007.453640508655,\n",
       " 'rvalue': 0.37169252259280877,\n",
       " 'pvalue': 0.0,\n",
       " 'stderr': 35.625290800764,\n",
       " 'intercept_stderr': 480.07467595184363}"
      ]
     },
     "execution_count": 6,
     "metadata": {},
     "output_type": "execute_result"
    }
   ],
   "source": [
    "from scipy.stats import linregress\n",
    "res = linregress(xs, ys)\n",
    "res._asdict()"
   ]
  },
  {
   "cell_type": "markdown",
   "metadata": {},
   "source": [
    "The estimated slope is about `3450`, which means that each additional year of education is associated with an additional $3450 of income."
   ]
  },
  {
   "cell_type": "markdown",
   "metadata": {},
   "source": [
    "## Regression with StatsModels\n",
    "\n",
    "SciPy doesn't do multiple regression, so we'll to switch to a new library, StatsModels.  Here's the import statement."
   ]
  },
  {
   "cell_type": "code",
   "execution_count": 7,
   "metadata": {},
   "outputs": [],
   "source": [
    "import statsmodels.formula.api as smf"
   ]
  },
  {
   "cell_type": "markdown",
   "metadata": {},
   "source": [
    "To fit a regression model, we'll use `ols`, which stands for \"ordinary least squares\", another name for regression."
   ]
  },
  {
   "cell_type": "code",
   "execution_count": 8,
   "metadata": {},
   "outputs": [],
   "source": [
    "results = smf.ols('realinc ~ educ', data=data).fit()"
   ]
  },
  {
   "cell_type": "markdown",
   "metadata": {},
   "source": [
    "The first argument is a **formula string** that specifies that we want to regress income as a function of education.\n",
    "The second argument is the `DataFrame` containing the subset of valid data.\n",
    "The names in the formula string correspond to columns in the `DataFrame`.\n",
    "The result from `ols` is an object that represents the model; it provides a function called `fit` that does the actual computation."
   ]
  },
  {
   "cell_type": "code",
   "execution_count": 9,
   "metadata": {
    "tags": [
     "remove-cell"
    ]
   },
   "outputs": [
    {
     "data": {
      "text/plain": [
       "statsmodels.regression.linear_model.RegressionResultsWrapper"
      ]
     },
     "execution_count": 9,
     "metadata": {},
     "output_type": "execute_result"
    }
   ],
   "source": [
    "type(results)"
   ]
  },
  {
   "cell_type": "markdown",
   "metadata": {},
   "source": [
    "The result is a `RegressionResultsWrapper`, which contains a `Series` called `params`, which contains the estimated intercept and the slope associated with `educ`."
   ]
  },
  {
   "cell_type": "code",
   "execution_count": 10,
   "metadata": {},
   "outputs": [
    {
     "data": {
      "text/plain": [
       "Intercept   -15007.453641\n",
       "educ          3631.076100\n",
       "dtype: float64"
      ]
     },
     "execution_count": 10,
     "metadata": {},
     "output_type": "execute_result"
    }
   ],
   "source": [
    "results.params"
   ]
  },
  {
   "cell_type": "markdown",
   "metadata": {},
   "source": [
    "The results from Statsmodels are the same as the results we got from SciPy, so that's good!"
   ]
  },
  {
   "cell_type": "markdown",
   "metadata": {},
   "source": [
    "**Exercise:** Let's run another regression using SciPy and StatsModels, and confirm we get the same results.\n",
    "Compute the regression of `realinc` as a function of `age` using SciPy's `linregress` and then using StatsModels' `smf.ols`.\n",
    "Confirm that the intercept and slope are the same.\n",
    "Remember to use `dropna` to select the rows with valid data in both columns."
   ]
  },
  {
   "cell_type": "code",
   "execution_count": 11,
   "metadata": {
    "tags": [
     "remove-cell"
    ]
   },
   "outputs": [
    {
     "data": {
      "text/plain": [
       "{'slope': -35.777496403061036,\n",
       " 'intercept': 34148.79417109003,\n",
       " 'rvalue': -0.02000684524772686,\n",
       " 'pvalue': 3.728019377398043e-07,\n",
       " 'stderr': 7.038831749655493,\n",
       " 'intercept_stderr': 346.12532772697745}"
      ]
     },
     "execution_count": 11,
     "metadata": {},
     "output_type": "execute_result"
    }
   ],
   "source": [
    "# Solution\n",
    "\n",
    "data = gss.dropna(subset=['realinc', 'age'])\n",
    "xs = data['age']\n",
    "ys = data['realinc']\n",
    "\n",
    "res = linregress(xs, ys)\n",
    "res._asdict()"
   ]
  },
  {
   "cell_type": "code",
   "execution_count": 12,
   "metadata": {
    "tags": [
     "remove-cell"
    ]
   },
   "outputs": [
    {
     "data": {
      "text/plain": [
       "Intercept    34148.794171\n",
       "age            -35.777496\n",
       "dtype: float64"
      ]
     },
     "execution_count": 12,
     "metadata": {},
     "output_type": "execute_result"
    }
   ],
   "source": [
    "# Solution\n",
    "\n",
    "results = smf.ols('realinc ~ age', data=data).fit()\n",
    "results.params"
   ]
  },
  {
   "cell_type": "markdown",
   "metadata": {},
   "source": [
    "## Multiple Regression\n",
    "\n",
    "In the previous section, we saw that income depends on education, and in the exercise we saw that it also depends on `age`.\n",
    "Now let's put them together in a single model."
   ]
  },
  {
   "cell_type": "code",
   "execution_count": 13,
   "metadata": {},
   "outputs": [
    {
     "data": {
      "text/plain": [
       "Intercept   -17999.726908\n",
       "educ          3665.108238\n",
       "age             55.071802\n",
       "dtype: float64"
      ]
     },
     "execution_count": 13,
     "metadata": {},
     "output_type": "execute_result"
    }
   ],
   "source": [
    "results = smf.ols('realinc ~ educ + age', data=gss).fit()\n",
    "results.params"
   ]
  },
  {
   "cell_type": "markdown",
   "metadata": {},
   "source": [
    "In this model, `realinc` is the variable we are trying to explain or predict, which is called the **dependent variable** because it depends on the the other variables -- or at least we expect it to.\n",
    "The other variables, `educ` and `age`, are called **independent variables** or sometimes \"predictors\".\n",
    "The `+` sign indicates that we expect the contributions of the independent variables to be additive.\n",
    "\n",
    "The result contains an intercept and two slopes, which estimate the average contribution of each predictor with the other predictor held constant.\n",
    "\n",
    "* The estimated slope for `educ` is about `3665` -- so if we compare two people with the same age, and one has an additional year of education, we expect their income to be higher by $3514.\n",
    "\n",
    "* The estimated slope for `age` is about `55` -- so if we compare two people with the same education, and one is a year older, we expect their income to be higher by $55.\n",
    "\n",
    "In this model, the contribution of age is quite small, but as we'll see in the next section that might be misleading."
   ]
  },
  {
   "cell_type": "markdown",
   "metadata": {},
   "source": [
    "## Grouping by Age\n",
    "\n",
    "Let's look more closely at the relationship between income and age.\n",
    "We'll use a Pandas method we have not seen before, called `groupby`, to divide the `DataFrame` into age groups."
   ]
  },
  {
   "cell_type": "code",
   "execution_count": 14,
   "metadata": {},
   "outputs": [
    {
     "data": {
      "text/plain": [
       "pandas.core.groupby.generic.DataFrameGroupBy"
      ]
     },
     "execution_count": 14,
     "metadata": {},
     "output_type": "execute_result"
    }
   ],
   "source": [
    "grouped = gss.groupby('age')\n",
    "type(grouped)"
   ]
  },
  {
   "cell_type": "markdown",
   "metadata": {},
   "source": [
    "The result is a `GroupBy` object that contains one group for each value of `age`.\n",
    "The `GroupBy` object behaves like a `DataFrame` in many ways.\n",
    "You can use brackets to select a column, like `realinc` in this example, and then invoke a method like `mean`."
   ]
  },
  {
   "cell_type": "code",
   "execution_count": 15,
   "metadata": {},
   "outputs": [],
   "source": [
    "mean_income_by_age = grouped['realinc'].mean()"
   ]
  },
  {
   "cell_type": "markdown",
   "metadata": {},
   "source": [
    "The result is a Pandas `Series` that contains the mean income for each age group, which we can plot like this."
   ]
  },
  {
   "cell_type": "code",
   "execution_count": 16,
   "metadata": {},
   "outputs": [
    {
     "data": {
      "image/png": "[encoded data removed]",
      "text/plain": [
       "<Figure size 480x360 with 1 Axes>"
      ]
     },
     "metadata": {},
     "output_type": "display_data"
    }
   ],
   "source": [
    "import matplotlib.pyplot as plt\n",
    "\n",
    "plt.plot(mean_income_by_age, 'o', alpha=0.5)\n",
    "plt.xlabel('Age (years)')\n",
    "plt.ylabel('Income (1986 $)')\n",
    "plt.title('Average income, grouped by age');"
   ]
  },
  {
   "cell_type": "markdown",
   "metadata": {},
   "source": [
    "Average income increases from age 20 to age 50, then starts to fall.\n",
    "And that explains why the estimated slope is so small, because the relationship is non-linear.\n",
    "\n",
    "To describe a non-linear relationship, we'll create a new variable called `age2` that equals `age` squared."
   ]
  },
  {
   "cell_type": "code",
   "execution_count": 17,
   "metadata": {},
   "outputs": [],
   "source": [
    "gss['age2'] = gss['age']**2"
   ]
  },
  {
   "cell_type": "markdown",
   "metadata": {},
   "source": [
    "Now we can run a regression with both `age` and `age2` on the right side."
   ]
  },
  {
   "cell_type": "code",
   "execution_count": 18,
   "metadata": {},
   "outputs": [
    {
     "data": {
      "text/plain": [
       "Intercept   -52599.674844\n",
       "educ          3464.870685\n",
       "age           1779.196367\n",
       "age2           -17.445272\n",
       "dtype: float64"
      ]
     },
     "execution_count": 18,
     "metadata": {},
     "output_type": "execute_result"
    }
   ],
   "source": [
    "model = smf.ols('realinc ~ educ + age + age2', data=gss)\n",
    "results = model.fit()\n",
    "results.params"
   ]
  },
  {
   "cell_type": "markdown",
   "metadata": {},
   "source": [
    "In this model, the slope associated with `age` is substantial, about $1779 per year.\n",
    "The slope associated with `age2` is about -$17, but that's harder to interpret.\n",
    "In the next section, we'll see methods to interpret multivariate models and visualize the results.\n",
    "But first, here are two exercises where you can practice using `groupby` and `ols`."
   ]
  },
  {
   "cell_type": "markdown",
   "metadata": {},
   "source": [
    "**Exercise:** To get a closer look at the relationship between income and education, let's use the variable `educ` to group the data, then plot mean income in each group.\n",
    "\n",
    "- Group `gss` by `educ`.\n",
    "\n",
    "- From the resulting `GroupBy` object, extract `realinc` and compute the mean.\n",
    "\n",
    "- Plot mean income in each education group.\n",
    "\n",
    "What can you say about the relationship between education and income?\n",
    "Does it look like a linear relationship?"
   ]
  },
  {
   "cell_type": "code",
   "execution_count": 19,
   "metadata": {
    "tags": [
     "remove-cell"
    ]
   },
   "outputs": [
    {
     "data": {
      "image/png": "[encoded data removed]",
      "text/plain": [
       "<Figure size 480x360 with 1 Axes>"
      ]
     },
     "metadata": {},
     "output_type": "display_data"
    }
   ],
   "source": [
    "# Solution\n",
    "\n",
    "grouped = gss.groupby('educ')\n",
    "\n",
    "mean_income_by_educ = grouped['realinc'].mean()\n",
    "\n",
    "plt.plot(mean_income_by_educ, 'o', alpha=0.5)\n",
    "\n",
    "plt.xlabel('Education (years)')\n",
    "plt.ylabel('Income (1986 $)')\n",
    "plt.title('Mean income versus education');"
   ]
  },
  {
   "cell_type": "markdown",
   "metadata": {},
   "source": [
    "**Exercise:** The graph in the previous exercise suggests that the relationship between income and education is non-linear.  So let's try fitting a non-linear model.\n",
    "\n",
    "- Add a column named `educ2` to the `gss` DataFrame -- it should contain the values from `educ` squared.  \n",
    "\n",
    "- Run a regression that uses `educ`, `educ2`, `age`, and `age2` to predict `realinc`.\n"
   ]
  },
  {
   "cell_type": "code",
   "execution_count": 20,
   "metadata": {
    "tags": [
     "remove-cell"
    ]
   },
   "outputs": [
    {
     "data": {
      "text/plain": [
       "Intercept   -26336.766346\n",
       "educ          -706.074107\n",
       "educ2          165.962552\n",
       "age           1728.454811\n",
       "age2           -17.207513\n",
       "dtype: float64"
      ]
     },
     "execution_count": 20,
     "metadata": {},
     "output_type": "execute_result"
    }
   ],
   "source": [
    "# Solution\n",
    "\n",
    "gss['educ2'] = gss['educ']**2\n",
    "\n",
    "results = smf.ols('realinc ~ educ + educ2 + age + age2', \n",
    "                  data=gss).fit()\n",
    "\n",
    "results.params"
   ]
  },
  {
   "cell_type": "markdown",
   "metadata": {},
   "source": [
    "## Visualizing regression results\n",
    "\n",
    "In the previous section we ran a multiple regression model to characterize the relationships between income, age, and education.\n",
    "Because the model includes quadratic terms, the parameters are hard to interpret.\n",
    "For example, you might notice that the parameter for `educ` is negative, and that might be a surprise, because it suggests that higher education is associated with lower income.\n",
    "But the parameter for `educ2` is positive, and that makes a big difference.\n",
    "In this section we'll see a way to interpret the model visually and validate it against data.\n",
    "\n",
    "Here's the model from the previous exercise."
   ]
  },
  {
   "cell_type": "code",
   "execution_count": 21,
   "metadata": {},
   "outputs": [
    {
     "data": {
      "text/plain": [
       "Intercept   -26336.766346\n",
       "educ          -706.074107\n",
       "educ2          165.962552\n",
       "age           1728.454811\n",
       "age2           -17.207513\n",
       "dtype: float64"
      ]
     },
     "execution_count": 21,
     "metadata": {},
     "output_type": "execute_result"
    }
   ],
   "source": [
    "gss['educ2'] = gss['educ']**2\n",
    "\n",
    "model = smf.ols('realinc ~ educ + educ2 + age + age2', data=gss)\n",
    "results = model.fit()\n",
    "results.params"
   ]
  },
  {
   "cell_type": "markdown",
   "metadata": {},
   "source": [
    "The `results` object provides a method called `predict` that uses the estimated parameters to generate predictions.\n",
    "It takes a `DataFrame` as a parameter and returns a `Series` with a prediction for each row in the `DataFrame`.\n",
    "To use it, we'll create a new `DataFrame` with `age` running from 18 to 89, and `age2` set to `age` squared."
   ]
  },
  {
   "cell_type": "code",
   "execution_count": 22,
   "metadata": {},
   "outputs": [],
   "source": [
    "import numpy as np\n",
    "\n",
    "df = pd.DataFrame()\n",
    "df['age'] = np.linspace(18, 89)\n",
    "df['age2'] = df['age']**2"
   ]
  },
  {
   "cell_type": "markdown",
   "metadata": {},
   "source": [
    "Next, we'll pick a level for `educ`, like 12 years, which is the most common value.\n",
    "When you assign a single value to a column in a `DataFrame`, Pandas makes a copy for each row."
   ]
  },
  {
   "cell_type": "code",
   "execution_count": 23,
   "metadata": {},
   "outputs": [],
   "source": [
    "df['educ'] = 12\n",
    "df['educ2'] = df['educ']**2"
   ]
  },
  {
   "cell_type": "markdown",
   "metadata": {},
   "source": [
    "Then we can use `results` to predict the average income for each age group, holding education constant."
   ]
  },
  {
   "cell_type": "code",
   "execution_count": 24,
   "metadata": {},
   "outputs": [],
   "source": [
    "pred12 = results.predict(df)"
   ]
  },
  {
   "cell_type": "markdown",
   "metadata": {},
   "source": [
    "The result from `predict` is a `Series` with one prediction for each row.\n",
    "So we can plot it with age on the $x$-axis and the predicted income for each age group on the $y$-axis.\n",
    "And we'll plot the data for comparison."
   ]
  },
  {
   "cell_type": "code",
   "execution_count": 25,
   "metadata": {},
   "outputs": [
    {
     "data": {
      "image/png": "[encoded data removed]",
      "text/plain": [
       "<Figure size 480x360 with 1 Axes>"
      ]
     },
     "metadata": {},
     "output_type": "display_data"
    }
   ],
   "source": [
    "plt.plot(mean_income_by_age, 'o', alpha=0.5)\n",
    "\n",
    "plt.plot(df['age'], pred12, label='High school', color='C4')\n",
    "\n",
    "plt.xlabel('Age (years)')\n",
    "plt.ylabel('Income (1986 $)')\n",
    "plt.title('Income versus age, grouped by education level')\n",
    "plt.legend();"
   ]
  },
  {
   "cell_type": "markdown",
   "metadata": {},
   "source": [
    "The dots show the average income in each age group.\n",
    "The line shows the predictions generated by the model, holding education constant.\n",
    "This plot shows the shape of the model, a downward-facing parabola.\n",
    "\n",
    "We can do the same thing with other levels of education, like 14 years, which is the nominal time to earn an Associate's degree, and 16 years, which is the nominal time to earn a Bachelor's degree."
   ]
  },
  {
   "cell_type": "code",
   "execution_count": 26,
   "metadata": {},
   "outputs": [],
   "source": [
    "df['educ'] = 16\n",
    "df['educ2'] = df['educ']**2\n",
    "pred16 = results.predict(df)\n",
    "\n",
    "df['educ'] = 14\n",
    "df['educ2'] = df['educ']**2\n",
    "pred14 = results.predict(df)"
   ]
  },
  {
   "cell_type": "code",
   "execution_count": 27,
   "metadata": {},
   "outputs": [
    {
     "data": {
      "image/png": "[encoded data removed]",
      "text/plain": [
       "<Figure size 480x360 with 1 Axes>"
      ]
     },
     "metadata": {},
     "output_type": "display_data"
    }
   ],
   "source": [
    "plt.plot(mean_income_by_age, 'o', alpha=0.5)\n",
    "\n",
    "plt.plot(df['age'], pred16, ':', label='Bachelor')\n",
    "plt.plot(df['age'], pred14, '--', label='Associate')\n",
    "plt.plot(df['age'], pred12, label='High school', color='C4')\n",
    "\n",
    "plt.xlabel('Age (years)')\n",
    "plt.ylabel('Income (1986 $)')\n",
    "plt.title('Income versus age, grouped by education level')\n",
    "plt.legend();"
   ]
  },
  {
   "cell_type": "markdown",
   "metadata": {},
   "source": [
    "The lines show expected income as a function of age for three levels of education.\n",
    "This visualization helps validate the model, since we can compare the predictions with the data.\n",
    "And it helps us interpret the model since we can see the separate contributions of age and education.\n",
    "\n",
    "Sometimes we can understand a model by looking at its parameters, but often it is better to look at its predictions.\n",
    "In the exercises, you'll have a chance to run a multiple regression, generate predictions, and visualize the results."
   ]
  },
  {
   "cell_type": "markdown",
   "metadata": {},
   "source": [
    "**Exercise:** At this point, we have a model that predicts income using age, education, and sex.\n",
    "\n",
    "Let's see what it predicts for different levels of education, holding `age` constant.\n",
    "\n",
    "- Create an empty `DataFrame` named `df`.\n",
    "\n",
    "- Using `np.linspace()`, add a column named `educ` to `df` with a range of values from `0` to `20`.\n",
    "\n",
    "- Add a column named `educ2` with the values from `educ` squared.\n",
    "\n",
    "- Add a column named `age` with the constant value `30`.\n",
    "\n",
    "- Add a column named `age2` with the values from `age` squared.\n",
    "\n",
    "- Use the `results` object and `df` to generate expected income as a function of education."
   ]
  },
  {
   "cell_type": "code",
   "execution_count": 28,
   "metadata": {
    "tags": [
     "remove-cell"
    ]
   },
   "outputs": [
    {
     "data": {
      "text/plain": [
       "0    10030.116309\n",
       "1     9769.571701\n",
       "2     9564.324903\n",
       "3     9414.375915\n",
       "4     9319.724737\n",
       "dtype: float64"
      ]
     },
     "execution_count": 28,
     "metadata": {},
     "output_type": "execute_result"
    }
   ],
   "source": [
    "# Solution\n",
    "\n",
    "df = pd.DataFrame()\n",
    "df['educ'] = np.linspace(0, 20)\n",
    "df['age'] = 30\n",
    "df['educ2'] = df['educ']**2\n",
    "df['age2'] = df['age']**2\n",
    "\n",
    "pred = results.predict(df)\n",
    "pred.head()"
   ]
  },
  {
   "cell_type": "markdown",
   "metadata": {},
   "source": [
    "**Exercise:** Now let's visualize the results from the previous exercise.\n",
    "\n",
    "- Group the GSS data by `educ` and compute the mean income in each education group.\n",
    "\n",
    "- Plot mean income for each education group as a scatter plot.\n",
    "\n",
    "- Plot the predictions from the previous exercise.\n",
    "\n",
    "How do the predictions compare with the data?"
   ]
  },
  {
   "cell_type": "code",
   "execution_count": 29,
   "metadata": {
    "tags": [
     "remove-cell"
    ]
   },
   "outputs": [
    {
     "data": {
      "image/png": "[encoded data removed]",
      "text/plain": [
       "<Figure size 480x360 with 1 Axes>"
      ]
     },
     "metadata": {},
     "output_type": "display_data"
    }
   ],
   "source": [
    "# Solution\n",
    "\n",
    "grouped = gss.groupby('educ')\n",
    "mean_income_by_educ = grouped['realinc'].mean()\n",
    "plt.plot(mean_income_by_educ, 'o', alpha=0.5)\n",
    "\n",
    "pred = results.predict(df)\n",
    "plt.plot(df['educ'], pred, label='Age 30')\n",
    "\n",
    "plt.xlabel('Education (years)')\n",
    "plt.ylabel('Income (1986 $)')\n",
    "plt.title('Income versus education level, grouped by age')\n",
    "plt.legend();"
   ]
  },
  {
   "cell_type": "markdown",
   "metadata": {},
   "source": [
    "## Categorical Variables\n",
    "\n",
    "Most of the variables we have used so far -- like income, age, and education -- are numerical.\n",
    "But variables like sex and race are **categorical** -- that is, each respondent belongs to one of a specified set of categories.\n",
    "If there are only two categories, the variable is **binary**.\n",
    "\n",
    "With StatsModels, it is easy to include a categorical variable as part of a regression model.\n",
    "Here's an example:"
   ]
  },
  {
   "cell_type": "code",
   "execution_count": 30,
   "metadata": {},
   "outputs": [
    {
     "data": {
      "text/plain": [
       "Intercept       -24635.767539\n",
       "C(sex)[T.2.0]    -4891.439306\n",
       "educ              -496.623120\n",
       "educ2              156.898221\n",
       "age               1720.274097\n",
       "age2               -17.097853\n",
       "dtype: float64"
      ]
     },
     "execution_count": 30,
     "metadata": {},
     "output_type": "execute_result"
    }
   ],
   "source": [
    "formula = 'realinc ~ educ + educ2 + age + age2 + C(sex)'\n",
    "results = smf.ols(formula, data=gss).fit()\n",
    "results.params"
   ]
  },
  {
   "cell_type": "markdown",
   "metadata": {},
   "source": [
    "In the formula string, the letter `C` indicates that `sex` is a categorical variable.\n",
    "The regression treats the value `sex=1`, which is male, as the reference group, and reports the difference associated with the value `sex=2`, which is female.\n",
    "So the results indicate that income for women is about $4156 less than for men, after controlling for age and education.\n",
    "However, note that `realinc` represents household income.\n",
    "If the respondent is married, it includes both their own income and their spouse's.\n",
    "So we cannot interpret this result as an estimate of a gender gap in income."
   ]
  },
  {
   "cell_type": "markdown",
   "metadata": {},
   "source": [
    "## Logistic Regression\n",
    "\n",
    "In the previous section, we added a categorical variables on the right side of a regression formula -- that is, we used it as a predictive variable.\n",
    "\n",
    "But what if the categorical variable is on the left side of the regression formula -- that is, it's the value we are trying to predict?\n",
    "In that case, we can use **logistic regression**.\n",
    "\n",
    "As an example, one of the GSS questions asks \"Would you favor or oppose a law which would require a person to obtain a police permit before he or she could buy a gun?\"\n",
    "The responses are in a column called `gunlaw` -- here are the values.  "
   ]
  },
  {
   "cell_type": "code",
   "execution_count": 31,
   "metadata": {},
   "outputs": [
    {
     "data": {
      "text/plain": [
       "gunlaw\n",
       "1.0    36367\n",
       "2.0    11940\n",
       "Name: count, dtype: int64"
      ]
     },
     "execution_count": 31,
     "metadata": {},
     "output_type": "execute_result"
    }
   ],
   "source": [
    "gss['gunlaw'].value_counts()"
   ]
  },
  {
   "cell_type": "markdown",
   "metadata": {},
   "source": [
    "`1` means yes and `2` means no, so most respondents are in favor.\n",
    "To explore the relationship between this variable and factors like age, sex, and education, we can use StatsModels, which provides a function that does logistic regression.\n",
    "To use it, we have to recode the dependent variable so `1` means \"yes\" and `0` means \"no\".\n",
    "We can do that by replacing `2` with `0`."
   ]
  },
  {
   "cell_type": "code",
   "execution_count": 32,
   "metadata": {},
   "outputs": [],
   "source": [
    "gss['gunlaw'].replace([2], [0], inplace=True)"
   ]
  },
  {
   "cell_type": "markdown",
   "metadata": {
    "tags": [
     "remove-cell"
    ]
   },
   "source": [
    "And we can check the results."
   ]
  },
  {
   "cell_type": "code",
   "execution_count": 33,
   "metadata": {
    "tags": [
     "remove-cell"
    ]
   },
   "outputs": [
    {
     "data": {
      "text/plain": [
       "gunlaw\n",
       "1.0    36367\n",
       "0.0    11940\n",
       "Name: count, dtype: int64"
      ]
     },
     "execution_count": 33,
     "metadata": {},
     "output_type": "execute_result"
    }
   ],
   "source": [
    "gss['gunlaw'].value_counts()"
   ]
  },
  {
   "cell_type": "markdown",
   "metadata": {},
   "source": [
    "Now we can run the regression.\n",
    "Instead of `ols()`, we'll use `logit()`, which is named for the logit function, which is related to logistic regression."
   ]
  },
  {
   "cell_type": "code",
   "execution_count": 34,
   "metadata": {},
   "outputs": [
    {
     "name": "stdout",
     "output_type": "stream",
     "text": [
      "Optimization terminated successfully.\n",
      "         Current function value: 0.544026\n",
      "         Iterations 5\n"
     ]
    }
   ],
   "source": [
    "formula = 'gunlaw ~ age + age2 + educ + educ2 + C(sex)'\n",
    "results = smf.logit(formula, data=gss).fit()"
   ]
  },
  {
   "cell_type": "markdown",
   "metadata": {},
   "source": [
    "Estimating the parameters for the logistic model is an iterative process, so the output contains information about the number of iterations.\n",
    "Other than that, everything is the same as what we have seen before.\n",
    "Here are the estimated parameters."
   ]
  },
  {
   "cell_type": "code",
   "execution_count": 35,
   "metadata": {},
   "outputs": [
    {
     "data": {
      "text/plain": [
       "Intercept        1.483746\n",
       "C(sex)[T.2.0]    0.740717\n",
       "age             -0.021274\n",
       "age2             0.000216\n",
       "educ            -0.098093\n",
       "educ2            0.005557\n",
       "dtype: float64"
      ]
     },
     "execution_count": 35,
     "metadata": {},
     "output_type": "execute_result"
    }
   ],
   "source": [
    "results.params"
   ]
  },
  {
   "cell_type": "markdown",
   "metadata": {},
   "source": [
    "The parameters are in the form of **log odds** -- I won't explain them in detail here, except to say that positive values make the outcome more likely and negative values make the outcome less likely.\n",
    "For example, the parameter associated with `sex=2` is `0.74`, which indicates that women are more likely to support this form of gun control.\n",
    "\n",
    "To see how much more likely, we can generate predictions, as we did with linear regression.\n",
    "As an example, we'll generate predictions for different ages and sexes, with education held constant.\n",
    "First we need a `DataFrame` with a range of values for `age` and a fixed value of `educ`."
   ]
  },
  {
   "cell_type": "code",
   "execution_count": 36,
   "metadata": {},
   "outputs": [],
   "source": [
    "df = pd.DataFrame()\n",
    "df['age'] = np.linspace(18, 89)\n",
    "df['educ'] = 12"
   ]
  },
  {
   "cell_type": "markdown",
   "metadata": {},
   "source": [
    "Then we can compute `age2` and `educ2`."
   ]
  },
  {
   "cell_type": "code",
   "execution_count": 37,
   "metadata": {},
   "outputs": [],
   "source": [
    "df['age2'] = df['age']**2\n",
    "df['educ2'] = df['educ']**2"
   ]
  },
  {
   "cell_type": "markdown",
   "metadata": {},
   "source": [
    "We can generate predictions for men like this."
   ]
  },
  {
   "cell_type": "code",
   "execution_count": 38,
   "metadata": {},
   "outputs": [],
   "source": [
    "df['sex'] = 1\n",
    "pred_male = results.predict(df)"
   ]
  },
  {
   "cell_type": "markdown",
   "metadata": {},
   "source": [
    "And for women like this."
   ]
  },
  {
   "cell_type": "code",
   "execution_count": 39,
   "metadata": {},
   "outputs": [],
   "source": [
    "df['sex'] = 2\n",
    "pred_female = results.predict(df)"
   ]
  },
  {
   "cell_type": "markdown",
   "metadata": {},
   "source": [
    "Now, to visualize the results, we'll start by plotting the data.\n",
    "As we've done before, we'll divide the respondents into age groups and compute the mean in each group.\n",
    "The mean of a binary variable is the fraction of people in favor.\n",
    "Then we can plot the predictions."
   ]
  },
  {
   "cell_type": "code",
   "execution_count": 40,
   "metadata": {},
   "outputs": [
    {
     "data": {
      "image/png": "[encoded data removed]",
      "text/plain": [
       "<Figure size 480x360 with 1 Axes>"
      ]
     },
     "metadata": {},
     "output_type": "display_data"
    }
   ],
   "source": [
    "grouped = gss.groupby('age')\n",
    "favor_by_age = grouped['gunlaw'].mean()\n",
    "plt.plot(favor_by_age, 'o', alpha=0.5)\n",
    "\n",
    "plt.plot(df['age'], pred_female, label='Female')\n",
    "plt.plot(df['age'], pred_male, '--', label='Male')\n",
    "\n",
    "plt.xlabel('Age')\n",
    "plt.ylabel('Probability of favoring gun law')\n",
    "plt.title('Support for gun law versus age, grouped by sex')\n",
    "plt.legend();"
   ]
  },
  {
   "cell_type": "markdown",
   "metadata": {},
   "source": [
    "According to the model, people near age 50 are least likely to support gun control (at least as this question was posed).\n",
    "And women are more likely to support it than men, by about 15 percentage points.\n",
    "\n",
    "Logistic regression is a powerful tool for exploring relationships between a binary variable and the factors that predict it.\n",
    "In the exercises, you'll explore the factors that predict support for legalizing marijuana in the U.S."
   ]
  },
  {
   "cell_type": "markdown",
   "metadata": {},
   "source": [
    "**Exercise:** In the GSS dataset, the variable `grass` records the answer to the question \"Do you think the use of marijuana should be made legal or not?\"\n",
    "Let's use logistic regression to explore relationships between these responses and age, sex, and education level.\n",
    "\n",
    "\n",
    "1. First, use `replace` to recode the `grass` column so that `1` means yes and `0` means no.  Use `value_counts` to check.\n",
    "\n",
    "2. Next, use `smf.logit()` to predict `grass` using the variables `age`, `age2`, `educ`, and `educ2`, along with `sex` as a categorical variable.  Display the parameters.  Are men or women more likely to support legalization?\n",
    "\n",
    "3. To generate predictions, start with an empty DataFrame.  Add a column called `age` that contains a sequence of values from 18 to 89.  Add a column called `educ` and set it to 12 years.  Then compute a column, `age2`, which is the square of `age`, and a column, `educ2`, which is the square of `educ`. \n",
    "\n",
    "4. Use `predict` to generate predictions for men (`sex=1`) and women (`sex=2`).\n",
    "\n",
    "5. Generate a plot that shows (a) the average level of support for legalizing marijuana in each age group, (b) the level of support the model predicts for men as a function of age, and (c) the level of support predicted for women as a function of age. "
   ]
  },
  {
   "cell_type": "code",
   "execution_count": 41,
   "metadata": {
    "tags": [
     "remove-cell"
    ]
   },
   "outputs": [
    {
     "data": {
      "text/plain": [
       "grass\n",
       "0.0    25997\n",
       "1.0    12672\n",
       "Name: count, dtype: int64"
      ]
     },
     "execution_count": 41,
     "metadata": {},
     "output_type": "execute_result"
    }
   ],
   "source": [
    "# Solution\n",
    "\n",
    "gss['grass'].replace(2, 0, inplace=True)\n",
    "gss['grass'].value_counts()"
   ]
  },
  {
   "cell_type": "code",
   "execution_count": 42,
   "metadata": {
    "tags": [
     "remove-cell"
    ]
   },
   "outputs": [
    {
     "name": "stdout",
     "output_type": "stream",
     "text": [
      "Optimization terminated successfully.\n",
      "         Current function value: 0.605895\n",
      "         Iterations 6\n"
     ]
    },
    {
     "data": {
      "text/plain": [
       "Intercept       -1.971358\n",
       "C(sex)[T.2.0]   -0.373592\n",
       "age             -0.015406\n",
       "age2             0.000004\n",
       "educ             0.221171\n",
       "educ2           -0.004209\n",
       "dtype: float64"
      ]
     },
     "execution_count": 42,
     "metadata": {},
     "output_type": "execute_result"
    }
   ],
   "source": [
    "# Solution\n",
    "\n",
    "results = smf.logit('grass ~ age + age2 + educ + educ2 + C(sex)', \n",
    "                    data=gss).fit()\n",
    "results.params"
   ]
  },
  {
   "cell_type": "code",
   "execution_count": 43,
   "metadata": {
    "tags": [
     "remove-cell"
    ]
   },
   "outputs": [],
   "source": [
    "# Solution\n",
    "\n",
    "df = pd.DataFrame()\n",
    "df['age'] = np.linspace(18, 89)\n",
    "df['age2'] = df['age']**2\n",
    "\n",
    "df['educ'] = 12\n",
    "df['educ2'] = df['educ']**2"
   ]
  },
  {
   "cell_type": "code",
   "execution_count": 44,
   "metadata": {
    "tags": [
     "remove-cell"
    ]
   },
   "outputs": [],
   "source": [
    "# Solution\n",
    "\n",
    "df['sex'] = 1\n",
    "pred_male = results.predict(df)\n",
    "\n",
    "df['sex'] = 2\n",
    "pred_female = results.predict(df)"
   ]
  },
  {
   "cell_type": "code",
   "execution_count": 45,
   "metadata": {
    "tags": [
     "remove-cell"
    ]
   },
   "outputs": [
    {
     "data": {
      "image/png": "[encoded data removed]",
      "text/plain": [
       "<Figure size 480x360 with 1 Axes>"
      ]
     },
     "metadata": {},
     "output_type": "display_data"
    }
   ],
   "source": [
    "# Solution\n",
    "\n",
    "grouped = gss.groupby('age')\n",
    "favor_by_age = grouped['grass'].mean()\n",
    "plt.plot(favor_by_age, 'o', alpha=0.5)\n",
    "\n",
    "plt.plot(df['age'], pred_male, label='Male')\n",
    "plt.plot(df['age'], pred_female, label='Female')\n",
    "\n",
    "plt.xlabel('Age')\n",
    "plt.ylabel('Probability of favoring legalization')\n",
    "plt.title('Legalization versus age, grouped by sex')\n",
    "plt.legend();"
   ]
  },
  {
   "cell_type": "markdown",
   "metadata": {},
   "source": [
    "## Summary\n",
    "\n",
    "At this point, I'd like to summarize the topics we've covered so far, and make some connections that might clarify the big picture.\n",
    "A central theme of this book is **exploratory data analysis**, which is a process and set of tools for exploring a dataset, visualizing distributions, and discovering relationships between variables.\n",
    "The last four chapters demonstrate the steps of this process:\n",
    "\n",
    "- Chapter 7 is about importing and cleaning data, and checking for errors and other special conditions.  This might not be the most exciting part of the process, but time spent understanding data can save you from embarrassing errors.\n",
    "\n",
    "- Chapter 8 is about exploring variables one at a time, visualizing distributions using PMFs, CDFs, and KDE, and choosing appropriate summary statistics.\n",
    "\n",
    "- In Chapter 9 we explored relationships between variables two at a time, using scatter plots and other visualizations; and we quantified those relationships using correlation and simple regression.\n",
    "\n",
    "- Finally, in this chapter, we explored multivariate relationships using multiple regression and logistic regression."
   ]
  },
  {
   "cell_type": "markdown",
   "metadata": {},
   "source": [
    "We moved through a lot of material quickly, but if you practice and apply these methods to other questions and other datasets, you will learn more as you go.\n",
    "In the next chapter, we will move on to a new topic, resampling, which is a versatile tool for statistical inference."
   ]
  },
  {
   "cell_type": "markdown",
   "metadata": {
    "tags": [
     "remove-cell"
    ]
   },
   "source": [
    "Having finished this chapter, you might appreciate [this xkcd cartoon](https://xkcd.com/2048/).\n",
    "\n",
    "<img src=\"https://imgs.xkcd.com/comics/curve_fitting_2x.png\" width=\"400\">"
   ]
  },
  {
   "cell_type": "markdown",
   "metadata": {
    "tags": [
     "remove-cell"
    ]
   },
   "source": [
    "*Elements of Data Science*\n",
    "\n",
    "Copyright 2021 [Allen B. Downey](https://allendowney.com)\n",
    "\n",
    "License: [Creative Commons Attribution-NonCommercial-ShareAlike 4.0 International](https://creativecommons.org/licenses/by-nc-sa/4.0/)"
   ]
  }
 ],
 "metadata": {
  "celltoolbar": "Tags",
  "kernelspec": {
   "display_name": "Python 3 (ipykernel)",
   "language": "python",
   "name": "python3"
  },
  "language_info": {
   "codemirror_mode": {
    "name": "ipython",
    "version": 3
   },
   "file_extension": ".py",
   "mimetype": "text/x-python",
   "name": "python",
   "nbconvert_exporter": "python",
   "pygments_lexer": "ipython3",
   "version": "3.10.13"
  }
 },
 "nbformat": 4,
 "nbformat_minor": 2
}
