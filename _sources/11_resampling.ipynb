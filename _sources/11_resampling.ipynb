{
 "cells": [
  {
   "cell_type": "markdown",
   "metadata": {},
   "source": [
    "Printed copies of *Elements of Data Science* are available now, with a **full color interior**.\n",
    "\n",
    "From July 17 to July 31, [get 20% off at Lulu.com](https://www.lulu.com/shop/allen-downey/elements-of-data-science/paperback/product-9dyrwn.html)."
   ]
  },
  {
   "cell_type": "markdown",
   "metadata": {},
   "source": [
    "# Resampling"
   ]
  },
  {
   "cell_type": "code",
   "execution_count": 1,
   "metadata": {
    "tags": [
     "remove-print"
    ]
   },
   "outputs": [],
   "source": [
    "from os.path import basename, exists\n",
    "\n",
    "def download(url):\n",
    "    filename = basename(url)\n",
    "    if not exists(filename):\n",
    "        from urllib.request import urlretrieve\n",
    "\n",
    "        local, _ = urlretrieve(url, filename)\n",
    "        print(\"Downloaded \" + str(local))\n",
    "    return filename\n",
    "\n",
    "download('https://raw.githubusercontent.com/AllenDowney/ElementsOfDataScience/v1/utils.py')\n",
    "\n",
    "import utils"
   ]
  },
  {
   "cell_type": "markdown",
   "metadata": {
    "tags": [
     "remove-print"
    ]
   },
   "source": [
    "[Click here to run this notebook on Colab](https://colab.research.google.com/github/AllenDowney/ElementsOfDataScience/blob/v1/11_resampling.ipynb)."
   ]
  },
  {
   "cell_type": "markdown",
   "metadata": {},
   "source": [
    "This chapter introduces **resampling methods**, which are used to quantify the precision of an estimate.\n",
    "As a first example, we'll use results from a medical trial to estimate the efficacy of the vaccine."
   ]
  },
  {
   "cell_type": "markdown",
   "metadata": {},
   "source": [
    "## Vaccine Testing\n",
    "\n",
    "Suppose you read a report about a new vaccine and the manufacturer says it is 67% effective at preventing disease.\n",
    "You might wonder where that number comes from, what it means, and how confident we should be that it is correct.\n",
    "Results like this often come from a randomized controlled trial (RCT), which works like this:\n",
    "\n",
    "* You recruit a large group of volunteers and divide them into two groups at random: the \"treatment group\" receives the vaccine; the \"control group\" does not.\n",
    "\n",
    "* Then you follow both groups for a period of time and record the number of people in each group who are diagnosed with the disease.\n",
    "\n",
    "As an example, suppose you recruit 43,783 participants and they are assigned to groups with approximately the same size."
   ]
  },
  {
   "cell_type": "code",
   "execution_count": 2,
   "metadata": {},
   "outputs": [],
   "source": [
    "n_control = 21885\n",
    "n_treatment = 21911"
   ]
  },
  {
   "cell_type": "markdown",
   "metadata": {},
   "source": [
    "During the observation period, 468 people are diagnosed with the disease: 352 in the control group and 116 in the treatment group."
   ]
  },
  {
   "cell_type": "code",
   "execution_count": 3,
   "metadata": {},
   "outputs": [],
   "source": [
    "k_control = 352\n",
    "k_treatment = 116"
   ]
  },
  {
   "cell_type": "markdown",
   "metadata": {},
   "source": [
    "We can use these results to compute the risk of getting the disease for each group, in cases per 1000 people"
   ]
  },
  {
   "cell_type": "code",
   "execution_count": 4,
   "metadata": {},
   "outputs": [
    {
     "data": {
      "text/plain": [
       "16.084075851039522"
      ]
     },
     "execution_count": 4,
     "metadata": {},
     "output_type": "execute_result"
    }
   ],
   "source": [
    "risk_control = k_control / n_control * 1000\n",
    "risk_control"
   ]
  },
  {
   "cell_type": "code",
   "execution_count": 5,
   "metadata": {},
   "outputs": [
    {
     "data": {
      "text/plain": [
       "5.294144493633334"
      ]
     },
     "execution_count": 5,
     "metadata": {},
     "output_type": "execute_result"
    }
   ],
   "source": [
    "risk_treatment = k_treatment / n_treatment * 1000\n",
    "risk_treatment"
   ]
  },
  {
   "cell_type": "markdown",
   "metadata": {},
   "source": [
    "The risk is substantially lower in the treatment group -- about 5 per 1000, compared to 16 -- which suggests that the vaccine is effective.\n",
    "We can summarize these results by computing relative risk, which is the ratio of the two risks:"
   ]
  },
  {
   "cell_type": "code",
   "execution_count": 6,
   "metadata": {},
   "outputs": [
    {
     "data": {
      "text/plain": [
       "0.3291544097817203"
      ]
     },
     "execution_count": 6,
     "metadata": {},
     "output_type": "execute_result"
    }
   ],
   "source": [
    "relative_risk = risk_treatment / risk_control\n",
    "relative_risk"
   ]
  },
  {
   "cell_type": "markdown",
   "metadata": {},
   "source": [
    "The relative risk is about 0.33, which means that the risk of disease in the treatment group is 33% of the risk in the control group.\n",
    "Equivalently, we could report the complement of relative risk, which is **efficacy**:"
   ]
  },
  {
   "cell_type": "code",
   "execution_count": 7,
   "metadata": {},
   "outputs": [
    {
     "data": {
      "text/plain": [
       "0.6708455902182797"
      ]
     },
     "execution_count": 7,
     "metadata": {},
     "output_type": "execute_result"
    }
   ],
   "source": [
    "efficacy = 1 - relative_risk\n",
    "efficacy"
   ]
  },
  {
   "cell_type": "markdown",
   "metadata": {},
   "source": [
    "In this example the efficacy is 0.67, which means that the vaccine reduces the risk of disease by 67%.\n",
    "That's good news, but as skeptical data scientists, we should not assume that it is perfectly accurate.\n",
    "There are any number of things that might have gone wrong.\n",
    "\n",
    "For example, if people in the treatment group know they have been vaccinated, they might take fewer precautions to prevent disease, and people in the control group might be more careful.\n",
    "That would affect the estimated efficacy, which is why a lot of trials are \"blinded\", meaning that the subjects don't know which group they are in.\n",
    "\n",
    "The estimate would also be less accurate if people in either group don't follow the protocol.\n",
    "For example, someone in the treatment group might not complete treatment, or someone in the control group might receive treatment from another source.\n",
    "And there are many other possible sources of error, including honest mistakes and deliberate fraud."
   ]
  },
  {
   "cell_type": "markdown",
   "metadata": {},
   "source": [
    "In general it is hard to know whether estimates like this are accurate; nevertheless, there are things we can do to assess their quality.\n",
    "When estimates are reported in scientific journals, they almost always include one of two measurements of uncertainty: a standard error or a confidence interval.\n",
    "In the next section, I'll explain what they mean and show how to compute them."
   ]
  },
  {
   "cell_type": "markdown",
   "metadata": {},
   "source": [
    "## Simulating One Group\n",
    "\n",
    "In the example, there are 21,911 people in the treatment group and 116 of them got the disease, so the estimated risk is about 5 cases per 1000 people."
   ]
  },
  {
   "cell_type": "code",
   "execution_count": 8,
   "metadata": {},
   "outputs": [
    {
     "data": {
      "text/plain": [
       "(21911, 116, 5.294144493633334)"
      ]
     },
     "execution_count": 8,
     "metadata": {},
     "output_type": "execute_result"
    }
   ],
   "source": [
    "n_treatment, k_treatment, risk_treatment"
   ]
  },
  {
   "cell_type": "markdown",
   "metadata": {},
   "source": [
    "But it's easy to imagine that there might have been a few more cases, or fewer, just by chance.\n",
    "For example, if there had been 10 more cases, the estimated risk would be 5.8 per 1000, and if there had been 10 fewer, it would be 4.8."
   ]
  },
  {
   "cell_type": "code",
   "execution_count": 9,
   "metadata": {},
   "outputs": [
    {
     "data": {
      "text/plain": [
       "5.750536260325863"
      ]
     },
     "execution_count": 9,
     "metadata": {},
     "output_type": "execute_result"
    }
   ],
   "source": [
    "(k_treatment + 10) / n_treatment * 1000"
   ]
  },
  {
   "cell_type": "code",
   "execution_count": 10,
   "metadata": {},
   "outputs": [
    {
     "data": {
      "text/plain": [
       "4.837752726940806"
      ]
     },
     "execution_count": 10,
     "metadata": {},
     "output_type": "execute_result"
    }
   ],
   "source": [
    "(k_treatment - 10) / n_treatment * 1000"
   ]
  },
  {
   "cell_type": "markdown",
   "metadata": {},
   "source": [
    "That's a big enough difference that we should wonder how much variability there is in the estimate due to random variation.\n",
    "We'll answer that question in three steps:\n",
    "\n",
    "* We'll write a function that uses a random number generator to simulate the trial.\n",
    "\n",
    "* Then we'll run the function many times to see how much the estimate varies.\n",
    "\n",
    "* And we'll summarize the results.\n",
    "\n",
    "To simulate the trial, we'll use the `bernoulli` object from SciPy, which provides a function called `rvs` that simulates what we can think of as biased coin tosses.\n",
    "For example, suppose we flip 10 coins where the probability is 70% that each coin comes up heads.\n",
    "We can simulate that scenario like this."
   ]
  },
  {
   "cell_type": "code",
   "execution_count": 11,
   "metadata": {},
   "outputs": [
    {
     "data": {
      "text/plain": [
       "array([1, 0, 0, 0, 0, 1, 1, 1, 1, 1])"
      ]
     },
     "execution_count": 11,
     "metadata": {},
     "output_type": "execute_result"
    }
   ],
   "source": [
    "from scipy.stats import bernoulli\n",
    "\n",
    "bernoulli.rvs(p=0.7, size=10)"
   ]
  },
  {
   "cell_type": "markdown",
   "metadata": {},
   "source": [
    "The result is an array where `1` represents heads and `0` represents tails.\n",
    "\n",
    "We can use this function to simulate a group of `n` patients, where the probability is `p` that each of them gets the disease."
   ]
  },
  {
   "cell_type": "code",
   "execution_count": 12,
   "metadata": {},
   "outputs": [],
   "source": [
    "def simulate_group(n, p):\n",
    "    k = bernoulli.rvs(p, size=n).sum()\n",
    "    risk = k / n * 1000\n",
    "    return risk"
   ]
  },
  {
   "cell_type": "markdown",
   "metadata": {},
   "source": [
    "This function uses `rvs` to generate an array of `1`s and `0`s, adds them up the number of cases, and returns the risk in cases per 1000 people.\n",
    "Here's how we call this function, passing as arguments the size of the treatment group and the estimated risk as a proportion:"
   ]
  },
  {
   "cell_type": "code",
   "execution_count": 13,
   "metadata": {},
   "outputs": [
    {
     "data": {
      "text/plain": [
       "4.883391903610059"
      ]
     },
     "execution_count": 13,
     "metadata": {},
     "output_type": "execute_result"
    }
   ],
   "source": [
    "p = k_treatment / n_treatment\n",
    "simulate_group(n_treatment, p)"
   ]
  },
  {
   "cell_type": "markdown",
   "metadata": {},
   "source": [
    "The result is a risk from a single simulated trial.\n",
    "If we run this function many times, it's like running the trial over and over."
   ]
  },
  {
   "cell_type": "code",
   "execution_count": 14,
   "metadata": {
    "tags": [
     "remove-cell"
    ]
   },
   "outputs": [],
   "source": [
    "import numpy as np\n",
    "\n",
    "np.random.seed(17)"
   ]
  },
  {
   "cell_type": "code",
   "execution_count": 15,
   "metadata": {},
   "outputs": [],
   "source": [
    "t = [simulate_group(n_treatment, p) \n",
    "     for i in range(1001)]"
   ]
  },
  {
   "cell_type": "markdown",
   "metadata": {},
   "source": [
    "The result is a list of risks that shows how much we expect the results of the trial to vary due to randomness.\n",
    "We can use a KDE plot to visualize the distribution of these results."
   ]
  },
  {
   "cell_type": "code",
   "execution_count": 16,
   "metadata": {},
   "outputs": [
    {
     "data": {
      "image/png": "[encoded data removed]",
      "text/plain": [
       "<Figure size 450x262.5 with 1 Axes>"
      ]
     },
     "metadata": {},
     "output_type": "display_data"
    }
   ],
   "source": [
    "import matplotlib.pyplot as plt\n",
    "import seaborn as sns\n",
    "\n",
    "sns.kdeplot(t, label='control')\n",
    "\n",
    "plt.xlabel('Risk of disease (cases per 1000)')\n",
    "plt.ylabel('Probability density')\n",
    "plt.title('Risks from Simulations');"
   ]
  },
  {
   "cell_type": "markdown",
   "metadata": {},
   "source": [
    "The mean of this distribution is about 5.3, which is close to the observed risk, as we should expect."
   ]
  },
  {
   "cell_type": "code",
   "execution_count": 17,
   "metadata": {},
   "outputs": [
    {
     "data": {
      "text/plain": [
       "(5.284478654019068, 5.294144493633334)"
      ]
     },
     "execution_count": 17,
     "metadata": {},
     "output_type": "execute_result"
    }
   ],
   "source": [
    "np.mean(t), risk_treatment"
   ]
  },
  {
   "cell_type": "markdown",
   "metadata": {},
   "source": [
    "The width of this distribution indicates how much variation there is in the estimate due to randomness.\n",
    "One way to quantify the width of the distribution is the standard deviation."
   ]
  },
  {
   "cell_type": "code",
   "execution_count": 18,
   "metadata": {
    "tags": [
     "fill-in"
    ]
   },
   "outputs": [
    {
     "data": {
      "text/plain": [
       "0.48237692869481597"
      ]
     },
     "execution_count": 18,
     "metadata": {},
     "output_type": "execute_result"
    }
   ],
   "source": [
    "standard_error = np.std(t)\n",
    "standard_error"
   ]
  },
  {
   "cell_type": "markdown",
   "metadata": {},
   "source": [
    "This result is called the **standard error**.\n",
    "\n",
    "Another way to quantify the width of the distribution is an interval between two percentiles.\n",
    "For example, if we compute the 5th and 95th percentiles, the interval we get contains 90% of the simulated results."
   ]
  },
  {
   "cell_type": "code",
   "execution_count": 19,
   "metadata": {
    "tags": [
     "fill-in"
    ]
   },
   "outputs": [
    {
     "data": {
      "text/plain": [
       "array([4.51827849, 6.11564967])"
      ]
     },
     "execution_count": 19,
     "metadata": {},
     "output_type": "execute_result"
    }
   ],
   "source": [
    "confidence_interval = np.percentile(t, [5, 95])\n",
    "confidence_interval"
   ]
  },
  {
   "cell_type": "markdown",
   "metadata": {},
   "source": [
    "This result is called a **confidence interval**; specifically, this one is a \"90% confidence interval\", or 90% CI.\n",
    "If we assume that the observed risk is correct, and we run the same trial many times, we expect 90% of the results to fall in this interval.\n",
    "\n",
    "Standard errors and confidence intervals quantify our uncertainty about the estimate due to random variation from one trial to another."
   ]
  },
  {
   "cell_type": "markdown",
   "metadata": {},
   "source": [
    "## Simulating the Trial\n",
    "\n",
    "In the previous section we simulated one group and estimated their risk.\n",
    "Now we'll simulate both groups and estimate the efficacy of the vaccine.\n",
    "\n",
    "The following function takes four parameters: the sizes of the two groups and their actual risks."
   ]
  },
  {
   "cell_type": "code",
   "execution_count": 20,
   "metadata": {},
   "outputs": [],
   "source": [
    "def simulate_trial(n1, p1, n2, p2):\n",
    "    risk1 = simulate_group(n1, p1)\n",
    "    risk2 = simulate_group(n2, p2)\n",
    "    efficacy = 1 - risk2 / risk1\n",
    "    return efficacy"
   ]
  },
  {
   "cell_type": "markdown",
   "metadata": {},
   "source": [
    "If we call this function once, it simulates both groups, computes the risks in each group, and uses the results to compute the efficacy of the treatment (assuming that the first group is the control)."
   ]
  },
  {
   "cell_type": "code",
   "execution_count": 21,
   "metadata": {},
   "outputs": [
    {
     "data": {
      "text/plain": [
       "0.7022507535102278"
      ]
     },
     "execution_count": 21,
     "metadata": {},
     "output_type": "execute_result"
    }
   ],
   "source": [
    "p1 = k_control / n_control\n",
    "p2 = k_treatment / n_treatment\n",
    "simulate_trial(n_control, p1, n_treatment, p2)"
   ]
  },
  {
   "cell_type": "markdown",
   "metadata": {},
   "source": [
    "If we call it many times, the result is a list of efficacies from multiple simulated trials."
   ]
  },
  {
   "cell_type": "code",
   "execution_count": 22,
   "metadata": {},
   "outputs": [],
   "source": [
    "t2 = [simulate_trial(n_control, p1, n_treatment, p2)\n",
    "      for i in range(1001)]"
   ]
  },
  {
   "cell_type": "markdown",
   "metadata": {},
   "source": [
    "We can use a KDE plot to visualize the distribution of the results."
   ]
  },
  {
   "cell_type": "code",
   "execution_count": 23,
   "metadata": {},
   "outputs": [
    {
     "data": {
      "image/png": "[encoded data removed]",
      "text/plain": [
       "<Figure size 450x262.5 with 1 Axes>"
      ]
     },
     "metadata": {},
     "output_type": "display_data"
    }
   ],
   "source": [
    "sns.kdeplot(t2)\n",
    "\n",
    "plt.xlabel('Efficacy')\n",
    "plt.ylabel('Probability density')\n",
    "plt.title('Efficacies from Simulations');"
   ]
  },
  {
   "cell_type": "markdown",
   "metadata": {},
   "source": [
    "The mean of this distribution is close to the efficacy we computed with the results of the actual trial."
   ]
  },
  {
   "cell_type": "code",
   "execution_count": 24,
   "metadata": {},
   "outputs": [
    {
     "data": {
      "text/plain": [
       "(0.6697923695446464, 0.6708455902182797)"
      ]
     },
     "execution_count": 24,
     "metadata": {},
     "output_type": "execute_result"
    }
   ],
   "source": [
    "np.mean(t2), efficacy"
   ]
  },
  {
   "cell_type": "markdown",
   "metadata": {},
   "source": [
    "The standard deviation of this distribution is the standard error of the estimate."
   ]
  },
  {
   "cell_type": "code",
   "execution_count": 25,
   "metadata": {},
   "outputs": [
    {
     "data": {
      "text/plain": [
       "0.03654909244711291"
      ]
     },
     "execution_count": 25,
     "metadata": {},
     "output_type": "execute_result"
    }
   ],
   "source": [
    "np.std(t2)"
   ]
  },
  {
   "cell_type": "markdown",
   "metadata": {},
   "source": [
    "In a scientific paper, we could report the estimated efficacy and standard error as 0.67 (SE 0.035).\n",
    "As an alternative, we can use percentiles to compute a 90% confidence interval."
   ]
  },
  {
   "cell_type": "code",
   "execution_count": 26,
   "metadata": {},
   "outputs": [
    {
     "data": {
      "text/plain": [
       "array([0.60861545, 0.7251222 ])"
      ]
     },
     "execution_count": 26,
     "metadata": {},
     "output_type": "execute_result"
    }
   ],
   "source": [
    "np.percentile(t2, [5, 95])"
   ]
  },
  {
   "cell_type": "markdown",
   "metadata": {},
   "source": [
    "We could report these results as 0.67, 90% CI [0.61, 0.72].\n",
    "\n",
    "The standard error and confidence interval represent nearly the same information.\n",
    "In general, I prefer to report a confidence interval because it is easier to interpret:\n",
    "\n",
    "* Formally, the confidence interval means that if we run the same experiment again, we expect 90% of the results to fall between 61% and 72% (assuming that the estimated risks are correct).\n",
    "\n",
    "* More casually, it means that it is plausible that the actually efficacy is as low as 61%, or as high as 72% (assuming there are no sources of error other than random variation)."
   ]
  },
  {
   "cell_type": "markdown",
   "metadata": {},
   "source": [
    "## Estimating Means\n",
    "\n",
    "In the previous examples, we estimated risk, which is a proportion, and efficacy, which is a ratio of two proportions.\n",
    "As a third example, let's estimate a mean.\n",
    "\n",
    "Suppose we want to estimate the average height of men in the United States.\n",
    "It would be impractical to measure everyone in the country, but if we choose a random sample of the population and measure the people in the sample, we can use the mean of the measurements to estimate the actual average in the population.\n",
    "\n",
    "Ideally, the sample should be **representative**, which means that everyone in the population has an equal chance of appearing in the sample.\n",
    "In general, that's not easy to do.\n",
    "Depending on how you recruit people, your sample might have too many tall people or too many short people.\n",
    "\n",
    "But let's suppose we have a representative sample of 103 adult male residents of the United States, the average height in the sample is 177 cm, and the standard deviation is 8.4 cm."
   ]
  },
  {
   "cell_type": "markdown",
   "metadata": {},
   "source": [
    "If someone asks for your best guess about the height of men in the U.S., you would report 177 cm.\n",
    "But how accurate do you think this estimate is?\n",
    "If you only measure 103 people from a population of about 100 million adult males, it seems like the actual average in the population might be substantially higher or lower.\n",
    "\n",
    "Again, we can use random simulation to quantify the uncertainty of this estimate.\n",
    "As we did in the previous examples, we'll assume for purposes of simulation that the estimates are correct, and simulate the sampling process many times.\n",
    "\n",
    "The following function takes as parameters the size of the sample, `n`, the presumed average height in the population, `mu`, and the presumed standard deviation, `sigma`. "
   ]
  },
  {
   "cell_type": "code",
   "execution_count": 27,
   "metadata": {
    "tags": [
     "fill-in"
    ]
   },
   "outputs": [],
   "source": [
    "def simulate_sample_mean(n, mu, sigma):\n",
    "    sample = np.random.normal(mu, sigma, size=n)\n",
    "    return sample.mean()"
   ]
  },
  {
   "cell_type": "markdown",
   "metadata": {},
   "source": [
    "This function generates `n` random values from a normal distribution with the given mean and standard deviation, and returns their mean.\n",
    "We can run it like this, using the observed mean and standard deviation from the sample as the presumed mean and standard deviation of the population."
   ]
  },
  {
   "cell_type": "code",
   "execution_count": 28,
   "metadata": {},
   "outputs": [
    {
     "data": {
      "text/plain": [
       "177.0925279328183"
      ]
     },
     "execution_count": 28,
     "metadata": {},
     "output_type": "execute_result"
    }
   ],
   "source": [
    "n_height = 103\n",
    "mean_height = 177\n",
    "std_height = 8.4\n",
    "\n",
    "simulate_sample_mean(n_height, mean_height, std_height)"
   ]
  },
  {
   "cell_type": "markdown",
   "metadata": {},
   "source": [
    "If we run it many times, it simulates the sampling and measurement process and returns a list of results from many simulated experiments."
   ]
  },
  {
   "cell_type": "code",
   "execution_count": 29,
   "metadata": {},
   "outputs": [],
   "source": [
    "t3 = [simulate_sample_mean(n_height, mean_height, std_height)\n",
    "      for i in range(1001)]"
   ]
  },
  {
   "cell_type": "markdown",
   "metadata": {},
   "source": [
    "We can use a KDE plot to visualize the distribution of these values."
   ]
  },
  {
   "cell_type": "code",
   "execution_count": 30,
   "metadata": {},
   "outputs": [
    {
     "data": {
      "image/png": "[encoded data removed]",
      "text/plain": [
       "<Figure size 450x262.5 with 1 Axes>"
      ]
     },
     "metadata": {},
     "output_type": "display_data"
    }
   ],
   "source": [
    "sns.kdeplot(t3)\n",
    "\n",
    "plt.xlabel('Average height (cm)')\n",
    "plt.ylabel('Probability density')\n",
    "plt.title('Sampling Distribution of the Mean');"
   ]
  },
  {
   "cell_type": "markdown",
   "metadata": {},
   "source": [
    "This result is called a **sampling distribution** because it represents the variation in the results due to the random sampling process.\n",
    "If we recruit 103 people and compute the mean of their heights, the result might be as low as 176 cm, or as high as 180 cm, due to chance.\n",
    "\n",
    "The average of the sampling distribution is close to the presumed mean of the population."
   ]
  },
  {
   "cell_type": "code",
   "execution_count": 31,
   "metadata": {},
   "outputs": [
    {
     "data": {
      "text/plain": [
       "(176.97693409905207, 177)"
      ]
     },
     "execution_count": 31,
     "metadata": {},
     "output_type": "execute_result"
    }
   ],
   "source": [
    "np.mean(t3), mean_height"
   ]
  },
  {
   "cell_type": "markdown",
   "metadata": {},
   "source": [
    "The standard deviation of the sampling distribution is the standard error of the estimate."
   ]
  },
  {
   "cell_type": "code",
   "execution_count": 32,
   "metadata": {},
   "outputs": [
    {
     "data": {
      "text/plain": [
       "0.8255649832811274"
      ]
     },
     "execution_count": 32,
     "metadata": {},
     "output_type": "execute_result"
    }
   ],
   "source": [
    "standard_error = np.std(t3)\n",
    "standard_error"
   ]
  },
  {
   "cell_type": "markdown",
   "metadata": {},
   "source": [
    "The interval between the 5th and 95th percentiles is a 90% confidence interval."
   ]
  },
  {
   "cell_type": "code",
   "execution_count": 33,
   "metadata": {},
   "outputs": [
    {
     "data": {
      "text/plain": [
       "array([175.57572755, 178.34974372])"
      ]
     },
     "execution_count": 33,
     "metadata": {},
     "output_type": "execute_result"
    }
   ],
   "source": [
    "ci90 = np.percentile(t3, [5, 95])\n",
    "ci90"
   ]
  },
  {
   "cell_type": "markdown",
   "metadata": {},
   "source": [
    "If I reported this result in a paper, I would say that the estimated height of adult male residents of the U.S. is 177 cm, 90% CI [176, 178] cm.\n",
    "\n",
    "Informally, that means that the estimate could plausibly be off by about a centimeter either way, due to random sampling.\n",
    "But we should remember that there are other possible sources of error, so we might be off by more than that."
   ]
  },
  {
   "cell_type": "markdown",
   "metadata": {},
   "source": [
    "## The Resampling Framework\n",
    "\n",
    "The examples in this chapter fit into the framework shown in this diagram:\n",
    "\n",
    "![](https://github.com/AllenDowney/ElementsOfDataScience/raw/v1/figs/resampling.png)"
   ]
  },
  {
   "cell_type": "markdown",
   "metadata": {},
   "source": [
    "Using data from an experiment, we compute a sample statistic.  In the vaccine example, we computed risks for each group and efficacy.  In the height example, we computed the average height in the sample.\n",
    "\n",
    "Then we build a model of the sampling process.\n",
    "In the vaccine example, the model assumes that everyone in each group has the same probability of getting sick, and we use the data to choose the probability.\n",
    "In the height example, the model assumes that heights are drawn from a normal distribution, and we use the data to choose the parameters `mu` and `sigma`.\n",
    "\n",
    "We use the model to simulate the experiment many times. Each simulation generates a dataset which we use to compute the sample statistic.\n",
    "\n",
    "Finally, we collect the sample statistics from the simulations, plot the sampling distribution, and compute standard error and a confidence interval."
   ]
  },
  {
   "cell_type": "markdown",
   "metadata": {},
   "source": [
    "I emphasize the role of the model in this framework because for a given experiment there might be several possible models, each including some elements of the real world and ignoring others.\n",
    "For example, our model of the vaccine experiment assumes that everyone in each group has the same risk, but that's probably not true.\n",
    "Here's another version of `simulate_group` that includes variation in risk within each group."
   ]
  },
  {
   "cell_type": "code",
   "execution_count": 34,
   "metadata": {},
   "outputs": [],
   "source": [
    "def simulate_variable_group(n, p):\n",
    "    ps = np.random.uniform(0, 2*p, size=n)\n",
    "    k = bernoulli.rvs(ps).sum()\n",
    "    return k / n * 1000"
   ]
  },
  {
   "cell_type": "markdown",
   "metadata": {},
   "source": [
    "This version of the function assumes that each person has a different probability of getting sick, drawn from a uniform distribution between `0` and `2*p`.\n",
    "Of course, that's just a guess about how the probabilities might be distributed, but we can use it to get a sense of what effect this distribution has on the results.\n",
    "\n",
    "The rest of the function is the same as the previous version: it uses `bernoulli` to simulate `n` patients, where each element of `ps` is the probability that one patient gets the disease.\n",
    "Here's how we call this function, simulating the treatment group."
   ]
  },
  {
   "cell_type": "code",
   "execution_count": 35,
   "metadata": {},
   "outputs": [
    {
     "data": {
      "text/plain": [
       "4.290082606909771"
      ]
     },
     "execution_count": 35,
     "metadata": {},
     "output_type": "execute_result"
    }
   ],
   "source": [
    "p = k_treatment / n_treatment\n",
    "simulate_variable_group(n_treatment, p)"
   ]
  },
  {
   "cell_type": "markdown",
   "metadata": {},
   "source": [
    "The return value is the number of cases per 1000."
   ]
  },
  {
   "cell_type": "markdown",
   "metadata": {},
   "source": [
    "**Exercise:** Use this function to run 1001 simulations of the treatment group.  Compute the mean of the results and confirm that it is close to the observed `risk_treatment`.  To quantify the spread of the sampling distribution, compute the standard error.  How does it compare to the standard error we computed with the original model, where everyone in the group has the same risk? "
   ]
  },
  {
   "cell_type": "code",
   "execution_count": 36,
   "metadata": {
    "tags": [
     "remove-cell"
    ]
   },
   "outputs": [],
   "source": [
    "# Solution\n",
    "\n",
    "t4 = [simulate_variable_group(n_treatment, p)\n",
    "      for i in range(1001)]"
   ]
  },
  {
   "cell_type": "code",
   "execution_count": 37,
   "metadata": {
    "tags": [
     "remove-cell"
    ]
   },
   "outputs": [
    {
     "data": {
      "text/plain": [
       "(5.300755563180829, 5.294144493633334)"
      ]
     },
     "execution_count": 37,
     "metadata": {},
     "output_type": "execute_result"
    }
   ],
   "source": [
    "# Solution\n",
    "\n",
    "np.mean(t4), risk_treatment"
   ]
  },
  {
   "cell_type": "code",
   "execution_count": 38,
   "metadata": {
    "tags": [
     "remove-cell"
    ]
   },
   "outputs": [
    {
     "data": {
      "text/plain": [
       "(0.46153761931912834, 0.48237692869481597)"
      ]
     },
     "execution_count": 38,
     "metadata": {},
     "output_type": "execute_result"
    }
   ],
   "source": [
    "# Solution\n",
    "\n",
    "# The standard error is not substantially different \n",
    "# with the modified model. That's good news, because\n",
    "# it suggests the result is not sensitive to the simplifying\n",
    "# assumption that everyone has the same risk.\n",
    "\n",
    "np.std(t4), np.std(t)"
   ]
  },
  {
   "cell_type": "markdown",
   "metadata": {},
   "source": [
    "**Exercise:** The following is a version of `simulate_trial` that uses `simulate_variable_group`, from the previous exercise, to simulate the vaccine trial using the modified model, which includes variation in risk within the groups.\n",
    "\n",
    "Use this function to simulate 1001 trials. Compute the mean of the sampling distribution and confirm that it is close to the observed `efficacy`. Compute the standard error and compare it to the standard error we computed for the original model."
   ]
  },
  {
   "cell_type": "code",
   "execution_count": 39,
   "metadata": {},
   "outputs": [],
   "source": [
    "def simulate_variable_trial(n1, p1, n2, p2):\n",
    "    risk1 = simulate_variable_group(n1, p1)\n",
    "    risk2 = simulate_variable_group(n2, p2)\n",
    "    efficacy = 1 - risk2 / risk1\n",
    "    return efficacy"
   ]
  },
  {
   "cell_type": "code",
   "execution_count": 40,
   "metadata": {
    "tags": [
     "remove-cell"
    ]
   },
   "outputs": [
    {
     "data": {
      "text/plain": [
       "0.7142569965563594"
      ]
     },
     "execution_count": 40,
     "metadata": {},
     "output_type": "execute_result"
    }
   ],
   "source": [
    "# Solution\n",
    "\n",
    "p1 = k_control / n_control\n",
    "p2 = k_treatment / n_treatment\n",
    "simulate_variable_trial(n_control, p1, n_treatment, p2)"
   ]
  },
  {
   "cell_type": "code",
   "execution_count": 41,
   "metadata": {
    "tags": [
     "remove-cell"
    ]
   },
   "outputs": [],
   "source": [
    "# Solution\n",
    "\n",
    "t5 = [simulate_variable_trial(n_control, p1, n_treatment, p2)\n",
    "      for i in range(1001)]"
   ]
  },
  {
   "cell_type": "code",
   "execution_count": 42,
   "metadata": {
    "tags": [
     "remove-cell"
    ]
   },
   "outputs": [
    {
     "data": {
      "text/plain": [
       "(0.6677500708382919, 0.6708455902182797)"
      ]
     },
     "execution_count": 42,
     "metadata": {},
     "output_type": "execute_result"
    }
   ],
   "source": [
    "# Solution\n",
    "\n",
    "np.mean(t5), efficacy"
   ]
  },
  {
   "cell_type": "code",
   "execution_count": 43,
   "metadata": {
    "tags": [
     "remove-cell"
    ]
   },
   "outputs": [
    {
     "data": {
      "text/plain": [
       "(0.03546017799198445, 0.03654909244711291)"
      ]
     },
     "execution_count": 43,
     "metadata": {},
     "output_type": "execute_result"
    }
   ],
   "source": [
    "# Solution\n",
    "\n",
    "# The standard error not substantially different with the modified model\n",
    "\n",
    "np.std(t5), np.std(t2)"
   ]
  },
  {
   "cell_type": "markdown",
   "metadata": {},
   "source": [
    "**Exercise:** One nice thing about the resampling framework is that it is easy to compute the sampling distribution for other statistics.\n",
    "For example, suppose we want to estimate the coefficient of variation (standard deviation as a fraction of the mean) for adult male height.  Here's how we can compute it."
   ]
  },
  {
   "cell_type": "code",
   "execution_count": 44,
   "metadata": {},
   "outputs": [
    {
     "data": {
      "text/plain": [
       "0.04745762711864407"
      ]
     },
     "execution_count": 44,
     "metadata": {},
     "output_type": "execute_result"
    }
   ],
   "source": [
    "cv = std_height / mean_height\n",
    "cv"
   ]
  },
  {
   "cell_type": "markdown",
   "metadata": {},
   "source": [
    "In this example, the standard deviation is about 4.5% of the mean. \n",
    "The following is a version of `simulate_sample` that generates a random sample of heights and returns the coefficient of variation, rather than the mean. "
   ]
  },
  {
   "cell_type": "code",
   "execution_count": 45,
   "metadata": {},
   "outputs": [],
   "source": [
    "def simulate_sample_cv(n, mu, sigma):\n",
    "    sample = np.random.normal(mu, sigma, size=n)\n",
    "    return sample.std() / sample.mean()"
   ]
  },
  {
   "cell_type": "markdown",
   "metadata": {},
   "source": [
    "Use this function to simulate 1001 samples with size `n=103`, using `mean_height` for `mu` and `std_height` for `sigma`.\n",
    "Plot the sampling distribution of the coefficient of variation, and compute a 90% confidence interval."
   ]
  },
  {
   "cell_type": "code",
   "execution_count": 46,
   "metadata": {
    "scrolled": true,
    "tags": [
     "remove-cell"
    ]
   },
   "outputs": [],
   "source": [
    "# Solution\n",
    "\n",
    "t6 = [simulate_sample_cv(n_height, mean_height, std_height)\n",
    "      for i in range(1001)]"
   ]
  },
  {
   "cell_type": "code",
   "execution_count": 47,
   "metadata": {
    "tags": [
     "remove-cell"
    ]
   },
   "outputs": [
    {
     "data": {
      "image/png": "[encoded data removed]",
      "text/plain": [
       "<Figure size 450x262.5 with 1 Axes>"
      ]
     },
     "metadata": {},
     "output_type": "display_data"
    }
   ],
   "source": [
    "# Solution\n",
    "\n",
    "sns.kdeplot(t6)\n",
    "\n",
    "plt.xlabel('Coefficient of variation')\n",
    "plt.ylabel('Probability density')\n",
    "plt.title('Sampling Distribution of CV');"
   ]
  },
  {
   "cell_type": "code",
   "execution_count": 48,
   "metadata": {
    "tags": [
     "remove-cell"
    ]
   },
   "outputs": [
    {
     "data": {
      "text/plain": [
       "array([0.04198156, 0.05233549])"
      ]
     },
     "execution_count": 48,
     "metadata": {},
     "output_type": "execute_result"
    }
   ],
   "source": [
    "# Solution\n",
    "\n",
    "np.percentile(t6, [5, 95])"
   ]
  },
  {
   "cell_type": "markdown",
   "metadata": {},
   "source": [
    "## Summary\n",
    "\n",
    "Let's review the examples in this chapter:\n",
    "\n",
    "1. We started with results from a vaccine trial.  We estimated the effectiveness of the vaccine and used simulation to draw a random sample from the sampling distribution of effectiveness.  We used that sample to compute a standard error and a 90% confidence interval, which measure the variability we would expect if we ran the experiment again (assuming that the observed efficacy is correct).\n",
    "\n",
    "2. As a second example, we estimated the height of adult males in the U.S. and used simulation based on a normal model to compute the sampling distribution of the mean, standard error, and a confidence interval.\n",
    "\n",
    "3. We implemented a second model of the vaccine trial, based on the assumption that there is variation in risk within the groups. The results from the two models are similar, which suggests that the simple model is good enough for practical purposes.\n",
    "\n",
    "4. One of the advantages of resampling, compared to mathematical analysis, is that it is easy to compute the sampling distribution of almost any statistic.  As an exercise, you computed the sampling distribution of the coefficient of variation.\n"
   ]
  },
  {
   "cell_type": "markdown",
   "metadata": {
    "tags": [
     "remove-cell"
    ]
   },
   "source": [
    "*Elements of Data Science*\n",
    "\n",
    "Copyright 2021 [Allen B. Downey](https://allendowney.com)\n",
    "\n",
    "License: [Creative Commons Attribution-NonCommercial-ShareAlike 4.0 International](https://creativecommons.org/licenses/by-nc-sa/4.0/)"
   ]
  },
  {
   "cell_type": "code",
   "execution_count": null,
   "metadata": {},
   "outputs": [],
   "source": []
  }
 ],
 "metadata": {
  "celltoolbar": "Tags",
  "kernelspec": {
   "display_name": "Python 3 (ipykernel)",
   "language": "python",
   "name": "python3"
  },
  "language_info": {
   "codemirror_mode": {
    "name": "ipython",
    "version": 3
   },
   "file_extension": ".py",
   "mimetype": "text/x-python",
   "name": "python",
   "nbconvert_exporter": "python",
   "pygments_lexer": "ipython3",
   "version": "3.10.14"
  }
 },
 "nbformat": 4,
 "nbformat_minor": 2
}
