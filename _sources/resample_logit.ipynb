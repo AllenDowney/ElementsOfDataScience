{
 "cells": [
  {
   "cell_type": "markdown",
   "metadata": {},
   "source": [
    "# Resampling and Logistic Regression\n",
    "\n",
    "[Click here to run this notebook on Colab](https://colab.research.google.com/github/AllenDowney/ElementsOfDataScience/blob/master/examples/resample_logit.ipynb)\n",
    "\n",
    "Different ways of computing sampling distributions -- and the statistics derived from them, like standard errors and confidence intervals -- yield different results. None of them are right or wrong; rather, they are based on different modeling assumptions. In practice, the differences are often small compared to other sources of error, so we are free to use whichever is convenient."
   ]
  },
  {
   "cell_type": "markdown",
   "metadata": {},
   "source": [
    "This article is prompted by a recent question on [Reddit](https://www.reddit.com/r/statistics/comments/10ayfm5/q_parametric_bootstrap_for_logistic_regression/):\n",
    "\n",
    "> I am trying to do parametric bootstrap for logistic regression but I don't know what the random error terms should be. I know how to do it with linear regression since the error terms follow a normal distribution. Really appreciate any pointers to resources about this topic.\n",
    "\n",
    "One of the responses recommends [this paper](https://www.scirp.org/journal/paperinformation.aspx?paperid=70962): \"An Application of Bootstrapping in Logistic Regression Model\", by Isaac Akpor Adjei and Rezaul Karim."
   ]
  },
  {
   "cell_type": "markdown",
   "metadata": {},
   "source": [
    "The paper suggests two ways to compute the sampling distribution of the parameters of a logistic regression by bootstrap sampling. They characterize one as parametric and the other as non-parametric, and advise:\n",
    "\n",
    "> The non-parametric bootstrap [relies] on weaker assumptions (or no assumptions at all) about the underlying distribution of the population. Statistical practitioners should use non-parametric procedures only in so far as the assumptions about the underlying distribution are seriously doubtful in their validity. ... However, when assumptions are not violated, non-parametric procedures will usually have greater variance (in point estimation), less power (in hypothesis testing), wider intervals (in confidence interval estimation), lower probability of correct selection (in ranking and selection) and higher risk (in decision theory) when compared to a corresponding parametric procedure (Efron and Tibshirani, 1994 [1] ).\n",
    "\n",
    "The premise of this advice is that the parametric and non-parametric methods are answering the same question in different ways, and that one might be preferred over the other because the results are preferable in one way or another. It is also based on the assumption that the sampling distribution of the parameters -- and the statistics derived from it -- are uniquely and objectively defined."
   ]
  },
  {
   "cell_type": "markdown",
   "metadata": {},
   "source": [
    "I disagree with these premises. The parametric and non-parametric methods they present are based on different modeling decisions, so they compute answers to different questions.\n",
    "And the models they are based on are only two of many possible models.\n",
    "\n",
    "To explain what I mean, I will implement the methods they propose and explain the assumptions each is based on. Then I will propose a third method that is a hybrid of the two. I'll show that all three methods yield different results, and suggest criteria for when one might be preferred over the others."
   ]
  },
  {
   "cell_type": "markdown",
   "metadata": {},
   "source": [
    "## The Data\n",
    "\n",
    "As an example, I'll use data from the General Social Survey (GSS).\n",
    "I'll download an HDF file from the *Elements of Data Science* repository, which contains a subset of the GSS data that has been resampled to correct for stratified sampling."
   ]
  },
  {
   "cell_type": "code",
   "execution_count": 1,
   "metadata": {},
   "outputs": [],
   "source": [
    "import pandas as pd\n",
    "import numpy as np\n",
    "import matplotlib.pyplot as plt\n",
    "import seaborn as sns\n",
    "\n",
    "np.random.seed(0)"
   ]
  },
  {
   "cell_type": "code",
   "execution_count": 2,
   "metadata": {},
   "outputs": [],
   "source": [
    "from os.path import basename, exists\n",
    "\n",
    "def download(url):\n",
    "    filename = basename(url)\n",
    "    if not exists(filename):\n",
    "        from urllib.request import urlretrieve\n",
    "        local, _ = urlretrieve(url, filename)\n",
    "        print('Downloaded ' + local)\n",
    "    \n",
    "download('https://github.com/AllenDowney/' +\n",
    "         'ElementsOfDataScience/raw/master/data/gss_eda.hdf')"
   ]
  },
  {
   "cell_type": "code",
   "execution_count": 3,
   "metadata": {},
   "outputs": [
    {
     "data": {
      "text/plain": [
       "(64814, 8)"
      ]
     },
     "execution_count": 3,
     "metadata": {},
     "output_type": "execute_result"
    }
   ],
   "source": [
    "gss = pd.read_hdf('gss_eda.hdf', 'gss')\n",
    "gss.shape"
   ]
  },
  {
   "cell_type": "markdown",
   "metadata": {},
   "source": [
    "It includes 64,814 respondents and 8 variables for each respondent."
   ]
  },
  {
   "cell_type": "code",
   "execution_count": 4,
   "metadata": {},
   "outputs": [
    {
     "data": {
      "text/html": [
       "<div>\n",
       "<style scoped>\n",
       "    .dataframe tbody tr th:only-of-type {\n",
       "        vertical-align: middle;\n",
       "    }\n",
       "\n",
       "    .dataframe tbody tr th {\n",
       "        vertical-align: top;\n",
       "    }\n",
       "\n",
       "    .dataframe thead th {\n",
       "        text-align: right;\n",
       "    }\n",
       "</style>\n",
       "<table border=\"1\" class=\"dataframe\">\n",
       "  <thead>\n",
       "    <tr style=\"text-align: right;\">\n",
       "      <th></th>\n",
       "      <th>YEAR</th>\n",
       "      <th>ID_</th>\n",
       "      <th>AGE</th>\n",
       "      <th>EDUC</th>\n",
       "      <th>SEX</th>\n",
       "      <th>GUNLAW</th>\n",
       "      <th>GRASS</th>\n",
       "      <th>REALINC</th>\n",
       "    </tr>\n",
       "  </thead>\n",
       "  <tbody>\n",
       "    <tr>\n",
       "      <th>0</th>\n",
       "      <td>1972</td>\n",
       "      <td>1</td>\n",
       "      <td>23.0</td>\n",
       "      <td>16.0</td>\n",
       "      <td>2</td>\n",
       "      <td>1.0</td>\n",
       "      <td>NaN</td>\n",
       "      <td>18951.0</td>\n",
       "    </tr>\n",
       "    <tr>\n",
       "      <th>1</th>\n",
       "      <td>1972</td>\n",
       "      <td>2</td>\n",
       "      <td>70.0</td>\n",
       "      <td>10.0</td>\n",
       "      <td>1</td>\n",
       "      <td>1.0</td>\n",
       "      <td>NaN</td>\n",
       "      <td>24366.0</td>\n",
       "    </tr>\n",
       "    <tr>\n",
       "      <th>2</th>\n",
       "      <td>1972</td>\n",
       "      <td>3</td>\n",
       "      <td>48.0</td>\n",
       "      <td>12.0</td>\n",
       "      <td>2</td>\n",
       "      <td>1.0</td>\n",
       "      <td>NaN</td>\n",
       "      <td>24366.0</td>\n",
       "    </tr>\n",
       "    <tr>\n",
       "      <th>3</th>\n",
       "      <td>1972</td>\n",
       "      <td>4</td>\n",
       "      <td>27.0</td>\n",
       "      <td>17.0</td>\n",
       "      <td>2</td>\n",
       "      <td>1.0</td>\n",
       "      <td>NaN</td>\n",
       "      <td>30458.0</td>\n",
       "    </tr>\n",
       "    <tr>\n",
       "      <th>4</th>\n",
       "      <td>1972</td>\n",
       "      <td>5</td>\n",
       "      <td>61.0</td>\n",
       "      <td>12.0</td>\n",
       "      <td>2</td>\n",
       "      <td>1.0</td>\n",
       "      <td>NaN</td>\n",
       "      <td>50763.0</td>\n",
       "    </tr>\n",
       "  </tbody>\n",
       "</table>\n",
       "</div>"
      ],
      "text/plain": [
       "   YEAR  ID_   AGE  EDUC  SEX  GUNLAW  GRASS  REALINC\n",
       "0  1972    1  23.0  16.0    2     1.0    NaN  18951.0\n",
       "1  1972    2  70.0  10.0    1     1.0    NaN  24366.0\n",
       "2  1972    3  48.0  12.0    2     1.0    NaN  24366.0\n",
       "3  1972    4  27.0  17.0    2     1.0    NaN  30458.0\n",
       "4  1972    5  61.0  12.0    2     1.0    NaN  50763.0"
      ]
     },
     "execution_count": 4,
     "metadata": {},
     "output_type": "execute_result"
    }
   ],
   "source": [
    "gss.head()"
   ]
  },
  {
   "cell_type": "markdown",
   "metadata": {},
   "source": [
    "To demonstrate logistic regression, I'll use on [one of the questions](https://gssdataexplorer.norc.org/variables/285/vshow) in the General Social Survey, which asks \"Do you think the use of marijuana should be made legal or not?\"\n",
    "The responses are in a column called `GRASS`; here are the values.  "
   ]
  },
  {
   "cell_type": "code",
   "execution_count": 5,
   "metadata": {},
   "outputs": [
    {
     "data": {
      "text/plain": [
       "2.0    25662\n",
       "1.0    11884\n",
       "Name: GRASS, dtype: int64"
      ]
     },
     "execution_count": 5,
     "metadata": {},
     "output_type": "execute_result"
    }
   ],
   "source": [
    "gss['GRASS'].value_counts()"
   ]
  },
  {
   "cell_type": "markdown",
   "metadata": {},
   "source": [
    "I'll use StatsModels, which provides a function that does logistic regression.\n",
    "First we have to recode the dependent variable so `1` means \"yes\" and `0` means \"no\".  We can do that by replacing `2` with `0`."
   ]
  },
  {
   "cell_type": "code",
   "execution_count": 6,
   "metadata": {},
   "outputs": [],
   "source": [
    "gss['GRASS'].replace(2, 0, inplace=True)"
   ]
  },
  {
   "cell_type": "markdown",
   "metadata": {},
   "source": [
    "To model quadratic relationships, I'll add columns that contain the values of `AGE` and `EDUC` squared."
   ]
  },
  {
   "cell_type": "code",
   "execution_count": 7,
   "metadata": {},
   "outputs": [],
   "source": [
    "gss['AGE2'] = gss['AGE']**2\n",
    "gss['EDUC2'] = gss['EDUC']**2"
   ]
  },
  {
   "cell_type": "markdown",
   "metadata": {},
   "source": [
    "And I'll drop the rows that have missing values for the variables we'll need."
   ]
  },
  {
   "cell_type": "code",
   "execution_count": 8,
   "metadata": {},
   "outputs": [],
   "source": [
    "data = gss.dropna(subset=['AGE', 'EDUC', 'SEX', 'GUNLAW', 'GRASS'])"
   ]
  },
  {
   "cell_type": "markdown",
   "metadata": {},
   "source": [
    "## Logistic Regression\n",
    "\n",
    "Here are the results of logistic regression with these variables."
   ]
  },
  {
   "cell_type": "code",
   "execution_count": 9,
   "metadata": {},
   "outputs": [
    {
     "name": "stdout",
     "output_type": "stream",
     "text": [
      "Optimization terminated successfully.\n",
      "         Current function value: 0.593464\n",
      "         Iterations 6\n"
     ]
    },
    {
     "data": {
      "text/html": [
       "<table class=\"simpletable\">\n",
       "<caption>Logit Regression Results</caption>\n",
       "<tr>\n",
       "  <th>Dep. Variable:</th>         <td>GRASS</td>      <th>  No. Observations:  </th>   <td> 20475</td>  \n",
       "</tr>\n",
       "<tr>\n",
       "  <th>Model:</th>                 <td>Logit</td>      <th>  Df Residuals:      </th>   <td> 20469</td>  \n",
       "</tr>\n",
       "<tr>\n",
       "  <th>Method:</th>                 <td>MLE</td>       <th>  Df Model:          </th>   <td>     5</td>  \n",
       "</tr>\n",
       "<tr>\n",
       "  <th>Date:</th>            <td>Tue, 17 Jan 2023</td> <th>  Pseudo R-squ.:     </th>   <td>0.05003</td> \n",
       "</tr>\n",
       "<tr>\n",
       "  <th>Time:</th>                <td>08:58:57</td>     <th>  Log-Likelihood:    </th>  <td> -12151.</td> \n",
       "</tr>\n",
       "<tr>\n",
       "  <th>converged:</th>             <td>True</td>       <th>  LL-Null:           </th>  <td> -12791.</td> \n",
       "</tr>\n",
       "<tr>\n",
       "  <th>Covariance Type:</th>     <td>nonrobust</td>    <th>  LLR p-value:       </th> <td>1.555e-274</td>\n",
       "</tr>\n",
       "</table>\n",
       "<table class=\"simpletable\">\n",
       "<tr>\n",
       "       <td></td>          <th>coef</th>     <th>std err</th>      <th>z</th>      <th>P>|z|</th>  <th>[0.025</th>    <th>0.975]</th>  \n",
       "</tr>\n",
       "<tr>\n",
       "  <th>Intercept</th>   <td>   -1.6788</td> <td>    0.240</td> <td>   -6.988</td> <td> 0.000</td> <td>   -2.150</td> <td>   -1.208</td>\n",
       "</tr>\n",
       "<tr>\n",
       "  <th>C(SEX)[T.2]</th> <td>   -0.3849</td> <td>    0.031</td> <td>  -12.394</td> <td> 0.000</td> <td>   -0.446</td> <td>   -0.324</td>\n",
       "</tr>\n",
       "<tr>\n",
       "  <th>AGE</th>         <td>   -0.0278</td> <td>    0.005</td> <td>   -5.399</td> <td> 0.000</td> <td>   -0.038</td> <td>   -0.018</td>\n",
       "</tr>\n",
       "<tr>\n",
       "  <th>AGE2</th>        <td>    0.0001</td> <td> 5.28e-05</td> <td>    2.190</td> <td> 0.029</td> <td> 1.21e-05</td> <td>    0.000</td>\n",
       "</tr>\n",
       "<tr>\n",
       "  <th>EDUC</th>        <td>    0.2000</td> <td>    0.031</td> <td>    6.412</td> <td> 0.000</td> <td>    0.139</td> <td>    0.261</td>\n",
       "</tr>\n",
       "<tr>\n",
       "  <th>EDUC2</th>       <td>   -0.0029</td> <td>    0.001</td> <td>   -2.450</td> <td> 0.014</td> <td>   -0.005</td> <td>   -0.001</td>\n",
       "</tr>\n",
       "</table>"
      ],
      "text/plain": [
       "<class 'statsmodels.iolib.summary.Summary'>\n",
       "\"\"\"\n",
       "                           Logit Regression Results                           \n",
       "==============================================================================\n",
       "Dep. Variable:                  GRASS   No. Observations:                20475\n",
       "Model:                          Logit   Df Residuals:                    20469\n",
       "Method:                           MLE   Df Model:                            5\n",
       "Date:                Tue, 17 Jan 2023   Pseudo R-squ.:                 0.05003\n",
       "Time:                        08:58:57   Log-Likelihood:                -12151.\n",
       "converged:                       True   LL-Null:                       -12791.\n",
       "Covariance Type:            nonrobust   LLR p-value:                1.555e-274\n",
       "===============================================================================\n",
       "                  coef    std err          z      P>|z|      [0.025      0.975]\n",
       "-------------------------------------------------------------------------------\n",
       "Intercept      -1.6788      0.240     -6.988      0.000      -2.150      -1.208\n",
       "C(SEX)[T.2]    -0.3849      0.031    -12.394      0.000      -0.446      -0.324\n",
       "AGE            -0.0278      0.005     -5.399      0.000      -0.038      -0.018\n",
       "AGE2            0.0001   5.28e-05      2.190      0.029    1.21e-05       0.000\n",
       "EDUC            0.2000      0.031      6.412      0.000       0.139       0.261\n",
       "EDUC2          -0.0029      0.001     -2.450      0.014      -0.005      -0.001\n",
       "===============================================================================\n",
       "\"\"\""
      ]
     },
     "execution_count": 9,
     "metadata": {},
     "output_type": "execute_result"
    }
   ],
   "source": [
    "import statsmodels.formula.api as smf\n",
    "\n",
    "formula = 'GRASS ~ AGE + AGE2 + EDUC + EDUC2 + C(SEX)'\n",
    "result_hat = smf.logit(formula, data=data).fit()\n",
    "result_hat.summary()"
   ]
  },
  {
   "cell_type": "markdown",
   "metadata": {},
   "source": [
    "To get a sense of what the results look like, we can plot the predicted probability of saying  \"yes\" as a function of age, for male and female respondents."
   ]
  },
  {
   "cell_type": "code",
   "execution_count": 10,
   "metadata": {},
   "outputs": [
    {
     "data": {
      "image/png": "[encoded data removed]",
      "text/plain": [
       "<Figure size 432x288 with 1 Axes>"
      ]
     },
     "metadata": {
      "needs_background": "light"
     },
     "output_type": "display_data"
    }
   ],
   "source": [
    "df = pd.DataFrame()\n",
    "df['AGE'] = np.linspace(18, 89)\n",
    "df['EDUC'] = 16\n",
    "\n",
    "df['AGE2'] = df['AGE']**2\n",
    "df['EDUC2'] = df['EDUC']**2\n",
    "\n",
    "df['SEX'] = 1\n",
    "pred1 = result_hat.predict(df)\n",
    "pred1.index = df['AGE']\n",
    "\n",
    "df['SEX'] = 2\n",
    "pred2 = result_hat.predict(df)\n",
    "pred2.index = df['AGE']\n",
    "\n",
    "pred1.plot(label='Male', alpha=0.6)\n",
    "pred2.plot(label='Female', alpha=0.6)\n",
    "\n",
    "plt.xlabel('Age')\n",
    "plt.ylabel('Fraction')\n",
    "plt.title('Support for legal marijuana')\n",
    "plt.legend();"
   ]
  },
  {
   "cell_type": "markdown",
   "metadata": {},
   "source": [
    "Men are more likely to support legalization than women, and younger people more likely than older people."
   ]
  },
  {
   "cell_type": "markdown",
   "metadata": {},
   "source": [
    "## Boostrap sampling\n",
    "\n",
    "Now let's implement the method characterized as non-parametric, which is based on bootstrap resampling.\n",
    "The following function samples the rows of `data` with replacement and runs the regression model on the resampled data."
   ]
  },
  {
   "cell_type": "code",
   "execution_count": 11,
   "metadata": {},
   "outputs": [],
   "source": [
    "options = dict(disp=False, start_params=result_hat.params) \n",
    "\n",
    "def bootstrap(i):\n",
    "    bootstrapped = data.sample(n=len(data), replace=True)\n",
    "    results = smf.logit(formula, data=bootstrapped).fit(**options)\n",
    "    return results.params"
   ]
  },
  {
   "cell_type": "markdown",
   "metadata": {},
   "source": [
    "The options sent to `fit` make it run faster, but don't affect the results by much.\n",
    "\n",
    "Each time we run this process, the result represents a single draw from the sampling distribution of the parameters."
   ]
  },
  {
   "cell_type": "code",
   "execution_count": 12,
   "metadata": {},
   "outputs": [
    {
     "name": "stdout",
     "output_type": "stream",
     "text": [
      "82.2 ms ± 1.89 ms per loop (mean ± std. dev. of 7 runs, 10 loops each)\n"
     ]
    }
   ],
   "source": [
    "%timeit bootstrap(0)"
   ]
  },
  {
   "cell_type": "markdown",
   "metadata": {},
   "source": [
    "By running it many times, we generate a sample from the sampling distribution. `pqdm` runs the sampling process in multiple threads."
   ]
  },
  {
   "cell_type": "code",
   "execution_count": 13,
   "metadata": {},
   "outputs": [],
   "source": [
    "try:\n",
    "    from pqdm.threads import pqdm\n",
    "except ImportError:\n",
    "    !pip install pqdm\n",
    "    from pqdm.threads import pqdm"
   ]
  },
  {
   "cell_type": "code",
   "execution_count": 14,
   "metadata": {},
   "outputs": [
    {
     "data": {
      "application/vnd.jupyter.widget-view+json": {
       "model_id": "d28231a131174b9fb063ee38ec4f91ed",
       "version_major": 2,
       "version_minor": 0
      },
      "text/plain": [
       "QUEUEING TASKS | :   0%|          | 0/101 [00:00<?, ?it/s]"
      ]
     },
     "metadata": {},
     "output_type": "display_data"
    },
    {
     "data": {
      "application/vnd.jupyter.widget-view+json": {
       "model_id": "55a283d1156444df861ef280683ee0db",
       "version_major": 2,
       "version_minor": 0
      },
      "text/plain": [
       "PROCESSING TASKS | :   0%|          | 0/101 [00:00<?, ?it/s]"
      ]
     },
     "metadata": {},
     "output_type": "display_data"
    },
    {
     "data": {
      "application/vnd.jupyter.widget-view+json": {
       "model_id": "97ecac5ee6df414a87ec65e81b501a06",
       "version_major": 2,
       "version_minor": 0
      },
      "text/plain": [
       "COLLECTING RESULTS | :   0%|          | 0/101 [00:00<?, ?it/s]"
      ]
     },
     "metadata": {},
     "output_type": "display_data"
    },
    {
     "data": {
      "text/html": [
       "<div>\n",
       "<style scoped>\n",
       "    .dataframe tbody tr th:only-of-type {\n",
       "        vertical-align: middle;\n",
       "    }\n",
       "\n",
       "    .dataframe tbody tr th {\n",
       "        vertical-align: top;\n",
       "    }\n",
       "\n",
       "    .dataframe thead th {\n",
       "        text-align: right;\n",
       "    }\n",
       "</style>\n",
       "<table border=\"1\" class=\"dataframe\">\n",
       "  <thead>\n",
       "    <tr style=\"text-align: right;\">\n",
       "      <th></th>\n",
       "      <th>Intercept</th>\n",
       "      <th>C(SEX)[T.2]</th>\n",
       "      <th>AGE</th>\n",
       "      <th>AGE2</th>\n",
       "      <th>EDUC</th>\n",
       "      <th>EDUC2</th>\n",
       "    </tr>\n",
       "  </thead>\n",
       "  <tbody>\n",
       "    <tr>\n",
       "      <th>0</th>\n",
       "      <td>-1.747448</td>\n",
       "      <td>-0.413202</td>\n",
       "      <td>-0.027473</td>\n",
       "      <td>0.000114</td>\n",
       "      <td>0.213299</td>\n",
       "      <td>-0.003302</td>\n",
       "    </tr>\n",
       "    <tr>\n",
       "      <th>1</th>\n",
       "      <td>-2.055303</td>\n",
       "      <td>-0.411384</td>\n",
       "      <td>-0.029943</td>\n",
       "      <td>0.000129</td>\n",
       "      <td>0.276153</td>\n",
       "      <td>-0.005563</td>\n",
       "    </tr>\n",
       "    <tr>\n",
       "      <th>2</th>\n",
       "      <td>-2.050773</td>\n",
       "      <td>-0.414960</td>\n",
       "      <td>-0.023190</td>\n",
       "      <td>0.000094</td>\n",
       "      <td>0.242778</td>\n",
       "      <td>-0.004530</td>\n",
       "    </tr>\n",
       "    <tr>\n",
       "      <th>3</th>\n",
       "      <td>-2.031659</td>\n",
       "      <td>-0.392391</td>\n",
       "      <td>-0.029538</td>\n",
       "      <td>0.000147</td>\n",
       "      <td>0.251942</td>\n",
       "      <td>-0.004616</td>\n",
       "    </tr>\n",
       "    <tr>\n",
       "      <th>4</th>\n",
       "      <td>-1.847295</td>\n",
       "      <td>-0.363829</td>\n",
       "      <td>-0.031532</td>\n",
       "      <td>0.000156</td>\n",
       "      <td>0.238870</td>\n",
       "      <td>-0.004339</td>\n",
       "    </tr>\n",
       "  </tbody>\n",
       "</table>\n",
       "</div>"
      ],
      "text/plain": [
       "   Intercept  C(SEX)[T.2]       AGE      AGE2      EDUC     EDUC2\n",
       "0  -1.747448    -0.413202 -0.027473  0.000114  0.213299 -0.003302\n",
       "1  -2.055303    -0.411384 -0.029943  0.000129  0.276153 -0.005563\n",
       "2  -2.050773    -0.414960 -0.023190  0.000094  0.242778 -0.004530\n",
       "3  -2.031659    -0.392391 -0.029538  0.000147  0.251942 -0.004616\n",
       "4  -1.847295    -0.363829 -0.031532  0.000156  0.238870 -0.004339"
      ]
     },
     "execution_count": 14,
     "metadata": {},
     "output_type": "execute_result"
    }
   ],
   "source": [
    "estimates = pqdm(range(101), bootstrap, n_jobs=4)\n",
    "sampling_dist = pd.DataFrame(estimates)\n",
    "sampling_dist.head()"
   ]
  },
  {
   "cell_type": "markdown",
   "metadata": {},
   "source": [
    "Here's what the sampling distribution looks like for one of the parameters."
   ]
  },
  {
   "cell_type": "code",
   "execution_count": 15,
   "metadata": {},
   "outputs": [
    {
     "data": {
      "image/png": "[encoded data removed]",
      "text/plain": [
       "<Figure size 432x288 with 1 Axes>"
      ]
     },
     "metadata": {
      "needs_background": "light"
     },
     "output_type": "display_data"
    }
   ],
   "source": [
    "ci90 = sampling_dist['C(SEX)[T.2]'].quantile([0.05, 0.95])\n",
    "sns.kdeplot(sampling_dist['C(SEX)[T.2]'])\n",
    "[plt.axvline(x, ls=':') for x in ci90]\n",
    "plt.title('Sampling distribution of a parameter');"
   ]
  },
  {
   "cell_type": "markdown",
   "metadata": {},
   "source": [
    "The mean of the sampling distribution should be close to the parameters we estimated with the original dataset, and it is."
   ]
  },
  {
   "cell_type": "code",
   "execution_count": 16,
   "metadata": {},
   "outputs": [
    {
     "data": {
      "text/html": [
       "<div>\n",
       "<style scoped>\n",
       "    .dataframe tbody tr th:only-of-type {\n",
       "        vertical-align: middle;\n",
       "    }\n",
       "\n",
       "    .dataframe tbody tr th {\n",
       "        vertical-align: top;\n",
       "    }\n",
       "\n",
       "    .dataframe thead th {\n",
       "        text-align: right;\n",
       "    }\n",
       "</style>\n",
       "<table border=\"1\" class=\"dataframe\">\n",
       "  <thead>\n",
       "    <tr style=\"text-align: right;\">\n",
       "      <th></th>\n",
       "      <th>Sampling mean</th>\n",
       "      <th>Estimates</th>\n",
       "    </tr>\n",
       "  </thead>\n",
       "  <tbody>\n",
       "    <tr>\n",
       "      <th>Intercept</th>\n",
       "      <td>-1.681880</td>\n",
       "      <td>-1.678838</td>\n",
       "    </tr>\n",
       "    <tr>\n",
       "      <th>C(SEX)[T.2]</th>\n",
       "      <td>-0.379621</td>\n",
       "      <td>-0.384919</td>\n",
       "    </tr>\n",
       "    <tr>\n",
       "      <th>AGE</th>\n",
       "      <td>-0.027804</td>\n",
       "      <td>-0.027825</td>\n",
       "    </tr>\n",
       "    <tr>\n",
       "      <th>AGE2</th>\n",
       "      <td>0.000115</td>\n",
       "      <td>0.000116</td>\n",
       "    </tr>\n",
       "    <tr>\n",
       "      <th>EDUC</th>\n",
       "      <td>0.201137</td>\n",
       "      <td>0.200002</td>\n",
       "    </tr>\n",
       "    <tr>\n",
       "      <th>EDUC2</th>\n",
       "      <td>-0.002912</td>\n",
       "      <td>-0.002855</td>\n",
       "    </tr>\n",
       "  </tbody>\n",
       "</table>\n",
       "</div>"
      ],
      "text/plain": [
       "             Sampling mean  Estimates\n",
       "Intercept        -1.681880  -1.678838\n",
       "C(SEX)[T.2]      -0.379621  -0.384919\n",
       "AGE              -0.027804  -0.027825\n",
       "AGE2              0.000115   0.000116\n",
       "EDUC              0.201137   0.200002\n",
       "EDUC2            -0.002912  -0.002855"
      ]
     },
     "execution_count": 16,
     "metadata": {},
     "output_type": "execute_result"
    }
   ],
   "source": [
    "pd.DataFrame({\"Sampling mean\": sampling_dist.mean(), \n",
    "              \"Estimates\": result_hat.params})"
   ]
  },
  {
   "cell_type": "markdown",
   "metadata": {},
   "source": [
    "The standard deviations of the sampling distributions should be close to the standard errors computed by StatsModels, and they are.\n",
    "Most of them are close enough that the difference probably doesn't matter in practice."
   ]
  },
  {
   "cell_type": "code",
   "execution_count": 17,
   "metadata": {
    "scrolled": true
   },
   "outputs": [],
   "source": [
    "def standard_errors(sampling_dist, result_hat):\n",
    "    df = pd.DataFrame({\"Sampling std\": sampling_dist.std(), \n",
    "                       \"Standard error\": result_hat.bse})\n",
    "    num, den = df.values.T\n",
    "    df['Percent diff'] = (num / den - 1) * 100\n",
    "    return df"
   ]
  },
  {
   "cell_type": "code",
   "execution_count": 18,
   "metadata": {},
   "outputs": [
    {
     "data": {
      "text/html": [
       "<div>\n",
       "<style scoped>\n",
       "    .dataframe tbody tr th:only-of-type {\n",
       "        vertical-align: middle;\n",
       "    }\n",
       "\n",
       "    .dataframe tbody tr th {\n",
       "        vertical-align: top;\n",
       "    }\n",
       "\n",
       "    .dataframe thead th {\n",
       "        text-align: right;\n",
       "    }\n",
       "</style>\n",
       "<table border=\"1\" class=\"dataframe\">\n",
       "  <thead>\n",
       "    <tr style=\"text-align: right;\">\n",
       "      <th></th>\n",
       "      <th>Sampling std</th>\n",
       "      <th>Standard error</th>\n",
       "      <th>Percent diff</th>\n",
       "    </tr>\n",
       "  </thead>\n",
       "  <tbody>\n",
       "    <tr>\n",
       "      <th>Intercept</th>\n",
       "      <td>0.248814</td>\n",
       "      <td>0.240243</td>\n",
       "      <td>3.567779</td>\n",
       "    </tr>\n",
       "    <tr>\n",
       "      <th>C(SEX)[T.2]</th>\n",
       "      <td>0.027137</td>\n",
       "      <td>0.031057</td>\n",
       "      <td>-12.622418</td>\n",
       "    </tr>\n",
       "    <tr>\n",
       "      <th>AGE</th>\n",
       "      <td>0.004944</td>\n",
       "      <td>0.005153</td>\n",
       "      <td>-4.066840</td>\n",
       "    </tr>\n",
       "    <tr>\n",
       "      <th>AGE2</th>\n",
       "      <td>0.000051</td>\n",
       "      <td>0.000053</td>\n",
       "      <td>-4.198399</td>\n",
       "    </tr>\n",
       "    <tr>\n",
       "      <th>EDUC</th>\n",
       "      <td>0.031756</td>\n",
       "      <td>0.031193</td>\n",
       "      <td>1.804886</td>\n",
       "    </tr>\n",
       "    <tr>\n",
       "      <th>EDUC2</th>\n",
       "      <td>0.001197</td>\n",
       "      <td>0.001166</td>\n",
       "      <td>2.687507</td>\n",
       "    </tr>\n",
       "  </tbody>\n",
       "</table>\n",
       "</div>"
      ],
      "text/plain": [
       "             Sampling std  Standard error  Percent diff\n",
       "Intercept        0.248814        0.240243      3.567779\n",
       "C(SEX)[T.2]      0.027137        0.031057    -12.622418\n",
       "AGE              0.004944        0.005153     -4.066840\n",
       "AGE2             0.000051        0.000053     -4.198399\n",
       "EDUC             0.031756        0.031193      1.804886\n",
       "EDUC2            0.001197        0.001166      2.687507"
      ]
     },
     "execution_count": 18,
     "metadata": {},
     "output_type": "execute_result"
    }
   ],
   "source": [
    "standard_errors(sampling_dist, result_hat)"
   ]
  },
  {
   "cell_type": "markdown",
   "metadata": {},
   "source": [
    "Of course, there is nothing magic about the standard errors computed by StatsModels; they are approximations based on a model of the sampling process, just like the results from resampling."
   ]
  },
  {
   "cell_type": "markdown",
   "metadata": {},
   "source": [
    "## The Resampling Framework\n",
    "\n",
    "The purpose of the sampling distribution is to quantify the variability in an estimate due to random sampling. It is the answer to the question, \"If we ran this sampling process many times, how much would we expect the results to vary?\"\n",
    "\n",
    "To answer that question, we need a model of the sampling process. We use the model to simulate the sampling process and generate counterfactual datasets that represent other samples the process could have generated.\n",
    "\n",
    "The following figure represents this framework."
   ]
  },
  {
   "cell_type": "markdown",
   "metadata": {},
   "source": [
    "<img src=\"https://github.com/AllenDowney/ElementsOfDataScience/raw/master/figs/resampling.png\" width=\"500\">"
   ]
  },
  {
   "cell_type": "markdown",
   "metadata": {},
   "source": [
    "In bootstrap resampling, we treat the rows of the original dataset as if they are the population and draw a random sample from it.\n",
    "We use this simulated data to compute the sample statistic; in this example, it's the parameters of the logistic regression model.\n",
    "We collect the results to form a sample from the sampling distribution, which we can use to compute confidence intervals and standard errors.\n",
    "\n",
    "This way of simulating the sampling process asks, in effect, what would have happened if we had surveyed different people.\n",
    "But that's not the only possible model of the sampling process.\n",
    "An alternative is to ask what would happen if we surveyed the same people, but they gave different answers.\n",
    "That's the model that underlies the parametric method."
   ]
  },
  {
   "cell_type": "markdown",
   "metadata": {},
   "source": [
    "## Parametric bootstrap\n",
    "\n",
    "So, how do we simulate a sampling process where we survey the same people, but they give different answers?\n",
    "One way is to assume, for the purposes of the simulation, that the parameters we estimated from the original data are correct.\n",
    "If so, we can use the regression model to compute the predicted probability for each respondent, like this:"
   ]
  },
  {
   "cell_type": "code",
   "execution_count": 19,
   "metadata": {},
   "outputs": [
    {
     "data": {
      "text/plain": [
       "count    20475.000000\n",
       "mean         0.317167\n",
       "std          0.113654\n",
       "min          0.025989\n",
       "25%          0.234792\n",
       "50%          0.317927\n",
       "75%          0.400791\n",
       "max          0.630366\n",
       "dtype: float64"
      ]
     },
     "execution_count": 19,
     "metadata": {},
     "output_type": "execute_result"
    }
   ],
   "source": [
    "pi_hat = result_hat.predict(data)\n",
    "pi_hat.describe()"
   ]
  },
  {
   "cell_type": "markdown",
   "metadata": {},
   "source": [
    "Now we can use these probabilities to generate a biased coin toss for each respondent."
   ]
  },
  {
   "cell_type": "code",
   "execution_count": 20,
   "metadata": {},
   "outputs": [
    {
     "data": {
      "text/plain": [
       "0.3174114774114774"
      ]
     },
     "execution_count": 20,
     "metadata": {},
     "output_type": "execute_result"
    }
   ],
   "source": [
    "from scipy.stats import bernoulli\n",
    "\n",
    "simulated = bernoulli.rvs(pi_hat.values)\n",
    "simulated.mean()"
   ]
  },
  {
   "cell_type": "markdown",
   "metadata": {},
   "source": [
    "Then we can run the regression model with these simulated values as the dependent variable.\n",
    "The following function shows how."
   ]
  },
  {
   "cell_type": "code",
   "execution_count": 21,
   "metadata": {},
   "outputs": [],
   "source": [
    "def bootstrap2(i):\n",
    "    flipped = data.assign(GRASS=bernoulli.rvs(pi_hat.values))\n",
    "    results = smf.logit(formula, data=flipped).fit(**options)\n",
    "    return results.params"
   ]
  },
  {
   "cell_type": "markdown",
   "metadata": {},
   "source": [
    "Again, the result from a single simulation is a random value from the sampling distribution."
   ]
  },
  {
   "cell_type": "code",
   "execution_count": 22,
   "metadata": {},
   "outputs": [
    {
     "data": {
      "text/plain": [
       "Intercept     -1.805556\n",
       "C(SEX)[T.2]   -0.352934\n",
       "AGE           -0.023101\n",
       "AGE2           0.000058\n",
       "EDUC           0.196758\n",
       "EDUC2         -0.002599\n",
       "dtype: float64"
      ]
     },
     "execution_count": 22,
     "metadata": {},
     "output_type": "execute_result"
    }
   ],
   "source": [
    "bootstrap2(0)"
   ]
  },
  {
   "cell_type": "markdown",
   "metadata": {},
   "source": [
    "If we run it many times, we get a sample from the sampling distribution."
   ]
  },
  {
   "cell_type": "code",
   "execution_count": 23,
   "metadata": {},
   "outputs": [
    {
     "data": {
      "application/vnd.jupyter.widget-view+json": {
       "model_id": "d0a97fc4ee8f43d58397ef7f83c0e400",
       "version_major": 2,
       "version_minor": 0
      },
      "text/plain": [
       "QUEUEING TASKS | :   0%|          | 0/101 [00:00<?, ?it/s]"
      ]
     },
     "metadata": {},
     "output_type": "display_data"
    },
    {
     "data": {
      "application/vnd.jupyter.widget-view+json": {
       "model_id": "a485f5db7f924f3d8f93d820527db76f",
       "version_major": 2,
       "version_minor": 0
      },
      "text/plain": [
       "PROCESSING TASKS | :   0%|          | 0/101 [00:00<?, ?it/s]"
      ]
     },
     "metadata": {},
     "output_type": "display_data"
    },
    {
     "data": {
      "application/vnd.jupyter.widget-view+json": {
       "model_id": "c1141a18ca35415fbf5cd7140d6496c7",
       "version_major": 2,
       "version_minor": 0
      },
      "text/plain": [
       "COLLECTING RESULTS | :   0%|          | 0/101 [00:00<?, ?it/s]"
      ]
     },
     "metadata": {},
     "output_type": "display_data"
    }
   ],
   "source": [
    "from pqdm.threads import pqdm\n",
    "\n",
    "estimates = pqdm(range(101), bootstrap2, n_jobs=4)"
   ]
  },
  {
   "cell_type": "code",
   "execution_count": 24,
   "metadata": {},
   "outputs": [
    {
     "data": {
      "text/html": [
       "<div>\n",
       "<style scoped>\n",
       "    .dataframe tbody tr th:only-of-type {\n",
       "        vertical-align: middle;\n",
       "    }\n",
       "\n",
       "    .dataframe tbody tr th {\n",
       "        vertical-align: top;\n",
       "    }\n",
       "\n",
       "    .dataframe thead th {\n",
       "        text-align: right;\n",
       "    }\n",
       "</style>\n",
       "<table border=\"1\" class=\"dataframe\">\n",
       "  <thead>\n",
       "    <tr style=\"text-align: right;\">\n",
       "      <th></th>\n",
       "      <th>Intercept</th>\n",
       "      <th>C(SEX)[T.2]</th>\n",
       "      <th>AGE</th>\n",
       "      <th>AGE2</th>\n",
       "      <th>EDUC</th>\n",
       "      <th>EDUC2</th>\n",
       "    </tr>\n",
       "  </thead>\n",
       "  <tbody>\n",
       "    <tr>\n",
       "      <th>0</th>\n",
       "      <td>-1.804015</td>\n",
       "      <td>-0.384881</td>\n",
       "      <td>-0.014708</td>\n",
       "      <td>-0.000017</td>\n",
       "      <td>0.180796</td>\n",
       "      <td>-0.002302</td>\n",
       "    </tr>\n",
       "    <tr>\n",
       "      <th>1</th>\n",
       "      <td>-1.432664</td>\n",
       "      <td>-0.422171</td>\n",
       "      <td>-0.023207</td>\n",
       "      <td>0.000044</td>\n",
       "      <td>0.166255</td>\n",
       "      <td>-0.001940</td>\n",
       "    </tr>\n",
       "    <tr>\n",
       "      <th>2</th>\n",
       "      <td>-1.415658</td>\n",
       "      <td>-0.406837</td>\n",
       "      <td>-0.033815</td>\n",
       "      <td>0.000168</td>\n",
       "      <td>0.180158</td>\n",
       "      <td>-0.001914</td>\n",
       "    </tr>\n",
       "    <tr>\n",
       "      <th>3</th>\n",
       "      <td>-1.840253</td>\n",
       "      <td>-0.394937</td>\n",
       "      <td>-0.028435</td>\n",
       "      <td>0.000126</td>\n",
       "      <td>0.221295</td>\n",
       "      <td>-0.003461</td>\n",
       "    </tr>\n",
       "    <tr>\n",
       "      <th>4</th>\n",
       "      <td>-1.642430</td>\n",
       "      <td>-0.375719</td>\n",
       "      <td>-0.034946</td>\n",
       "      <td>0.000177</td>\n",
       "      <td>0.216985</td>\n",
       "      <td>-0.003430</td>\n",
       "    </tr>\n",
       "  </tbody>\n",
       "</table>\n",
       "</div>"
      ],
      "text/plain": [
       "   Intercept  C(SEX)[T.2]       AGE      AGE2      EDUC     EDUC2\n",
       "0  -1.804015    -0.384881 -0.014708 -0.000017  0.180796 -0.002302\n",
       "1  -1.432664    -0.422171 -0.023207  0.000044  0.166255 -0.001940\n",
       "2  -1.415658    -0.406837 -0.033815  0.000168  0.180158 -0.001914\n",
       "3  -1.840253    -0.394937 -0.028435  0.000126  0.221295 -0.003461\n",
       "4  -1.642430    -0.375719 -0.034946  0.000177  0.216985 -0.003430"
      ]
     },
     "execution_count": 24,
     "metadata": {},
     "output_type": "execute_result"
    }
   ],
   "source": [
    "sampling_dist2 = pd.DataFrame(estimates)\n",
    "sampling_dist2.head()"
   ]
  },
  {
   "cell_type": "markdown",
   "metadata": {},
   "source": [
    "Here's the sampling distribution for a single parameter."
   ]
  },
  {
   "cell_type": "code",
   "execution_count": 25,
   "metadata": {},
   "outputs": [
    {
     "data": {
      "image/png": "[encoded data removed]",
      "text/plain": [
       "<Figure size 432x288 with 1 Axes>"
      ]
     },
     "metadata": {
      "needs_background": "light"
     },
     "output_type": "display_data"
    }
   ],
   "source": [
    "ci90 = sampling_dist2['C(SEX)[T.2]'].quantile([0.05, 0.95])\n",
    "sns.kdeplot(sampling_dist2['C(SEX)[T.2]'])\n",
    "[plt.axvline(x, ls=':') for x in ci90]\n",
    "plt.title('Sampling distribution of a parameter');"
   ]
  },
  {
   "cell_type": "markdown",
   "metadata": {},
   "source": [
    "Again, the standard deviations should be close to the standard errors, and they are."
   ]
  },
  {
   "cell_type": "code",
   "execution_count": 26,
   "metadata": {
    "scrolled": true
   },
   "outputs": [
    {
     "data": {
      "text/html": [
       "<div>\n",
       "<style scoped>\n",
       "    .dataframe tbody tr th:only-of-type {\n",
       "        vertical-align: middle;\n",
       "    }\n",
       "\n",
       "    .dataframe tbody tr th {\n",
       "        vertical-align: top;\n",
       "    }\n",
       "\n",
       "    .dataframe thead th {\n",
       "        text-align: right;\n",
       "    }\n",
       "</style>\n",
       "<table border=\"1\" class=\"dataframe\">\n",
       "  <thead>\n",
       "    <tr style=\"text-align: right;\">\n",
       "      <th></th>\n",
       "      <th>Sampling std</th>\n",
       "      <th>Standard error</th>\n",
       "      <th>Percent diff</th>\n",
       "    </tr>\n",
       "  </thead>\n",
       "  <tbody>\n",
       "    <tr>\n",
       "      <th>Intercept</th>\n",
       "      <td>0.199178</td>\n",
       "      <td>0.240243</td>\n",
       "      <td>-17.092962</td>\n",
       "    </tr>\n",
       "    <tr>\n",
       "      <th>C(SEX)[T.2]</th>\n",
       "      <td>0.030494</td>\n",
       "      <td>0.031057</td>\n",
       "      <td>-1.812430</td>\n",
       "    </tr>\n",
       "    <tr>\n",
       "      <th>AGE</th>\n",
       "      <td>0.005085</td>\n",
       "      <td>0.005153</td>\n",
       "      <td>-1.327560</td>\n",
       "    </tr>\n",
       "    <tr>\n",
       "      <th>AGE2</th>\n",
       "      <td>0.000054</td>\n",
       "      <td>0.000053</td>\n",
       "      <td>2.118557</td>\n",
       "    </tr>\n",
       "    <tr>\n",
       "      <th>EDUC</th>\n",
       "      <td>0.024899</td>\n",
       "      <td>0.031193</td>\n",
       "      <td>-20.178173</td>\n",
       "    </tr>\n",
       "    <tr>\n",
       "      <th>EDUC2</th>\n",
       "      <td>0.000935</td>\n",
       "      <td>0.001166</td>\n",
       "      <td>-19.819110</td>\n",
       "    </tr>\n",
       "  </tbody>\n",
       "</table>\n",
       "</div>"
      ],
      "text/plain": [
       "             Sampling std  Standard error  Percent diff\n",
       "Intercept        0.199178        0.240243    -17.092962\n",
       "C(SEX)[T.2]      0.030494        0.031057     -1.812430\n",
       "AGE              0.005085        0.005153     -1.327560\n",
       "AGE2             0.000054        0.000053      2.118557\n",
       "EDUC             0.024899        0.031193    -20.178173\n",
       "EDUC2            0.000935        0.001166    -19.819110"
      ]
     },
     "execution_count": 26,
     "metadata": {},
     "output_type": "execute_result"
    }
   ],
   "source": [
    "standard_errors(sampling_dist2, result_hat)"
   ]
  },
  {
   "cell_type": "markdown",
   "metadata": {},
   "source": [
    "So we have two models of the sampling process that yield different sampling distributions. But these are not the only models.\n",
    "\n",
    "If the first method asks, \"What if we surveyed different people?\" and the second asks \"What if we surveyed the same people and they gave different answers?\", let's consider a third method that asks \"¿Por qué no los dos?\"."
   ]
  },
  {
   "cell_type": "markdown",
   "metadata": {},
   "source": [
    "## The Hybrid Model\n",
    "\n",
    "The following function uses bootstrap sampling to simulate surveying different people; then it uses the parametric method to simulate their responses."
   ]
  },
  {
   "cell_type": "code",
   "execution_count": 27,
   "metadata": {},
   "outputs": [],
   "source": [
    "def bootstrap3(i):\n",
    "    bootstrapped = data.sample(n=len(data), replace=True)\n",
    "    pi_hat = result_hat.predict(bootstrapped)\n",
    "    flipped = bootstrapped.assign(GRASS=bernoulli.rvs(pi_hat.values))\n",
    "    results = smf.logit(formula, data=flipped).fit(**options)\n",
    "    return results.params"
   ]
  },
  {
   "cell_type": "code",
   "execution_count": 28,
   "metadata": {},
   "outputs": [
    {
     "data": {
      "text/plain": [
       "Intercept     -1.655314\n",
       "C(SEX)[T.2]   -0.386624\n",
       "AGE           -0.024265\n",
       "AGE2           0.000083\n",
       "EDUC           0.182822\n",
       "EDUC2         -0.002334\n",
       "dtype: float64"
      ]
     },
     "execution_count": 28,
     "metadata": {},
     "output_type": "execute_result"
    }
   ],
   "source": [
    "bootstrap3(0)"
   ]
  },
  {
   "cell_type": "code",
   "execution_count": 29,
   "metadata": {},
   "outputs": [
    {
     "data": {
      "application/vnd.jupyter.widget-view+json": {
       "model_id": "d94cba7ed8d14620a93d62ee769b9db0",
       "version_major": 2,
       "version_minor": 0
      },
      "text/plain": [
       "QUEUEING TASKS | :   0%|          | 0/101 [00:00<?, ?it/s]"
      ]
     },
     "metadata": {},
     "output_type": "display_data"
    },
    {
     "data": {
      "application/vnd.jupyter.widget-view+json": {
       "model_id": "300569d2cf7f4e1a87fc40f41db14c9e",
       "version_major": 2,
       "version_minor": 0
      },
      "text/plain": [
       "PROCESSING TASKS | :   0%|          | 0/101 [00:00<?, ?it/s]"
      ]
     },
     "metadata": {},
     "output_type": "display_data"
    },
    {
     "data": {
      "application/vnd.jupyter.widget-view+json": {
       "model_id": "c3d77dab4b344ca083e71dd2fa26724b",
       "version_major": 2,
       "version_minor": 0
      },
      "text/plain": [
       "COLLECTING RESULTS | :   0%|          | 0/101 [00:00<?, ?it/s]"
      ]
     },
     "metadata": {},
     "output_type": "display_data"
    }
   ],
   "source": [
    "from pqdm.threads import pqdm\n",
    "\n",
    "estimates = pqdm(range(101), bootstrap3, n_jobs=4)"
   ]
  },
  {
   "cell_type": "code",
   "execution_count": 30,
   "metadata": {},
   "outputs": [
    {
     "data": {
      "text/html": [
       "<div>\n",
       "<style scoped>\n",
       "    .dataframe tbody tr th:only-of-type {\n",
       "        vertical-align: middle;\n",
       "    }\n",
       "\n",
       "    .dataframe tbody tr th {\n",
       "        vertical-align: top;\n",
       "    }\n",
       "\n",
       "    .dataframe thead th {\n",
       "        text-align: right;\n",
       "    }\n",
       "</style>\n",
       "<table border=\"1\" class=\"dataframe\">\n",
       "  <thead>\n",
       "    <tr style=\"text-align: right;\">\n",
       "      <th></th>\n",
       "      <th>Intercept</th>\n",
       "      <th>C(SEX)[T.2]</th>\n",
       "      <th>AGE</th>\n",
       "      <th>AGE2</th>\n",
       "      <th>EDUC</th>\n",
       "      <th>EDUC2</th>\n",
       "    </tr>\n",
       "  </thead>\n",
       "  <tbody>\n",
       "    <tr>\n",
       "      <th>0</th>\n",
       "      <td>-2.019658</td>\n",
       "      <td>-0.385612</td>\n",
       "      <td>-0.025974</td>\n",
       "      <td>0.000108</td>\n",
       "      <td>0.249717</td>\n",
       "      <td>-0.005012</td>\n",
       "    </tr>\n",
       "    <tr>\n",
       "      <th>1</th>\n",
       "      <td>-1.648528</td>\n",
       "      <td>-0.351063</td>\n",
       "      <td>-0.025192</td>\n",
       "      <td>0.000100</td>\n",
       "      <td>0.182666</td>\n",
       "      <td>-0.002312</td>\n",
       "    </tr>\n",
       "    <tr>\n",
       "      <th>2</th>\n",
       "      <td>-1.780499</td>\n",
       "      <td>-0.445770</td>\n",
       "      <td>-0.032862</td>\n",
       "      <td>0.000173</td>\n",
       "      <td>0.242922</td>\n",
       "      <td>-0.004569</td>\n",
       "    </tr>\n",
       "    <tr>\n",
       "      <th>3</th>\n",
       "      <td>-1.534347</td>\n",
       "      <td>-0.464670</td>\n",
       "      <td>-0.029799</td>\n",
       "      <td>0.000125</td>\n",
       "      <td>0.189228</td>\n",
       "      <td>-0.002218</td>\n",
       "    </tr>\n",
       "    <tr>\n",
       "      <th>4</th>\n",
       "      <td>-1.336757</td>\n",
       "      <td>-0.404636</td>\n",
       "      <td>-0.030217</td>\n",
       "      <td>0.000137</td>\n",
       "      <td>0.160754</td>\n",
       "      <td>-0.001453</td>\n",
       "    </tr>\n",
       "  </tbody>\n",
       "</table>\n",
       "</div>"
      ],
      "text/plain": [
       "   Intercept  C(SEX)[T.2]       AGE      AGE2      EDUC     EDUC2\n",
       "0  -2.019658    -0.385612 -0.025974  0.000108  0.249717 -0.005012\n",
       "1  -1.648528    -0.351063 -0.025192  0.000100  0.182666 -0.002312\n",
       "2  -1.780499    -0.445770 -0.032862  0.000173  0.242922 -0.004569\n",
       "3  -1.534347    -0.464670 -0.029799  0.000125  0.189228 -0.002218\n",
       "4  -1.336757    -0.404636 -0.030217  0.000137  0.160754 -0.001453"
      ]
     },
     "execution_count": 30,
     "metadata": {},
     "output_type": "execute_result"
    }
   ],
   "source": [
    "sampling_dist3 = pd.DataFrame(estimates)\n",
    "sampling_dist3.head()"
   ]
  },
  {
   "cell_type": "markdown",
   "metadata": {},
   "source": [
    "Here's the sampling distribution for one of the parameters."
   ]
  },
  {
   "cell_type": "code",
   "execution_count": 31,
   "metadata": {},
   "outputs": [
    {
     "data": {
      "image/png": "[encoded data removed]",
      "text/plain": [
       "<Figure size 432x288 with 1 Axes>"
      ]
     },
     "metadata": {
      "needs_background": "light"
     },
     "output_type": "display_data"
    }
   ],
   "source": [
    "ci90 = sampling_dist3['C(SEX)[T.2]'].quantile([0.05, 0.95])\n",
    "sns.kdeplot(sampling_dist3['C(SEX)[T.2]'])\n",
    "[plt.axvline(x, ls=':') for x in ci90]\n",
    "plt.title('Sampling distribution of a parameter');"
   ]
  },
  {
   "cell_type": "markdown",
   "metadata": {},
   "source": [
    "Again, the standard errors are comparable to the ones computed by StatsModels."
   ]
  },
  {
   "cell_type": "code",
   "execution_count": 32,
   "metadata": {
    "scrolled": true
   },
   "outputs": [
    {
     "data": {
      "text/html": [
       "<div>\n",
       "<style scoped>\n",
       "    .dataframe tbody tr th:only-of-type {\n",
       "        vertical-align: middle;\n",
       "    }\n",
       "\n",
       "    .dataframe tbody tr th {\n",
       "        vertical-align: top;\n",
       "    }\n",
       "\n",
       "    .dataframe thead th {\n",
       "        text-align: right;\n",
       "    }\n",
       "</style>\n",
       "<table border=\"1\" class=\"dataframe\">\n",
       "  <thead>\n",
       "    <tr style=\"text-align: right;\">\n",
       "      <th></th>\n",
       "      <th>Sampling std</th>\n",
       "      <th>Standard error</th>\n",
       "      <th>Percent diff</th>\n",
       "    </tr>\n",
       "  </thead>\n",
       "  <tbody>\n",
       "    <tr>\n",
       "      <th>Intercept</th>\n",
       "      <td>0.236901</td>\n",
       "      <td>0.240243</td>\n",
       "      <td>-1.390859</td>\n",
       "    </tr>\n",
       "    <tr>\n",
       "      <th>C(SEX)[T.2]</th>\n",
       "      <td>0.035600</td>\n",
       "      <td>0.031057</td>\n",
       "      <td>14.629106</td>\n",
       "    </tr>\n",
       "    <tr>\n",
       "      <th>AGE</th>\n",
       "      <td>0.005769</td>\n",
       "      <td>0.005153</td>\n",
       "      <td>11.939358</td>\n",
       "    </tr>\n",
       "    <tr>\n",
       "      <th>AGE2</th>\n",
       "      <td>0.000061</td>\n",
       "      <td>0.000053</td>\n",
       "      <td>15.337773</td>\n",
       "    </tr>\n",
       "    <tr>\n",
       "      <th>EDUC</th>\n",
       "      <td>0.031469</td>\n",
       "      <td>0.031193</td>\n",
       "      <td>0.884552</td>\n",
       "    </tr>\n",
       "    <tr>\n",
       "      <th>EDUC2</th>\n",
       "      <td>0.001173</td>\n",
       "      <td>0.001166</td>\n",
       "      <td>0.613167</td>\n",
       "    </tr>\n",
       "  </tbody>\n",
       "</table>\n",
       "</div>"
      ],
      "text/plain": [
       "             Sampling std  Standard error  Percent diff\n",
       "Intercept        0.236901        0.240243     -1.390859\n",
       "C(SEX)[T.2]      0.035600        0.031057     14.629106\n",
       "AGE              0.005769        0.005153     11.939358\n",
       "AGE2             0.000061        0.000053     15.337773\n",
       "EDUC             0.031469        0.031193      0.884552\n",
       "EDUC2            0.001173        0.001166      0.613167"
      ]
     },
     "execution_count": 32,
     "metadata": {},
     "output_type": "execute_result"
    }
   ],
   "source": [
    "standard_errors(sampling_dist3, result_hat)"
   ]
  },
  {
   "cell_type": "markdown",
   "metadata": {},
   "source": [
    "Now we have four ways to compute sampling distributions, confidence intervals, and standard errors -- and they yield different results. So you might wonder..."
   ]
  },
  {
   "cell_type": "markdown",
   "metadata": {},
   "source": [
    "## Which One Is Right?\n",
    "\n",
    "None of them are right.\n",
    "They are based on different models of the sampling process, so they quantify different sources of uncertainty.\n",
    "\n",
    "In some cases we might find that different methods converge on the same results, asymptotically, under certain assumptions.\n",
    "But that doesn't really matter, because with finite data sets, the results are not generally the same.\n",
    "So the important question is whether the differences are big enough to matter in practice.\n",
    "\n",
    "In this example, it is easy to implement multiple models and compare the results.\n",
    "If they were substantially different, we would need to think more carefully about the modeling assumptions they are based on and choose the one we think is the best description of the data-generating process.\n",
    "\n",
    "But in this example, the differences are small enough that they probably don't matter in practice.\n",
    "So we are free to choose whichever is easiest to implement, or fastest to compute, or convenient in some other way.\n",
    "\n",
    "It is a common error to presume that the result of an analytic method is uniquely correct, and that results from computational methods like resampling are approximations to it.\n",
    "Analytic methods are often fast to compute, but they are always based on modeling assumptions and usually based on approximations, so they are no more correct than computational methods."
   ]
  },
  {
   "cell_type": "markdown",
   "metadata": {},
   "source": [
    "Copyright 2023 Allen Downey\n",
    "\n",
    "[Attribution-NonCommercial-ShareAlike 4.0 International (CC BY-NC-SA 4.0)](https://creativecommons.org/licenses/by-nc-sa/4.0/)"
   ]
  }
 ],
 "metadata": {
  "kernelspec": {
   "display_name": "Python 3 (ipykernel)",
   "language": "python",
   "name": "python3"
  },
  "language_info": {
   "codemirror_mode": {
    "name": "ipython",
    "version": 3
   },
   "file_extension": ".py",
   "mimetype": "text/x-python",
   "name": "python",
   "nbconvert_exporter": "python",
   "pygments_lexer": "ipython3",
   "version": "3.7.7"
  }
 },
 "nbformat": 4,
 "nbformat_minor": 4
}
