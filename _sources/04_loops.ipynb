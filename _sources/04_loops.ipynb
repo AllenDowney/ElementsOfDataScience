{
 "cells": [
  {
   "cell_type": "markdown",
   "metadata": {},
   "source": [
    "Printed copies of *Elements of Data Science* are available now, with a **full color interior**, from [Lulu.com](https://www.lulu.com/shop/allen-downey/elements-of-data-science/paperback/product-9dyrwn.html)."
   ]
  },
  {
   "cell_type": "markdown",
   "metadata": {},
   "source": [
    "# Loops and Files"
   ]
  },
  {
   "cell_type": "markdown",
   "metadata": {
    "tags": [
     "remove-print"
    ]
   },
   "source": [
    "[Click here to run this notebook on Colab](https://colab.research.google.com/github/AllenDowney/ElementsOfDataScience/blob/v1/04_loops.ipynb)."
   ]
  },
  {
   "cell_type": "code",
   "execution_count": 1,
   "metadata": {
    "tags": [
     "remove-cell"
    ]
   },
   "outputs": [],
   "source": [
    "from os.path import basename, exists\n",
    "\n",
    "def download(url):\n",
    "    filename = basename(url)\n",
    "    if not exists(filename):\n",
    "        from urllib.request import urlretrieve\n",
    "\n",
    "        local, _ = urlretrieve(url, filename)\n",
    "        print(\"Downloaded \" + str(local))\n",
    "    return filename\n",
    "\n",
    "download('https://github.com/AllenDowney/ElementsOfDataScience/raw/v1/utils.py')\n",
    "\n",
    "import utils"
   ]
  },
  {
   "cell_type": "markdown",
   "metadata": {},
   "source": [
    "This chapter presents loops, which are used to perform repeated computation, and files, which are used to store data.\n",
    "As an example, we will download the famous book *War and Peace* and write a loop that reads the book and counts the words.\n",
    "This example presents some new computational tools -- it is also an introduction to working with textual data."
   ]
  },
  {
   "cell_type": "markdown",
   "metadata": {},
   "source": [
    "## Loops\n",
    "\n",
    "One of the most important elements of computation is repetition, and the most common way to perform repetitive computations is a `for` loop.\n",
    "As a simple example, suppose we want to display the elements of a tuple.  Here's a tuple of three integers:"
   ]
  },
  {
   "cell_type": "code",
   "execution_count": 2,
   "metadata": {},
   "outputs": [],
   "source": [
    "t = (1, 2, 3)"
   ]
  },
  {
   "cell_type": "markdown",
   "metadata": {},
   "source": [
    "And here's a `for` loop that prints the elements."
   ]
  },
  {
   "cell_type": "code",
   "execution_count": 3,
   "metadata": {},
   "outputs": [
    {
     "name": "stdout",
     "output_type": "stream",
     "text": [
      "1\n",
      "2\n",
      "3\n"
     ]
    }
   ],
   "source": [
    "for x in t:\n",
    "    print(x)"
   ]
  },
  {
   "cell_type": "markdown",
   "metadata": {},
   "source": [
    "The first line of the loop is a **header** that specifies the tuple, `t`, and a variable name, `x`.  The tuple must already exists, but if `x` does not, the loop will create it.  Note that the header ends with a colon, `:`.\n",
    "\n",
    "Inside the loop is a `print` statement, which displays the value of `x`. So here's what happens:\n",
    "\n",
    "1. When the loop starts, it gets the first element of `t`, which is `1`, and assigns it to `x`.  It executes the `print` statement, which displays the value `1`.\n",
    "\n",
    "2. Then it gets the second element of `t`, which is `2`, and displays it.\n",
    "\n",
    "3. Then it gets the third element of `t`, which is `3`, and displays it.\n",
    "\n",
    "After printing the last element of the tuple, the loop ends.\n",
    "We can also loop through the letters in a string:"
   ]
  },
  {
   "cell_type": "code",
   "execution_count": 4,
   "metadata": {},
   "outputs": [
    {
     "name": "stdout",
     "output_type": "stream",
     "text": [
      "D\n",
      "a\n",
      "t\n",
      "a\n"
     ]
    }
   ],
   "source": [
    "word = 'Data'\n",
    "\n",
    "for letter in word:\n",
    "    print(letter)"
   ]
  },
  {
   "cell_type": "markdown",
   "metadata": {},
   "source": [
    "When the loop begins, `word` already exists, but `letter` does not.\n",
    "Again, the loop creates `letter` and assigns values to it.\n",
    "The variable created by the loop is called the **loop variable**.\n",
    "You can give it any name you like -- in this example, I chose `letter` to remind me what kind of value it contains.\n",
    "After the loop ends, the loop variable contains the last value."
   ]
  },
  {
   "cell_type": "code",
   "execution_count": 5,
   "metadata": {},
   "outputs": [
    {
     "data": {
      "text/plain": [
       "'a'"
      ]
     },
     "execution_count": 5,
     "metadata": {},
     "output_type": "execute_result"
    }
   ],
   "source": [
    "letter"
   ]
  },
  {
   "cell_type": "markdown",
   "metadata": {},
   "source": [
    "**Exercise:** Create a list called `sequence` with four elements of any type.\n",
    "Write a `for` loop that prints the elements. \n",
    "Call the loop variable `element`."
   ]
  },
  {
   "cell_type": "code",
   "execution_count": 6,
   "metadata": {
    "tags": [
     "remove-cell"
    ]
   },
   "outputs": [
    {
     "name": "stdout",
     "output_type": "stream",
     "text": [
      "1\n",
      "two\n",
      "3.14159\n",
      "(4, 5)\n"
     ]
    }
   ],
   "source": [
    "# Solution\n",
    "\n",
    "sequence = [1, 'two', 3.14159, (4,5)]\n",
    "\n",
    "for element in sequence:\n",
    "    print(element)"
   ]
  },
  {
   "cell_type": "markdown",
   "metadata": {},
   "source": [
    "## Counting with Loops\n",
    "\n",
    "Inside a loop, it is common to use a variable to count the number of times something happens.\n",
    "We've already seen that you can create a variable and give it a value, like this:"
   ]
  },
  {
   "cell_type": "code",
   "execution_count": 7,
   "metadata": {},
   "outputs": [
    {
     "data": {
      "text/plain": [
       "0"
      ]
     },
     "execution_count": 7,
     "metadata": {},
     "output_type": "execute_result"
    }
   ],
   "source": [
    "count = 0\n",
    "count"
   ]
  },
  {
   "cell_type": "markdown",
   "metadata": {},
   "source": [
    "If you assign a different value to the same variable, the new value replaces the old one."
   ]
  },
  {
   "cell_type": "code",
   "execution_count": 8,
   "metadata": {},
   "outputs": [
    {
     "data": {
      "text/plain": [
       "1"
      ]
     },
     "execution_count": 8,
     "metadata": {},
     "output_type": "execute_result"
    }
   ],
   "source": [
    "count = 1\n",
    "count"
   ]
  },
  {
   "cell_type": "markdown",
   "metadata": {},
   "source": [
    "You can increase the value of a variable by reading the old value, adding `1`, and assigning the result back to the original variable."
   ]
  },
  {
   "cell_type": "code",
   "execution_count": 9,
   "metadata": {},
   "outputs": [
    {
     "data": {
      "text/plain": [
       "2"
      ]
     },
     "execution_count": 9,
     "metadata": {},
     "output_type": "execute_result"
    }
   ],
   "source": [
    "count = count + 1\n",
    "count"
   ]
  },
  {
   "cell_type": "markdown",
   "metadata": {},
   "source": [
    "Increasing the value of a variable is called **incrementing** and decreasing the value is called **decrementing**.\n",
    "These operations are so common that there are special operators for them."
   ]
  },
  {
   "cell_type": "code",
   "execution_count": 10,
   "metadata": {},
   "outputs": [
    {
     "data": {
      "text/plain": [
       "3"
      ]
     },
     "execution_count": 10,
     "metadata": {},
     "output_type": "execute_result"
    }
   ],
   "source": [
    "count += 1\n",
    "count"
   ]
  },
  {
   "cell_type": "markdown",
   "metadata": {},
   "source": [
    "In this example, the `+=` operator reads the value of `count`, adds `1`, and assigns the result back to `count`.\n",
    "Python also provides `-=` and other update operators like `*=` and `/=`."
   ]
  },
  {
   "cell_type": "markdown",
   "metadata": {},
   "source": [
    "**Exercise:** The following is a number trick from the website *Learn With Math Games*:\n",
    "\n",
    "> *Finding Someone's Age*\n",
    ">\n",
    "> * Ask the person to multiply the first number of their age by 5.\n",
    ">\n",
    "> * Tell them to add 3.\n",
    ">\n",
    "> * Now tell them to double this figure.\n",
    ">\n",
    "> * Finally, have the person add the second number of their age to the figure and have them tell you the answer.\n",
    ">\n",
    "> * Deduct 6 and you will have their age.\n",
    "\n",
    "Test this algorithm using your age.\n",
    "Use a single variable and update it using `+=` and other update operators."
   ]
  },
  {
   "cell_type": "markdown",
   "metadata": {
    "tags": [
     "remove-print"
    ]
   },
   "source": [
    "The original game is at <https://www.learn-with-math-games.com/math-number-tricks.html>"
   ]
  },
  {
   "cell_type": "code",
   "execution_count": 11,
   "metadata": {
    "tags": [
     "remove-cell"
    ]
   },
   "outputs": [
    {
     "data": {
      "text/plain": [
       "56"
      ]
     },
     "execution_count": 11,
     "metadata": {},
     "output_type": "execute_result"
    }
   ],
   "source": [
    "# Solution\n",
    "\n",
    "first = 5\n",
    "second = 6\n",
    "x = first * 5\n",
    "x += 3\n",
    "x *= 2\n",
    "x += second\n",
    "x -= 6\n",
    "x"
   ]
  },
  {
   "cell_type": "markdown",
   "metadata": {},
   "source": [
    "## Files\n",
    "\n",
    "Now that we know how to count, let's see how to read words from a file.\n",
    "As an example, we'll read a file that contains the text of Tolstoy's famous novel, *War and Peace*.\n",
    "We can download it from Project Gutenberg, which is a repository of free books.\n",
    "Instructions are in the notebook for this chapter."
   ]
  },
  {
   "cell_type": "markdown",
   "metadata": {
    "tags": [
     "remove-cell"
    ]
   },
   "source": [
    "When you run the following cell, it checks to see whether you already have a file named `2600-0.txt`, which is the name of the file that contains the text of *War and Peace*.\n",
    "If not, it copies the file to your computer.\n",
    "The file is [originally from Project Gutenberg](https://www.gutenberg.org/files/2600/2600-0.txt), but I put a slightly cleaned up version of it in the repository for this book."
   ]
  },
  {
   "cell_type": "code",
   "execution_count": 12,
   "metadata": {
    "tags": [
     "remove-cell"
    ]
   },
   "outputs": [],
   "source": [
    "download('https://github.com/AllenDowney/ElementsOfDataScience/raw/v1/data/2600-0.txt');"
   ]
  },
  {
   "cell_type": "markdown",
   "metadata": {
    "tags": [
     "remove-cell"
    ]
   },
   "source": [
    "If you are running this notebook on Colab, it will copy the file to a \"virtual file system\" on Colab, which means it will disappear if you leave the notebook idle for a while.  In that case, you can download it again later."
   ]
  },
  {
   "cell_type": "markdown",
   "metadata": {},
   "source": [
    "In order to read the contents of the file, you have to **open** it, which you can do with the `open` function."
   ]
  },
  {
   "cell_type": "code",
   "execution_count": 13,
   "metadata": {
    "tags": [
     "remove-cell"
    ]
   },
   "outputs": [],
   "source": [
    "# On Windows, it might be necessary to specify the encoding \n",
    "\n",
    "# fp = open('2600-0.txt', encoding='utf-8')"
   ]
  },
  {
   "cell_type": "code",
   "execution_count": 14,
   "metadata": {},
   "outputs": [
    {
     "data": {
      "text/plain": [
       "<_io.TextIOWrapper name='2600-0.txt' mode='r' encoding='UTF-8'>"
      ]
     },
     "execution_count": 14,
     "metadata": {},
     "output_type": "execute_result"
    }
   ],
   "source": [
    "fp = open('2600-0.txt')\n",
    "fp"
   ]
  },
  {
   "cell_type": "markdown",
   "metadata": {},
   "source": [
    "The result is a `TextIOWrapper`, which is a type of **file pointer**.\n",
    "It contains the name of the file, the mode (which is `r` for \"reading\") and the encoding (which is `UTF` for \"Unicode Transformation Format\").\n",
    "A file pointer is like a bookmark -- it keeps track of which parts of the file you have read.\n",
    "\n",
    "If you use a file pointer in a `for` loop, it loops through the lines in the file.\n",
    "So we can count the number of lines like this:"
   ]
  },
  {
   "cell_type": "code",
   "execution_count": 15,
   "metadata": {},
   "outputs": [],
   "source": [
    "fp = open('2600-0.txt')\n",
    "count = 0\n",
    "for line in fp:\n",
    "    count += 1"
   ]
  },
  {
   "cell_type": "markdown",
   "metadata": {},
   "source": [
    "And then display the result."
   ]
  },
  {
   "cell_type": "code",
   "execution_count": 16,
   "metadata": {},
   "outputs": [
    {
     "data": {
      "text/plain": [
       "66050"
      ]
     },
     "execution_count": 16,
     "metadata": {},
     "output_type": "execute_result"
    }
   ],
   "source": [
    "count"
   ]
  },
  {
   "cell_type": "markdown",
   "metadata": {},
   "source": [
    "There are about 66,000 lines in this file."
   ]
  },
  {
   "cell_type": "markdown",
   "metadata": {},
   "source": [
    "## if Statements\n",
    "\n",
    "`if` statements are used to check whether a condition is true and, depending on the result, perform different computations.\n",
    "A condition is an expression whose value is either `True` or `False`.\n",
    "For example, the following expression compares the final value of `count` to a number:"
   ]
  },
  {
   "cell_type": "code",
   "execution_count": 17,
   "metadata": {},
   "outputs": [
    {
     "data": {
      "text/plain": [
       "True"
      ]
     },
     "execution_count": 17,
     "metadata": {},
     "output_type": "execute_result"
    }
   ],
   "source": [
    "count > 60000"
   ]
  },
  {
   "cell_type": "markdown",
   "metadata": {},
   "source": [
    "For *War and Peace*, the result is `True`.\n",
    "We can use this condition in an `if` statement to display a message, or not, depending on the result."
   ]
  },
  {
   "cell_type": "code",
   "execution_count": 18,
   "metadata": {},
   "outputs": [
    {
     "name": "stdout",
     "output_type": "stream",
     "text": [
      "Long book!\n"
     ]
    }
   ],
   "source": [
    "if count > 60000:\n",
    "    print('Long book!')"
   ]
  },
  {
   "cell_type": "markdown",
   "metadata": {},
   "source": [
    "The first line specifies the condition we're checking for.\n",
    "Like the header of a `for` statement, the first line of an `if` statement has to end with a colon.\n",
    "\n",
    "If the condition is true, the indented statement runs; otherwise, it doesn't.\n",
    "In the previous example, the condition is true, so the `print` statement runs.\n",
    "In the following example, the condition is false, so the `print` statement doesn't run."
   ]
  },
  {
   "cell_type": "code",
   "execution_count": 19,
   "metadata": {},
   "outputs": [],
   "source": [
    "if count < 1000:\n",
    "    print('Short book!')"
   ]
  },
  {
   "cell_type": "markdown",
   "metadata": {},
   "source": [
    "We can put an `if` statement inside a `for` loop. \n",
    "The following example only prints a line from the book when `count` is `0`.\n",
    "The other lines are read, but not displayed."
   ]
  },
  {
   "cell_type": "code",
   "execution_count": 20,
   "metadata": {},
   "outputs": [
    {
     "name": "stdout",
     "output_type": "stream",
     "text": [
      "The Project Gutenberg EBook of War and Peace, by Leo Tolstoy\n",
      "\n"
     ]
    }
   ],
   "source": [
    "fp = open('2600-0.txt')\n",
    "count = 0\n",
    "for line in fp:\n",
    "    if count == 0:\n",
    "        print(line)\n",
    "    count += 1"
   ]
  },
  {
   "cell_type": "markdown",
   "metadata": {},
   "source": [
    "Notice that we use `==` to compare values and check if they are equal, not `=`, which is used in assignment statements. Also, notice the indentation in this example:\n",
    "\n",
    "* Statements inside the `for` loop are indented.\n",
    "\n",
    "* The statement inside the `if` statement is indented.\n",
    "\n",
    "* The statement `count += 1` is **outdented** from the previous line, so it ends the `if` statement.  But it is still inside the `for` loop.\n",
    "\n",
    "It is legal in Python to use spaces or tabs for indentation, but the most common convention is to use four spaces, never tabs."
   ]
  },
  {
   "cell_type": "markdown",
   "metadata": {},
   "source": [
    "## The `break` Statement\n",
    "\n",
    "If we display the final value of `count`, we see that the loop reads the entire file, but only prints one line:"
   ]
  },
  {
   "cell_type": "code",
   "execution_count": 21,
   "metadata": {},
   "outputs": [
    {
     "data": {
      "text/plain": [
       "66050"
      ]
     },
     "execution_count": 21,
     "metadata": {},
     "output_type": "execute_result"
    }
   ],
   "source": [
    "count"
   ]
  },
  {
   "cell_type": "markdown",
   "metadata": {},
   "source": [
    "We can avoid reading the whole file by using a `break` statement, like this:"
   ]
  },
  {
   "cell_type": "code",
   "execution_count": 22,
   "metadata": {},
   "outputs": [
    {
     "name": "stdout",
     "output_type": "stream",
     "text": [
      "The Project Gutenberg EBook of War and Peace, by Leo Tolstoy\n",
      "\n"
     ]
    }
   ],
   "source": [
    "fp = open('2600-0.txt')\n",
    "count = 0\n",
    "for line in fp:\n",
    "    print(line)\n",
    "    count += 1\n",
    "    if count == 1:\n",
    "        break"
   ]
  },
  {
   "cell_type": "markdown",
   "metadata": {},
   "source": [
    "The `break` statement ends the loop immediately, skipping the rest of the file, as we can confirm by checking the final value of `count`."
   ]
  },
  {
   "cell_type": "code",
   "execution_count": 23,
   "metadata": {},
   "outputs": [
    {
     "data": {
      "text/plain": [
       "1"
      ]
     },
     "execution_count": 23,
     "metadata": {},
     "output_type": "execute_result"
    }
   ],
   "source": [
    "count"
   ]
  },
  {
   "cell_type": "markdown",
   "metadata": {},
   "source": [
    "**Exercise:** Write a loop that prints the first 5 lines of the file and then breaks out of the loop."
   ]
  },
  {
   "cell_type": "code",
   "execution_count": 24,
   "metadata": {
    "tags": [
     "remove-cell"
    ]
   },
   "outputs": [
    {
     "name": "stdout",
     "output_type": "stream",
     "text": [
      "The Project Gutenberg EBook of War and Peace, by Leo Tolstoy\n",
      "\n",
      "\n",
      "\n",
      "This eBook is for the use of anyone anywhere at no cost and with almost\n",
      "\n",
      "no restrictions whatsoever. You may copy it, give it away or re-use\n",
      "\n",
      "it under the terms of the Project Gutenberg License included with this\n",
      "\n"
     ]
    }
   ],
   "source": [
    "# Solution\n",
    "\n",
    "fp = open('2600-0.txt')\n",
    "count = 0\n",
    "for line in fp:\n",
    "    print(line)\n",
    "    count += 1\n",
    "    if count == 5:\n",
    "        break"
   ]
  },
  {
   "cell_type": "markdown",
   "metadata": {},
   "source": [
    "## Whitespace\n",
    "\n",
    "If we run the loop again and display the final value of `line`, we see the special sequence `\\n` at the end."
   ]
  },
  {
   "cell_type": "code",
   "execution_count": 25,
   "metadata": {},
   "outputs": [
    {
     "data": {
      "text/plain": [
       "'The Project Gutenberg EBook of War and Peace, by Leo Tolstoy\\n'"
      ]
     },
     "execution_count": 25,
     "metadata": {},
     "output_type": "execute_result"
    }
   ],
   "source": [
    "fp = open('2600-0.txt')\n",
    "count = 0\n",
    "for line in fp:\n",
    "    count += 1\n",
    "    if count == 1:\n",
    "        break\n",
    "\n",
    "line"
   ]
  },
  {
   "cell_type": "markdown",
   "metadata": {},
   "source": [
    "This sequence represents a single character, called a **newline**, that puts vertical space between lines.\n",
    "If we use a `print` statement to display `line`, we don't see the special sequence, but we do see extra space after the line."
   ]
  },
  {
   "cell_type": "code",
   "execution_count": 26,
   "metadata": {},
   "outputs": [
    {
     "name": "stdout",
     "output_type": "stream",
     "text": [
      "The Project Gutenberg EBook of War and Peace, by Leo Tolstoy\n",
      "\n"
     ]
    }
   ],
   "source": [
    "print(line)"
   ]
  },
  {
   "cell_type": "markdown",
   "metadata": {},
   "source": [
    "In other strings, you might see the sequence `\\t`, which represents a tab character.\n",
    "When you print a tab character, it adds enough space to make the next character appear in a column that is a multiple of 8."
   ]
  },
  {
   "cell_type": "code",
   "execution_count": 27,
   "metadata": {},
   "outputs": [
    {
     "name": "stdout",
     "output_type": "stream",
     "text": [
      "|       |       |       |       |       |       \n",
      "a\tbc\tdef\tghij\tklmno\tpqrstu\n"
     ]
    }
   ],
   "source": [
    "print('|       ' * 6)\n",
    "print('a\\tbc\\tdef\\tghij\\tklmno\\tpqrstu')"
   ]
  },
  {
   "cell_type": "markdown",
   "metadata": {},
   "source": [
    "Newline characters, tabs, and spaces are called **whitespace** because when they are printed they leave white space on the page (assuming that the background color is white)."
   ]
  },
  {
   "cell_type": "markdown",
   "metadata": {},
   "source": [
    "## Counting Words\n",
    "\n",
    "So far we've counted the lines in a file -- now let's count the words.\n",
    "To split a line into words, we can use a function called `split` that takes a string and returns a list of words.\n",
    "To be more precise, `split` doesn't actually know what a word is -- it just splits the line wherever there's a space or other whitespace character."
   ]
  },
  {
   "cell_type": "code",
   "execution_count": 28,
   "metadata": {},
   "outputs": [
    {
     "data": {
      "text/plain": [
       "['The',\n",
       " 'Project',\n",
       " 'Gutenberg',\n",
       " 'EBook',\n",
       " 'of',\n",
       " 'War',\n",
       " 'and',\n",
       " 'Peace,',\n",
       " 'by',\n",
       " 'Leo',\n",
       " 'Tolstoy']"
      ]
     },
     "execution_count": 28,
     "metadata": {},
     "output_type": "execute_result"
    }
   ],
   "source": [
    "line.split()"
   ]
  },
  {
   "cell_type": "markdown",
   "metadata": {},
   "source": [
    "Notice that the syntax for `split` is different from other functions we have seen.  Normally when we call a function, we name the function and provide values in parentheses.  So you might have expected to write `split(line)`.  Sadly, that doesn't work."
   ]
  },
  {
   "cell_type": "code",
   "execution_count": 29,
   "metadata": {
    "tags": [
     "raises-exception"
    ]
   },
   "outputs": [
    {
     "ename": "NameError",
     "evalue": "name 'split' is not defined",
     "output_type": "error",
     "traceback": [
      "\u001b[0;31mNameError\u001b[0m\u001b[0;31m:\u001b[0m name 'split' is not defined\n"
     ]
    }
   ],
   "source": [
    "%%expect NameError\n",
    "\n",
    "split(line)"
   ]
  },
  {
   "cell_type": "markdown",
   "metadata": {},
   "source": [
    "The problem is that the `split` function belongs to the string `line`.\n",
    "In a sense, the function is attached to the string, so we can only refer to it using the string and the **dot operator**, which is the period between `line` and `split`.\n",
    "For historical reasons, functions like this are called **methods**.\n",
    "\n",
    "Now that we can split a line into a list of words, we can use `len` to get the number of words in each list, and increment `count` accordingly."
   ]
  },
  {
   "cell_type": "code",
   "execution_count": 30,
   "metadata": {},
   "outputs": [
    {
     "data": {
      "text/plain": [
       "566316"
      ]
     },
     "execution_count": 30,
     "metadata": {},
     "output_type": "execute_result"
    }
   ],
   "source": [
    "fp = open('2600-0.txt')\n",
    "count = 0\n",
    "for line in fp:\n",
    "    count += len(line.split())\n",
    "\n",
    "count"
   ]
  },
  {
   "cell_type": "markdown",
   "metadata": {},
   "source": [
    "By this count, there are more than half a million words in *War and Peace*.\n",
    "\n",
    "Actually, there aren't quite that many, because the file we got from Project Gutenberg has some introductory material before the text and some license information at the end.\n",
    "To mark the beginning and end of the text, the file includes special lines that begin with `'***'`.\n",
    "We can identify these lines with the `startswith` function, which checks whether a string begins with a particular sequence of characters."
   ]
  },
  {
   "cell_type": "code",
   "execution_count": 31,
   "metadata": {},
   "outputs": [
    {
     "data": {
      "text/plain": [
       "True"
      ]
     },
     "execution_count": 31,
     "metadata": {},
     "output_type": "execute_result"
    }
   ],
   "source": [
    "line = '*** START OF THIS PROJECT GUTENBERG EBOOK WAR AND PEACE ***'\n",
    "line.startswith('***')"
   ]
  },
  {
   "cell_type": "markdown",
   "metadata": {},
   "source": [
    "To skip the front matter, we can use a loop to read lines until it finds the first line that starts with this sequence.\n",
    "\n",
    "Then we can use a second loop to read lines and count words until it finds the second line that starts with this sequence."
   ]
  },
  {
   "cell_type": "code",
   "execution_count": 32,
   "metadata": {},
   "outputs": [
    {
     "name": "stdout",
     "output_type": "stream",
     "text": [
      "*** START OF THIS PROJECT GUTENBERG EBOOK WAR AND PEACE ***\n",
      "\n",
      "*** END OF THIS PROJECT GUTENBERG EBOOK WAR AND PEACE ***\n",
      "\n"
     ]
    }
   ],
   "source": [
    "fp = open('2600-0.txt')\n",
    "for line in fp:\n",
    "    if line.startswith('***'):\n",
    "        print(line)\n",
    "        break\n",
    "\n",
    "count = 0\n",
    "for line in fp:\n",
    "    if line.startswith('***'):\n",
    "        print(line)\n",
    "        break\n",
    "    count += len(line.split())"
   ]
  },
  {
   "cell_type": "markdown",
   "metadata": {},
   "source": [
    "When the second loop exits, `count` contains the number of words in the text."
   ]
  },
  {
   "cell_type": "code",
   "execution_count": 33,
   "metadata": {},
   "outputs": [
    {
     "data": {
      "text/plain": [
       "563299"
      ]
     },
     "execution_count": 33,
     "metadata": {},
     "output_type": "execute_result"
    }
   ],
   "source": [
    "count"
   ]
  },
  {
   "cell_type": "markdown",
   "metadata": {},
   "source": [
    "## Summary\n",
    "\n",
    "This chapter presents loops, `if` statements, and the `break` statement.\n",
    "It also introduces tools for working with letters and words, and a simple kind of textual analysis, word counting.\n",
    "\n",
    "In the next chapter we'll continue this example, counting the number of unique words in a text and the number of times each word appears.\n",
    "And we'll see another way to represent a collection of values, a Python dictionary."
   ]
  },
  {
   "cell_type": "markdown",
   "metadata": {
    "tags": [
     "remove-cell"
    ]
   },
   "source": [
    "*Elements of Data Science*\n",
    "\n",
    "Copyright 2021 [Allen B. Downey](https://allendowney.com)\n",
    "\n",
    "License: [Creative Commons Attribution-NonCommercial-ShareAlike 4.0 International](https://creativecommons.org/licenses/by-nc-sa/4.0/)"
   ]
  }
 ],
 "metadata": {
  "celltoolbar": "Tags",
  "kernelspec": {
   "display_name": "Python 3 (ipykernel)",
   "language": "python",
   "name": "python3"
  },
  "language_info": {
   "codemirror_mode": {
    "name": "ipython",
    "version": 3
   },
   "file_extension": ".py",
   "mimetype": "text/x-python",
   "name": "python",
   "nbconvert_exporter": "python",
   "pygments_lexer": "ipython3",
   "version": "3.10.14"
  }
 },
 "nbformat": 4,
 "nbformat_minor": 2
}
