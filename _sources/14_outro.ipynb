{
 "cells": [
  {
   "cell_type": "markdown",
   "id": "189bde3b",
   "metadata": {},
   "source": [
    "Printed copies of *Elements of Data Science* are available now, with a **full color interior**, from [Lulu.com](https://www.lulu.com/shop/allen-downey/elements-of-data-science/paperback/product-9dyrwn.html)."
   ]
  },
  {
   "cell_type": "markdown",
   "id": "a6e929cb",
   "metadata": {},
   "source": [
    "# Further Reading"
   ]
  },
  {
   "cell_type": "markdown",
   "id": "2500613a",
   "metadata": {},
   "source": [
    "The first part of this book is an accelerated introduction to Python with emphasis on tools for working with data.\n",
    "One of the benefits of learning Python is that it useful for many other kinds of computing, not just data science.\n",
    "If you would like to learn more about Python, there are a lot of good books and online resources, but if the style of this book works well for you, you might like *Think Python*, also by Allen Downey and published by O'Reilly Media."
   ]
  },
  {
   "cell_type": "markdown",
   "id": "651b6f50",
   "metadata": {},
   "source": [
    "If you are interested in scientific computing, you might like *Modeling and Simulation in Python*, published by No Starch Press.\n",
    "It is an introduction to Python focused on modeling and simulating physical systems.\n",
    "It explores a range of topics including population growth, infectious disease, and simple mechanical systems."
   ]
  },
  {
   "cell_type": "markdown",
   "id": "2f0a4fe1",
   "metadata": {},
   "source": [
    "The second part of this book is about exploratory data analysis and visualization.\n",
    "If you are interested in exploratory data analysis, you might also like *Think Stats: Exploratory Data Analysis in Python*, published by O'Reilly Media.\n",
    "If you are interested in data visualization, you might like Nathan Yau's blog, *FlowingData*, and his books, *Visualize This* and *Data Points*."
   ]
  },
  {
   "cell_type": "markdown",
   "id": "3eeb9df9",
   "metadata": {},
   "source": [
    "The third part of this book is about statistical inference, that is, using data from a sample to estimate something about a population.\n",
    "We used resampling to quantify the precision of those estimates, and hypothesis testing to consider whether an effect we observe might be due to chance.\n",
    "I am currently working on a book called *Data Q&A: Answering the Real Questions with Python* that applies these methods to questions posted on Reddit's statistics forum.\n",
    "\n",
    "The methods I demonstrate in this book might be called conventional inference, in contrast to the alternative, which is Bayesian inference.\n",
    "If you are interested in learning more about that, you might like *Think Bayes: Bayesian Statistics in Python*, also by Allen Downey and published by O'Reilly Media."
   ]
  },
  {
   "cell_type": "markdown",
   "id": "6b534012",
   "metadata": {},
   "source": [
    "The Political Alignment case study uses data from the General Social Survey (GSS) to explore political beliefs in the United States, how they differ between groups, and how they change over time.\n",
    "If you are interested in this topic, you might like *Probably Overthinking It*, published by University of Chicago Press, which explores the GSS data in greater depth.\n",
    "It presents a variety of other topics as well, exploring, as the subtitle explains, \"How to use data to answer questions, avoid statistical traps, and make better decisions\"."
   ]
  },
  {
   "cell_type": "markdown",
   "id": "21e101ee",
   "metadata": {},
   "source": [
    "Finally, the Recidivism case study explores the use of predictive algorithms in the criminal justice system and explains the metrics we use to assess them.\n",
    "There are many books and articles on this topic, which reflect its importance because of the impact it has on people's lives, and also the difficulty of resolving conflicting requirements of fairness.\n",
    "If you would like to read more on this topic, I recommend Orly Lobel's recent book, *The Equality Machine*, which reviews many of the challenges algorithms pose while also recognizing their potential to do good."
   ]
  },
  {
   "cell_type": "markdown",
   "id": "2fc5bbe2",
   "metadata": {
    "tags": [
     "remove-print"
    ]
   },
   "source": [
    "*Elements of Data Science*\n",
    "\n",
    "Copyright 2021 [Allen B. Downey](https://allendowney.com)\n",
    "\n",
    "License: [Creative Commons Attribution-NonCommercial-ShareAlike 4.0 International](https://creativecommons.org/licenses/by-nc-sa/4.0/)"
   ]
  },
  {
   "cell_type": "code",
   "execution_count": null,
   "id": "32a90785",
   "metadata": {},
   "outputs": [],
   "source": []
  }
 ],
 "metadata": {
  "celltoolbar": "Tags",
  "kernelspec": {
   "display_name": "Python 3 (ipykernel)",
   "language": "python",
   "name": "python3"
  },
  "language_info": {
   "codemirror_mode": {
    "name": "ipython",
    "version": 3
   },
   "file_extension": ".py",
   "mimetype": "text/x-python",
   "name": "python",
   "nbconvert_exporter": "python",
   "pygments_lexer": "ipython3",
   "version": "3.10.14"
  }
 },
 "nbformat": 4,
 "nbformat_minor": 5
}
