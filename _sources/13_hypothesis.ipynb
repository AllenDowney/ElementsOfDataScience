{
 "cells": [
  {
   "cell_type": "markdown",
   "metadata": {},
   "source": [
    "# Hypothesis Testing"
   ]
  },
  {
   "cell_type": "markdown",
   "metadata": {
    "tags": [
     "remove-cell"
    ]
   },
   "source": [
    "*Elements of Data Science*\n",
    "\n",
    "Copyright 2021 [Allen B. Downey](https://allendowney.com)\n",
    "\n",
    "License: [Creative Commons Attribution-NonCommercial-ShareAlike 4.0 International](https://creativecommons.org/licenses/by-nc-sa/4.0/)"
   ]
  },
  {
   "cell_type": "markdown",
   "metadata": {
    "tags": [
     "remove-print"
    ]
   },
   "source": [
    "[Click here to run this notebook on Colab](https://colab.research.google.com/github/AllenDowney/ElementsOfDataScience/blob/master/13_hypothesis.ipynb) or\n",
    "[click here to download it](https://github.com/AllenDowney/ElementsOfDataScience/raw/master/13_hypothesis.ipynb)."
   ]
  },
  {
   "cell_type": "markdown",
   "metadata": {},
   "source": [
    "This chapter introduces hypothesis testing, which has been a controversial topic in the last decade or so.\n",
    "What I present here is different from what you might see in a statistics book.\n",
    "Instead of mathematical analysis, we will use computational simulations.\n",
    "This approach has two advantages and one disadvantage:\n",
    "\n",
    "* PRO: The standard statistics curriculum includes many different tests, and many people find it hard to remember which one to use. In my opinion, simulation makes it clearer that there is only one testing framework.\n",
    "\n",
    "* PRO: Simulations make modeling decision explicit.  All statistical methods are based on models, but when we use mathematical methods, it is easy to forget the assumptions they are based on. With computation, the assumptions are more visible, and it is easier to try different models.\n",
    "\n",
    "* CON: Simulation uses a lot of computation. Some of the examples in this notebook take several seconds to run and the results are only approximate. For some problems, there are analytic methods that are faster and more accurate.\n",
    "\n",
    "The examples in this chapter include results from a clinical trial related to peanut allergies, and survey data from the National Survey of Family Growth (NSFG) and the Behavioral Risk Factor Surveillance System (BRFSS)."
   ]
  },
  {
   "cell_type": "markdown",
   "metadata": {},
   "source": [
    "## Peanut Allergies\n",
    "\n",
    "The LEAP study was a randomized trial that tested the effect of eating peanut snacks on the development of peanut allergies (see <http://www.leapstudy.co.uk/leap-0#.YEJax3VKikA>).\n",
    "The subjects were infants who were at high risk of developing peanut allergies because they had been diagnosed with other food allergies.\n",
    "Over a period of several years, half of the subjects were periodically given a snack containing peanuts; the other half were given no peanuts at all.\n",
    "\n",
    "The conclusion of the study, reported in 2015 is:\n",
    "\n",
    "> Of the children who avoided peanut, 17% developed peanut allergy by the age of 5 years. Remarkably, only 3% of the children who were randomized to eating the peanut snack developed allergy by age 5. Therefore, in high-risk infants, sustained consumption of peanut beginning in the first 11 months of life was highly effective in preventing the development of peanut allergy."
   ]
  },
  {
   "cell_type": "markdown",
   "metadata": {},
   "source": [
    "These results seem impressive, but as skeptical data scientists we should wonder whether it is possible that we are getting fooled by randomness.\n",
    "Maybe the apparent difference between the groups is due to chance, not the effectiveness of the treatment.\n",
    "To see whether this is likely, we will simulate the experiment using a model where the treatment has no effect, and see how often we see such a big difference between the groups."
   ]
  },
  {
   "cell_type": "markdown",
   "metadata": {},
   "source": [
    "Detailed results of the study are reported in the *New England Journal of Medicine* (see <https://www.nejm.org/doi/full/10.1056/NEJMoa1414850>).\n",
    "In that article, Figure 1 shows the number of subjects in the treatment and control groups, which happened to be equal."
   ]
  },
  {
   "cell_type": "code",
   "execution_count": 1,
   "metadata": {},
   "outputs": [],
   "source": [
    "n_control = 314\n",
    "n_treatment = 314"
   ]
  },
  {
   "cell_type": "markdown",
   "metadata": {},
   "source": [
    "And from Figure 2 we can extract the number of subjects who developed peanut allergies in each group.\n",
    "Specifically, we'll use the numbers from the \"intention to treat analysis for both cohorts\"."
   ]
  },
  {
   "cell_type": "code",
   "execution_count": 2,
   "metadata": {},
   "outputs": [],
   "source": [
    "k_control = 54\n",
    "k_treatment = 10"
   ]
  },
  {
   "cell_type": "markdown",
   "metadata": {},
   "source": [
    "Using these numbers, we can compute the risk in each group as a percentage."
   ]
  },
  {
   "cell_type": "code",
   "execution_count": 3,
   "metadata": {},
   "outputs": [
    {
     "data": {
      "text/plain": [
       "17.197452229299362"
      ]
     },
     "execution_count": 3,
     "metadata": {},
     "output_type": "execute_result"
    }
   ],
   "source": [
    "risk_control = k_control / n_control * 100\n",
    "risk_control"
   ]
  },
  {
   "cell_type": "code",
   "execution_count": 4,
   "metadata": {},
   "outputs": [
    {
     "data": {
      "text/plain": [
       "3.1847133757961785"
      ]
     },
     "execution_count": 4,
     "metadata": {},
     "output_type": "execute_result"
    }
   ],
   "source": [
    "risk_treatment = k_treatment / n_treatment * 100\n",
    "risk_treatment"
   ]
  },
  {
   "cell_type": "markdown",
   "metadata": {},
   "source": [
    "These are consistent with the percentages reported in the paper.\n",
    "To quantify the difference between the groups, we'll use relative risk, which is the ratio of the risks in the two groups."
   ]
  },
  {
   "cell_type": "code",
   "execution_count": 5,
   "metadata": {},
   "outputs": [
    {
     "data": {
      "text/plain": [
       "0.1851851851851852"
      ]
     },
     "execution_count": 5,
     "metadata": {},
     "output_type": "execute_result"
    }
   ],
   "source": [
    "relative_risk_actual = risk_treatment / risk_control\n",
    "relative_risk_actual"
   ]
  },
  {
   "cell_type": "markdown",
   "metadata": {},
   "source": [
    "The risk in the treatment group is about 18% of the risk in the control group.\n",
    "So it seems like the treatment is highly effective.\n",
    "To check, let's imagine a world where the treatment is completely ineffective, so the risk is actually the same in both groups, and the difference we saw is due to chance.\n",
    "If that's true, we can estimate the hypothetical risk by combining the two groups: "
   ]
  },
  {
   "cell_type": "code",
   "execution_count": 6,
   "metadata": {},
   "outputs": [
    {
     "data": {
      "text/plain": [
       "0.10191082802547771"
      ]
     },
     "execution_count": 6,
     "metadata": {},
     "output_type": "execute_result"
    }
   ],
   "source": [
    "n_all = n_control + n_treatment\n",
    "k_all = k_control + k_treatment\n",
    "risk_all = k_all / n_all\n",
    "risk_all"
   ]
  },
  {
   "cell_type": "markdown",
   "metadata": {},
   "source": [
    "If the risk is the same for both groups, it is close to 10%.\n",
    "Now we can use this hypothetical risk to simulate the experiment.\n",
    "Here's `simulate_group_percent`, which we saw in Chapter 11.\n",
    "It takes as parameters the size of the group, `n`, and the risk, `p`.\n",
    "It simulates the experiment and returns the number of cases as a percentage of the group, which is the observed risk."
   ]
  },
  {
   "cell_type": "code",
   "execution_count": 7,
   "metadata": {},
   "outputs": [],
   "source": [
    "import numpy as np\n",
    "\n",
    "def simulate_group_percent(n, p):\n",
    "    xs = np.random.random(size=n)\n",
    "    k = np.sum(xs < p)\n",
    "    return k / n * 100"
   ]
  },
  {
   "cell_type": "markdown",
   "metadata": {},
   "source": [
    "If we call this function many times, the result is a list of observed risks, one for each simulated experiment.\n",
    "Here's the list for the treatment group."
   ]
  },
  {
   "cell_type": "code",
   "execution_count": 8,
   "metadata": {
    "tags": [
     "remove-cell"
    ]
   },
   "outputs": [],
   "source": [
    "np.random.seed(17)"
   ]
  },
  {
   "cell_type": "code",
   "execution_count": 9,
   "metadata": {},
   "outputs": [],
   "source": [
    "t1 = [simulate_group_percent(n_treatment, risk_all)\n",
    "      for i in range(1000)]"
   ]
  },
  {
   "cell_type": "markdown",
   "metadata": {},
   "source": [
    "And the control group."
   ]
  },
  {
   "cell_type": "code",
   "execution_count": 10,
   "metadata": {},
   "outputs": [],
   "source": [
    "t2 = [simulate_group_percent(n_control, risk_all)\n",
    "      for i in range(1000)]"
   ]
  },
  {
   "cell_type": "markdown",
   "metadata": {},
   "source": [
    "If we divide these lists elementwise, the result is a list of relative risks, one for each simulated experiment."
   ]
  },
  {
   "cell_type": "code",
   "execution_count": 11,
   "metadata": {},
   "outputs": [],
   "source": [
    "relative_risks = np.divide(t2, t1)"
   ]
  },
  {
   "cell_type": "markdown",
   "metadata": {},
   "source": [
    "We can use a KDE plot to visualize the distribution of these results."
   ]
  },
  {
   "cell_type": "code",
   "execution_count": 12,
   "metadata": {},
   "outputs": [
    {
     "data": {
      "image/png": "[encoded data removed]",
      "text/plain": [
       "<Figure size 432x288 with 1 Axes>"
      ]
     },
     "metadata": {
      "needs_background": "light"
     },
     "output_type": "display_data"
    }
   ],
   "source": [
    "import matplotlib.pyplot as plt\n",
    "import seaborn as sns\n",
    "\n",
    "sns.kdeplot(relative_risks)\n",
    "\n",
    "plt.xlabel('Relative risk')\n",
    "plt.ylabel('Probability density')\n",
    "plt.title('Relative risks from simulation with risk_all');"
   ]
  },
  {
   "cell_type": "markdown",
   "metadata": {},
   "source": [
    "Remember that these simulations are based on the assumption that the risk is the same for both groups, so we expect the relative risk to be near 1 most of the time.\n",
    "And it is.\n",
    "\n",
    "In some simulated experiments, the relative risk is as low as 0.5 or as high as 2, which means it is plausible we could see results like that by chance, even if there is no difference between groups.\n",
    "\n",
    "But the relative risk in the actual experiment was 0.18, and we never see a result as small as that in the simulated experiment.\n",
    "We can conclude that the relative risk we saw is unlikely if the risk is actually the same in both groups."
   ]
  },
  {
   "cell_type": "markdown",
   "metadata": {},
   "source": [
    "## p-values\n",
    "\n",
    "Now suppose that in addition to the treatment and control groups, the experiment included a placebo group that was given a snack that contained no peanuts.\n",
    "Suppose this group was the same size as the others, and 42 of the subjects developed peanut allergies.\n",
    "\n",
    "To be clear, there was no third group, and I made up these numbers, but let's see how this hypothetical works out.\n",
    "Here's the risk in the placebo group."
   ]
  },
  {
   "cell_type": "code",
   "execution_count": 13,
   "metadata": {},
   "outputs": [
    {
     "data": {
      "text/plain": [
       "13.375796178343949"
      ]
     },
     "execution_count": 13,
     "metadata": {},
     "output_type": "execute_result"
    }
   ],
   "source": [
    "n_placebo = 314\n",
    "k_placebo = 42\n",
    "\n",
    "risk_placebo = k_placebo / n_placebo * 100\n",
    "risk_placebo"
   ]
  },
  {
   "cell_type": "markdown",
   "metadata": {},
   "source": [
    "And here's the relative risk compared to the control group."
   ]
  },
  {
   "cell_type": "code",
   "execution_count": 14,
   "metadata": {},
   "outputs": [
    {
     "data": {
      "text/plain": [
       "0.7777777777777778"
      ]
     },
     "execution_count": 14,
     "metadata": {},
     "output_type": "execute_result"
    }
   ],
   "source": [
    "relative_risk_placebo = risk_placebo / risk_control\n",
    "relative_risk_placebo"
   ]
  },
  {
   "cell_type": "markdown",
   "metadata": {},
   "source": [
    "The relative risk is less than 1, which means the risk in the placebo group is a bit lower than in the control group.\n",
    "So we might wonder whether the placebo was actually effective.\n",
    "To answer that question, at least partially, we can go back to the results from the simulated experiment.\n",
    "\n",
    "Under the assumption that there is actually no difference between the groups, it would not be unusual to see a relative risk as low as 0.77 by chance.\n",
    "In fact, we can compute the probability of seeing a relative risk as low or lower than `relative_risk_placebo`, even if the two groups are the same, like this:"
   ]
  },
  {
   "cell_type": "code",
   "execution_count": 15,
   "metadata": {},
   "outputs": [
    {
     "data": {
      "text/plain": [
       "0.137"
      ]
     },
     "execution_count": 15,
     "metadata": {},
     "output_type": "execute_result"
    }
   ],
   "source": [
    "p_value = (relative_risks <= relative_risk_placebo).mean()\n",
    "p_value"
   ]
  },
  {
   "cell_type": "markdown",
   "metadata": {},
   "source": [
    "This probability is called a **p-value** (see <https://en.wikipedia.org/wiki/P-value>).  In this case, the p-value is about 14%, which means that even if the two groups are the same, we expect to see a relative risk as low as 0.77 about 14% of the time.\n",
    "So, for this imagined experiment, we can't rule out the possibility that the apparent difference is due to chance."
   ]
  },
  {
   "cell_type": "markdown",
   "metadata": {},
   "source": [
    "## Are first babies more likely to be late?\n",
    "\n",
    "In the previous example, we saw a difference in proportion between two groups.\n",
    "As a second example, let's consider a difference in means.\n",
    "\n",
    "When my wife and I were expecting our first child, we heard that first babies are more likely to be born late.  But we also heard that first babies are more likely to be born early.  So which is it? As a data scientist with too much time on my hands, I decided to find out.\n",
    "I got data from the National Survey of Family Growth (NSFG), the same survey we have used in previous chapters.\n",
    "I've put the results from the 2015-2017 survey in an HDF file.\n",
    "Here are the first few rows."
   ]
  },
  {
   "cell_type": "code",
   "execution_count": 16,
   "metadata": {
    "tags": [
     "remove-cell"
    ]
   },
   "outputs": [],
   "source": [
    "from os.path import basename, exists\n",
    "\n",
    "def download(url):\n",
    "    filename = basename(url)\n",
    "    if not exists(filename):\n",
    "        from urllib.request import urlretrieve\n",
    "        local, _ = urlretrieve(url, filename)\n",
    "        print('Downloaded ' + local)"
   ]
  },
  {
   "cell_type": "code",
   "execution_count": 17,
   "metadata": {
    "tags": [
     "remove-cell"
    ]
   },
   "outputs": [],
   "source": [
    "download('https://github.com/AllenDowney/' +\n",
    "         'ElementsOfDataScience/raw/master/data/nsfg.hdf')"
   ]
  },
  {
   "cell_type": "code",
   "execution_count": 18,
   "metadata": {},
   "outputs": [
    {
     "data": {
      "text/html": [
       "<div>\n",
       "<style scoped>\n",
       "    .dataframe tbody tr th:only-of-type {\n",
       "        vertical-align: middle;\n",
       "    }\n",
       "\n",
       "    .dataframe tbody tr th {\n",
       "        vertical-align: top;\n",
       "    }\n",
       "\n",
       "    .dataframe thead th {\n",
       "        text-align: right;\n",
       "    }\n",
       "</style>\n",
       "<table border=\"1\" class=\"dataframe\">\n",
       "  <thead>\n",
       "    <tr style=\"text-align: right;\">\n",
       "      <th></th>\n",
       "      <th>CASEID</th>\n",
       "      <th>OUTCOME</th>\n",
       "      <th>BIRTHWGT_LB1</th>\n",
       "      <th>BIRTHWGT_OZ1</th>\n",
       "      <th>PRGLNGTH</th>\n",
       "      <th>NBRNALIV</th>\n",
       "      <th>AGECON</th>\n",
       "      <th>AGEPREG</th>\n",
       "      <th>BIRTHORD</th>\n",
       "      <th>HPAGELB</th>\n",
       "      <th>WGT2015_2017</th>\n",
       "    </tr>\n",
       "  </thead>\n",
       "  <tbody>\n",
       "    <tr>\n",
       "      <th>0</th>\n",
       "      <td>70627</td>\n",
       "      <td>1</td>\n",
       "      <td>7.0</td>\n",
       "      <td>8.0</td>\n",
       "      <td>40</td>\n",
       "      <td>1.0</td>\n",
       "      <td>28</td>\n",
       "      <td>29.0</td>\n",
       "      <td>1.0</td>\n",
       "      <td>5.0</td>\n",
       "      <td>19877.457610</td>\n",
       "    </tr>\n",
       "    <tr>\n",
       "      <th>1</th>\n",
       "      <td>70627</td>\n",
       "      <td>4</td>\n",
       "      <td>NaN</td>\n",
       "      <td>NaN</td>\n",
       "      <td>14</td>\n",
       "      <td>NaN</td>\n",
       "      <td>32</td>\n",
       "      <td>32.0</td>\n",
       "      <td>NaN</td>\n",
       "      <td>NaN</td>\n",
       "      <td>19877.457610</td>\n",
       "    </tr>\n",
       "    <tr>\n",
       "      <th>2</th>\n",
       "      <td>70627</td>\n",
       "      <td>1</td>\n",
       "      <td>9.0</td>\n",
       "      <td>2.0</td>\n",
       "      <td>39</td>\n",
       "      <td>1.0</td>\n",
       "      <td>33</td>\n",
       "      <td>33.0</td>\n",
       "      <td>2.0</td>\n",
       "      <td>5.0</td>\n",
       "      <td>19877.457610</td>\n",
       "    </tr>\n",
       "    <tr>\n",
       "      <th>3</th>\n",
       "      <td>70628</td>\n",
       "      <td>1</td>\n",
       "      <td>6.0</td>\n",
       "      <td>9.0</td>\n",
       "      <td>39</td>\n",
       "      <td>1.0</td>\n",
       "      <td>17</td>\n",
       "      <td>18.0</td>\n",
       "      <td>1.0</td>\n",
       "      <td>1.0</td>\n",
       "      <td>4221.017695</td>\n",
       "    </tr>\n",
       "    <tr>\n",
       "      <th>4</th>\n",
       "      <td>70628</td>\n",
       "      <td>1</td>\n",
       "      <td>7.0</td>\n",
       "      <td>0.0</td>\n",
       "      <td>39</td>\n",
       "      <td>1.0</td>\n",
       "      <td>19</td>\n",
       "      <td>20.0</td>\n",
       "      <td>2.0</td>\n",
       "      <td>2.0</td>\n",
       "      <td>4221.017695</td>\n",
       "    </tr>\n",
       "  </tbody>\n",
       "</table>\n",
       "</div>"
      ],
      "text/plain": [
       "   CASEID  OUTCOME  BIRTHWGT_LB1  BIRTHWGT_OZ1  PRGLNGTH  NBRNALIV  AGECON  \\\n",
       "0   70627        1           7.0           8.0        40       1.0      28   \n",
       "1   70627        4           NaN           NaN        14       NaN      32   \n",
       "2   70627        1           9.0           2.0        39       1.0      33   \n",
       "3   70628        1           6.0           9.0        39       1.0      17   \n",
       "4   70628        1           7.0           0.0        39       1.0      19   \n",
       "\n",
       "   AGEPREG  BIRTHORD  HPAGELB  WGT2015_2017  \n",
       "0     29.0       1.0      5.0  19877.457610  \n",
       "1     32.0       NaN      NaN  19877.457610  \n",
       "2     33.0       2.0      5.0  19877.457610  \n",
       "3     18.0       1.0      1.0   4221.017695  \n",
       "4     20.0       2.0      2.0   4221.017695  "
      ]
     },
     "execution_count": 18,
     "metadata": {},
     "output_type": "execute_result"
    }
   ],
   "source": [
    "import pandas as pd\n",
    "\n",
    "nsfg = pd.read_hdf('nsfg.hdf', 'nsfg')\n",
    "nsfg.head()"
   ]
  },
  {
   "cell_type": "markdown",
   "metadata": {},
   "source": [
    "I'll use the `OUTCOME` column to select pregnancies that ended with a live birth."
   ]
  },
  {
   "cell_type": "code",
   "execution_count": 19,
   "metadata": {},
   "outputs": [
    {
     "data": {
      "text/plain": [
       "6693"
      ]
     },
     "execution_count": 19,
     "metadata": {},
     "output_type": "execute_result"
    }
   ],
   "source": [
    "live = (nsfg['OUTCOME'] == 1)\n",
    "live.sum()"
   ]
  },
  {
   "cell_type": "markdown",
   "metadata": {},
   "source": [
    "And I'll use `PRGLNGTH` to select babies that were born full term, that is, during or after the 37th week of pregnancy."
   ]
  },
  {
   "cell_type": "code",
   "execution_count": 20,
   "metadata": {},
   "outputs": [],
   "source": [
    "fullterm = (nsfg['PRGLNGTH'] >= 37) & (nsfg['PRGLNGTH'] < 48)"
   ]
  },
  {
   "cell_type": "markdown",
   "metadata": {},
   "source": [
    "This dataset includes data from 2724 first babies."
   ]
  },
  {
   "cell_type": "code",
   "execution_count": 21,
   "metadata": {},
   "outputs": [
    {
     "data": {
      "text/plain": [
       "2724"
      ]
     },
     "execution_count": 21,
     "metadata": {},
     "output_type": "execute_result"
    }
   ],
   "source": [
    "first = live & fullterm & (nsfg['BIRTHORD'] == 1)\n",
    "n_first = first.sum()\n",
    "n_first"
   ]
  },
  {
   "cell_type": "markdown",
   "metadata": {},
   "source": [
    "And 3115 other (not first) babies."
   ]
  },
  {
   "cell_type": "code",
   "execution_count": 22,
   "metadata": {},
   "outputs": [
    {
     "data": {
      "text/plain": [
       "3115"
      ]
     },
     "execution_count": 22,
     "metadata": {},
     "output_type": "execute_result"
    }
   ],
   "source": [
    "other = live & fullterm & (nsfg['BIRTHORD'] > 1)\n",
    "n_other = other.sum()\n",
    "n_other"
   ]
  },
  {
   "cell_type": "markdown",
   "metadata": {},
   "source": [
    "We can use `loc` to select pregnancy lengths for the first babies and others."
   ]
  },
  {
   "cell_type": "code",
   "execution_count": 23,
   "metadata": {},
   "outputs": [],
   "source": [
    "length_first = nsfg.loc[first, 'PRGLNGTH']\n",
    "length_other = nsfg.loc[other, 'PRGLNGTH']"
   ]
  },
  {
   "cell_type": "markdown",
   "metadata": {},
   "source": [
    "Here are the mean pregnancy lengths for the two groups, in weeks."
   ]
  },
  {
   "cell_type": "code",
   "execution_count": 24,
   "metadata": {},
   "outputs": [
    {
     "name": "stdout",
     "output_type": "stream",
     "text": [
      "39.39647577092511 39.19775280898877\n"
     ]
    }
   ],
   "source": [
    "print(length_first.mean(), length_other.mean())"
   ]
  },
  {
   "cell_type": "markdown",
   "metadata": {},
   "source": [
    "In this dataset, first babies are born a little later on average.\n",
    "The difference is about 0.2 weeks, or 33 hours.\n"
   ]
  },
  {
   "cell_type": "code",
   "execution_count": 25,
   "metadata": {},
   "outputs": [
    {
     "data": {
      "text/plain": [
       "(0.19872296193634043, 33.38545760530519)"
      ]
     },
     "execution_count": 25,
     "metadata": {},
     "output_type": "execute_result"
    }
   ],
   "source": [
    "diff_actual = length_first.mean() - length_other.mean()\n",
    "diff_actual, diff_actual * 7 * 24"
   ]
  },
  {
   "cell_type": "markdown",
   "metadata": {},
   "source": [
    "Relative to an average length of 39 weeks, that's not a very big difference.  We might wonder if a difference as big as this would be likely, even if the two groups are the same.\n",
    "To answer that question, let's imagine a world where there is no difference in pregnancy length between first babies and others.  How should we model a world like that?\n",
    "As always with modeling decisions, there are many options.  A simple one is to combine the two groups and compute the mean and standard deviation of pregnancy length, like this:"
   ]
  },
  {
   "cell_type": "code",
   "execution_count": 26,
   "metadata": {},
   "outputs": [
    {
     "data": {
      "text/plain": [
       "(39.29046069532454, 1.1864094701037506)"
      ]
     },
     "execution_count": 26,
     "metadata": {},
     "output_type": "execute_result"
    }
   ],
   "source": [
    "length = nsfg.loc[live&fullterm, 'PRGLNGTH']\n",
    "mean = length.mean()\n",
    "std = length.std()\n",
    "mean, std"
   ]
  },
  {
   "cell_type": "markdown",
   "metadata": {},
   "source": [
    "Now we can use `simulate_sample_mean` from Chapter 11 to draw a random sample from a normal distribution with the given parameters and return the mean."
   ]
  },
  {
   "cell_type": "code",
   "execution_count": 27,
   "metadata": {},
   "outputs": [],
   "source": [
    "def simulate_sample_mean(n, mu, sigma):\n",
    "    sample = np.random.normal(mu, sigma, size=n)\n",
    "    return sample.mean()"
   ]
  },
  {
   "cell_type": "markdown",
   "metadata": {},
   "source": [
    "If we run it 1000 times, it simulates the sampling and measurement process and returns a list of results from 1000 simulated experiments.\n",
    "Here are the simulated results with sample size `n_first`:"
   ]
  },
  {
   "cell_type": "code",
   "execution_count": 28,
   "metadata": {},
   "outputs": [],
   "source": [
    "t_first = [simulate_sample_mean(n_first, mean, std)\n",
    "           for i in range(1000)]"
   ]
  },
  {
   "cell_type": "markdown",
   "metadata": {},
   "source": [
    "And with sample size `n_other`."
   ]
  },
  {
   "cell_type": "code",
   "execution_count": 29,
   "metadata": {},
   "outputs": [],
   "source": [
    "t_other = [simulate_sample_mean(n_other, mean, std)\n",
    "           for i in range(1000)]"
   ]
  },
  {
   "cell_type": "markdown",
   "metadata": {},
   "source": [
    "If we subtract the simulated means elementwise, the result is a list of observed differences from simulated experiments where the distribution is the same for both groups."
   ]
  },
  {
   "cell_type": "code",
   "execution_count": 30,
   "metadata": {},
   "outputs": [],
   "source": [
    "diffs = np.subtract(t_first, t_other)"
   ]
  },
  {
   "cell_type": "markdown",
   "metadata": {},
   "source": [
    "We can use a KDE plot to visualize the distribution of these values."
   ]
  },
  {
   "cell_type": "code",
   "execution_count": 31,
   "metadata": {},
   "outputs": [
    {
     "data": {
      "image/png": "[encoded data removed]",
      "text/plain": [
       "<Figure size 432x288 with 1 Axes>"
      ]
     },
     "metadata": {
      "needs_background": "light"
     },
     "output_type": "display_data"
    }
   ],
   "source": [
    "sns.kdeplot(diffs)\n",
    "\n",
    "plt.xlabel('Difference in pregnancy length (weeks)')\n",
    "plt.ylabel('Probability density')\n",
    "plt.title('Distribution of differences');"
   ]
  },
  {
   "cell_type": "markdown",
   "metadata": {},
   "source": [
    "The center of this distribution is near zero, which makes sense if the distribution in both group is the same.\n",
    "Just by chance, we sometimes see differences as big as 0.1 weeks, but in 1000 simulations, we never see a difference as big as the observed difference in the data, which is almost 0.2 weeks.\n",
    "\n",
    "Based on this result, we can pretty much rule out the possibility that the difference we saw is due to random sampling.\n",
    "But we should remember that there are other possible sources of error.  For one, pregnancy lengths in the NSFG are self-reported.  When the respondents are interviewed, their recollection of first babies might be less accurate than their recollection of more recent babies.  Or the estimation of pregnancy length might be less accurate with less experienced mothers.\n",
    "\n",
    "A correspondent of mine, who knows more than me about giving birth, suggested yet another possibility.  If a first baby is born by [Caesarean section](https://en.wikipedia.org/wiki/Caesarean_section), it is more likely that subsequent deliveries will be scheduled, and less likely that they will go much past 39 weeks.  So that could bring the average down for non-first babies.\n",
    "\n",
    "In summary, the results in this section suggest that the observed difference is unlikely to be due to chance, but there are still several other possible explanations."
   ]
  },
  {
   "cell_type": "markdown",
   "metadata": {},
   "source": [
    "## The Hypothesis Testing Framework\n",
    "\n",
    "The examples we've done so far fit into the framework shown in this diagram:\n",
    "\n",
    "![](https://github.com/AllenDowney/ElementsOfDataScience/raw/master/figs/hypothesis_testing.png)"
   ]
  },
  {
   "cell_type": "markdown",
   "metadata": {},
   "source": [
    "Using data from an experiment, we compute a **test statistic** (see <https://en.wikipedia.org/wiki/Test_statistic>).  In the peanut allergy example, the test statistic is relative risk.  In the pregnancy length example, it is the difference in the means.  In both cases, the test statistic quantifies the size of the observed effect, denoted $\\delta^*$ in the diagram.\n",
    "\n",
    "Then we build a model of a world where the effect does not exist.\n",
    "This model is called the **null hypothesis** (see <https://en.wikipedia.org/wiki/Exclusion_of_the_null_hypothesis>) and denoted $H_0$.\n",
    "In the peanut allergy example, the model assumes that the risk is the same in both groups.  In the pregnancy example, it assumes that the lengths are drawn from the same normal distribution.\n",
    "\n",
    "Next we use the model to simulate the experiment many times.\n",
    "Each simulation generates a dataset which we use to compute the test statistic, $\\delta$.\n",
    "Finally, we collect the test statistics from the simulations and compute a p-value, which is the probability under the null hypothesis of seeing a test statistic as big as the observed effect, $\\delta*$.\n",
    "\n",
    "If the p-value is small, we can usually rule out the possibility that the observed effect is due to random variation.\n",
    "But often there are other explanations we can't rule out, including measurement error and unrepresentative sampling."
   ]
  },
  {
   "cell_type": "markdown",
   "metadata": {},
   "source": [
    "I emphasize the role of the model in this framework because for a given experiment there might be several possible models, each including some elements of the real world and ignoring others.\n",
    "For example, we used a normal distribution to model variation in pregnancy length.\n",
    "If we don't want to make this assumption, an alternative is to simulate the null hypothesis by shuffling the pregnancy lengths.\n",
    "\n",
    "The following function takes two sequences representing the pregnancy lengths for the two groups.\n",
    "It appends them into a single sequence, shuffles it, and then splits it again into groups with the same size as the originals.\n",
    "The return value is the difference in means between the groups."
   ]
  },
  {
   "cell_type": "code",
   "execution_count": 32,
   "metadata": {},
   "outputs": [],
   "source": [
    "def simulate_two_groups(data1, data2):\n",
    "    n, m = len(data1), len(data2)\n",
    "    data = np.append(data1, data2)\n",
    "    np.random.shuffle(data)\n",
    "    group1 = data[:n]\n",
    "    group2 = data[n:]\n",
    "    return group1.mean() - group2.mean()"
   ]
  },
  {
   "cell_type": "markdown",
   "metadata": {},
   "source": [
    "If we call this function once, we get a random difference in means from a simulated world where the distribution of pregnancy lengths is the same in both groups. "
   ]
  },
  {
   "cell_type": "code",
   "execution_count": 33,
   "metadata": {},
   "outputs": [
    {
     "data": {
      "text/plain": [
       "-0.03111395525888838"
      ]
     },
     "execution_count": 33,
     "metadata": {},
     "output_type": "execute_result"
    }
   ],
   "source": [
    "simulate_two_groups(length_first, length_other)"
   ]
  },
  {
   "cell_type": "markdown",
   "metadata": {},
   "source": [
    "**Exercise:** Using this function to run 1000 simulations of the null hypothesis and save the results as `diff2`.  Make a KDE plot to compare the distribution of `diff2` to the results from the normal model, `diff`.\n",
    "\n",
    "Compute the probability of seeing a difference as big as `diff_actual`.  Is this p-value consistent with the results we got with the normal model?"
   ]
  },
  {
   "cell_type": "code",
   "execution_count": 34,
   "metadata": {
    "tags": [
     "remove-cell"
    ]
   },
   "outputs": [],
   "source": [
    "# Solution\n",
    "\n",
    "diffs2 = [simulate_two_groups(length_first, length_other)\n",
    "          for i in range(1000)]"
   ]
  },
  {
   "cell_type": "code",
   "execution_count": 35,
   "metadata": {
    "tags": [
     "remove-cell"
    ]
   },
   "outputs": [
    {
     "data": {
      "image/png": "[encoded data removed]",
      "text/plain": [
       "<Figure size 432x288 with 1 Axes>"
      ]
     },
     "metadata": {
      "needs_background": "light"
     },
     "output_type": "display_data"
    }
   ],
   "source": [
    "# Solution\n",
    "\n",
    "sns.kdeplot(diffs)\n",
    "sns.kdeplot(diffs2)\n",
    "\n",
    "plt.xlabel('Difference in pregnancy length (weeks)')\n",
    "plt.ylabel('Probability density')\n",
    "plt.title('Distribution of differences');"
   ]
  },
  {
   "cell_type": "code",
   "execution_count": 36,
   "metadata": {
    "tags": [
     "remove-cell"
    ]
   },
   "outputs": [
    {
     "data": {
      "text/plain": [
       "0.0"
      ]
     },
     "execution_count": 36,
     "metadata": {},
     "output_type": "execute_result"
    }
   ],
   "source": [
    "# Solution\n",
    "\n",
    "# In 1000 simulations of the null hypothesis, we never\n",
    "# see a difference in means bigger than the actual difference\n",
    "# in the dataset.  This result is consistent with the result\n",
    "# based on the normal model.\n",
    "\n",
    "p_value = (np.abs(diffs2) > diff_actual).mean()\n",
    "p_value"
   ]
  },
  {
   "cell_type": "markdown",
   "metadata": {},
   "source": [
    "**Exercise:** Are first babies more likely to be *light*?  To find out, we can use the birth weight data from the NSFG.  The variables we need use special codes to represent missing data, so I'll replace them with `NaN`."
   ]
  },
  {
   "cell_type": "code",
   "execution_count": 37,
   "metadata": {},
   "outputs": [],
   "source": [
    "nsfg['BIRTHWGT_LB1'].replace([0, 98, 99], np.nan, inplace=True)\n",
    "nsfg['BIRTHWGT_OZ1'].replace([0, 98, 99], np.nan, inplace=True)"
   ]
  },
  {
   "cell_type": "markdown",
   "metadata": {},
   "source": [
    "And combine pounds and ounces into a single variable."
   ]
  },
  {
   "cell_type": "code",
   "execution_count": 38,
   "metadata": {},
   "outputs": [],
   "source": [
    "birthwgt = nsfg['BIRTHWGT_LB1'] + nsfg['BIRTHWGT_OZ1'] / 16"
   ]
  },
  {
   "cell_type": "code",
   "execution_count": 39,
   "metadata": {
    "tags": [
     "remove-cell"
    ]
   },
   "outputs": [
    {
     "data": {
      "text/plain": [
       "count    5768.000000\n",
       "mean        7.188529\n",
       "std         1.343859\n",
       "min         1.062500\n",
       "25%         6.437500\n",
       "50%         7.312500\n",
       "75%         8.062500\n",
       "max        14.187500\n",
       "dtype: float64"
      ]
     },
     "execution_count": 39,
     "metadata": {},
     "output_type": "execute_result"
    }
   ],
   "source": [
    "birthwgt.describe()"
   ]
  },
  {
   "cell_type": "markdown",
   "metadata": {},
   "source": [
    "We can use `first` and `other` to select birth weights for first babies and others, dropping the `NaN` values."
   ]
  },
  {
   "cell_type": "code",
   "execution_count": 40,
   "metadata": {},
   "outputs": [],
   "source": [
    "birthwgt_first = birthwgt[first].dropna()\n",
    "birthwgt_other = birthwgt[other].dropna()"
   ]
  },
  {
   "cell_type": "markdown",
   "metadata": {},
   "source": [
    "In this dataset, it looks like first babies are  a little lighter, on average."
   ]
  },
  {
   "cell_type": "code",
   "execution_count": 41,
   "metadata": {},
   "outputs": [
    {
     "name": "stdout",
     "output_type": "stream",
     "text": [
      "7.3370276162790695 7.507115749525616\n"
     ]
    }
   ],
   "source": [
    "print(birthwgt_first.mean(), birthwgt_other.mean())"
   ]
  },
  {
   "cell_type": "markdown",
   "metadata": {},
   "source": [
    "But as usual, we should wonder whether we are being fooled by randomness.\n",
    "To find out, compute the actual difference between the means.\n",
    "Then use `simulate_two_groups` to simulate a world where birth weights for both groups are drawn from the same distribution.\n",
    "Under the null hypothesis, how often does the difference in means exceed the actual difference in the dataset?  What conclusion can you draw from this result?"
   ]
  },
  {
   "cell_type": "code",
   "execution_count": 42,
   "metadata": {
    "tags": [
     "remove-cell"
    ]
   },
   "outputs": [
    {
     "data": {
      "text/plain": [
       "(0.17008813324654692, 2.721410131944751)"
      ]
     },
     "execution_count": 42,
     "metadata": {},
     "output_type": "execute_result"
    }
   ],
   "source": [
    "# Solution\n",
    "\n",
    "birthwgt_diff = birthwgt_other.mean() - birthwgt_first.mean()\n",
    "birthwgt_diff, birthwgt_diff*16"
   ]
  },
  {
   "cell_type": "code",
   "execution_count": 43,
   "metadata": {
    "tags": [
     "remove-cell"
    ]
   },
   "outputs": [],
   "source": [
    "# Solution\n",
    "\n",
    "birthwgt_diffs = [simulate_two_groups(birthwgt_first, \n",
    "                                      birthwgt_other)\n",
    "                  for i in range(1000)]"
   ]
  },
  {
   "cell_type": "code",
   "execution_count": 44,
   "metadata": {
    "tags": [
     "remove-cell"
    ]
   },
   "outputs": [
    {
     "data": {
      "image/png": "[encoded data removed]",
      "text/plain": [
       "<Figure size 432x288 with 1 Axes>"
      ]
     },
     "metadata": {
      "needs_background": "light"
     },
     "output_type": "display_data"
    }
   ],
   "source": [
    "# Solution\n",
    "\n",
    "# Under the null hypothesis we are very unlikely to see\n",
    "# a difference as big as `birthwgt_diff`, \n",
    "# which is about 0.2 pounds.\n",
    "\n",
    "# We can conclude that the observed difference is probably\n",
    "# not due to chance, but there might be other explanations.\n",
    "\n",
    "sns.kdeplot(birthwgt_diffs)\n",
    "\n",
    "plt.xlabel('Difference in birthweight (pounds)')\n",
    "plt.ylabel('Probability density');"
   ]
  },
  {
   "cell_type": "markdown",
   "metadata": {},
   "source": [
    "## Testing Correlation\n",
    "\n",
    "The method we used in the previous section is called a **permutation test** because \"permutation\" is another word for shuffling (see <https://en.wikipedia.org/wiki/Resampling_(statistics)#Permutation_tests>).\n",
    "Permutation tests are also useful for testing whether an observed correlation might be do to chance.\n",
    "\n",
    "As an example, let's look again at the correlations we computed in Chapter 9, using data from the Behavioral Risk Factor Surveillance System (BRFSS).\n",
    "The following cell reads the data."
   ]
  },
  {
   "cell_type": "code",
   "execution_count": 45,
   "metadata": {
    "tags": [
     "remove-cell"
    ]
   },
   "outputs": [],
   "source": [
    "from os.path import basename, exists\n",
    "\n",
    "def download(url):\n",
    "    filename = basename(url)\n",
    "    if not exists(filename):\n",
    "        from urllib.request import urlretrieve\n",
    "        local, _ = urlretrieve(url, filename)\n",
    "        print('Downloaded ' + local)"
   ]
  },
  {
   "cell_type": "code",
   "execution_count": 46,
   "metadata": {
    "tags": [
     "remove-cell"
    ]
   },
   "outputs": [],
   "source": [
    "download('https://github.com/AllenDowney/' +\n",
    "         'ElementsOfDataScience/raw/master/data/brfss.hdf')"
   ]
  },
  {
   "cell_type": "code",
   "execution_count": 47,
   "metadata": {},
   "outputs": [
    {
     "data": {
      "text/plain": [
       "(418268, 9)"
      ]
     },
     "execution_count": 47,
     "metadata": {},
     "output_type": "execute_result"
    }
   ],
   "source": [
    "import pandas as pd\n",
    "\n",
    "brfss = pd.read_hdf('brfss.hdf', 'brfss')\n",
    "brfss.shape"
   ]
  },
  {
   "cell_type": "markdown",
   "metadata": {},
   "source": [
    "The correlations we computed were between height, weight and age."
   ]
  },
  {
   "cell_type": "code",
   "execution_count": 48,
   "metadata": {},
   "outputs": [
    {
     "data": {
      "text/html": [
       "<div>\n",
       "<style scoped>\n",
       "    .dataframe tbody tr th:only-of-type {\n",
       "        vertical-align: middle;\n",
       "    }\n",
       "\n",
       "    .dataframe tbody tr th {\n",
       "        vertical-align: top;\n",
       "    }\n",
       "\n",
       "    .dataframe thead th {\n",
       "        text-align: right;\n",
       "    }\n",
       "</style>\n",
       "<table border=\"1\" class=\"dataframe\">\n",
       "  <thead>\n",
       "    <tr style=\"text-align: right;\">\n",
       "      <th></th>\n",
       "      <th>HTM4</th>\n",
       "      <th>WTKG3</th>\n",
       "      <th>AGE</th>\n",
       "    </tr>\n",
       "  </thead>\n",
       "  <tbody>\n",
       "    <tr>\n",
       "      <th>HTM4</th>\n",
       "      <td>1.000000</td>\n",
       "      <td>0.477151</td>\n",
       "      <td>-0.135980</td>\n",
       "    </tr>\n",
       "    <tr>\n",
       "      <th>WTKG3</th>\n",
       "      <td>0.477151</td>\n",
       "      <td>1.000000</td>\n",
       "      <td>-0.064951</td>\n",
       "    </tr>\n",
       "    <tr>\n",
       "      <th>AGE</th>\n",
       "      <td>-0.135980</td>\n",
       "      <td>-0.064951</td>\n",
       "      <td>1.000000</td>\n",
       "    </tr>\n",
       "  </tbody>\n",
       "</table>\n",
       "</div>"
      ],
      "text/plain": [
       "           HTM4     WTKG3       AGE\n",
       "HTM4   1.000000  0.477151 -0.135980\n",
       "WTKG3  0.477151  1.000000 -0.064951\n",
       "AGE   -0.135980 -0.064951  1.000000"
      ]
     },
     "execution_count": 48,
     "metadata": {},
     "output_type": "execute_result"
    }
   ],
   "source": [
    "columns = ['HTM4', 'WTKG3', 'AGE']\n",
    "subset = brfss[columns]\n",
    "corr_actual = subset.corr()\n",
    "corr_actual"
   ]
  },
  {
   "cell_type": "markdown",
   "metadata": {},
   "source": [
    "The correlation between height and weight is about 0.48, which is moderately strong; if you know someone's height, you can make a better guess about their weight.\n",
    "The other correlations are weaker; for example,\n",
    "knowing someone's age would not substantially improve your guesses about their height or weight.\n",
    "\n",
    "Because these correlations are so small, we might wonder whether they are due to chance.\n",
    "To answer this question, we can use permutation to simulate a world where there is actually no correlation between two variables.\n",
    "\n",
    "But first we have to take a detour to figure out how to shuffle a Pandas `Series`.\n",
    "As an example, I'll extract the height data."
   ]
  },
  {
   "cell_type": "code",
   "execution_count": 49,
   "metadata": {},
   "outputs": [
    {
     "data": {
      "text/plain": [
       "0    157.0\n",
       "1    163.0\n",
       "2    165.0\n",
       "3    165.0\n",
       "4    152.0\n",
       "Name: HTM4, dtype: float64"
      ]
     },
     "execution_count": 49,
     "metadata": {},
     "output_type": "execute_result"
    }
   ],
   "source": [
    "series = brfss['HTM4']\n",
    "series.head()"
   ]
  },
  {
   "cell_type": "markdown",
   "metadata": {},
   "source": [
    "The idiomatic way to shuffle a `Series` is to use `sample` with the argument `frac=1`, which means that the fraction of the elements we want is `1`, that is, all of them (see <https://stackoverflow.com/questions/29576430/shuffle-dataframe-rows>).\n",
    "By default, `sample` chooses elements without replacement, so the result contains all of the elements in a random order."
   ]
  },
  {
   "cell_type": "code",
   "execution_count": 50,
   "metadata": {},
   "outputs": [
    {
     "data": {
      "text/plain": [
       "56215     165.0\n",
       "306509    152.0\n",
       "358724    165.0\n",
       "150802    178.0\n",
       "221703    168.0\n",
       "Name: HTM4, dtype: float64"
      ]
     },
     "execution_count": 50,
     "metadata": {},
     "output_type": "execute_result"
    }
   ],
   "source": [
    "shuffled = series.sample(frac=1)\n",
    "shuffled.head()"
   ]
  },
  {
   "cell_type": "markdown",
   "metadata": {},
   "source": [
    "If we check the first few elements, it seems like a random sample, so that's good.\n",
    "But let's see what happens if we use the shuffled `Series` to compute a correlation."
   ]
  },
  {
   "cell_type": "code",
   "execution_count": 51,
   "metadata": {},
   "outputs": [
    {
     "data": {
      "text/plain": [
       "0.47715146283881316"
      ]
     },
     "execution_count": 51,
     "metadata": {},
     "output_type": "execute_result"
    }
   ],
   "source": [
    "corr = shuffled.corr(brfss['WTKG3'])\n",
    "corr"
   ]
  },
  {
   "cell_type": "markdown",
   "metadata": {},
   "source": [
    "That result looks familiar: it is the correlation of the unshuffled columns.\n",
    "The problem is that when we shuffle a `Series`, the index gets shuffled along with it.\n",
    "When we compute a correlation, Pandas uses the index to line up the elements from the first `Series` with the elements of the second `Series`.\n",
    "For many operations, that's the behavior we want, but in this case it defeats the purpose of shuffling!\n",
    "\n",
    "The solution is to use `reset_index`, which gives the `Series` a new index, with the argument `drop=True`, which drops the old one.\n",
    "So we have to shuffle `series` like this."
   ]
  },
  {
   "cell_type": "code",
   "execution_count": 52,
   "metadata": {},
   "outputs": [],
   "source": [
    "shuffled = series.sample(frac=1).reset_index(drop=True)"
   ]
  },
  {
   "cell_type": "markdown",
   "metadata": {},
   "source": [
    "Now we can compute a correlation with the shuffled `Series`."
   ]
  },
  {
   "cell_type": "code",
   "execution_count": 53,
   "metadata": {},
   "outputs": [
    {
     "data": {
      "text/plain": [
       "-0.003417891522999634"
      ]
     },
     "execution_count": 53,
     "metadata": {},
     "output_type": "execute_result"
    }
   ],
   "source": [
    "corr = shuffled.corr(brfss['WTKG3'])\n",
    "corr"
   ]
  },
  {
   "cell_type": "markdown",
   "metadata": {},
   "source": [
    "The result is small, as we expect it to be when the elements are aligned at random.\n",
    "\n",
    "Rather than repeat this awful idiom, let's put it in a function and never speak of it again."
   ]
  },
  {
   "cell_type": "code",
   "execution_count": 54,
   "metadata": {},
   "outputs": [],
   "source": [
    "def shuffle(series):\n",
    "    return series.sample(frac=1).reset_index(drop=True)"
   ]
  },
  {
   "cell_type": "markdown",
   "metadata": {},
   "source": [
    "The following function takes a `DataFrame` and two column names, makes a shuffled copy of one column, and computes its correlation with the other."
   ]
  },
  {
   "cell_type": "code",
   "execution_count": 55,
   "metadata": {},
   "outputs": [],
   "source": [
    "def simulate_correlation(df, var1, var2):\n",
    "    corr = shuffle(df[var1]).corr(df[var2])\n",
    "    return corr"
   ]
  },
  {
   "cell_type": "markdown",
   "metadata": {},
   "source": [
    "We only have to shuffle one of the columns; it doesn't get any more random if we shuffle both.\n",
    "Now we can use this function to generate a sample of correlations with shuffled columns."
   ]
  },
  {
   "cell_type": "code",
   "execution_count": 56,
   "metadata": {},
   "outputs": [],
   "source": [
    "t = [simulate_correlation(brfss, 'HTM4', 'WTKG3')\n",
    "     for i in range(200)]"
   ]
  },
  {
   "cell_type": "markdown",
   "metadata": {},
   "source": [
    "Here's the distribution of the correlations."
   ]
  },
  {
   "cell_type": "code",
   "execution_count": 57,
   "metadata": {},
   "outputs": [
    {
     "data": {
      "image/png": "[encoded data removed]",
      "text/plain": [
       "<Figure size 432x288 with 1 Axes>"
      ]
     },
     "metadata": {
      "needs_background": "light"
     },
     "output_type": "display_data"
    }
   ],
   "source": [
    "sns.kdeplot(t)\n",
    "\n",
    "plt.xlabel('Correlation')\n",
    "plt.ylabel('Probability density')\n",
    "plt.title('Correlation from simulations with permutation');"
   ]
  },
  {
   "cell_type": "markdown",
   "metadata": {},
   "source": [
    "The center of the distribution is near 0, and the largest values (positive or negative) are around 0.005.\n",
    "If we compute the same distribution with different columns, the results are pretty much the same.\n",
    "With samples this big, the correlation between shuffled columns is generally small.\n",
    "\n",
    "How do these values compare to the observed correlations?  \n",
    "\n",
    "* The correlation of height and weight is about 0.48, so it's extremely unlikely we would see a correlation as big as that by chance.\n",
    "\n",
    "* The correlation of height and age is smaller, around -0.14, but even that value would be unlikely by chance.\n",
    "\n",
    "* And the correlation of weight and age is even smaller, about -0.06, but that's still 10 times bigger than the biggest correlation in the simulations."
   ]
  },
  {
   "cell_type": "markdown",
   "metadata": {},
   "source": [
    "We can conclude that these correlations are probably not due to chance.\n",
    "And that's useful in the sense that it rules out one possible explanation.\n",
    "But this example also demonstrates a limitation of this kind of hypothesis testing.\n",
    "With large sample sizes, variability due to randomness tends to be small, so it seldom explains the effects we see in real data.\n",
    "\n",
    "And hypothesis testing can be a distraction from more important questions.\n",
    "In Chapter 9, we saw that the relationship between weight and age is nonlinear.\n",
    "But the coefficient of correlation only measures linear relationships, so it does not capture the real strength of the relationship.\n",
    "So testing a correlation might not be the more useful thing to do in the first place.\n",
    "We can do better by testing a regression model."
   ]
  },
  {
   "cell_type": "markdown",
   "metadata": {},
   "source": [
    "## Testing Regression Models\n",
    "\n",
    "In the previous sections we used permutation to simulate a world where there is no correlation between two variables.\n",
    "In this section we'll apply the same method to regression models.\n",
    "\n",
    "As an example, we'll use NSFG data to explore the relationship between a mother's age and her baby's birth weight.\n",
    "\n",
    "In previous sections we computed birth weight and a Boolean variable that identifies first babies.\n",
    "Now I'll store them as columns in `nsfg`, so we can use them with StatsModels."
   ]
  },
  {
   "cell_type": "code",
   "execution_count": 58,
   "metadata": {},
   "outputs": [],
   "source": [
    "nsfg['BIRTHWGT'] = birthwgt\n",
    "nsfg['FIRST'] = first"
   ]
  },
  {
   "cell_type": "markdown",
   "metadata": {},
   "source": [
    "I'll select the subset of the rows that represent live, full-term births."
   ]
  },
  {
   "cell_type": "code",
   "execution_count": 59,
   "metadata": {},
   "outputs": [
    {
     "data": {
      "text/plain": [
       "5839"
      ]
     },
     "execution_count": 59,
     "metadata": {},
     "output_type": "execute_result"
    }
   ],
   "source": [
    "subset = nsfg[live & fullterm].copy()\n",
    "n = len(subset)\n",
    "n"
   ]
  },
  {
   "cell_type": "markdown",
   "metadata": {},
   "source": [
    "I tried a few different ways to visualize the relationship between mother's age and birth weight, including a scatter plot and a violin plot.\n",
    "The one that worked best is a box plot with mother's age grouped into 3-year bins.\n",
    "\n",
    "I used `np.arange` to make the bin boundaries, and `pd.cut` to put the values from `AGECON` into bins."
   ]
  },
  {
   "cell_type": "code",
   "execution_count": 60,
   "metadata": {},
   "outputs": [],
   "source": [
    "bins = np.arange(15, 40, 3)\n",
    "labels = (bins + 1)[:-1]\n",
    "\n",
    "subset['AGEGRP'] = pd.cut(subset['AGECON'], \n",
    "                          bins, labels=labels)"
   ]
  },
  {
   "cell_type": "markdown",
   "metadata": {},
   "source": [
    "The label for each bin is the midpoint of the range; I used a slice to remove the last label because the number of bins is one less than the number of bin boundaries.\n",
    "\n",
    "Here's the box plot."
   ]
  },
  {
   "cell_type": "code",
   "execution_count": 61,
   "metadata": {},
   "outputs": [
    {
     "data": {
      "image/png": "[encoded data removed]",
      "text/plain": [
       "<Figure size 432x288 with 1 Axes>"
      ]
     },
     "metadata": {
      "needs_background": "light"
     },
     "output_type": "display_data"
    }
   ],
   "source": [
    "sns.boxplot(x='AGEGRP', y='BIRTHWGT', data=subset, \n",
    "            whis=None, color='plum')\n",
    "\n",
    "plt.xlabel(\"Mother's age (years)\")\n",
    "plt.ylabel('Birthweight (pounds)');"
   ]
  },
  {
   "cell_type": "markdown",
   "metadata": {},
   "source": [
    "It looks like the average birth weight is highest if the mother is 25-31 years old, and lower if she is younger or older.\n",
    "So the relationship might be nonlinear.\n",
    "Nevertheless, let's start with a linear model and work our way up.\n",
    "Here's a simple regression of birth weight as a function of the mother's age at conception. "
   ]
  },
  {
   "cell_type": "code",
   "execution_count": 62,
   "metadata": {},
   "outputs": [
    {
     "data": {
      "text/plain": [
       "Intercept    7.025486\n",
       "AGECON       0.016407\n",
       "dtype: float64"
      ]
     },
     "execution_count": 62,
     "metadata": {},
     "output_type": "execute_result"
    }
   ],
   "source": [
    "import statsmodels.formula.api as smf\n",
    "\n",
    "results = smf.ols('BIRTHWGT ~ AGECON', data=subset).fit()\n",
    "results.params"
   ]
  },
  {
   "cell_type": "markdown",
   "metadata": {},
   "source": [
    "The slope of the regression line is 0.016 pounds per year, which means that if one mother is a year older than another, we expect her baby to be about 0.016 pounds heavier, which is about a quarter of an ounce."
   ]
  },
  {
   "cell_type": "code",
   "execution_count": 63,
   "metadata": {
    "tags": [
     "remove-cell"
    ]
   },
   "outputs": [
    {
     "data": {
      "text/plain": [
       "0.2625196509850248"
      ]
     },
     "execution_count": 63,
     "metadata": {},
     "output_type": "execute_result"
    }
   ],
   "source": [
    "results.params['AGECON'] * 16"
   ]
  },
  {
   "cell_type": "markdown",
   "metadata": {},
   "source": [
    "This parameter is small, so we might wonder whether the apparent effect is due to chance.\n",
    "To answer that question, we will use permutation to simulate a world where there is no relationship between mother's age and birth weight.\n",
    "\n",
    "As a test statistic, we'll use the coefficient of determination, denoted $R^2$, which quantifies the predictive power of the model (see <https://en.wikipedia.org/wiki/Coefficient_of_determination>).\n",
    "The regression results include $R^2$ in a variable called `rsquared`."
   ]
  },
  {
   "cell_type": "code",
   "execution_count": 64,
   "metadata": {},
   "outputs": [
    {
     "data": {
      "text/plain": [
       "0.007578923866134457"
      ]
     },
     "execution_count": 64,
     "metadata": {},
     "output_type": "execute_result"
    }
   ],
   "source": [
    "results.rsquared"
   ]
  },
  {
   "cell_type": "markdown",
   "metadata": {},
   "source": [
    "The value of $R^2$ for this model is very small, which means that our guesses about a baby's weight are barely improved if we know the mother's age (and use a linear model).\n",
    "So it seems possible that the apparent relationship between these variables is due to chance.\n",
    "We can test this possibility by using permutation to simulate a world where there is no such relationship.\n",
    "\n",
    "The following function takes a `DataFrame`, shuffles the `AGECON` column, computes a linear regression model, and returns $R^2$."
   ]
  },
  {
   "cell_type": "code",
   "execution_count": 65,
   "metadata": {},
   "outputs": [],
   "source": [
    "def simulate_rsquared(df):\n",
    "    df['SHUFFLED'] = shuffle(df['AGECON'])\n",
    "    formula = 'BIRTHWGT ~ SHUFFLED'\n",
    "    results = smf.ols(formula, data=df).fit()\n",
    "    return results.rsquared"
   ]
  },
  {
   "cell_type": "markdown",
   "metadata": {},
   "source": [
    "If we call it many times, we get a sample from the distribution of $R^2$ under the null hypothesis."
   ]
  },
  {
   "cell_type": "code",
   "execution_count": 66,
   "metadata": {},
   "outputs": [],
   "source": [
    "rsquared_null = [simulate_rsquared(subset)\n",
    "                 for i in range(200)]"
   ]
  },
  {
   "cell_type": "markdown",
   "metadata": {},
   "source": [
    "After 200 attempts, the largest value of $R^2$ is about 0.003, which is smaller than the observed value of $R^2$, about 0.008.\n",
    "We conclude that the observed effect is bigger than we would expect to see by chance."
   ]
  },
  {
   "cell_type": "code",
   "execution_count": 67,
   "metadata": {},
   "outputs": [
    {
     "name": "stdout",
     "output_type": "stream",
     "text": [
      "0.0018894074007291817 0.007578923866134457\n"
     ]
    }
   ],
   "source": [
    "print(np.max(rsquared_null), results.rsquared)"
   ]
  },
  {
   "cell_type": "markdown",
   "metadata": {},
   "source": [
    "**Exercise:** The box plot suggests that the relationship between mother's age and birth weight is nonlinear, so let's try a nonlinear model.\n",
    "I'll add a column to the `DataFrame` with the square of mother's age."
   ]
  },
  {
   "cell_type": "code",
   "execution_count": 68,
   "metadata": {},
   "outputs": [],
   "source": [
    "subset['AGECON2'] = subset['AGECON']**2"
   ]
  },
  {
   "cell_type": "markdown",
   "metadata": {},
   "source": [
    "And run the model again with both the linear and quadratic terms."
   ]
  },
  {
   "cell_type": "code",
   "execution_count": 69,
   "metadata": {},
   "outputs": [
    {
     "data": {
      "text/plain": [
       "Intercept    5.894125\n",
       "AGECON       0.109487\n",
       "AGECON2     -0.001810\n",
       "dtype: float64"
      ]
     },
     "execution_count": 69,
     "metadata": {},
     "output_type": "execute_result"
    }
   ],
   "source": [
    "formula = 'BIRTHWGT ~ AGECON + AGECON2'\n",
    "results2 = smf.ols(formula, data=subset).fit()\n",
    "results2.params"
   ]
  },
  {
   "cell_type": "markdown",
   "metadata": {},
   "source": [
    "The parameter of `AGECON2` is quite small, so we might wonder whether it actually improves the model, or might be the product of randomness.\n",
    "One way to answer this question is to look at the improvement in $R^2$."
   ]
  },
  {
   "cell_type": "code",
   "execution_count": 70,
   "metadata": {},
   "outputs": [
    {
     "data": {
      "text/plain": [
       "0.01186101019657615"
      ]
     },
     "execution_count": 70,
     "metadata": {},
     "output_type": "execute_result"
    }
   ],
   "source": [
    "results2.rsquared"
   ]
  },
  {
   "cell_type": "markdown",
   "metadata": {},
   "source": [
    "The value of $R^2$ is about 0.012, compared to 0.008 with the linear model.\n",
    "By this criterion, the quadratic model is a better, but when we add variables to a model, we might get some improvement just by chance.\n",
    "To see how much, write a function called `simulate_rsquared2` that takes a `DataFrame` as a parameter, shuffles `AGECON2`, runs a regression model with `AGECON` and the shuffled values, and returns $R^2$.\n",
    "Run your function 200 times and count how often $R^2$ from the model exceeds the observed value from the dataset.  What conclusion can you draw? "
   ]
  },
  {
   "cell_type": "code",
   "execution_count": 71,
   "metadata": {
    "tags": [
     "remove-cell"
    ]
   },
   "outputs": [],
   "source": [
    "# Solution\n",
    "\n",
    "def simulate_rsquared2(df):\n",
    "    df['SHUFFLED'] = shuffle(df['AGECON2'])\n",
    "    formula = 'BIRTHWGT ~ AGECON + SHUFFLED'\n",
    "    results = smf.ols(formula, data=df).fit()\n",
    "    return results.rsquared"
   ]
  },
  {
   "cell_type": "code",
   "execution_count": 72,
   "metadata": {
    "tags": [
     "remove-cell"
    ]
   },
   "outputs": [],
   "source": [
    "# Solution\n",
    "\n",
    "rsquared_null2 = [simulate_rsquared2(subset)\n",
    "                  for i in range(200)]"
   ]
  },
  {
   "cell_type": "code",
   "execution_count": 73,
   "metadata": {
    "tags": [
     "remove-cell"
    ]
   },
   "outputs": [
    {
     "name": "stdout",
     "output_type": "stream",
     "text": [
      "0.009791927389227628 0.01186101019657615\n"
     ]
    }
   ],
   "source": [
    "# Solution\n",
    "\n",
    "# After 200 attempts, the largest value of $R^2$ is still\n",
    "# smaller than the actual value of $R^2$, so the observed \n",
    "# effect is slightly bigger than we would expect to see by chance.\n",
    "\n",
    "print(np.max(rsquared_null2), results2.rsquared)"
   ]
  },
  {
   "cell_type": "markdown",
   "metadata": {},
   "source": [
    "## Controlling for Age\n",
    "\n",
    "In a previous exercise, you computed the difference in birth weight between first babies and others, which is about 0.17 pounds, and you checked whether we are likely to see a difference as big as that by chance.  If things went according to plan, you found that it is very unlikely.\n",
    "\n",
    "But that doesn't necessarily mean that there is anything special about first babies that makes them lighter than others.\n",
    "Rather, knowing a baby's birth order might provide information about some other factor that is related to birth weight.\n",
    "The mother's age could be that factor.\n",
    "\n",
    "First babies are likely to have younger mothers than other babies, and younger mothers tend to have lighter babies.\n",
    "The difference we see in first babies might be explained by their mothers' ages.\n",
    "So let's see what happens if we control for age.\n",
    "Here's a simple regression of birth weight as a function of the Boolean variable `FIRST`."
   ]
  },
  {
   "cell_type": "code",
   "execution_count": 74,
   "metadata": {},
   "outputs": [
    {
     "data": {
      "text/plain": [
       "Intercept        7.507116\n",
       "FIRST[T.True]   -0.170088\n",
       "dtype: float64"
      ]
     },
     "execution_count": 74,
     "metadata": {},
     "output_type": "execute_result"
    }
   ],
   "source": [
    "formula = 'BIRTHWGT ~ FIRST'\n",
    "results = smf.ols(formula, data=subset).fit()\n",
    "results.params"
   ]
  },
  {
   "cell_type": "markdown",
   "metadata": {},
   "source": [
    "The parameter associated with `FIRST` is -0.17 pounds, which is the same as the difference in means we computed.\n",
    "But now we can add `AGECON` as a control variable."
   ]
  },
  {
   "cell_type": "code",
   "execution_count": 75,
   "metadata": {},
   "outputs": [
    {
     "data": {
      "text/plain": [
       "Intercept        7.163240\n",
       "FIRST[T.True]   -0.121771\n",
       "AGECON           0.013145\n",
       "dtype: float64"
      ]
     },
     "execution_count": 75,
     "metadata": {},
     "output_type": "execute_result"
    }
   ],
   "source": [
    "formula = 'BIRTHWGT ~ FIRST + AGECON'\n",
    "results = smf.ols(formula, data=subset).fit()\n",
    "results.params"
   ]
  },
  {
   "cell_type": "markdown",
   "metadata": {},
   "source": [
    "The age effect accounts for some of the difference between first babies and others.\n",
    "After controlling for age, the remaining difference is about 0.12 pounds.\n",
    "Since the age effect is nonlinear, we can can control for age more effectively by adding `AGECON2`. "
   ]
  },
  {
   "cell_type": "code",
   "execution_count": 76,
   "metadata": {},
   "outputs": [
    {
     "data": {
      "text/plain": [
       "Intercept        6.128590\n",
       "FIRST[T.True]   -0.099338\n",
       "AGECON           0.096781\n",
       "AGECON2         -0.001615\n",
       "dtype: float64"
      ]
     },
     "execution_count": 76,
     "metadata": {},
     "output_type": "execute_result"
    }
   ],
   "source": [
    "formula = 'BIRTHWGT ~ FIRST + AGECON + AGECON2'\n",
    "results = smf.ols(formula, data=subset).fit()\n",
    "results.params"
   ]
  },
  {
   "cell_type": "code",
   "execution_count": 77,
   "metadata": {},
   "outputs": [
    {
     "data": {
      "text/plain": [
       "-0.0993380612156034"
      ]
     },
     "execution_count": 77,
     "metadata": {},
     "output_type": "execute_result"
    }
   ],
   "source": [
    "slope_actual = results.params['FIRST[T.True]']\n",
    "slope_actual"
   ]
  },
  {
   "cell_type": "markdown",
   "metadata": {},
   "source": [
    "When we use a quadratic model to control for the age effect, the remaining difference between first babies and others is smaller again, about 0.10 pounds.\n",
    "\n",
    "One of the warning signs of a spurious relationship between two variables is that the effect gradually disappears as you add control variables.\n",
    "So we should wonder whether the remaining effect might be due to chance.\n",
    "To find out, I'll use the following function, which simulates a world where there is no difference in weight between first babies and others.\n",
    "It takes a `DataFrame` as a parameter, shuffles the `FIRST` column, runs the regression model with `AGECON` and `AGECON2`, and returns the estimated difference."
   ]
  },
  {
   "cell_type": "code",
   "execution_count": 78,
   "metadata": {},
   "outputs": [],
   "source": [
    "def simulate_slope(df):\n",
    "    df['SHUFFLED'] = shuffle(df['FIRST'])\n",
    "    formula = 'BIRTHWGT ~ AGECON + AGECON2 + C(SHUFFLED)'\n",
    "    results = smf.ols(formula, data=df).fit()\n",
    "    return results.params['C(SHUFFLED)[T.True]']"
   ]
  },
  {
   "cell_type": "markdown",
   "metadata": {},
   "source": [
    "If we run it many times, we get a sample from the distribution of the test statistic under the null hypothesis."
   ]
  },
  {
   "cell_type": "code",
   "execution_count": 79,
   "metadata": {},
   "outputs": [],
   "source": [
    "slopes_null = [simulate_slope(subset)\n",
    "               for i in range(200)]"
   ]
  },
  {
   "cell_type": "markdown",
   "metadata": {},
   "source": [
    "The range of values is wide enough that it occasionally exceeds the observed effect size."
   ]
  },
  {
   "cell_type": "code",
   "execution_count": 80,
   "metadata": {},
   "outputs": [
    {
     "name": "stdout",
     "output_type": "stream",
     "text": [
      "-0.11032834278896282 0.13869713337268225\n"
     ]
    }
   ],
   "source": [
    "print(min(slopes_null), max(slopes_null))"
   ]
  },
  {
   "cell_type": "markdown",
   "metadata": {},
   "source": [
    "Our estimate of the p-value is only approximate, but it looks like it's between 1% and 2%."
   ]
  },
  {
   "cell_type": "code",
   "execution_count": 81,
   "metadata": {},
   "outputs": [
    {
     "data": {
      "text/plain": [
       "0.015"
      ]
     },
     "execution_count": 81,
     "metadata": {},
     "output_type": "execute_result"
    }
   ],
   "source": [
    "p_value = (np.abs(slopes_null) > np.abs(slope_actual)).mean()\n",
    "p_value"
   ]
  },
  {
   "cell_type": "markdown",
   "metadata": {},
   "source": [
    "This result indicates that an observed difference of 0.1 pounds is possible, but not likely, if the actual difference between the groups is zero.\n",
    "\n",
    "So how should we interpret a result like this?\n",
    "In the tradition of statistical hypothesis testing, it is common to use 5% as the threshold between results that are considered \"statistically significant\" or not (see <https://en.wikipedia.org/wiki/Statistical_hypothesis_testing>).\n",
    "By that standard, the weight difference between first babies and others is statistically significant."
   ]
  },
  {
   "cell_type": "markdown",
   "metadata": {},
   "source": [
    "However, there are several problems with this practice:\n",
    "\n",
    "* First, the choice of the threshold should depend on the context.  For a life-and-death decision, we might choose a more stringent threshold.  For a topic of idle curiosity, like this one, we could be more relaxed.\n",
    "\n",
    "* But it might not be useful to apply a threshold at all.  An alternative (which is common in practice) is to report the p-value and let it speak for itself.  It provides no additional value to declare that the result is significant or not.\n",
    "\n",
    "* Finally, the use of the word \"significant\" is dangerously misleading, because it implies that the result is important in practice.  But a small p-value only means that an observed effect would be unlikely to happen by chance.  It doesn't mean it is important.\n",
    "\n",
    "This last point is particularly problematic with large datasets, because very small effects can be statistically significant.\n",
    "We saw an example with the BRFSS dataset, where the correlations we tested were *all* statistically significant, even the ones that are too small to matter in practice."
   ]
  },
  {
   "cell_type": "markdown",
   "metadata": {},
   "source": [
    "## Summary\n",
    "\n",
    "Let's review the examples in this chapter:\n",
    "\n",
    "1. We started with data from LEAP, which studied the effect of eating peanuts on the development of peanut allergies.  The test statistic was relative risk, and the null hypothesis was that the treatment was ineffective.\n",
    "\n",
    "2. Then we looked at the difference in pregnancy length for first babies and others.  We used the difference in means as the test statistic, and two models of the null hypothesis: one based on a normal model and the other based on permutation of the data. As an exercise, you tested the difference in weight between first babies and others.\n",
    "\n",
    "3. Next we used permutation to test correlations, using height, weight, and age data from the BRFSS. This example shows that with large sample sizes, observed effects are often \"statistically significant\", even if they are too small to matter in practice.\n",
    "\n",
    "4. We used regression models to explore the maternal age effect on birth weight.  To see whether the effect might be due to chance, we used permutation to model the null hypothesis and $R^2$ as a test statistic.\n",
    "\n",
    "5. Finally, we explored the possibility that the first baby effect is actually an indirect maternal age effect.  After controlling for the mother's age, we tested whether the remaining difference between first babies and others might happen by chance. We used permutation to model the null hypothesis and the estimated slope as a test statistic.\n",
    "\n",
    "As an exercise, below, you can use the same methods to explore the paternal age effect."
   ]
  },
  {
   "cell_type": "markdown",
   "metadata": {},
   "source": [
    "**Exercise:** A paternal age effect is a relationship between the age of a father and a variety of outcomes for their children (see <https://en.wikipedia.org/wiki/Paternal_age_effect>).  There is some evidence that young fathers and old fathers tend to have lighter babies than fathers in the middle.  Let's see if that's true for the babies in the NSFG dataset.\n",
    "The `HPAGELB` column encodes the father's age.  Here are the values, after replacing the codes for missing data with `NaN`."
   ]
  },
  {
   "cell_type": "code",
   "execution_count": 82,
   "metadata": {},
   "outputs": [
    {
     "data": {
      "text/plain": [
       "1.0     478\n",
       "2.0    1391\n",
       "3.0    1650\n",
       "4.0    1225\n",
       "5.0     592\n",
       "6.0     411\n",
       "Name: HPAGELB, dtype: int64"
      ]
     },
     "execution_count": 82,
     "metadata": {},
     "output_type": "execute_result"
    }
   ],
   "source": [
    "subset['HPAGELB'].replace([98, 99], np.nan, inplace=True)\n",
    "subset['HPAGELB'].value_counts().sort_index()"
   ]
  },
  {
   "cell_type": "markdown",
   "metadata": {},
   "source": [
    "And here's what the codes mean:\n",
    "\n",
    "| Code \t| Age               \t|\n",
    "|------\t|-------------------\t|\n",
    "| 1    \t| Under 20 years    \t|\n",
    "| 2    \t| 20-24 years       \t|\n",
    "| 3    \t| 25-29 years       \t|\n",
    "| 4    \t| 30-34 years       \t|\n",
    "| 5    \t| 35-39 years       \t|\n",
    "| 6    \t| 40 years or older \t|\n",
    "\n",
    "I'll create a new column that's true for the fathers in the youngest and oldest groups."
   ]
  },
  {
   "cell_type": "code",
   "execution_count": 83,
   "metadata": {},
   "outputs": [],
   "source": [
    "subset['YO_DAD'] = subset['HPAGELB'].isin([1, 6])"
   ]
  },
  {
   "cell_type": "markdown",
   "metadata": {},
   "source": [
    "We can use this column in a regression model to compute the difference in birth weight for young and old fathers compared to the others."
   ]
  },
  {
   "cell_type": "code",
   "execution_count": 84,
   "metadata": {},
   "outputs": [
    {
     "data": {
      "text/plain": [
       "Intercept         7.447477\n",
       "YO_DAD[T.True]   -0.140045\n",
       "dtype: float64"
      ]
     },
     "execution_count": 84,
     "metadata": {},
     "output_type": "execute_result"
    }
   ],
   "source": [
    "formula = 'BIRTHWGT ~ YO_DAD'\n",
    "results = smf.ols(formula, data=subset).fit()\n",
    "results.params"
   ]
  },
  {
   "cell_type": "markdown",
   "metadata": {},
   "source": [
    "The difference is negative, which is consistent with the theory, and about 0.14 pounds, which is comparable in size to the (apparent) first baby effect.\n",
    "But there is a strong correlation between father's age and mother's age.  So what seems like a paternal age effect might actually be an indirect maternal age effect.\n",
    "To find out, let's see what happens if we control for the mother's age. \n",
    "Run this model again with `AGECON` and `AGECON2` as predictors.  Does the observed effect of paternal age get smaller?\n",
    "\n",
    "To see if the remaining effect could be due to randomness, write a function that shuffles `YO_DAD`, runs the regression model, and returns the parameter associated with the shuffled column.  How often does this parameter exceed the observed value?  What conclusion can we draw from the results?"
   ]
  },
  {
   "cell_type": "code",
   "execution_count": 85,
   "metadata": {
    "tags": [
     "remove-cell"
    ]
   },
   "outputs": [
    {
     "data": {
      "text/plain": [
       "Intercept         7.055844\n",
       "YO_DAD[T.True]   -0.124704\n",
       "AGECON            0.015951\n",
       "dtype: float64"
      ]
     },
     "execution_count": 85,
     "metadata": {},
     "output_type": "execute_result"
    }
   ],
   "source": [
    "# Solution\n",
    "\n",
    "formula = 'BIRTHWGT ~ YO_DAD + AGECON'\n",
    "results = smf.ols(formula, data=subset).fit()\n",
    "results.params"
   ]
  },
  {
   "cell_type": "code",
   "execution_count": 86,
   "metadata": {
    "tags": [
     "remove-cell"
    ]
   },
   "outputs": [
    {
     "data": {
      "text/plain": [
       "Intercept         6.019489\n",
       "YO_DAD[T.True]   -0.046431\n",
       "AGECON            0.099932\n",
       "AGECON2          -0.001628\n",
       "dtype: float64"
      ]
     },
     "execution_count": 86,
     "metadata": {},
     "output_type": "execute_result"
    }
   ],
   "source": [
    "# Solution\n",
    "\n",
    "formula = 'BIRTHWGT ~ YO_DAD + AGECON + AGECON2'\n",
    "results = smf.ols(formula, data=subset).fit()\n",
    "results.params"
   ]
  },
  {
   "cell_type": "code",
   "execution_count": 87,
   "metadata": {
    "tags": [
     "remove-cell"
    ]
   },
   "outputs": [
    {
     "data": {
      "text/html": [
       "<table class=\"simpletable\">\n",
       "<caption>OLS Regression Results</caption>\n",
       "<tr>\n",
       "  <th>Dep. Variable:</th>        <td>BIRTHWGT</td>     <th>  R-squared:         </th> <td>   0.012</td> \n",
       "</tr>\n",
       "<tr>\n",
       "  <th>Model:</th>                   <td>OLS</td>       <th>  Adj. R-squared:    </th> <td>   0.011</td> \n",
       "</tr>\n",
       "<tr>\n",
       "  <th>Method:</th>             <td>Least Squares</td>  <th>  F-statistic:       </th> <td>   20.48</td> \n",
       "</tr>\n",
       "<tr>\n",
       "  <th>Date:</th>             <td>Wed, 21 Sep 2022</td> <th>  Prob (F-statistic):</th> <td>3.45e-13</td> \n",
       "</tr>\n",
       "<tr>\n",
       "  <th>Time:</th>                 <td>14:41:20</td>     <th>  Log-Likelihood:    </th> <td> -7618.1</td> \n",
       "</tr>\n",
       "<tr>\n",
       "  <th>No. Observations:</th>      <td>  5043</td>      <th>  AIC:               </th> <td>1.524e+04</td>\n",
       "</tr>\n",
       "<tr>\n",
       "  <th>Df Residuals:</th>          <td>  5039</td>      <th>  BIC:               </th> <td>1.527e+04</td>\n",
       "</tr>\n",
       "<tr>\n",
       "  <th>Df Model:</th>              <td>     3</td>      <th>                     </th>     <td> </td>    \n",
       "</tr>\n",
       "<tr>\n",
       "  <th>Covariance Type:</th>      <td>nonrobust</td>    <th>                     </th>     <td> </td>    \n",
       "</tr>\n",
       "</table>\n",
       "<table class=\"simpletable\">\n",
       "<tr>\n",
       "         <td></td>           <th>coef</th>     <th>std err</th>      <th>t</th>      <th>P>|t|</th>  <th>[0.025</th>    <th>0.975]</th>  \n",
       "</tr>\n",
       "<tr>\n",
       "  <th>Intercept</th>      <td>    6.0195</td> <td>    0.282</td> <td>   21.350</td> <td> 0.000</td> <td>    5.467</td> <td>    6.572</td>\n",
       "</tr>\n",
       "<tr>\n",
       "  <th>YO_DAD[T.True]</th> <td>   -0.0464</td> <td>    0.048</td> <td>   -0.976</td> <td> 0.329</td> <td>   -0.140</td> <td>    0.047</td>\n",
       "</tr>\n",
       "<tr>\n",
       "  <th>AGECON</th>         <td>    0.0999</td> <td>    0.022</td> <td>    4.471</td> <td> 0.000</td> <td>    0.056</td> <td>    0.144</td>\n",
       "</tr>\n",
       "<tr>\n",
       "  <th>AGECON2</th>        <td>   -0.0016</td> <td>    0.000</td> <td>   -3.784</td> <td> 0.000</td> <td>   -0.002</td> <td>   -0.001</td>\n",
       "</tr>\n",
       "</table>\n",
       "<table class=\"simpletable\">\n",
       "<tr>\n",
       "  <th>Omnibus:</th>       <td>95.395</td> <th>  Durbin-Watson:     </th> <td>   1.600</td>\n",
       "</tr>\n",
       "<tr>\n",
       "  <th>Prob(Omnibus):</th> <td> 0.000</td> <th>  Jarque-Bera (JB):  </th> <td> 171.605</td>\n",
       "</tr>\n",
       "<tr>\n",
       "  <th>Skew:</th>          <td> 0.134</td> <th>  Prob(JB):          </th> <td>5.45e-38</td>\n",
       "</tr>\n",
       "<tr>\n",
       "  <th>Kurtosis:</th>      <td> 3.863</td> <th>  Cond. No.          </th> <td>1.29e+04</td>\n",
       "</tr>\n",
       "</table><br/><br/>Notes:<br/>[1] Standard Errors assume that the covariance matrix of the errors is correctly specified.<br/>[2] The condition number is large, 1.29e+04. This might indicate that there are<br/>strong multicollinearity or other numerical problems."
      ],
      "text/plain": [
       "<class 'statsmodels.iolib.summary.Summary'>\n",
       "\"\"\"\n",
       "                            OLS Regression Results                            \n",
       "==============================================================================\n",
       "Dep. Variable:               BIRTHWGT   R-squared:                       0.012\n",
       "Model:                            OLS   Adj. R-squared:                  0.011\n",
       "Method:                 Least Squares   F-statistic:                     20.48\n",
       "Date:                Wed, 21 Sep 2022   Prob (F-statistic):           3.45e-13\n",
       "Time:                        14:41:20   Log-Likelihood:                -7618.1\n",
       "No. Observations:                5043   AIC:                         1.524e+04\n",
       "Df Residuals:                    5039   BIC:                         1.527e+04\n",
       "Df Model:                           3                                         \n",
       "Covariance Type:            nonrobust                                         \n",
       "==================================================================================\n",
       "                     coef    std err          t      P>|t|      [0.025      0.975]\n",
       "----------------------------------------------------------------------------------\n",
       "Intercept          6.0195      0.282     21.350      0.000       5.467       6.572\n",
       "YO_DAD[T.True]    -0.0464      0.048     -0.976      0.329      -0.140       0.047\n",
       "AGECON             0.0999      0.022      4.471      0.000       0.056       0.144\n",
       "AGECON2           -0.0016      0.000     -3.784      0.000      -0.002      -0.001\n",
       "==============================================================================\n",
       "Omnibus:                       95.395   Durbin-Watson:                   1.600\n",
       "Prob(Omnibus):                  0.000   Jarque-Bera (JB):              171.605\n",
       "Skew:                           0.134   Prob(JB):                     5.45e-38\n",
       "Kurtosis:                       3.863   Cond. No.                     1.29e+04\n",
       "==============================================================================\n",
       "\n",
       "Notes:\n",
       "[1] Standard Errors assume that the covariance matrix of the errors is correctly specified.\n",
       "[2] The condition number is large, 1.29e+04. This might indicate that there are\n",
       "strong multicollinearity or other numerical problems.\n",
       "\"\"\""
      ]
     },
     "execution_count": 87,
     "metadata": {},
     "output_type": "execute_result"
    }
   ],
   "source": [
    "# Solution\n",
    "\n",
    "results.summary()"
   ]
  },
  {
   "cell_type": "code",
   "execution_count": 88,
   "metadata": {
    "tags": [
     "remove-cell"
    ]
   },
   "outputs": [
    {
     "data": {
      "text/plain": [
       "-0.04643110077856771"
      ]
     },
     "execution_count": 88,
     "metadata": {},
     "output_type": "execute_result"
    }
   ],
   "source": [
    "# Solution\n",
    "\n",
    "slope_actual2 = results.params['YO_DAD[T.True]']\n",
    "slope_actual2"
   ]
  },
  {
   "cell_type": "code",
   "execution_count": 89,
   "metadata": {
    "tags": [
     "remove-cell"
    ]
   },
   "outputs": [],
   "source": [
    "# Solution\n",
    "\n",
    "def simulate_slope2(df):\n",
    "    df['SHUFFLED'] = shuffle(df['YO_DAD'])\n",
    "    formula = 'BIRTHWGT ~ AGECON + AGECON2 + C(SHUFFLED)'\n",
    "    results = smf.ols(formula, data=df).fit()\n",
    "    return results.params['C(SHUFFLED)[T.True]']"
   ]
  },
  {
   "cell_type": "code",
   "execution_count": 90,
   "metadata": {
    "tags": [
     "remove-cell"
    ]
   },
   "outputs": [],
   "source": [
    "# Solution\n",
    "\n",
    "slopes_null2 = [simulate_slope2(subset)\n",
    "                for i in range(200)]"
   ]
  },
  {
   "cell_type": "code",
   "execution_count": 91,
   "metadata": {
    "tags": [
     "remove-cell"
    ]
   },
   "outputs": [
    {
     "name": "stdout",
     "output_type": "stream",
     "text": [
      "-0.1660870932659817 0.12647111182061924\n"
     ]
    }
   ],
   "source": [
    "# Solution\n",
    "\n",
    "print(min(slopes_null2), max(slopes_null2))"
   ]
  },
  {
   "cell_type": "code",
   "execution_count": 92,
   "metadata": {
    "tags": [
     "remove-cell"
    ]
   },
   "outputs": [
    {
     "data": {
      "text/plain": [
       "0.45"
      ]
     },
     "execution_count": 92,
     "metadata": {},
     "output_type": "execute_result"
    }
   ],
   "source": [
    "# Solution\n",
    "\n",
    "# The p-value is around 40%, which means that a difference\n",
    "# as big as the apparent effect could happen by chance.\n",
    "# We can conclude that this dataset does not provide evidence\n",
    "# for a paternal age effect on birth weight. \n",
    "\n",
    "p_value = (np.abs(slopes_null2) > np.abs(slope_actual2)).mean()\n",
    "p_value"
   ]
  },
  {
   "cell_type": "code",
   "execution_count": null,
   "metadata": {},
   "outputs": [],
   "source": []
  }
 ],
 "metadata": {
  "celltoolbar": "Tags",
  "kernelspec": {
   "display_name": "Python 3 (ipykernel)",
   "language": "python",
   "name": "python3"
  },
  "language_info": {
   "codemirror_mode": {
    "name": "ipython",
    "version": 3
   },
   "file_extension": ".py",
   "mimetype": "text/x-python",
   "name": "python",
   "nbconvert_exporter": "python",
   "pygments_lexer": "ipython3",
   "version": "3.7.7"
  }
 },
 "nbformat": 4,
 "nbformat_minor": 2
}
