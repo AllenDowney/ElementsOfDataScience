{
 "cells": [
  {
   "cell_type": "markdown",
   "metadata": {},
   "source": [
    "# Distributions"
   ]
  },
  {
   "cell_type": "markdown",
   "metadata": {
    "tags": []
   },
   "source": [
    "[Click here to run this notebook on Colab](https://colab.research.google.com/github/AllenDowney/ElementsOfDataScience/blob/v1/08_distributions.ipynb)."
   ]
  },
  {
   "cell_type": "code",
   "execution_count": 1,
   "metadata": {
    "tags": []
   },
   "outputs": [],
   "source": [
    "from os.path import basename, exists\n",
    "\n",
    "def download(url):\n",
    "    filename = basename(url)\n",
    "    if not exists(filename):\n",
    "        from urllib.request import urlretrieve\n",
    "\n",
    "        local, _ = urlretrieve(url, filename)\n",
    "        print(\"Downloaded \" + str(local))\n",
    "    return filename\n",
    "\n",
    "download('https://raw.githubusercontent.com/AllenDowney/ElementsOfDataScience/v1/utils.py')\n",
    "\n",
    "import utils"
   ]
  },
  {
   "cell_type": "markdown",
   "metadata": {},
   "source": [
    "In this chapter we'll see three ways to describe a distribution:\n",
    "\n",
    "* A probability mass function (PMF), which represents a set of values and the number of times each one appears in a dataset.\n",
    "\n",
    "* A cumulative distribution function (CDF), which contains the same information as a PMF in a form that makes it easier to visualize, make comparisons, and perform some computations.\n",
    "\n",
    "* A kernel density estimate (KDE), which is like a smooth, continuous version of a histogram.\n",
    "\n",
    "As examples, we'll use data from the General Social Survey (GSS) to look at distributions of age and income, and to explore the relationship between income and education.\n",
    "But we'll start with one of the most important ideas in statistics, the distribution."
   ]
  },
  {
   "cell_type": "markdown",
   "metadata": {},
   "source": [
    "## Distributions\n",
    "\n",
    "A distribution is a set of values and their corresponding probabilities.  For example, if you roll a six-sided die, there are six possible outcomes -- the numbers 1 through 6 -- and they all have the same probability, $1/6$.\n",
    "We can represent this distribution of outcomes with a table, like this:\n",
    "\n",
    "\n",
    "| Outcome       | 1     | 2     | 3     | 4     | 5     | 6     |\n",
    "| ------        | ----- | ----- | ----- | ----- | ----- | ----- |\n",
    "| Probability   | 1/6   | 1/6   | 1/6   | 1/6   | 1/6   | 1/6   |\n",
    "\n",
    "\n",
    "More generally, a distribution can have any number of values, the values can be any type, and the probabilities do not have to be equal.\n",
    "To represent distributions in Python, we'll use a library called `empiricaldist`, which stands for \"empirical distribution\", where \"empirical\" means it is based on data rather than a mathematical formula."
   ]
  },
  {
   "cell_type": "markdown",
   "metadata": {
    "tags": []
   },
   "source": [
    "The following cell checks whether `empiricaldist` is installed and installs it if necessary."
   ]
  },
  {
   "cell_type": "code",
   "execution_count": 2,
   "metadata": {
    "tags": []
   },
   "outputs": [],
   "source": [
    "try:\n",
    "    import empiricaldist\n",
    "except ImportError:\n",
    "    !pip install empiricaldist"
   ]
  },
  {
   "cell_type": "markdown",
   "metadata": {},
   "source": [
    "`empiricaldist` provides an object type called `Pmf`, which stands for \"probability mass function\".\n",
    "A `Pmf` object contains a set of possible outcomes and their probabilities.\n",
    "For example, here's a `Pmf` that represents the outcome of rolling a six-sided die:"
   ]
  },
  {
   "cell_type": "code",
   "execution_count": 3,
   "metadata": {},
   "outputs": [],
   "source": [
    "from empiricaldist import Pmf\n",
    "\n",
    "outcomes = [1,2,3,4,5,6]\n",
    "die = Pmf(1/6, outcomes)"
   ]
  },
  {
   "cell_type": "markdown",
   "metadata": {},
   "source": [
    "The first argument is the probability of the outcomes; the second argument is the list of outcomes.\n",
    "We can display the result like this."
   ]
  },
  {
   "cell_type": "code",
   "execution_count": 4,
   "metadata": {},
   "outputs": [],
   "source": [
    "die"
   ]
  },
  {
   "cell_type": "markdown",
   "metadata": {},
   "source": [
    "A `Pmf` object is a specialized version of a Pandas `Series`, so it provides all of the methods of a `Series`, plus some additional methods we'll see soon."
   ]
  },
  {
   "cell_type": "markdown",
   "metadata": {},
   "source": [
    "## The General Social Survey\n",
    "\n",
    "We'll use `Pmf` objects to represent distributions of values from a new dataset, the General Social Survey (GSS).\n",
    "The GSS surveys a representative sample of adult residents of the U.S. and asks questions about demographics, personal history, and beliefs about social and political issues.\n",
    "It is widely used by politicians, policy makers, and researchers.\n",
    "\n",
    "The GSS dataset contains hundreds of columns.\n",
    "I've selected just a few and save the extract in an HDF file, which is more compact than the original fixed-width file, and faster to read.\n",
    "Instructions for downloading the file are in the notebook for this chapter."
   ]
  },
  {
   "cell_type": "code",
   "execution_count": 5,
   "metadata": {},
   "outputs": [],
   "source": [
    "data_file = 'gss_extract_2022.hdf'"
   ]
  },
  {
   "cell_type": "markdown",
   "metadata": {
    "tags": []
   },
   "source": [
    "The following cells download the data extract."
   ]
  },
  {
   "cell_type": "code",
   "execution_count": 6,
   "metadata": {
    "tags": []
   },
   "outputs": [],
   "source": [
    "download('https://github.com/AllenDowney/ElementsOfDataScience/raw/v1/data/' + data_file)"
   ]
  },
  {
   "cell_type": "markdown",
   "metadata": {},
   "source": [
    "We'll use the Pandas `read_hdf` function to read the data file and load `gss`, which is a `DataFrame`."
   ]
  },
  {
   "cell_type": "code",
   "execution_count": 7,
   "metadata": {},
   "outputs": [],
   "source": [
    "import pandas as pd\n",
    "\n",
    "gss = pd.read_hdf(data_file, 'gss')\n",
    "gss.shape"
   ]
  },
  {
   "cell_type": "markdown",
   "metadata": {},
   "source": [
    "`gss` has one row for each respondent and one column for each question in the extract.\n",
    "Here are the first few rows."
   ]
  },
  {
   "cell_type": "code",
   "execution_count": 8,
   "metadata": {},
   "outputs": [],
   "source": [
    "gss.head()"
   ]
  },
  {
   "cell_type": "markdown",
   "metadata": {},
   "source": [
    "I'll explain these columns as we go along, but if you want more information, you can read the online documentation at <https://gssdataexplorer.norc.org>.\n",
    "In the GSS documentation, you'll see that they use the term \"variable\" for a column that contains answers to survey questions."
   ]
  },
  {
   "cell_type": "markdown",
   "metadata": {},
   "source": [
    "## Distribution of Education\n",
    "\n",
    "To get started with this dataset, let's look at the `educ` column, which records the number of years of education for each respondent.\n",
    "We can select this column from the `DataFrame` like this:"
   ]
  },
  {
   "cell_type": "code",
   "execution_count": 9,
   "metadata": {},
   "outputs": [],
   "source": [
    "educ = gss['educ']"
   ]
  },
  {
   "cell_type": "markdown",
   "metadata": {},
   "source": [
    "To see what the distribution of the responses looks like, we can use the `hist` method to plot a histogram."
   ]
  },
  {
   "cell_type": "code",
   "execution_count": 10,
   "metadata": {},
   "outputs": [],
   "source": [
    "import matplotlib.pyplot as plt\n",
    "\n",
    "educ.hist(grid=False)\n",
    "plt.xlabel('Years of education')\n",
    "plt.ylabel('Number of respondents')\n",
    "plt.title('Histogram of education level');"
   ]
  },
  {
   "cell_type": "markdown",
   "metadata": {},
   "source": [
    "Based on the histogram, we can see the general shape of the distribution and the central tendency -- it looks like the peak is near 12 years of education.\n",
    "But a histogram is not the best way to visualize this distribution because it obscures some important details.\n",
    "\n",
    "An alternative is to use a `Pmf` object.\n",
    "The function `Pmf.from_seq` takes any kind of sequence -- like a list, tuple, or Pandas `Series` -- and computes the distribution of the values."
   ]
  },
  {
   "cell_type": "code",
   "execution_count": 11,
   "metadata": {},
   "outputs": [],
   "source": [
    "pmf_educ = Pmf.from_seq(educ, normalize=False)\n",
    "type(pmf_educ)"
   ]
  },
  {
   "cell_type": "markdown",
   "metadata": {},
   "source": [
    "With the keyword argument `normalize=False`, the result contains counts rather than probabilities.\n",
    "Here are the first few values in `educ` and their counts."
   ]
  },
  {
   "cell_type": "code",
   "execution_count": 12,
   "metadata": {},
   "outputs": [],
   "source": [
    "pmf_educ.head()"
   ]
  },
  {
   "cell_type": "markdown",
   "metadata": {},
   "source": [
    "In this dataset, there are 177 respondents who report that they have no formal education, and 49 who have only one year.\n",
    "Here are the last few values."
   ]
  },
  {
   "cell_type": "code",
   "execution_count": 13,
   "metadata": {},
   "outputs": [],
   "source": [
    "pmf_educ.tail()"
   ]
  },
  {
   "cell_type": "markdown",
   "metadata": {},
   "source": [
    "There are 1803 respondents who report that they have 20 or more years of formal education, which probably means they attended college and graduate school.\n",
    "We can use the bracket operator to look up a value in `pmf_educ` and get the corresponding count."
   ]
  },
  {
   "cell_type": "code",
   "execution_count": 14,
   "metadata": {},
   "outputs": [],
   "source": [
    "pmf_educ[20]"
   ]
  },
  {
   "cell_type": "markdown",
   "metadata": {},
   "source": [
    "Often when we make a `Pmf`, we want to know the *fraction* of respondents with each value, rather than the counts.\n",
    "We can do that by setting `normalize=True`.\n",
    "Then we get a **normalized** `Pmf`, which means that the fractions add up to 1."
   ]
  },
  {
   "cell_type": "code",
   "execution_count": 15,
   "metadata": {},
   "outputs": [],
   "source": [
    "pmf_educ_norm = Pmf.from_seq(educ, normalize=True)\n",
    "pmf_educ_norm.head()"
   ]
  },
  {
   "cell_type": "markdown",
   "metadata": {},
   "source": [
    "Now if we use the bracket operator to look up a value, the result is a fraction rather than a count."
   ]
  },
  {
   "cell_type": "code",
   "execution_count": 16,
   "metadata": {},
   "outputs": [],
   "source": [
    "pmf_educ_norm[20]"
   ]
  },
  {
   "cell_type": "markdown",
   "metadata": {},
   "source": [
    "The result indicates that about 2.5% of the respondents have 20 years of education.\n",
    "But we can also interpret this result as a probability -- if we choose a random respondent, the probability is 2.5% that they have 20 years of education.\n",
    "\n",
    "When a `Pmf` contains probabilities, we can say that it represents a proper probability mass function, or PMF.\n",
    "With apologies for confusing notation, I'll use `Pmf` to mean a kind of Python object, and PMF to mean the concept of a probability mass function.\n",
    "\n",
    "`Pmf` provides a `bar` method that plots the values and their probabilities as a bar chart."
   ]
  },
  {
   "cell_type": "code",
   "execution_count": 17,
   "metadata": {},
   "outputs": [],
   "source": [
    "pmf_educ_norm.bar(label='educ')\n",
    "\n",
    "plt.xlabel('Years of education')\n",
    "plt.xticks(range(0, 21, 4))\n",
    "plt.ylabel('PMF')\n",
    "plt.title('Distribution of years of education')\n",
    "plt.legend();"
   ]
  },
  {
   "cell_type": "markdown",
   "metadata": {},
   "source": [
    "In this figure, we can see that the most common value is 12 years, but there are also peaks at 14 and 16, which correspond to two and four years of college.\n",
    "For this data, plotting the `Pmf` is probably a better choice than the histogram.\n",
    "The `Pmf` shows all unique values, so we can see where the peaks are."
   ]
  },
  {
   "cell_type": "markdown",
   "metadata": {},
   "source": [
    "**Exercise:** Let's look at the `year` column in the `DataFrame`, which represents the year each respondent was interviewed.\n",
    "Make an unnormalized `Pmf` for `year` and plot the result as a bar chart.\n",
    "Use the bracket operator to look up the number of respondents interviewed in 2022."
   ]
  },
  {
   "cell_type": "code",
   "execution_count": 18,
   "metadata": {},
   "outputs": [],
   "source": [
    "# Solution goes here"
   ]
  },
  {
   "cell_type": "code",
   "execution_count": 19,
   "metadata": {},
   "outputs": [],
   "source": [
    "# Solution goes here"
   ]
  },
  {
   "cell_type": "code",
   "execution_count": 20,
   "metadata": {},
   "outputs": [],
   "source": [
    "# Solution goes here"
   ]
  },
  {
   "cell_type": "markdown",
   "metadata": {},
   "source": [
    "## Cumulative Distribution Functions\n",
    "\n",
    "If we compute the cumulative sum of a PMF, the result is a cumulative distribution function (CDF).\n",
    "To see what that means, and why it is useful, let's look at a simple example.\n",
    "Suppose we have a sequence of five values."
   ]
  },
  {
   "cell_type": "code",
   "execution_count": 21,
   "metadata": {},
   "outputs": [],
   "source": [
    "values = 1, 2, 2, 3, 5  "
   ]
  },
  {
   "cell_type": "markdown",
   "metadata": {},
   "source": [
    "Here's the `Pmf` of these values."
   ]
  },
  {
   "cell_type": "code",
   "execution_count": 22,
   "metadata": {},
   "outputs": [],
   "source": [
    "pmf = Pmf.from_seq(values)\n",
    "pmf"
   ]
  },
  {
   "cell_type": "markdown",
   "metadata": {},
   "source": [
    "If you draw a random value from `values`, the `Pmf` tells you the chance of getting `x`, for any value of `x`.\n",
    "\n",
    "* The probability of the value `1` is `0.2`,\n",
    "\n",
    "* The probability of the value `2` is `0.4`, and \n",
    "\n",
    "* The probabilities for `3` and `5` are `0.2` each.\n",
    "\n",
    "The `Pmf` object has a method called `make_cdf` that computes the cumulative sum of the probabilities in the `Pmf` and returns a `Cdf` object."
   ]
  },
  {
   "cell_type": "code",
   "execution_count": 23,
   "metadata": {},
   "outputs": [],
   "source": [
    "cdf = pmf.make_cdf()\n",
    "cdf"
   ]
  },
  {
   "cell_type": "markdown",
   "metadata": {},
   "source": [
    "If you draw a random value from `values`, the `Cdf` tells you the chance of getting a value *less than or equal to* `x`, for any given `x`.\n",
    "\n",
    "* The `Cdf` of `1` is `0.2` because one of the five values is less than or equal to 1,\n",
    "\n",
    "* The `Cdf` of `2` is `0.6` because three of the five values are less than or equal to `2`,\n",
    "\n",
    "* The `Cdf` of `3` is `0.8` because four of the five values are less than or equal to `3`,\n",
    "\n",
    "* The `Cdf` of `5` is `1.0` because all of the values are less than or equal to `5`.\n",
    "\n",
    "If we make a `Cdf` from a proper `Pmf`, where the probabilities add up to 1, the result represents a proper CDF.\n",
    "As with `Pmf` and PMF, I'll use `Cdf` to refer to a Python object and CDF to refer to the concept."
   ]
  },
  {
   "cell_type": "markdown",
   "metadata": {},
   "source": [
    "## CDF of Age\n",
    "\n",
    "To see why CDFs are useful, let's consider the distribution of ages for respondents in the General Social Survey.\n",
    "The column we'll use is `age`."
   ]
  },
  {
   "cell_type": "markdown",
   "metadata": {
    "tags": []
   },
   "source": [
    "Documentation of `age` is at <https://gssdataexplorer.norc.org/variables/53/vshow>."
   ]
  },
  {
   "cell_type": "markdown",
   "metadata": {},
   "source": [
    "According to the codebook, the range of the values is from `18` to `89`, where `89` means \"89 or older\".\n",
    "The special codes `98` and `99` mean \"Don't know\" and \"Didn't answer\".\n",
    "We can use `replace` to replace the special codes with `NaN`."
   ]
  },
  {
   "cell_type": "code",
   "execution_count": 24,
   "metadata": {},
   "outputs": [],
   "source": [
    "age = gss['age']"
   ]
  },
  {
   "cell_type": "markdown",
   "metadata": {},
   "source": [
    "`empiricaldist` provides a `Cdf.from_seq` function that takes any kind of sequence and computes the CDF of the values."
   ]
  },
  {
   "cell_type": "code",
   "execution_count": 25,
   "metadata": {},
   "outputs": [],
   "source": [
    "from empiricaldist import Cdf\n",
    "\n",
    "cdf_age = Cdf.from_seq(age)"
   ]
  },
  {
   "cell_type": "markdown",
   "metadata": {},
   "source": [
    "The result is a `Cdf` object, which provides a method called `plot` that plots the CDF as a line."
   ]
  },
  {
   "cell_type": "code",
   "execution_count": 26,
   "metadata": {},
   "outputs": [],
   "source": [
    "cdf_age.plot()\n",
    "\n",
    "plt.xlabel('Age (years)')\n",
    "plt.ylabel('CDF')\n",
    "plt.title('Distribution of age');"
   ]
  },
  {
   "cell_type": "markdown",
   "metadata": {},
   "source": [
    "The x-axis is the ages, from 18 to 89.\n",
    "The y-axis is the cumulative probabilities, from 0 to 1.\n",
    "The `Cdf` object can be used as a function, so if you give it an age, it returns the corresponding probability in a NumPy array."
   ]
  },
  {
   "cell_type": "code",
   "execution_count": 27,
   "metadata": {},
   "outputs": [],
   "source": [
    "q = 51\n",
    "p = cdf_age(q)\n",
    "p"
   ]
  },
  {
   "cell_type": "markdown",
   "metadata": {},
   "source": [
    "`q` stands for \"quantity\", which is another name for a value in a distribution.\n",
    "`p` stands for probability, which is the result.\n",
    "In this example, the quantity is age 51, and the corresponding probability is about 0.62.\n",
    "That means that about 62% of the respondents are age 51 or younger.\n",
    "The arrow in the following figure shows how you could read this value from the CDF, at least approximately."
   ]
  },
  {
   "cell_type": "code",
   "execution_count": 28,
   "metadata": {
    "tags": []
   },
   "outputs": [],
   "source": [
    "def draw_line(p, q, x):\n",
    "    xs = [q, q, x]\n",
    "    ys = [0, p, p]\n",
    "    plt.plot(xs, ys, ':', color='gray')\n",
    "\n",
    "def draw_arrow_left(p, q, x):\n",
    "    dx = 3\n",
    "    dy = 0.025\n",
    "    xs = [x+dx, x, x+dx]\n",
    "    ys = [p-dy, p, p+dy]\n",
    "    plt.plot(xs, ys, ':', color='gray')\n",
    "    \n",
    "def draw_arrow_down(p, q, y):\n",
    "    dx = 1.25\n",
    "    dy = 0.045\n",
    "    xs = [q-dx, q, q+dx]\n",
    "    ys = [y+dy, y, y+dy]\n",
    "    plt.plot(xs, ys, ':', color='gray')"
   ]
  },
  {
   "cell_type": "code",
   "execution_count": 29,
   "metadata": {
    "tags": []
   },
   "outputs": [],
   "source": [
    "cdf_age.plot()\n",
    "\n",
    "x = 17\n",
    "draw_line(p, q, x)\n",
    "draw_arrow_left(p, q, x)\n",
    "\n",
    "plt.xlabel('Age (years)')\n",
    "plt.xlim(x-1, 91)\n",
    "plt.ylabel('CDF')\n",
    "plt.title('Distribution of age');"
   ]
  },
  {
   "cell_type": "markdown",
   "metadata": {},
   "source": [
    "The CDF is an invertible function, which means that if you have a probability, `p`, you can look up the corresponding quantity, `q`.\n",
    "The `Cdf` object provides a method called `inverse` that computes the inverse of the cumulative distribution function."
   ]
  },
  {
   "cell_type": "code",
   "execution_count": 30,
   "metadata": {},
   "outputs": [],
   "source": [
    "p1 = 0.25\n",
    "q1 = cdf_age.inverse(p1)\n",
    "q1"
   ]
  },
  {
   "cell_type": "markdown",
   "metadata": {},
   "source": [
    "In this example, we look up the probability 0.25 and the result is 32.\n",
    "That means that 25% of the respondents are age 32 or less.\n",
    "Another way to say the same thing is \"age 32 is the 25th percentile of this distribution\".\n",
    "\n",
    "If we look up probability 0.75, it returns 60, so 75% of the respondents are 60 or younger."
   ]
  },
  {
   "cell_type": "code",
   "execution_count": 31,
   "metadata": {},
   "outputs": [],
   "source": [
    "p2 = 0.75\n",
    "q2 = cdf_age.inverse(p2)\n",
    "q2"
   ]
  },
  {
   "cell_type": "markdown",
   "metadata": {},
   "source": [
    "In the following figure, the arrows show how you could read these values from the CDF."
   ]
  },
  {
   "cell_type": "code",
   "execution_count": 32,
   "metadata": {},
   "outputs": [],
   "source": [
    "cdf_age.plot()\n",
    "\n",
    "x = 17\n",
    "draw_line(p1, q1, x)\n",
    "draw_arrow_down(p1, q1, 0)\n",
    "\n",
    "draw_line(p2, q2, x)\n",
    "draw_arrow_down(p2, q2, 0)\n",
    "\n",
    "plt.xlabel('Age (years)')\n",
    "plt.xlim(x-1, 91)\n",
    "plt.ylabel('CDF')\n",
    "plt.title('Distribution of age');"
   ]
  },
  {
   "cell_type": "markdown",
   "metadata": {},
   "source": [
    "The distance from the 25th to the 75th percentile is called the **interquartile range** or IQR.\n",
    "It measures the spread of the distribution, so it is similar to standard deviation or variance.\n",
    "Because it is based on percentiles, it doesn't get thrown off by outliers as much as standard deviation does.\n",
    "So IQR is more **robust** than variance, which means it works well even if there are errors in the data or extreme values."
   ]
  },
  {
   "cell_type": "markdown",
   "metadata": {},
   "source": [
    "**Exercise:**  Using `cdf_age`, compute the fraction of respondents in the GSS dataset who are *older* than `65`.\n",
    "Recall that the CDF computes the fraction who are less than or equal to a value, so the complement is the fraction who exceed a value."
   ]
  },
  {
   "cell_type": "code",
   "execution_count": 33,
   "metadata": {},
   "outputs": [],
   "source": [
    "# Solution goes here"
   ]
  },
  {
   "cell_type": "markdown",
   "metadata": {},
   "source": [
    "**Exercise:** The distribution of income in almost every country is long-tailed, which means there are a small number of people with very high incomes.\n",
    "In the GSS dataset, the `realinc` column represents total household income, converted to 1986 dollars.\n",
    "We can get a sense of the shape of this distribution by plotting the CDF.\n",
    "Select `realinc` from the `gss` dataset, make a `Cdf` called `cdf_income`, and plot it.  Remember to label the axes!\n",
    "\n",
    "Because the tail of the distribution extends to the right, the mean is greater than the median.\n",
    "Use the `Cdf` object to compute the fraction of respondents whose income is at or below the mean. "
   ]
  },
  {
   "cell_type": "code",
   "execution_count": 34,
   "metadata": {},
   "outputs": [],
   "source": [
    "# Solution goes here"
   ]
  },
  {
   "cell_type": "code",
   "execution_count": 35,
   "metadata": {},
   "outputs": [],
   "source": [
    "# Solution goes here"
   ]
  },
  {
   "cell_type": "markdown",
   "metadata": {},
   "source": [
    "## Comparing Distributions\n",
    "\n",
    "So far we've seen two ways to represent distributions, PMFs and CDFs.\n",
    "Now we'll use PMFs and CDFs to compare distributions, and we'll see the pros and cons of each.\n",
    "One way to compare distributions is to plot multiple PMFs on the same axes.\n",
    "For example, suppose we want to compare the distribution of age for male and female respondents.\n",
    "First we'll create a Boolean `Series` that's true for male respondents and another that's true for female respondents."
   ]
  },
  {
   "cell_type": "code",
   "execution_count": 36,
   "metadata": {},
   "outputs": [],
   "source": [
    "male = (gss['sex'] == 1)\n",
    "female = (gss['sex'] == 2)"
   ]
  },
  {
   "cell_type": "markdown",
   "metadata": {},
   "source": [
    "We can use these `Series` to select ages for male and female respondents."
   ]
  },
  {
   "cell_type": "code",
   "execution_count": 37,
   "metadata": {},
   "outputs": [],
   "source": [
    "male_age = age[male]\n",
    "female_age = age[female]"
   ]
  },
  {
   "cell_type": "markdown",
   "metadata": {},
   "source": [
    "And plot a PMF for each."
   ]
  },
  {
   "cell_type": "code",
   "execution_count": 38,
   "metadata": {},
   "outputs": [],
   "source": [
    "pmf_male_age = Pmf.from_seq(male_age)\n",
    "pmf_male_age.plot(label='Male')\n",
    "\n",
    "pmf_female_age = Pmf.from_seq(female_age)\n",
    "pmf_female_age.plot(label='Female')\n",
    "\n",
    "plt.xlabel('Age (years)') \n",
    "plt.ylabel('PMF')\n",
    "plt.title('Distribution of age by sex')\n",
    "plt.legend();"
   ]
  },
  {
   "cell_type": "markdown",
   "metadata": {},
   "source": [
    "A plot as variable as this is often described as **noisy**.\n",
    "If we ignore the noise, it looks like the PMF is higher for men between ages 40 and 50, \n",
    "and higher for women between ages 70 and 80.\n",
    "But both of those differences might be due to randomness.\n",
    "\n",
    "Now let's do the same thing with CDFs -- everything is the same except we replace `Pmf` with `Cdf`."
   ]
  },
  {
   "cell_type": "code",
   "execution_count": 39,
   "metadata": {},
   "outputs": [],
   "source": [
    "cdf_male_age = Cdf.from_seq(male_age)\n",
    "cdf_male_age.plot(label='Male')\n",
    "\n",
    "cdf_female_age = Cdf.from_seq(female_age)\n",
    "cdf_female_age.plot(label='Female')\n",
    "\n",
    "plt.xlabel('Age (years)') \n",
    "plt.ylabel('CDF')\n",
    "plt.title('Distribution of age by sex')\n",
    "plt.legend();"
   ]
  },
  {
   "cell_type": "markdown",
   "metadata": {},
   "source": [
    "Because CDFs smooth out randomness, they provide a better view of real differences between distributions.\n",
    "In this case, the lines are close together until age 40 -- after that, the CDF is higher for men than women.\n",
    "\n",
    "So what does that mean?\n",
    "One way to interpret the difference is that the fraction of men below a given age is generally more than the fraction of women below the same age.\n",
    "For example, about 79% of men are 60 or less, compared to 76% of women."
   ]
  },
  {
   "cell_type": "code",
   "execution_count": 40,
   "metadata": {},
   "outputs": [],
   "source": [
    "cdf_male_age(60), cdf_female_age(60)"
   ]
  },
  {
   "cell_type": "markdown",
   "metadata": {},
   "source": [
    "Going the other way, we could also compare percentiles.\n",
    "For example, the median age woman is older than the median age man, by about one year."
   ]
  },
  {
   "cell_type": "code",
   "execution_count": 41,
   "metadata": {},
   "outputs": [],
   "source": [
    "cdf_male_age.inverse(0.5), cdf_female_age.inverse(0.5)"
   ]
  },
  {
   "cell_type": "markdown",
   "metadata": {},
   "source": [
    "**Exercise:** What fraction of men are over 80?  What fraction of women?"
   ]
  },
  {
   "cell_type": "code",
   "execution_count": 42,
   "metadata": {},
   "outputs": [],
   "source": [
    "# Solution goes here"
   ]
  },
  {
   "cell_type": "markdown",
   "metadata": {},
   "source": [
    "## Comparing Incomes\n",
    "\n",
    "As another example, let's look at household income and compare the distribution before and after 1995 (I chose 1995 because it's roughly the midpoint of the survey).\n",
    "We'll make two Boolean `Series` objects to select respondents interviewed before and after 1995."
   ]
  },
  {
   "cell_type": "code",
   "execution_count": 43,
   "metadata": {},
   "outputs": [],
   "source": [
    "pre95 = (gss['year'] < 1995)\n",
    "post95 = (gss['year'] >= 1995)"
   ]
  },
  {
   "cell_type": "markdown",
   "metadata": {},
   "source": [
    "Now we can plot the PMFs of `realinc`, which records household income converted to 1986 dollars."
   ]
  },
  {
   "cell_type": "code",
   "execution_count": 44,
   "metadata": {},
   "outputs": [],
   "source": [
    "realinc = gss['realinc']\n",
    "\n",
    "Pmf.from_seq(realinc[pre95]).plot(label='Before 1995')\n",
    "Pmf.from_seq(realinc[post95]).plot(label='After 1995')\n",
    "\n",
    "plt.xlabel('Income (1986 USD)')\n",
    "plt.ylabel('PMF')\n",
    "plt.title('Distribution of income')\n",
    "plt.legend();"
   ]
  },
  {
   "cell_type": "markdown",
   "metadata": {},
   "source": [
    "There are a lot of unique values in this distribution, and none of them appear very often.  As a result, the PMF is so noisy and we can't really see the shape of the distribution.\n",
    "It's also hard to compare the distributions.\n",
    "It looks like there are more people with high incomes after 1995, but it's hard to tell.  We can get a clearer picture with a CDF."
   ]
  },
  {
   "cell_type": "code",
   "execution_count": 45,
   "metadata": {},
   "outputs": [],
   "source": [
    "Cdf.from_seq(realinc[pre95]).plot(label='Before 1995')\n",
    "Cdf.from_seq(realinc[post95]).plot(label='After 1995')\n",
    "\n",
    "plt.xlabel('Income (1986 USD)')\n",
    "plt.ylabel('CDF')\n",
    "plt.title('Distribution of income')\n",
    "plt.legend();"
   ]
  },
  {
   "cell_type": "markdown",
   "metadata": {},
   "source": [
    "Below $30,000 the CDFs are almost identical; above that, we can see that the post-1995 distribution is shifted to the right.\n",
    "In other words, the fraction of people with high incomes is about the same, but the income of high earners has increased.\n",
    "\n",
    "In general, I recommend CDFs for exploratory analysis.\n",
    "They give you a clear view of the distribution, without too much noise, and they are good for comparing distributions."
   ]
  },
  {
   "cell_type": "markdown",
   "metadata": {},
   "source": [
    "**Exercise:** Let's compare incomes for different levels of education in the GSS dataset.\n",
    "We'll use the `degree` column, which represents the highest degree each respondent has earned.\n",
    "In this column, the value `1` indicates a high school diploma, `2` indicates an Associate's degree, and `3` indicates a Bachelor's degree.\n",
    "\n",
    "Compute and plot the distribution of income for each group.\n",
    "Remember to label the CDFs, display a legend, and label the axes.\n",
    "Write a few sentences that describe and interpret the results."
   ]
  },
  {
   "cell_type": "code",
   "execution_count": 46,
   "metadata": {
    "tags": []
   },
   "outputs": [],
   "source": [
    "# You can use the following Boolean Series objects to select groups from `realinc`\n",
    "\n",
    "# Select educ\n",
    "degree = gss['degree']\n",
    "\n",
    "# Bachelor's degree\n",
    "bach = (degree == 3)\n",
    "\n",
    "# Associate degree\n",
    "assc = (degree == 2)\n",
    "\n",
    "# High school\n",
    "high = (degree == 1)"
   ]
  },
  {
   "cell_type": "code",
   "execution_count": 47,
   "metadata": {},
   "outputs": [],
   "source": [
    "# Solution goes here"
   ]
  },
  {
   "cell_type": "code",
   "execution_count": 48,
   "metadata": {},
   "outputs": [],
   "source": [
    "# Solution goes here"
   ]
  },
  {
   "cell_type": "markdown",
   "metadata": {},
   "source": [
    "## Modeling Distributions\n",
    "\n",
    "Some distributions have names.\n",
    "For example, you might be familiar with the normal distribution, also called the Gaussian distribution or the bell curve.\n",
    "And you might have heard of others like the exponential distribution, binomial distribution, or maybe Poisson distribution.\n",
    "These \"distributions with names\" are called **theoretical** because they are based on mathematical functions, as contrasted with empirical distributions, which are based on data.\n",
    "\n",
    "Many things we measure have distributions that are well approximated by theoretical distributions, so these distributions are sometimes good models for the real world.\n",
    "In this context, what I mean by a **model** is a simplified description of the world that is accurate enough for its intended purpose.\n",
    "\n",
    "To check whether a theoretical distribution is a good model for a dataset, we can compare the CDF of the data to the CDF of a normal distribution with the same mean and standard deviation.\n",
    "I'll demonstrate with a sample from a normal distribution, then we'll try it with real data.\n",
    "\n",
    "The following statement uses NumPy's `random` library to generate 1000 values from a normal distribution with mean 10 and standard deviation 1."
   ]
  },
  {
   "cell_type": "code",
   "execution_count": 49,
   "metadata": {
    "tags": []
   },
   "outputs": [],
   "source": [
    "np.random.seed(17)"
   ]
  },
  {
   "cell_type": "code",
   "execution_count": null,
   "metadata": {},
   "outputs": [],
   "source": [
    "sample = np.random.normal(10, 1, size=1000)"
   ]
  },
  {
   "cell_type": "markdown",
   "metadata": {},
   "source": [
    "Here's what the empirical distribution of the sample looks like."
   ]
  },
  {
   "cell_type": "code",
   "execution_count": null,
   "metadata": {},
   "outputs": [],
   "source": [
    "cdf_sample = Cdf.from_seq(sample)\n",
    "cdf_sample.plot(label='Random sample')\n",
    "\n",
    "plt.xlabel('x')\n",
    "plt.ylabel('CDF')\n",
    "plt.legend();"
   ]
  },
  {
   "cell_type": "markdown",
   "metadata": {},
   "source": [
    "Now let's compute the CDF of a normal distribution with the actual values of the mean and standard deviation."
   ]
  },
  {
   "cell_type": "code",
   "execution_count": null,
   "metadata": {},
   "outputs": [],
   "source": [
    "from scipy.stats import norm\n",
    "\n",
    "qs = np.linspace(10-3, 10+3)\n",
    "ps = norm(10, 1).cdf(qs)"
   ]
  },
  {
   "cell_type": "markdown",
   "metadata": {},
   "source": [
    "First we import `norm` from `scipy.stats`, which is a collection of functions related to statistics.\n",
    "Then we use `linspace()` to create an array of equally-spaced values from -3 to 3 -- those are the `qs` where we will evaluate the normal CDF.\n",
    "Next, `norm(10, 1)` creates an object that represents a normal distribution with mean 10 and standard deviation 1.\n",
    "Finally, `cdf` computes the CDF of the normal distribution, evaluated at each of the `qs`.\n",
    "\n",
    "I'll plot the normal CDF with a gray line and then plot the CDF of the data again."
   ]
  },
  {
   "cell_type": "code",
   "execution_count": null,
   "metadata": {},
   "outputs": [],
   "source": [
    "plt.plot(qs, ps, color='gray', label='Normal CDF')\n",
    "cdf_sample.plot(label='Random sample')\n",
    "\n",
    "plt.xlabel('x')\n",
    "plt.ylabel('CDF')\n",
    "plt.legend();"
   ]
  },
  {
   "cell_type": "markdown",
   "metadata": {},
   "source": [
    "The CDF of the random sample agrees with the normal model -- which is not surprising because the data were actually sampled from a normal distribution.\n",
    "When we collect data in the real world, we do not expect it to fit a normal distribution as well as this.\n",
    "In the next exercise, we'll try it and see. "
   ]
  },
  {
   "cell_type": "markdown",
   "metadata": {},
   "source": [
    "**Exercise:** In many datasets, the distribution of income is approximately **lognormal**, which means that the logarithms of the incomes fit a normal distribution.  Let's see whether that's true for the GSS data. \n",
    "\n",
    "* Extract `realinc` from `gss` and compute the logarithms of the incomes using `np.log10()`.\n",
    "\n",
    "* Compute the mean and standard deviation of the log-transformed incomes.\n",
    "\n",
    "* Use `norm` to make a normal distribution with the same mean and standard deviation as the log-transformed incomes.\n",
    "\n",
    "* Plot the CDF of the normal distribution.\n",
    "\n",
    "* Compute and plot the CDF of the log-transformed incomes.\n",
    "\n",
    "How similar are the CDFs of the log-transformed incomes and the normal distribution?"
   ]
  },
  {
   "cell_type": "code",
   "execution_count": null,
   "metadata": {
    "tags": []
   },
   "outputs": [],
   "source": [
    "# Extract realinc and compute its log\n",
    "\n",
    "realinc = gss['realinc']\n",
    "log_realinc = np.log10(realinc)"
   ]
  },
  {
   "cell_type": "code",
   "execution_count": null,
   "metadata": {},
   "outputs": [],
   "source": [
    "# Solution goes here"
   ]
  },
  {
   "cell_type": "code",
   "execution_count": null,
   "metadata": {},
   "outputs": [],
   "source": [
    "# Solution goes here"
   ]
  },
  {
   "cell_type": "code",
   "execution_count": null,
   "metadata": {},
   "outputs": [],
   "source": [
    "# Solution goes here"
   ]
  },
  {
   "cell_type": "code",
   "execution_count": null,
   "metadata": {},
   "outputs": [],
   "source": [
    "# Solution goes here"
   ]
  },
  {
   "cell_type": "markdown",
   "metadata": {},
   "source": [
    "## Kernel Density Estimation\n",
    "\n",
    "We have seen two ways to represent distributions, PMFs and CDFs.\n",
    "Now we'll learn another way: a probability density function, or PDF.\n",
    "The `norm` function, which we used to compute the normal CDF, can also compute the normal PDF."
   ]
  },
  {
   "cell_type": "code",
   "execution_count": null,
   "metadata": {},
   "outputs": [],
   "source": [
    "xs = np.linspace(-3, 3)\n",
    "ys = norm(0,1).pdf(xs)"
   ]
  },
  {
   "cell_type": "markdown",
   "metadata": {},
   "source": [
    "Here's what it looks like."
   ]
  },
  {
   "cell_type": "code",
   "execution_count": null,
   "metadata": {},
   "outputs": [],
   "source": [
    "plt.plot(xs, ys, color='gray', label='Normal PDF')\n",
    "\n",
    "plt.xlabel('x')\n",
    "plt.ylabel('PDF')\n",
    "plt.title('Normal density function')\n",
    "plt.legend();"
   ]
  },
  {
   "cell_type": "markdown",
   "metadata": {},
   "source": [
    "The normal PDF is the classic \"bell curve\".\n",
    "Now, it is tempting to compare the PMF of the data to the PDF of the normal distribution, but that doesn't work.\n",
    "Let's see what happens if we try:"
   ]
  },
  {
   "cell_type": "code",
   "execution_count": null,
   "metadata": {},
   "outputs": [],
   "source": [
    "plt.plot(xs, ys, color='gray', label='Normal PDF')\n",
    "\n",
    "pmf_sample = Pmf.from_seq(sample)\n",
    "pmf_sample.plot(label='Random sample')\n",
    "\n",
    "plt.xlabel('x')\n",
    "plt.ylabel('PDF')\n",
    "plt.title('Normal density function')\n",
    "plt.legend();"
   ]
  },
  {
   "cell_type": "markdown",
   "metadata": {},
   "source": [
    "The PMF of the sample is a flat line across the bottom.\n",
    "In the random sample, every value is unique, so they all have the same probability, one in 1000.\n",
    "\n",
    "However, we can use the points in the sample to estimate the PDF of the distribution they came from.\n",
    "This process is called **kernel density estimation**, or KDE.\n",
    "To generate a KDE plot, we'll use the Seaborn library, imported as `sns`.\n",
    "Seaborn provides `kdeplot`, which takes the sample, estimates the PDF, and plots it."
   ]
  },
  {
   "cell_type": "code",
   "execution_count": null,
   "metadata": {},
   "outputs": [],
   "source": [
    "import seaborn as sns\n",
    "\n",
    "sns.kdeplot(sample, label='Estimated sample PDF')\n",
    "\n",
    "plt.xlabel('x')\n",
    "plt.ylabel('PDF')\n",
    "plt.title('Normal density function')\n",
    "plt.legend();"
   ]
  },
  {
   "cell_type": "markdown",
   "metadata": {},
   "source": [
    "Now we can compare the KDE plot and the normal PDF."
   ]
  },
  {
   "cell_type": "code",
   "execution_count": null,
   "metadata": {},
   "outputs": [],
   "source": [
    "plt.plot(xs, ys, color='gray', label='Normal PDF')\n",
    "sns.kdeplot(sample, label='Estimated sample PDF')\n",
    "\n",
    "plt.xlabel('x')\n",
    "plt.ylabel('PDF')\n",
    "plt.title('Normal density function')\n",
    "plt.legend();"
   ]
  },
  {
   "cell_type": "markdown",
   "metadata": {},
   "source": [
    "The KDE plot matches the normal PDF well.\n",
    "We can see places where the data deviate from the model, but because we know the data really came from a normal distribution, we know those deviations are due to random sampling.\n",
    "\n",
    "Comparing PDFs is a sensitive way to look for differences, but often it is too sensitive -- it can be hard to tell whether apparent differences mean anything, or if they are just random, as in this case."
   ]
  },
  {
   "cell_type": "markdown",
   "metadata": {},
   "source": [
    "**Exercise:** In a previous exercise, we used CDFs to see if the distribution of income fits a lognormal distribution.  We can make the same comparison using a PDF and KDE.\n",
    "\n",
    "* Again, extract `realinc` from `gss` and compute its logarithm using `np.log10()`.\n",
    "\n",
    "* Compute the mean and standard deviation of the log-transformed incomes.\n",
    "\n",
    "* Use `norm` to make a normal distribution with the same mean and standard deviation as the log-transformed incomes.\n",
    "\n",
    "* Plot the PDF of the normal distribution.\n",
    "\n",
    "* Use `sns.kdeplot()` to estimate and plot the density of the log-transformed incomes."
   ]
  },
  {
   "cell_type": "code",
   "execution_count": null,
   "metadata": {
    "tags": []
   },
   "outputs": [],
   "source": [
    "# Extract realinc and compute its log\n",
    "\n",
    "realinc = gss['realinc']\n",
    "log_realinc = np.log10(realinc)"
   ]
  },
  {
   "cell_type": "code",
   "execution_count": null,
   "metadata": {},
   "outputs": [],
   "source": [
    "# Solution goes here"
   ]
  },
  {
   "cell_type": "code",
   "execution_count": null,
   "metadata": {},
   "outputs": [],
   "source": [
    "# Solution goes here"
   ]
  },
  {
   "cell_type": "code",
   "execution_count": null,
   "metadata": {},
   "outputs": [],
   "source": [
    "# Solution goes here"
   ]
  },
  {
   "cell_type": "markdown",
   "metadata": {},
   "source": [
    "## Summary\n",
    "\n",
    "In this chapter, we've seen three ways to visualize distributions: PMFs, CDFs, and KDE plots.\n",
    "In general, I use CDFs when I am exploring data -- that way, I get the best view of what's going on without getting distracted by noise.\n",
    "Then, if I am presenting results to an audience unfamiliar with CDFs, I might use a PMF if the dataset contains a small number of unique values, or KDE if there are many unique values."
   ]
  },
  {
   "cell_type": "markdown",
   "metadata": {
    "tags": []
   },
   "source": [
    "*Elements of Data Science*\n",
    "\n",
    "Copyright 2021 [Allen B. Downey](https://allendowney.com)\n",
    "\n",
    "License: [Creative Commons Attribution-NonCommercial-ShareAlike 4.0 International](https://creativecommons.org/licenses/by-nc-sa/4.0/)"
   ]
  },
  {
   "cell_type": "code",
   "execution_count": null,
   "metadata": {},
   "outputs": [],
   "source": []
  }
 ],
 "metadata": {
  "celltoolbar": "Tags",
  "kernelspec": {
   "display_name": "Python 3 (ipykernel)",
   "language": "python",
   "name": "python3"
  },
  "language_info": {
   "codemirror_mode": {
    "name": "ipython",
    "version": 3
   },
   "file_extension": ".py",
   "mimetype": "text/x-python",
   "name": "python",
   "nbconvert_exporter": "python",
   "pygments_lexer": "ipython3",
   "version": "3.10.14"
  }
 },
 "nbformat": 4,
 "nbformat_minor": 2
}
