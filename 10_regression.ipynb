{
 "cells": [
  {
   "cell_type": "markdown",
   "metadata": {},
   "source": [
    "# Regression"
   ]
  },
  {
   "cell_type": "markdown",
   "metadata": {
    "tags": []
   },
   "source": [
    "[Click here to run this notebook on Colab](https://colab.research.google.com/github/AllenDowney/ElementsOfDataScience/blob/master/10_regression.ipynb) or\n",
    "[click here to download it](https://github.com/AllenDowney/ElementsOfDataScience/raw/master/10_regression.ipynb)."
   ]
  },
  {
   "cell_type": "markdown",
   "metadata": {},
   "source": [
    "In the previous chapter we used simple regression to quantify the relationship between two variables.\n",
    "In this chapter we'll get farther into regression, including multiple regression and one of my all-time favorite tools, logistic regression.\n",
    "\n",
    "These tools will allow us to explore relationships among sets of variables.  As an example, we will use data from the General Social Survey (GSS) to explore the relationship between income, education, age, and sex.\n",
    "But first let's understand the limits of simple regression."
   ]
  },
  {
   "cell_type": "markdown",
   "metadata": {},
   "source": [
    "## Limits of Simple Regression\n",
    "\n",
    "In a previous exercise, you made a scatter plot of vegetable consumption as a function of income, and plotted a line of best fit.\n",
    "Here's what it looks like:\n",
    "\n",
    "![](https://github.com/AllenDowney/ElementsOfDataScience/raw/master/figs/fig09-01.png)\n",
    "\n",
    "The slope of the line is 0.07, which means that the difference between the lowest and highest income brackets is about 0.49 servings per day.\n",
    "So that's not a very big difference."
   ]
  },
  {
   "cell_type": "markdown",
   "metadata": {},
   "source": [
    "But it was an arbitrary choice to plot vegetables as a function of income.  We could have plotted it the other way around, like this.\n",
    "\n",
    "![](https://github.com/AllenDowney/ElementsOfDataScience/raw/master/figs/fig09-02.png)\n",
    "\n",
    "The slope of this line is about 0.2, which means that the difference between 0 and 10 servings per day is about 2 income levels, roughly from level 5 to level 7.\n",
    "\n",
    "And the difference between income levels 5 and 7 is about $30,000 per year, which is substantial."
   ]
  },
  {
   "cell_type": "markdown",
   "metadata": {},
   "source": [
    "So if we use vegetable consumption to predict income, we see a big difference.  But when we used income to predict vegetable consumption, we saw a small difference.\n",
    "\n",
    "This example shows that regression is not symmetric; the regression of A onto B is not the same as the regression of B onto A.\n",
    "\n",
    "We can see that more clearly by putting the two figures side by side and plotting both regression lines on both figures.\n",
    "\n",
    "![](https://github.com/AllenDowney/ElementsOfDataScience/raw/master/figs/fig09-03.png)\n",
    "\n",
    "They are different because they are based on different assumptions.  \n",
    "\n",
    "* On the left, we treat income as a known quantity and vegetable consumption as random.\n",
    "\n",
    "* On the right, we treat vegetable consumption as known and income as random.\n",
    "\n",
    "When you run a regression model, you make decisions about how to treat the data, and those decisions affect the results you get.\n",
    "\n",
    "This example demonstrates another point, which is that regression doesn't tell you much about causation.\n",
    "\n",
    "* If you think people with lower income can't afford vegetables, you might look at the figure on the left and conclude that it doesn't make much difference.\n",
    "\n",
    "* If you think better diet increases income, the figure on the right might make you think it does.\n",
    "\n",
    "But in general, regression can't tell you what causes what.  If you see a relationship between any two variables, A and B, the reason for the relationship might be that A causes B, or B causes A, or there might be other factors that cause both A and B.\n",
    "Regression alone can't tell you which way it goes.\n",
    "\n",
    "However, we have tools for teasing apart relationships among multiple variables; one of the most important is multiple regression.\n",
    "\n",
    "SciPy doesn't do multiple regression, so we'll to switch to a new library, StatsModels.  Here's the import statement."
   ]
  },
  {
   "cell_type": "code",
   "execution_count": 1,
   "metadata": {},
   "outputs": [],
   "source": [
    "import statsmodels.formula.api as smf"
   ]
  },
  {
   "cell_type": "markdown",
   "metadata": {},
   "source": [
    "For the first example, we'll load data from the Behavioral Risk Factor Surveillance Survey (BRFSS), which we saw in the previous chapter."
   ]
  },
  {
   "cell_type": "code",
   "execution_count": 2,
   "metadata": {
    "tags": []
   },
   "outputs": [],
   "source": [
    "from os.path import basename, exists\n",
    "\n",
    "def download(url):\n",
    "    filename = basename(url)\n",
    "    if not exists(filename):\n",
    "        from urllib.request import urlretrieve\n",
    "        local, _ = urlretrieve(url, filename)\n",
    "        print('Downloaded ' + local)\n",
    "    \n",
    "download('https://github.com/AllenDowney/' +\n",
    "         'ElementsOfDataScience/raw/master/brfss.hdf5')"
   ]
  },
  {
   "cell_type": "code",
   "execution_count": 3,
   "metadata": {},
   "outputs": [],
   "source": [
    "import pandas as pd\n",
    "\n",
    "brfss = pd.read_hdf('brfss.hdf5', 'brfss')"
   ]
  },
  {
   "cell_type": "markdown",
   "metadata": {},
   "source": [
    "Now we can use StatsModels to fit a regression model.\n",
    "The name of the function is `ols`, which stands for \"ordinary least squares\", another name for regression."
   ]
  },
  {
   "cell_type": "code",
   "execution_count": 4,
   "metadata": {},
   "outputs": [],
   "source": [
    "results = smf.ols('INCOME2 ~ _VEGESU1', data=brfss).fit()"
   ]
  },
  {
   "cell_type": "markdown",
   "metadata": {},
   "source": [
    "The first argument is a **formula string** that specifies that we want to regress income as a function of vegetable consumption.\n",
    "\n",
    "The second argument is the BRFSS `DataFrame`.  The names in the formula correspond to columns in the `DataFrame`.\n",
    "\n",
    "The result from `ols` represents the model; then we run `fit` to get the results."
   ]
  },
  {
   "cell_type": "code",
   "execution_count": 5,
   "metadata": {
    "tags": []
   },
   "outputs": [],
   "source": [
    "type(results)"
   ]
  },
  {
   "cell_type": "markdown",
   "metadata": {},
   "source": [
    "Results is a `RegressionResultsWrapper`, which contains a lot of information; the first thing we'll look at is the attribute `params`, which contains the estimated intercept and the slope associated with `_VEGESU1`."
   ]
  },
  {
   "cell_type": "code",
   "execution_count": 6,
   "metadata": {},
   "outputs": [],
   "source": [
    "results.params"
   ]
  },
  {
   "cell_type": "markdown",
   "metadata": {},
   "source": [
    "And we get the same results we got from SciPy, so that's good!\n",
    "\n",
    "In the next section we'll move on to multiple regression.  But first, some exercises."
   ]
  },
  {
   "cell_type": "markdown",
   "metadata": {},
   "source": [
    "**Exercise:** In the BRFSS dataset, there is a strong relationship between vegetable consumption and income. The income of people who eat 8 servings of vegetables per day is double the income of people who eat none, on average.\n",
    "\n",
    "Which of the following conclusions can we draw from this data?\n",
    "\n",
    "A.  Eating a good diet leads to better health and higher income.\n",
    "\n",
    "B.  People with higher income can afford a better diet.\n",
    "\n",
    "C.  People with high income are more likely to be vegetarians."
   ]
  },
  {
   "cell_type": "code",
   "execution_count": 7,
   "metadata": {},
   "outputs": [],
   "source": [
    "# Solution goes here"
   ]
  },
  {
   "cell_type": "markdown",
   "metadata": {},
   "source": [
    "**Exercise:** Let's run a regression using SciPy and StatsModels, and confirm we get the same results.\n",
    "\n",
    "- Compute the regression of `_VEGESU1` as a function of `INCOME2` using SciPy's `linregress()`.\n",
    "\n",
    "- Compute the regression of `_VEGESU1` as a function of `INCOME2` using StatsModels' `smf.ols()`.\n",
    "\n",
    "Note: `linregress` does not handle `NaN` values, so you will have to use `dropna` to select the rows with valid data."
   ]
  },
  {
   "cell_type": "code",
   "execution_count": 8,
   "metadata": {},
   "outputs": [],
   "source": [
    "# Solution goes here"
   ]
  },
  {
   "cell_type": "code",
   "execution_count": 9,
   "metadata": {},
   "outputs": [],
   "source": [
    "# Solution goes here"
   ]
  },
  {
   "cell_type": "markdown",
   "metadata": {},
   "source": [
    "## Multiple Regression\n",
    "\n",
    "Now that we have StatsModels, getting from simple to multiple regression is easy.\n",
    "As an example, we'll use data from the General Social Survey (GSS) and we'll explore variables that are related to income.\n",
    "\n",
    "First, let's load the GSS data."
   ]
  },
  {
   "cell_type": "code",
   "execution_count": 10,
   "metadata": {
    "tags": []
   },
   "outputs": [],
   "source": [
    "from os.path import basename, exists\n",
    "\n",
    "def download(url):\n",
    "    filename = basename(url)\n",
    "    if not exists(filename):\n",
    "        from urllib.request import urlretrieve\n",
    "        local, _ = urlretrieve(url, filename)\n",
    "        print('Downloaded ' + local)\n",
    "    \n",
    "download('https://github.com/AllenDowney/' +\n",
    "         'ElementsOfDataScience/raw/master/data/gss_eda.hdf')"
   ]
  },
  {
   "cell_type": "code",
   "execution_count": 11,
   "metadata": {},
   "outputs": [],
   "source": [
    "import pandas as pd\n",
    "\n",
    "gss = pd.read_hdf('gss_eda.hdf', 'gss')"
   ]
  },
  {
   "cell_type": "markdown",
   "metadata": {},
   "source": [
    "Here are the first few rows of `gss`:"
   ]
  },
  {
   "cell_type": "code",
   "execution_count": 12,
   "metadata": {},
   "outputs": [],
   "source": [
    "gss.head()"
   ]
  },
  {
   "cell_type": "markdown",
   "metadata": {},
   "source": [
    "We'll start with another simple regression, estimating the parameters of real income as a function of years of education."
   ]
  },
  {
   "cell_type": "code",
   "execution_count": 13,
   "metadata": {},
   "outputs": [],
   "source": [
    "results = smf.ols('REALINC ~ EDUC', data=gss).fit()\n",
    "results.params"
   ]
  },
  {
   "cell_type": "markdown",
   "metadata": {},
   "source": [
    "On the left side of the formula string, `REALINC` is the variable we are trying to predict; on the right, `EDUC` is the variable we are using to inform the predictions.\n",
    "\n",
    "The estimated slope is about `3450`, which means that each additional year of education is associated with an additional $3450 of income.\n",
    "But income also depends on age, so it would be good to include that in the model, too.\n",
    "Here's how: "
   ]
  },
  {
   "cell_type": "code",
   "execution_count": 14,
   "metadata": {},
   "outputs": [],
   "source": [
    "results = smf.ols('REALINC ~ EDUC + AGE', data=gss).fit()\n",
    "results.params"
   ]
  },
  {
   "cell_type": "markdown",
   "metadata": {},
   "source": [
    "On the right side of the formula string, you can list as many variables as you like, in this case, education and age.\n",
    "The `plus` sign indicates that we expect the contributions of the two variables to be additive, which is a common assumption for models like this.\n",
    "\n",
    "The estimated slope for `EDUC` is a little less than what we saw before, about $3514 per year.\n",
    "\n",
    "The estimated slope for `AGE` is only about $54 per year, which is surprisingly small.\n",
    "To see what's going on, let's look more closely at the relationship between income and age."
   ]
  },
  {
   "cell_type": "markdown",
   "metadata": {},
   "source": [
    "## Groupby\n",
    "\n",
    "I'll use `groupby()`, which is a Pandas feature we have not seen before, to divide the DataFrame into age groups.  The result is a `GroupBy` object that contains one group for each value of `age`."
   ]
  },
  {
   "cell_type": "code",
   "execution_count": 15,
   "metadata": {},
   "outputs": [],
   "source": [
    "grouped = gss.groupby('AGE')\n",
    "type(grouped)"
   ]
  },
  {
   "cell_type": "markdown",
   "metadata": {},
   "source": [
    "The `GroupBy` object behaves like a DataFrame in many ways.  You can use brackets to select a column, like `REALINC` in this example, and then invoke a method like `mean()`."
   ]
  },
  {
   "cell_type": "code",
   "execution_count": 16,
   "metadata": {},
   "outputs": [],
   "source": [
    "mean_income_by_age = grouped['REALINC'].mean()"
   ]
  },
  {
   "cell_type": "markdown",
   "metadata": {},
   "source": [
    "The result is a Pandas series that contains the mean income for each age group, which we can plot like this."
   ]
  },
  {
   "cell_type": "code",
   "execution_count": 17,
   "metadata": {},
   "outputs": [],
   "source": [
    "import matplotlib.pyplot as plt\n",
    "\n",
    "plt.plot(mean_income_by_age, 'o', alpha=0.5)\n",
    "plt.xlabel('Age (years)')\n",
    "plt.ylabel('Income (1986 $)')\n",
    "plt.title('Average income, grouped by age');"
   ]
  },
  {
   "cell_type": "markdown",
   "metadata": {},
   "source": [
    "Average income increases from age 20 to age 50, then starts to fall.  \n",
    "And that explains why the estimated slope is so small, because the relationship is non-linear.  Remember that correlation and simple regression can't measure non-linear relationships.  \n",
    "\n",
    "But multiple regression can!  To describe a non-linear relationship, one option is to add a new variable that is a non-linear combination of other variables.\n",
    "\n",
    "As an example, I'll create a new variable called `AGE2` that equals `AGE` squared."
   ]
  },
  {
   "cell_type": "code",
   "execution_count": 18,
   "metadata": {},
   "outputs": [],
   "source": [
    "gss['AGE2'] = gss['AGE']**2"
   ]
  },
  {
   "cell_type": "markdown",
   "metadata": {},
   "source": [
    "Now we can run a regression with both `age` and `age2` on the right side."
   ]
  },
  {
   "cell_type": "code",
   "execution_count": 19,
   "metadata": {},
   "outputs": [],
   "source": [
    "model = smf.ols('REALINC ~ EDUC + AGE + AGE2', data=gss)\n",
    "results = model.fit()\n",
    "results.params"
   ]
  },
  {
   "cell_type": "markdown",
   "metadata": {},
   "source": [
    "Now the slope associated with `AGE` is substantial, about $1760 per year.  \n",
    "\n",
    "The slope associated with `AGE2` is about -$17, but that's harder to interpret.\n",
    "\n",
    "In the next section, we'll see methods to interpret multivariate models and visualize the results.  But first, let's practice multiple regression."
   ]
  },
  {
   "cell_type": "markdown",
   "metadata": {},
   "source": [
    "**Exercise:** To get a closer look at the relationship between income and education, let's use the variable `EDUC` to group the data, then plot mean income in each group.\n",
    "\n",
    "- Group `gss` by `EDUC`. Store the result in `grouped`.\n",
    "\n",
    "- From `grouped`, extract `REALINC` and compute the mean.\n",
    "\n",
    "- Plot mean income in each education group as a scatter plot.\n",
    "\n",
    "What can you say about the relationship between education and income?  Does it look like a linear relationship?"
   ]
  },
  {
   "cell_type": "code",
   "execution_count": 20,
   "metadata": {},
   "outputs": [],
   "source": [
    "# Solution goes here"
   ]
  },
  {
   "cell_type": "markdown",
   "metadata": {},
   "source": [
    "**Exercise:** The graph in the previous exercise suggests that the relationship between income and education is non-linear.  So let's try fitting a non-linear model.\n",
    "\n",
    "- Add a column named `EDUC2` to the `gss` DataFrame; it should contain the values from `EDUC` squared.  \n",
    "\n",
    "- Run a regression model that uses `EDUC`, `EDUC2`, `age`, and `age2` to predict `REALINC`.\n"
   ]
  },
  {
   "cell_type": "code",
   "execution_count": 21,
   "metadata": {},
   "outputs": [],
   "source": [
    "# Solution goes here"
   ]
  },
  {
   "cell_type": "markdown",
   "metadata": {},
   "source": [
    "## Visualizing regression results\n",
    "\n",
    "In the previous section we ran a multiple regression model to characterize the relationships between income, age, and education.\n",
    "Because the model includes quadratic terms, the parameters are hard to interpret. For example, you might notice that the parameter for `EDUC` is negative, and that might be a surprise, because it suggests that higher education is associated with lower income.\n",
    "\n",
    "But the parameter for `EDUC2` is positive, and that makes a big difference.  In this section we'll see a way to interpret the model visually and validate it against data.\n",
    "\n",
    "Here's the model from the previous exercise."
   ]
  },
  {
   "cell_type": "code",
   "execution_count": 22,
   "metadata": {},
   "outputs": [],
   "source": [
    "gss['EDUC2'] = gss['EDUC']**2\n",
    "\n",
    "model = smf.ols('REALINC ~ EDUC + EDUC2 + AGE + AGE2', data=gss)\n",
    "results = model.fit()\n",
    "results.params"
   ]
  },
  {
   "cell_type": "markdown",
   "metadata": {},
   "source": [
    "Sometimes we can understand a model by looking at its parameters, but often it is better to look at its predictions.\n",
    "\n",
    "The regression results provide a method called `predict` that uses the model to generate predictions.\n",
    "It takes a `DataFrame` as a parameter and returns a `Series` with a prediction for each row in the `DataFrame`.\n",
    "To use it, I'll create a new `DataFrame` with `AGE` running from 18 to 89, and `AGE2` set to `AGE` squared."
   ]
  },
  {
   "cell_type": "code",
   "execution_count": 23,
   "metadata": {},
   "outputs": [],
   "source": [
    "import numpy as np\n",
    "\n",
    "df = pd.DataFrame()\n",
    "df['AGE'] = np.linspace(18, 89)\n",
    "df['AGE2'] = df['AGE']**2"
   ]
  },
  {
   "cell_type": "markdown",
   "metadata": {},
   "source": [
    "Next, I'll pick a level for `EDUC`, like 12 years, which is the most common value.  When you assign a single value to a column in a `DataFrame`, Pandas makes a copy for each row."
   ]
  },
  {
   "cell_type": "code",
   "execution_count": 24,
   "metadata": {},
   "outputs": [],
   "source": [
    "df['EDUC'] = 12\n",
    "df['EDUC2'] = df['EDUC']**2"
   ]
  },
  {
   "cell_type": "markdown",
   "metadata": {},
   "source": [
    "Then we can use `results` to predict the average income for each age group, holding education constant."
   ]
  },
  {
   "cell_type": "code",
   "execution_count": 25,
   "metadata": {},
   "outputs": [],
   "source": [
    "pred12 = results.predict(df)"
   ]
  },
  {
   "cell_type": "markdown",
   "metadata": {},
   "source": [
    "The result from `predict` is a `Series` with one prediction for each row.  So we can plot it with age on the $x$-axis and the predicted income for each age group on the $y$-axis.\n",
    "And we can plot the data for comparison."
   ]
  },
  {
   "cell_type": "code",
   "execution_count": 26,
   "metadata": {},
   "outputs": [],
   "source": [
    "plt.plot(mean_income_by_age, 'o', alpha=0.5)\n",
    "\n",
    "plt.plot(df['AGE'], pred12, label='High school', color='C4')\n",
    "\n",
    "plt.xlabel('Age (years)')\n",
    "plt.ylabel('Income (1986 $)')\n",
    "plt.title('Income versus age, grouped by education level')\n",
    "plt.legend();"
   ]
  },
  {
   "cell_type": "markdown",
   "metadata": {},
   "source": [
    "The dots show the average income in each age group.\n",
    "The line shows the predictions generated by the model, holding education constant.\n",
    "This plot shows the shape of the model, a downward-facing parabola.\n",
    "\n",
    "We can do the same thing with other levels of education, like 14 years, which is the nominal time to earn an Associate's degree, and 16 years, which is the nominal time to earn a Bachelor's degree."
   ]
  },
  {
   "cell_type": "code",
   "execution_count": 27,
   "metadata": {},
   "outputs": [],
   "source": [
    "df['EDUC'] = 16\n",
    "df['EDUC2'] = df['EDUC']**2\n",
    "pred16 = results.predict(df)\n",
    "\n",
    "df['EDUC'] = 14\n",
    "df['EDUC2'] = df['EDUC']**2\n",
    "pred14 = results.predict(df)"
   ]
  },
  {
   "cell_type": "code",
   "execution_count": 28,
   "metadata": {},
   "outputs": [],
   "source": [
    "plt.plot(mean_income_by_age, 'o', alpha=0.5)\n",
    "\n",
    "plt.plot(df['AGE'], pred16, ':', label='Bachelor')\n",
    "plt.plot(df['AGE'], pred14, '--', label='Associate')\n",
    "plt.plot(df['AGE'], pred12, label='High school', color='C4')\n",
    "\n",
    "plt.xlabel('Age (years)')\n",
    "plt.ylabel('Income (1986 $)')\n",
    "plt.title('Income versus age, grouped by education level')\n",
    "plt.legend();"
   ]
  },
  {
   "cell_type": "markdown",
   "metadata": {},
   "source": [
    "The lines show mean income, as predicted by the model, as a function of age, for three levels of education.\n",
    "This visualization helps validate the model, since we can compare the predictions with the data.  And it helps us interpret the model since we can see the separate contributions of age and education.\n",
    "\n",
    "In the exercises, you'll have a chance to run a multiple regression, generate predictions, and visualize the results."
   ]
  },
  {
   "cell_type": "markdown",
   "metadata": {},
   "source": [
    "**Exercise:** At this point, we have a model that predicts income using age, education, and sex.\n",
    "\n",
    "Let's see what it predicts for different levels of education, holding `AGE` constant.\n",
    "\n",
    "- Create an empty `DataFrame` named `df`.\n",
    "\n",
    "- Using `np.linspace()`, add a variable named `EDUC` to `df` with a range of values from `0` to `20`.\n",
    "\n",
    "- Add a variable named `AGE` with the constant value `30`.\n",
    "\n",
    "- Use `df` to generate predicted income as a function of education."
   ]
  },
  {
   "cell_type": "code",
   "execution_count": 29,
   "metadata": {},
   "outputs": [],
   "source": [
    "# Solution goes here"
   ]
  },
  {
   "cell_type": "markdown",
   "metadata": {},
   "source": [
    "**Exercise:** Now let's visualize the results from the previous exercise!\n",
    "\n",
    "- Group the GSS data by `EDUC` and compute the mean income in each education group.\n",
    "\n",
    "- Plot mean income for each education group as a scatter plot.\n",
    "\n",
    "- Plot the predictions from the previous exercise.\n",
    "\n",
    "How do the predictions compare with the data?"
   ]
  },
  {
   "cell_type": "code",
   "execution_count": 30,
   "metadata": {},
   "outputs": [],
   "source": [
    "# Solution goes here"
   ]
  },
  {
   "cell_type": "markdown",
   "metadata": {},
   "source": [
    "**Optional Exercise:** Extend the previous exercise to include predictions for a few other age levels. "
   ]
  },
  {
   "cell_type": "markdown",
   "metadata": {},
   "source": [
    "## Categorical variables\n",
    "\n",
    "Most of the variables we have used so far --- like income, age, and education --- are numerical.\n",
    "But variables like sex and race are categorical; that is, each respondent belongs to one of a specified set of categories.\n",
    "\n",
    "With StatsModels, it is easy to include a categorical variable as part of a regression model.\n",
    "Here's an example:"
   ]
  },
  {
   "cell_type": "code",
   "execution_count": 31,
   "metadata": {},
   "outputs": [],
   "source": [
    "formula = 'REALINC ~ EDUC + EDUC2 + AGE + AGE2 + C(SEX)'\n",
    "results = smf.ols(formula, data=gss).fit()\n",
    "results.params"
   ]
  },
  {
   "cell_type": "markdown",
   "metadata": {},
   "source": [
    "In the formula string, the letter `C` indicates that `SEX` is a categorical variable.\n",
    "\n",
    "The regression treats the value `SEX=1`, which is male, as the default, and reports the difference associated with the value `SEX=2`, which is female.\n",
    "So this result indicates that income for women is about $4156 less than for men, after controlling for age and education."
   ]
  },
  {
   "cell_type": "markdown",
   "metadata": {},
   "source": [
    "## Logistic Regression\n",
    "\n",
    "In the previous section, we added a categorical variables on the right side of a regression formula; that is, we used it as a predictive variables.\n",
    "\n",
    "But what if the categorical variable is on the left side of the regression formula; that is, it's the value we are trying to predict?\n",
    "In that case, we can use **logistic regression**.\n",
    "\n",
    "As an example, one of the questions in the General Social Survey asks \"Would you favor or oppose a law which would require a person to obtain a police permit before he or she could buy a gun?\"\n",
    "The responses are in a column called `GUNLAW`; here are the values.  "
   ]
  },
  {
   "cell_type": "code",
   "execution_count": 32,
   "metadata": {},
   "outputs": [],
   "source": [
    "gss['GUNLAW'].value_counts()"
   ]
  },
  {
   "cell_type": "markdown",
   "metadata": {},
   "source": [
    "`1` means yes and `2` means no, so most respondents are in favor.\n",
    "\n",
    "To explore the relationship between this variable and factors like age, sex, and education, we can use StatsModels, which provides a function that does logistic regression.\n",
    "\n",
    "To use it, we have to recode the variable so `1` means \"yes\" and `0` means \"no\".  We can do that by replacing `2` with `0`."
   ]
  },
  {
   "cell_type": "code",
   "execution_count": 33,
   "metadata": {},
   "outputs": [],
   "source": [
    "gss['GUNLAW'].replace([2], [0], inplace=True)"
   ]
  },
  {
   "cell_type": "markdown",
   "metadata": {
    "tags": []
   },
   "source": [
    "And we can check the results."
   ]
  },
  {
   "cell_type": "code",
   "execution_count": 34,
   "metadata": {
    "tags": []
   },
   "outputs": [],
   "source": [
    "gss['GUNLAW'].value_counts()"
   ]
  },
  {
   "cell_type": "markdown",
   "metadata": {},
   "source": [
    "Now we can run the regression.  Instead of `ols()`, we use `logit()`, which is named for the logit function, which is related to logistic regression."
   ]
  },
  {
   "cell_type": "code",
   "execution_count": 35,
   "metadata": {},
   "outputs": [],
   "source": [
    "formula = 'GUNLAW ~ AGE + AGE2 + EDUC + EDUC2 + C(SEX)'\n",
    "results = smf.logit(formula, data=gss).fit()"
   ]
  },
  {
   "cell_type": "markdown",
   "metadata": {},
   "source": [
    "Estimating the parameters for the logistic model is an iterative process, so the output contains information about the number of iterations.\n",
    "Other than that, everything is the same as what we have seen before.\n",
    "And here are the results.  "
   ]
  },
  {
   "cell_type": "code",
   "execution_count": 36,
   "metadata": {},
   "outputs": [],
   "source": [
    "results.params"
   ]
  },
  {
   "cell_type": "markdown",
   "metadata": {},
   "source": [
    "The parameters are in the form of **log odds**, which you may or may not be familiar with.  I won't explain them in detail here, except to say that positive values are associated with things that make the outcome more likely, and negative values make the outcome less likely.\n",
    "\n",
    "For example, the parameter associated with `SEX=2` is 0.75, which indicates that women are more likely to support this form of gun control.  To see how much more likely, we can generate predictions, as we did with linear regression.\n",
    "\n",
    "As an example, I'll generate predictions for different ages and sexes, with education held constant.\n",
    "\n",
    "First we need a `DataFrame` with `AGE` and `EDUC`."
   ]
  },
  {
   "cell_type": "code",
   "execution_count": 37,
   "metadata": {},
   "outputs": [],
   "source": [
    "df = pd.DataFrame()\n",
    "df['AGE'] = np.linspace(18, 89)\n",
    "df['EDUC'] = 12"
   ]
  },
  {
   "cell_type": "markdown",
   "metadata": {},
   "source": [
    "Then we can compute `AGE2` and `EDUC2`."
   ]
  },
  {
   "cell_type": "code",
   "execution_count": 38,
   "metadata": {},
   "outputs": [],
   "source": [
    "df['AGE2'] = df['AGE']**2\n",
    "df['EDUC2'] = df['EDUC']**2"
   ]
  },
  {
   "cell_type": "markdown",
   "metadata": {},
   "source": [
    "We can generate predictions for men like this."
   ]
  },
  {
   "cell_type": "code",
   "execution_count": 39,
   "metadata": {},
   "outputs": [],
   "source": [
    "df['SEX'] = 1\n",
    "pred1 = results.predict(df)"
   ]
  },
  {
   "cell_type": "markdown",
   "metadata": {},
   "source": [
    "And for women like this."
   ]
  },
  {
   "cell_type": "code",
   "execution_count": 40,
   "metadata": {},
   "outputs": [],
   "source": [
    "df['SEX'] = 2\n",
    "pred2 = results.predict(df)"
   ]
  },
  {
   "cell_type": "markdown",
   "metadata": {},
   "source": [
    "Now, to visualize the results, I'll start by plotting the data.  As we've done before, we'll divide the respondents into age groups and compute the mean in each group.  The mean of a binary variable is the fraction of people in favor.\n",
    "\n",
    "Then we can plot the predictions, for men and women, as a function of age."
   ]
  },
  {
   "cell_type": "code",
   "execution_count": 41,
   "metadata": {},
   "outputs": [],
   "source": [
    "grouped = gss.groupby('AGE')\n",
    "favor_by_age = grouped['GUNLAW'].mean()\n",
    "plt.plot(favor_by_age, 'o', alpha=0.5)\n",
    "\n",
    "plt.plot(df['AGE'], pred2, label='Female')\n",
    "plt.plot(df['AGE'], pred1, '--', label='Male')\n",
    "\n",
    "plt.xlabel('Age')\n",
    "plt.ylabel('Probability of favoring gun law')\n",
    "plt.title('Support for gun law versus age, grouped by sex')\n",
    "plt.legend();"
   ]
  },
  {
   "cell_type": "markdown",
   "metadata": {},
   "source": [
    "According to the model, people near age 50 are least likely to support gun control (at least as this questions was posed).\n",
    "And women are more likely to support it than men, by almost 15 percentage points.\n",
    "\n",
    "Logistic regression is a powerful tool for exploring relationships between a binary variable and the factors that predict it.\n",
    "In the exercises, you'll explore the factors that predict support for legalizing marijuana."
   ]
  },
  {
   "cell_type": "markdown",
   "metadata": {},
   "source": [
    "**Exercise:** Let's use logistic regression to predict a binary variable.  Specifically, we'll use age, sex, and education level to predict support for legalizing cannabis (marijuana) in the U.S.\n",
    "\n",
    "In the GSS dataset, the variable `GRASS` records the answer to the question \"Do you think the use of marijuana should be made legal or not?\"\n",
    "\n",
    "1. First, use `replace` to recode the `GRASS` column so that `1` means yes and `0` means no.  Use `value_counts` to check.\n",
    "\n",
    "2. Next, use `smf.logit()` to predict `GRASS` using the variables `AGE`, `AGE2`, `EDUC`, and `EDUC2`, along with `SEX` as a categorical variable.  Display the parameters.  Are men or women more likely to support legalization?\n",
    "\n",
    "3. To generate predictions, start with an empty DataFrame.  Add a column called `AGE` that contains a sequence of values from 18 to 89.  Add a column called `EDUC` and set it to 12 years.  Then compute a column, `AGE2`, which is the square of `AGE`, and a column, `EDUC2`, which is the square of `EDUC`. \n",
    "\n",
    "4. Use `predict` to generate predictions for men (`SEX=1`) and women (`SEX=2`).\n",
    "\n",
    "5. Generate a plot that shows (1) the average level of support for legalizing marijuana in each age group, (2) the level of support the model predicts for men as a function of age, and (3) the level of support predicted for women as a function of age. "
   ]
  },
  {
   "cell_type": "code",
   "execution_count": 42,
   "metadata": {},
   "outputs": [],
   "source": [
    "# Solution goes here"
   ]
  },
  {
   "cell_type": "code",
   "execution_count": 43,
   "metadata": {},
   "outputs": [],
   "source": [
    "# Solution goes here"
   ]
  },
  {
   "cell_type": "code",
   "execution_count": 44,
   "metadata": {},
   "outputs": [],
   "source": [
    "# Solution goes here"
   ]
  },
  {
   "cell_type": "code",
   "execution_count": 45,
   "metadata": {},
   "outputs": [],
   "source": [
    "# Solution goes here"
   ]
  },
  {
   "cell_type": "code",
   "execution_count": 46,
   "metadata": {},
   "outputs": [],
   "source": [
    "# Solution goes here"
   ]
  },
  {
   "cell_type": "markdown",
   "metadata": {},
   "source": [
    "## Summary\n",
    "\n",
    "At this point, I'd like to summarize the topics we've covered so far, and make some connections that might clarify the big picture.\n",
    "\n",
    "A central theme of this book is **exploratory data analysis**, which is a process and a set of techniques for working with data, especially in the early stages of a project, or when you are working with a new data set.\n",
    "\n",
    "The last four chapters demonstrate the steps of this process:\n",
    "\n",
    "- Chapter 7 is about importing and cleaning data, and checking for errors and other special conditions.  This might not be the most exciting part of the process, but time spent validating data can save you from embarrassing errors.\n",
    "\n",
    "- Chapter 8 is about exploring variables one at a time, visualizing distributions using PMFs, CDFs, and KDE, and choosing appropriate summary statistics.\n",
    "\n",
    "- In Chapter 9 we explored relationships between variables two at a time, using scatter plots and other visualizations; and we quantified those relationships using correlation and simple regression.\n",
    "\n",
    "- Finally, in this chapter, we explored multivariate relationships using multiple regression and logistic regression."
   ]
  },
  {
   "cell_type": "markdown",
   "metadata": {},
   "source": [
    "In Chapter 7, we looked at the distribution of birth weights from the National Survey of Family Growth.\n",
    "If you only remember one thing, remember the 99 pound babies, and how much it can affect your results if you don't validate the data.\n",
    "\n",
    "In Chapter 8 we looked at the distributions of age, income, and other variables from the General Social Survey.\n",
    "I recommended using CDFs as the best way to explore distributions.\n",
    "But when you present to audiences that are not familiar with CDFs, you can use PMFs if there are a small number of unique values, and KDE if there are a lot.\n",
    "\n",
    "In Chapter 9 we looked at heights and weights from the BRFSS, and developed several ways to visualize relationships between variables, including scatter plots, violin plots, and box plots.\n",
    "\n",
    "We used the coefficient of correlation to quantify the strength of a relationship.  We also used simple regression to estimate slope, which is often what we care more about, not correlation.\n",
    "\n",
    "But remember that both of these methods only capture linear relationships; if the relationship is non-linear, they can be misleading.  Always look at a visualization, like a scatter plot, before computing correlation or simple regression.\n",
    "\n",
    "In Chapter 10 we used multiple regression to add control variables and to describe non-linear relationships.  And finally we used logistic regression to explain and predict binary variables.\n",
    "\n",
    "We moved through a lot of material quickly, but if you practice and apply these methods to other questions and other datasets, you will learn more as you go."
   ]
  },
  {
   "cell_type": "markdown",
   "metadata": {
    "tags": []
   },
   "source": [
    "Also, I am happy to report that you now have the prerequisites you need to appreciate [this xkcd cartoon](https://xkcd.com/2048/).\n",
    "\n",
    "<img src=\"https://imgs.xkcd.com/comics/curve_fitting_2x.png\" width=\"400\">"
   ]
  },
  {
   "cell_type": "markdown",
   "metadata": {
    "tags": []
   },
   "source": [
    "*Elements of Data Science*\n",
    "\n",
    "Copyright 2021 [Allen B. Downey](https://allendowney.com)\n",
    "\n",
    "License: [Creative Commons Attribution-NonCommercial-ShareAlike 4.0 International](https://creativecommons.org/licenses/by-nc-sa/4.0/)"
   ]
  }
 ],
 "metadata": {
  "celltoolbar": "Tags",
  "kernelspec": {
   "display_name": "Python 3 (ipykernel)",
   "language": "python",
   "name": "python3"
  },
  "language_info": {
   "codemirror_mode": {
    "name": "ipython",
    "version": 3
   },
   "file_extension": ".py",
   "mimetype": "text/x-python",
   "name": "python",
   "nbconvert_exporter": "python",
   "pygments_lexer": "ipython3",
   "version": "3.7.7"
  }
 },
 "nbformat": 4,
 "nbformat_minor": 2
}
