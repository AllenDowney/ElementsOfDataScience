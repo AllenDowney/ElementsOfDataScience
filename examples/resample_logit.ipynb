{
 "cells": [
  {
   "cell_type": "markdown",
   "metadata": {},
   "source": [
    "# Resampling and Logistic Regression\n",
    "\n",
    "Different ways of computing sampling distributions -- and the statistics derived from them, like standard errors and confidence intervals -- yield different results. None of them are right or wrong; rather, they are based on different modeling assumptions. In practice, the differences are often small compared to other sources of error, so we are free to use whichever is convenient."
   ]
  },
  {
   "cell_type": "markdown",
   "metadata": {},
   "source": [
    "This article is prompted by a recent question on [Reddit](https://www.reddit.com/r/statistics/comments/10ayfm5/q_parametric_bootstrap_for_logistic_regression/):\n",
    "\n",
    "> I am trying to do parametric bootstrap for logistic regression but I don't know what the random error terms should be. I know how to do it with linear regression since the error terms follow a normal distribution. Really appreciate any pointers to resources about this topic.\n",
    "\n",
    "One of the responses recommends [this paper](https://www.scirp.org/journal/paperinformation.aspx?paperid=70962): Isaac Akpor Adjei1 and Rezaul Karim, \"An Application of Bootstrapping in Logistic Regression Model\"."
   ]
  },
  {
   "cell_type": "markdown",
   "metadata": {},
   "source": [
    "The paper suggests two ways to compute the sampling distribution of the parameters of a logistic regression by bootstrap sampling. They characterize one as parametric and the other as non-parametric, and advise:\n",
    "\n",
    "> The non-parametric bootstrap [relies] on weaker assumptions (or no assumptions at all) about the underlying distribution of the population. Statistical practitioners should use non-parametric procedures only in so far as the assumptions about the underlying distribution are seriously doubtful in their validity. ... However, when assumptions are not violated, non-parametric procedures will usually have greater variance (in point estimation), less power (in hypothesis testing), wider intervals (in confidence interval estimation), lower probability of correct selection (in ranking and selection) and higher risk (in decision theory) when compared to a corresponding parametric procedure (Efron and Tibshirani, 1994 [1] ).\n",
    "\n",
    "The premise of this advice is that the parametric and non-parametric methods are answering the same question in different ways, and that one might be preferred over the other because the results are preferable in one way or another. It is also based on the assumption that the sampling distribution of the parameters -- and the statistics derived from it -- are uniquely and objectively defined."
   ]
  },
  {
   "cell_type": "markdown",
   "metadata": {},
   "source": [
    "I disagree with these premises. The parametric and non-parametric methods they present are based on different modeling decisions, so they compute answers to different questions.\n",
    "And the models they are based on are only two of many possible models.\n",
    "\n",
    "To explain what I mean, I will implement the methods they propose and explain the assumptions each is based on. Then I will propose a third method that is a hybrid of the two. I'll show that all three methods yield different results, and suggest criteria for when one might be preferred over the others."
   ]
  },
  {
   "cell_type": "markdown",
   "metadata": {},
   "source": [
    "## The Data\n",
    "\n",
    "As an example, I'll use data from the General Social Survey (GSS).\n",
    "I'll download an HDF file from the *Elements of Data Science* repository, which contains a subset of the GSS data that has been resampled to correct for stratified sampling."
   ]
  },
  {
   "cell_type": "code",
   "execution_count": 1,
   "metadata": {},
   "outputs": [],
   "source": [
    "import pandas as pd\n",
    "import numpy as np\n",
    "import matplotlib.pyplot as plt\n",
    "import seaborn as sns\n",
    "\n",
    "np.random.seed(0)"
   ]
  },
  {
   "cell_type": "code",
   "execution_count": 2,
   "metadata": {},
   "outputs": [],
   "source": [
    "from os.path import basename, exists\n",
    "\n",
    "def download(url):\n",
    "    filename = basename(url)\n",
    "    if not exists(filename):\n",
    "        from urllib.request import urlretrieve\n",
    "        local, _ = urlretrieve(url, filename)\n",
    "        print('Downloaded ' + local)\n",
    "    \n",
    "download('https://github.com/AllenDowney/' +\n",
    "         'ElementsOfDataScience/raw/master/data/gss_eda.hdf')"
   ]
  },
  {
   "cell_type": "code",
   "execution_count": 3,
   "metadata": {},
   "outputs": [
    {
     "data": {
      "text/plain": [
       "(64814, 8)"
      ]
     },
     "execution_count": 3,
     "metadata": {},
     "output_type": "execute_result"
    }
   ],
   "source": [
    "gss = pd.read_hdf('gss_eda.hdf', 'gss')\n",
    "gss.shape"
   ]
  },
  {
   "cell_type": "markdown",
   "metadata": {},
   "source": [
    "It includes 64814 respondents and 8 variables for each respondent."
   ]
  },
  {
   "cell_type": "code",
   "execution_count": 4,
   "metadata": {},
   "outputs": [
    {
     "data": {
      "text/html": [
       "<div>\n",
       "<style scoped>\n",
       "    .dataframe tbody tr th:only-of-type {\n",
       "        vertical-align: middle;\n",
       "    }\n",
       "\n",
       "    .dataframe tbody tr th {\n",
       "        vertical-align: top;\n",
       "    }\n",
       "\n",
       "    .dataframe thead th {\n",
       "        text-align: right;\n",
       "    }\n",
       "</style>\n",
       "<table border=\"1\" class=\"dataframe\">\n",
       "  <thead>\n",
       "    <tr style=\"text-align: right;\">\n",
       "      <th></th>\n",
       "      <th>YEAR</th>\n",
       "      <th>ID_</th>\n",
       "      <th>AGE</th>\n",
       "      <th>EDUC</th>\n",
       "      <th>SEX</th>\n",
       "      <th>GUNLAW</th>\n",
       "      <th>GRASS</th>\n",
       "      <th>REALINC</th>\n",
       "    </tr>\n",
       "  </thead>\n",
       "  <tbody>\n",
       "    <tr>\n",
       "      <th>0</th>\n",
       "      <td>1972</td>\n",
       "      <td>1</td>\n",
       "      <td>23.0</td>\n",
       "      <td>16.0</td>\n",
       "      <td>2</td>\n",
       "      <td>1.0</td>\n",
       "      <td>NaN</td>\n",
       "      <td>18951.0</td>\n",
       "    </tr>\n",
       "    <tr>\n",
       "      <th>1</th>\n",
       "      <td>1972</td>\n",
       "      <td>2</td>\n",
       "      <td>70.0</td>\n",
       "      <td>10.0</td>\n",
       "      <td>1</td>\n",
       "      <td>1.0</td>\n",
       "      <td>NaN</td>\n",
       "      <td>24366.0</td>\n",
       "    </tr>\n",
       "    <tr>\n",
       "      <th>2</th>\n",
       "      <td>1972</td>\n",
       "      <td>3</td>\n",
       "      <td>48.0</td>\n",
       "      <td>12.0</td>\n",
       "      <td>2</td>\n",
       "      <td>1.0</td>\n",
       "      <td>NaN</td>\n",
       "      <td>24366.0</td>\n",
       "    </tr>\n",
       "    <tr>\n",
       "      <th>3</th>\n",
       "      <td>1972</td>\n",
       "      <td>4</td>\n",
       "      <td>27.0</td>\n",
       "      <td>17.0</td>\n",
       "      <td>2</td>\n",
       "      <td>1.0</td>\n",
       "      <td>NaN</td>\n",
       "      <td>30458.0</td>\n",
       "    </tr>\n",
       "    <tr>\n",
       "      <th>4</th>\n",
       "      <td>1972</td>\n",
       "      <td>5</td>\n",
       "      <td>61.0</td>\n",
       "      <td>12.0</td>\n",
       "      <td>2</td>\n",
       "      <td>1.0</td>\n",
       "      <td>NaN</td>\n",
       "      <td>50763.0</td>\n",
       "    </tr>\n",
       "  </tbody>\n",
       "</table>\n",
       "</div>"
      ],
      "text/plain": [
       "   YEAR  ID_   AGE  EDUC  SEX  GUNLAW  GRASS  REALINC\n",
       "0  1972    1  23.0  16.0    2     1.0    NaN  18951.0\n",
       "1  1972    2  70.0  10.0    1     1.0    NaN  24366.0\n",
       "2  1972    3  48.0  12.0    2     1.0    NaN  24366.0\n",
       "3  1972    4  27.0  17.0    2     1.0    NaN  30458.0\n",
       "4  1972    5  61.0  12.0    2     1.0    NaN  50763.0"
      ]
     },
     "execution_count": 4,
     "metadata": {},
     "output_type": "execute_result"
    }
   ],
   "source": [
    "gss.head()"
   ]
  },
  {
   "cell_type": "markdown",
   "metadata": {},
   "source": [
    "To demonstrate logistic regression, I'll use on [one of the questions](https://gssdataexplorer.norc.org/variables/285/vshow) in the General Social Survey, which asks \"Do you think the use of marijuana should be made legal or not?\"\n",
    "The responses are in a column called `GRASS`; here are the values.  "
   ]
  },
  {
   "cell_type": "code",
   "execution_count": 5,
   "metadata": {},
   "outputs": [
    {
     "data": {
      "text/plain": [
       "2.0    25662\n",
       "1.0    11884\n",
       "Name: GRASS, dtype: int64"
      ]
     },
     "execution_count": 5,
     "metadata": {},
     "output_type": "execute_result"
    }
   ],
   "source": [
    "gss['GRASS'].value_counts()"
   ]
  },
  {
   "cell_type": "markdown",
   "metadata": {},
   "source": [
    "To explore the relationship between this variable and factors like age, sex, and education, we can use StatsModels, which provides a function that does logistic regression.\n",
    "\n",
    "To use it, we have to recode the variable so `1` means \"yes\" and `0` means \"no\".  We can do that by replacing `2` with `0`."
   ]
  },
  {
   "cell_type": "code",
   "execution_count": 6,
   "metadata": {},
   "outputs": [],
   "source": [
    "gss['GRASS'].replace([2], [0], inplace=True)"
   ]
  },
  {
   "cell_type": "markdown",
   "metadata": {},
   "source": [
    "To model quadratic relationships, I'll add columns that contain the values of `AGE` and `EDUC` squared."
   ]
  },
  {
   "cell_type": "code",
   "execution_count": 7,
   "metadata": {},
   "outputs": [],
   "source": [
    "gss['AGE2'] = gss['AGE']**2\n",
    "gss['EDUC2'] = gss['EDUC']**2"
   ]
  },
  {
   "cell_type": "markdown",
   "metadata": {},
   "source": [
    "And I'll drop the rows that have missing values for the variables we'll need."
   ]
  },
  {
   "cell_type": "code",
   "execution_count": 8,
   "metadata": {},
   "outputs": [],
   "source": [
    "data = gss.dropna(subset=['AGE', 'EDUC', 'SEX', 'GUNLAW', 'GRASS'])"
   ]
  },
  {
   "cell_type": "code",
   "execution_count": 9,
   "metadata": {},
   "outputs": [],
   "source": [
    "grand_total = data.sum().sum()"
   ]
  },
  {
   "cell_type": "markdown",
   "metadata": {},
   "source": [
    "## Logistic Regression\n",
    "\n",
    "Here are the results of logistic regression with these variables."
   ]
  },
  {
   "cell_type": "code",
   "execution_count": 10,
   "metadata": {},
   "outputs": [
    {
     "name": "stdout",
     "output_type": "stream",
     "text": [
      "Optimization terminated successfully.\n",
      "         Current function value: 0.593464\n",
      "         Iterations 6\n"
     ]
    },
    {
     "data": {
      "text/html": [
       "<table class=\"simpletable\">\n",
       "<caption>Logit Regression Results</caption>\n",
       "<tr>\n",
       "  <th>Dep. Variable:</th>         <td>GRASS</td>      <th>  No. Observations:  </th>   <td> 20475</td>  \n",
       "</tr>\n",
       "<tr>\n",
       "  <th>Model:</th>                 <td>Logit</td>      <th>  Df Residuals:      </th>   <td> 20469</td>  \n",
       "</tr>\n",
       "<tr>\n",
       "  <th>Method:</th>                 <td>MLE</td>       <th>  Df Model:          </th>   <td>     5</td>  \n",
       "</tr>\n",
       "<tr>\n",
       "  <th>Date:</th>            <td>Mon, 16 Jan 2023</td> <th>  Pseudo R-squ.:     </th>   <td>0.05003</td> \n",
       "</tr>\n",
       "<tr>\n",
       "  <th>Time:</th>                <td>15:58:52</td>     <th>  Log-Likelihood:    </th>  <td> -12151.</td> \n",
       "</tr>\n",
       "<tr>\n",
       "  <th>converged:</th>             <td>True</td>       <th>  LL-Null:           </th>  <td> -12791.</td> \n",
       "</tr>\n",
       "<tr>\n",
       "  <th>Covariance Type:</th>     <td>nonrobust</td>    <th>  LLR p-value:       </th> <td>1.555e-274</td>\n",
       "</tr>\n",
       "</table>\n",
       "<table class=\"simpletable\">\n",
       "<tr>\n",
       "       <td></td>          <th>coef</th>     <th>std err</th>      <th>z</th>      <th>P>|z|</th>  <th>[0.025</th>    <th>0.975]</th>  \n",
       "</tr>\n",
       "<tr>\n",
       "  <th>Intercept</th>   <td>   -1.6788</td> <td>    0.240</td> <td>   -6.988</td> <td> 0.000</td> <td>   -2.150</td> <td>   -1.208</td>\n",
       "</tr>\n",
       "<tr>\n",
       "  <th>C(SEX)[T.2]</th> <td>   -0.3849</td> <td>    0.031</td> <td>  -12.394</td> <td> 0.000</td> <td>   -0.446</td> <td>   -0.324</td>\n",
       "</tr>\n",
       "<tr>\n",
       "  <th>AGE</th>         <td>   -0.0278</td> <td>    0.005</td> <td>   -5.399</td> <td> 0.000</td> <td>   -0.038</td> <td>   -0.018</td>\n",
       "</tr>\n",
       "<tr>\n",
       "  <th>AGE2</th>        <td>    0.0001</td> <td> 5.28e-05</td> <td>    2.190</td> <td> 0.029</td> <td> 1.21e-05</td> <td>    0.000</td>\n",
       "</tr>\n",
       "<tr>\n",
       "  <th>EDUC</th>        <td>    0.2000</td> <td>    0.031</td> <td>    6.412</td> <td> 0.000</td> <td>    0.139</td> <td>    0.261</td>\n",
       "</tr>\n",
       "<tr>\n",
       "  <th>EDUC2</th>       <td>   -0.0029</td> <td>    0.001</td> <td>   -2.450</td> <td> 0.014</td> <td>   -0.005</td> <td>   -0.001</td>\n",
       "</tr>\n",
       "</table>"
      ],
      "text/plain": [
       "<class 'statsmodels.iolib.summary.Summary'>\n",
       "\"\"\"\n",
       "                           Logit Regression Results                           \n",
       "==============================================================================\n",
       "Dep. Variable:                  GRASS   No. Observations:                20475\n",
       "Model:                          Logit   Df Residuals:                    20469\n",
       "Method:                           MLE   Df Model:                            5\n",
       "Date:                Mon, 16 Jan 2023   Pseudo R-squ.:                 0.05003\n",
       "Time:                        15:58:52   Log-Likelihood:                -12151.\n",
       "converged:                       True   LL-Null:                       -12791.\n",
       "Covariance Type:            nonrobust   LLR p-value:                1.555e-274\n",
       "===============================================================================\n",
       "                  coef    std err          z      P>|z|      [0.025      0.975]\n",
       "-------------------------------------------------------------------------------\n",
       "Intercept      -1.6788      0.240     -6.988      0.000      -2.150      -1.208\n",
       "C(SEX)[T.2]    -0.3849      0.031    -12.394      0.000      -0.446      -0.324\n",
       "AGE            -0.0278      0.005     -5.399      0.000      -0.038      -0.018\n",
       "AGE2            0.0001   5.28e-05      2.190      0.029    1.21e-05       0.000\n",
       "EDUC            0.2000      0.031      6.412      0.000       0.139       0.261\n",
       "EDUC2          -0.0029      0.001     -2.450      0.014      -0.005      -0.001\n",
       "===============================================================================\n",
       "\"\"\""
      ]
     },
     "execution_count": 10,
     "metadata": {},
     "output_type": "execute_result"
    }
   ],
   "source": [
    "import statsmodels.formula.api as smf\n",
    "\n",
    "formula = 'GRASS ~ AGE + AGE2 + EDUC + EDUC2 + C(SEX)'\n",
    "result_hat = smf.logit(formula, data=data).fit()\n",
    "result_hat.summary()"
   ]
  },
  {
   "cell_type": "markdown",
   "metadata": {},
   "source": [
    "To get a sense of what the results look like, we can plot the predicted probability of saying  \"yes\" as a function of age, for male and female respondents."
   ]
  },
  {
   "cell_type": "code",
   "execution_count": 11,
   "metadata": {},
   "outputs": [
    {
     "data": {
      "image/png": "[encoded data removed]",
      "text/plain": [
       "<Figure size 432x288 with 1 Axes>"
      ]
     },
     "metadata": {
      "needs_background": "light"
     },
     "output_type": "display_data"
    }
   ],
   "source": [
    "df = pd.DataFrame()\n",
    "df['AGE'] = np.linspace(18, 89)\n",
    "df['EDUC'] = 16\n",
    "\n",
    "df['AGE2'] = df['AGE']**2\n",
    "df['EDUC2'] = df['EDUC']**2\n",
    "\n",
    "df['SEX'] = 1\n",
    "pred1 = result_hat.predict(df)\n",
    "pred1.index = df['AGE']\n",
    "\n",
    "df['SEX'] = 2\n",
    "pred2 = result_hat.predict(df)\n",
    "pred2.index = df['AGE']\n",
    "\n",
    "pred1.plot(label='Male', alpha=0.6)\n",
    "pred2.plot(label='Female', alpha=0.6)\n",
    "\n",
    "plt.xlabel('Age')\n",
    "plt.ylabel('Fraction')\n",
    "plt.title('Support for legal marijuana')\n",
    "plt.legend();"
   ]
  },
  {
   "cell_type": "markdown",
   "metadata": {},
   "source": [
    "Men are more likely to support legalization than women, and younger people more likely than older people."
   ]
  },
  {
   "cell_type": "markdown",
   "metadata": {},
   "source": [
    "## Boostrap sampling\n",
    "\n",
    "Now let's implement the method characterized as non-parametric, which is based on bootstrap resampling.\n",
    "The following function samples the rows of the `DataFrame` with replacement and runs the regression model on the resampled data."
   ]
  },
  {
   "cell_type": "code",
   "execution_count": 12,
   "metadata": {},
   "outputs": [],
   "source": [
    "options = dict(disp=False, start_params=result_hat.params, tol=1e-3) \n",
    "\n",
    "def bootstrap(i):\n",
    "    bootstrapped = data.sample(n=len(data), replace=True)\n",
    "    results = smf.logit(formula, data=bootstrapped).fit(**options)\n",
    "    return results.params"
   ]
  },
  {
   "cell_type": "markdown",
   "metadata": {},
   "source": [
    "The options sent to `fit` make it run faster, but don't affect the results by much.\n",
    "\n",
    "Each time we run this process, the result represents a single draw from the sampling distribution of the parameters."
   ]
  },
  {
   "cell_type": "code",
   "execution_count": 13,
   "metadata": {},
   "outputs": [
    {
     "name": "stdout",
     "output_type": "stream",
     "text": [
      "CPU times: user 105 ms, sys: 0 ns, total: 105 ms\n",
      "Wall time: 83 ms\n"
     ]
    },
    {
     "data": {
      "text/plain": [
       "Intercept     -1.861770\n",
       "C(SEX)[T.2]   -0.380758\n",
       "AGE           -0.021963\n",
       "AGE2           0.000034\n",
       "EDUC           0.209531\n",
       "EDUC2         -0.002996\n",
       "dtype: float64"
      ]
     },
     "execution_count": 13,
     "metadata": {},
     "output_type": "execute_result"
    }
   ],
   "source": [
    "%time bootstrap(0)"
   ]
  },
  {
   "cell_type": "markdown",
   "metadata": {},
   "source": [
    "By running it many times, we generate a sample from the sampling distribution. `pqdm` runs the sampling process in multiple threads."
   ]
  },
  {
   "cell_type": "code",
   "execution_count": 14,
   "metadata": {},
   "outputs": [
    {
     "data": {
      "application/vnd.jupyter.widget-view+json": {
       "model_id": "de596f179c1645cea8bdcb4d7ce7c2dc",
       "version_major": 2,
       "version_minor": 0
      },
      "text/plain": [
       "QUEUEING TASKS | :   0%|          | 0/101 [00:00<?, ?it/s]"
      ]
     },
     "metadata": {},
     "output_type": "display_data"
    },
    {
     "data": {
      "application/vnd.jupyter.widget-view+json": {
       "model_id": "2df528ac7c8f47a29f4f7b0df3ec61a8",
       "version_major": 2,
       "version_minor": 0
      },
      "text/plain": [
       "PROCESSING TASKS | :   0%|          | 0/101 [00:00<?, ?it/s]"
      ]
     },
     "metadata": {},
     "output_type": "display_data"
    },
    {
     "data": {
      "application/vnd.jupyter.widget-view+json": {
       "model_id": "f499ed566ac247f3ac62355d67e2edb5",
       "version_major": 2,
       "version_minor": 0
      },
      "text/plain": [
       "COLLECTING RESULTS | :   0%|          | 0/101 [00:00<?, ?it/s]"
      ]
     },
     "metadata": {},
     "output_type": "display_data"
    },
    {
     "data": {
      "text/html": [
       "<div>\n",
       "<style scoped>\n",
       "    .dataframe tbody tr th:only-of-type {\n",
       "        vertical-align: middle;\n",
       "    }\n",
       "\n",
       "    .dataframe tbody tr th {\n",
       "        vertical-align: top;\n",
       "    }\n",
       "\n",
       "    .dataframe thead th {\n",
       "        text-align: right;\n",
       "    }\n",
       "</style>\n",
       "<table border=\"1\" class=\"dataframe\">\n",
       "  <thead>\n",
       "    <tr style=\"text-align: right;\">\n",
       "      <th></th>\n",
       "      <th>Intercept</th>\n",
       "      <th>C(SEX)[T.2]</th>\n",
       "      <th>AGE</th>\n",
       "      <th>AGE2</th>\n",
       "      <th>EDUC</th>\n",
       "      <th>EDUC2</th>\n",
       "    </tr>\n",
       "  </thead>\n",
       "  <tbody>\n",
       "    <tr>\n",
       "      <th>0</th>\n",
       "      <td>-1.537141</td>\n",
       "      <td>-0.395474</td>\n",
       "      <td>-0.026055</td>\n",
       "      <td>0.000097</td>\n",
       "      <td>0.169940</td>\n",
       "      <td>-0.001684</td>\n",
       "    </tr>\n",
       "    <tr>\n",
       "      <th>1</th>\n",
       "      <td>-1.553117</td>\n",
       "      <td>-0.383286</td>\n",
       "      <td>-0.035284</td>\n",
       "      <td>0.000199</td>\n",
       "      <td>0.202250</td>\n",
       "      <td>-0.002995</td>\n",
       "    </tr>\n",
       "    <tr>\n",
       "      <th>2</th>\n",
       "      <td>-1.607102</td>\n",
       "      <td>-0.402879</td>\n",
       "      <td>-0.019946</td>\n",
       "      <td>0.000037</td>\n",
       "      <td>0.169150</td>\n",
       "      <td>-0.001981</td>\n",
       "    </tr>\n",
       "    <tr>\n",
       "      <th>3</th>\n",
       "      <td>-1.392394</td>\n",
       "      <td>-0.431134</td>\n",
       "      <td>-0.028567</td>\n",
       "      <td>0.000115</td>\n",
       "      <td>0.175222</td>\n",
       "      <td>-0.002341</td>\n",
       "    </tr>\n",
       "    <tr>\n",
       "      <th>4</th>\n",
       "      <td>-2.056720</td>\n",
       "      <td>-0.402190</td>\n",
       "      <td>-0.023868</td>\n",
       "      <td>0.000099</td>\n",
       "      <td>0.246133</td>\n",
       "      <td>-0.004744</td>\n",
       "    </tr>\n",
       "  </tbody>\n",
       "</table>\n",
       "</div>"
      ],
      "text/plain": [
       "   Intercept  C(SEX)[T.2]       AGE      AGE2      EDUC     EDUC2\n",
       "0  -1.537141    -0.395474 -0.026055  0.000097  0.169940 -0.001684\n",
       "1  -1.553117    -0.383286 -0.035284  0.000199  0.202250 -0.002995\n",
       "2  -1.607102    -0.402879 -0.019946  0.000037  0.169150 -0.001981\n",
       "3  -1.392394    -0.431134 -0.028567  0.000115  0.175222 -0.002341\n",
       "4  -2.056720    -0.402190 -0.023868  0.000099  0.246133 -0.004744"
      ]
     },
     "execution_count": 14,
     "metadata": {},
     "output_type": "execute_result"
    }
   ],
   "source": [
    "from pqdm.threads import pqdm\n",
    "\n",
    "estimates = pqdm(range(101), bootstrap, n_jobs=4)\n",
    "sampling_dist = pd.DataFrame(estimates)\n",
    "sampling_dist.head()"
   ]
  },
  {
   "cell_type": "markdown",
   "metadata": {},
   "source": [
    "Here's what the sampling distribution looks like for one of the parameters."
   ]
  },
  {
   "cell_type": "code",
   "execution_count": 15,
   "metadata": {},
   "outputs": [
    {
     "data": {
      "image/png": "[encoded data removed]",
      "text/plain": [
       "<Figure size 432x288 with 1 Axes>"
      ]
     },
     "metadata": {
      "needs_background": "light"
     },
     "output_type": "display_data"
    }
   ],
   "source": [
    "ci90 = sampling_dist['C(SEX)[T.2]'].quantile([0.05, 0.95])\n",
    "sns.kdeplot(sampling_dist['C(SEX)[T.2]'])\n",
    "[plt.axvline(x, ls=':') for x in ci90]\n",
    "plt.title('Sampling Distribution of a parameter');"
   ]
  },
  {
   "cell_type": "markdown",
   "metadata": {},
   "source": [
    "The mean of the sampling distribution should be close to the parameters we estimated with the original dataset, and it is."
   ]
  },
  {
   "cell_type": "code",
   "execution_count": 16,
   "metadata": {},
   "outputs": [
    {
     "data": {
      "text/html": [
       "<div>\n",
       "<style scoped>\n",
       "    .dataframe tbody tr th:only-of-type {\n",
       "        vertical-align: middle;\n",
       "    }\n",
       "\n",
       "    .dataframe tbody tr th {\n",
       "        vertical-align: top;\n",
       "    }\n",
       "\n",
       "    .dataframe thead th {\n",
       "        text-align: right;\n",
       "    }\n",
       "</style>\n",
       "<table border=\"1\" class=\"dataframe\">\n",
       "  <thead>\n",
       "    <tr style=\"text-align: right;\">\n",
       "      <th></th>\n",
       "      <th>Sampling mean</th>\n",
       "      <th>Estimates</th>\n",
       "    </tr>\n",
       "  </thead>\n",
       "  <tbody>\n",
       "    <tr>\n",
       "      <th>Intercept</th>\n",
       "      <td>-1.696752</td>\n",
       "      <td>-1.678838</td>\n",
       "    </tr>\n",
       "    <tr>\n",
       "      <th>C(SEX)[T.2]</th>\n",
       "      <td>-0.384676</td>\n",
       "      <td>-0.384919</td>\n",
       "    </tr>\n",
       "    <tr>\n",
       "      <th>AGE</th>\n",
       "      <td>-0.027044</td>\n",
       "      <td>-0.027825</td>\n",
       "    </tr>\n",
       "    <tr>\n",
       "      <th>AGE2</th>\n",
       "      <td>0.000108</td>\n",
       "      <td>0.000116</td>\n",
       "    </tr>\n",
       "    <tr>\n",
       "      <th>EDUC</th>\n",
       "      <td>0.199954</td>\n",
       "      <td>0.200002</td>\n",
       "    </tr>\n",
       "    <tr>\n",
       "      <th>EDUC2</th>\n",
       "      <td>-0.002848</td>\n",
       "      <td>-0.002855</td>\n",
       "    </tr>\n",
       "  </tbody>\n",
       "</table>\n",
       "</div>"
      ],
      "text/plain": [
       "             Sampling mean  Estimates\n",
       "Intercept        -1.696752  -1.678838\n",
       "C(SEX)[T.2]      -0.384676  -0.384919\n",
       "AGE              -0.027044  -0.027825\n",
       "AGE2              0.000108   0.000116\n",
       "EDUC              0.199954   0.200002\n",
       "EDUC2            -0.002848  -0.002855"
      ]
     },
     "execution_count": 16,
     "metadata": {},
     "output_type": "execute_result"
    }
   ],
   "source": [
    "pd.DataFrame({\"Sampling mean\": sampling_dist.mean(), \n",
    "              \"Estimates\": result_hat.params})"
   ]
  },
  {
   "cell_type": "markdown",
   "metadata": {},
   "source": [
    "The standard deviations of the sampling distributions should be close to the standard errors computed by StatsModels, and they are.\n",
    "Most of them are close enough that the difference probably doesn't matter in practice."
   ]
  },
  {
   "cell_type": "code",
   "execution_count": 17,
   "metadata": {
    "scrolled": true
   },
   "outputs": [],
   "source": [
    "def standard_errors(sampling_dist, result_hat):\n",
    "    df = pd.DataFrame({\"Sampling std\": sampling_dist.std(), \n",
    "                       \"Standard error\": result_hat.bse})\n",
    "    num, den = df.values.T\n",
    "    df['Relative % diff'] = (num / den - 1) * 100\n",
    "    return df"
   ]
  },
  {
   "cell_type": "code",
   "execution_count": 18,
   "metadata": {},
   "outputs": [
    {
     "data": {
      "text/html": [
       "<div>\n",
       "<style scoped>\n",
       "    .dataframe tbody tr th:only-of-type {\n",
       "        vertical-align: middle;\n",
       "    }\n",
       "\n",
       "    .dataframe tbody tr th {\n",
       "        vertical-align: top;\n",
       "    }\n",
       "\n",
       "    .dataframe thead th {\n",
       "        text-align: right;\n",
       "    }\n",
       "</style>\n",
       "<table border=\"1\" class=\"dataframe\">\n",
       "  <thead>\n",
       "    <tr style=\"text-align: right;\">\n",
       "      <th></th>\n",
       "      <th>Sampling std</th>\n",
       "      <th>Standard error</th>\n",
       "      <th>Relative % diff</th>\n",
       "    </tr>\n",
       "  </thead>\n",
       "  <tbody>\n",
       "    <tr>\n",
       "      <th>Intercept</th>\n",
       "      <td>0.275853</td>\n",
       "      <td>0.240243</td>\n",
       "      <td>14.822533</td>\n",
       "    </tr>\n",
       "    <tr>\n",
       "      <th>C(SEX)[T.2]</th>\n",
       "      <td>0.027257</td>\n",
       "      <td>0.031057</td>\n",
       "      <td>-12.235898</td>\n",
       "    </tr>\n",
       "    <tr>\n",
       "      <th>AGE</th>\n",
       "      <td>0.005151</td>\n",
       "      <td>0.005153</td>\n",
       "      <td>-0.051663</td>\n",
       "    </tr>\n",
       "    <tr>\n",
       "      <th>AGE2</th>\n",
       "      <td>0.000049</td>\n",
       "      <td>0.000053</td>\n",
       "      <td>-6.720926</td>\n",
       "    </tr>\n",
       "    <tr>\n",
       "      <th>EDUC</th>\n",
       "      <td>0.035279</td>\n",
       "      <td>0.031193</td>\n",
       "      <td>13.100303</td>\n",
       "    </tr>\n",
       "    <tr>\n",
       "      <th>EDUC2</th>\n",
       "      <td>0.001338</td>\n",
       "      <td>0.001166</td>\n",
       "      <td>14.798887</td>\n",
       "    </tr>\n",
       "  </tbody>\n",
       "</table>\n",
       "</div>"
      ],
      "text/plain": [
       "             Sampling std  Standard error  Relative % diff\n",
       "Intercept        0.275853        0.240243        14.822533\n",
       "C(SEX)[T.2]      0.027257        0.031057       -12.235898\n",
       "AGE              0.005151        0.005153        -0.051663\n",
       "AGE2             0.000049        0.000053        -6.720926\n",
       "EDUC             0.035279        0.031193        13.100303\n",
       "EDUC2            0.001338        0.001166        14.798887"
      ]
     },
     "execution_count": 18,
     "metadata": {},
     "output_type": "execute_result"
    }
   ],
   "source": [
    "standard_errors(sampling_dist, result_hat)"
   ]
  },
  {
   "cell_type": "markdown",
   "metadata": {},
   "source": [
    "Of course, there is nothing magic about the standard errors computed by StatsModels; they are approximations based on a model of the sampling process, just like the results from resampling."
   ]
  },
  {
   "cell_type": "markdown",
   "metadata": {},
   "source": [
    "## The Resampling Framework\n",
    "\n",
    "To understand what we just did, it is helpful to remember why we did it.\n",
    "The purpose of the sampling distribution is to quantify the variability in an estimate due to random sampling. It is the answer to the question, \"If we ran this sampling process many times, how much would we expect the results to vary?\"\n",
    "\n",
    "To answer that question, we need a model of the sampling process. We use the model to simulate the sampling process and generate counterfactual datasets that represent other samples the process could have generated.\n",
    "\n",
    "The following figure represents this framework."
   ]
  },
  {
   "cell_type": "markdown",
   "metadata": {},
   "source": [
    "![](https://github.com/AllenDowney/ElementsOfDataScience/raw/master/figs/resampling.png)"
   ]
  },
  {
   "cell_type": "markdown",
   "metadata": {},
   "source": [
    "In bootstrap resampling, we treat the rows of the original dataset as if they are the population and draw a random sample from it.\n",
    "\n",
    "We use this simulated data to compute the sample statistic; in this example, it's the parameters of the logistic regression model.\n",
    "We collect the results to form a sample from the sampling distribution, which we can use to compute confidence intervals and standard errors.\n",
    "\n",
    "This way of simulating the sampling process asks, in effect, what would have happened if we had surveyed different people.\n",
    "But that's not the only possible model of the sampling process.\n",
    "An alternative is to ask what would happen if we surveyed the same people, but they gave different answers.\n",
    "That's the model that underlies the parametric method."
   ]
  },
  {
   "cell_type": "markdown",
   "metadata": {},
   "source": [
    "## Parametric bootstrap\n",
    "\n",
    "So, how do we simulate a sampling process where we survey the same people, but they give different answers?\n",
    "One way is to assume, for the purposes of the simulation, that the parameters we estimated from the original data are correct.\n",
    "If so, we can use the regression model to compute the predicted probability for each respondent, like this:"
   ]
  },
  {
   "cell_type": "code",
   "execution_count": 19,
   "metadata": {},
   "outputs": [
    {
     "data": {
      "text/plain": [
       "count    20475.000000\n",
       "mean         0.317167\n",
       "std          0.113654\n",
       "min          0.025989\n",
       "25%          0.234792\n",
       "50%          0.317927\n",
       "75%          0.400791\n",
       "max          0.630366\n",
       "dtype: float64"
      ]
     },
     "execution_count": 19,
     "metadata": {},
     "output_type": "execute_result"
    }
   ],
   "source": [
    "pi_hat = result_hat.predict(data)\n",
    "pi_hat.describe()"
   ]
  },
  {
   "cell_type": "markdown",
   "metadata": {},
   "source": [
    "Now we can use these probabilities to generate a biased coin toss for each respondent."
   ]
  },
  {
   "cell_type": "code",
   "execution_count": 20,
   "metadata": {},
   "outputs": [
    {
     "data": {
      "text/plain": [
       "0.31443223443223445"
      ]
     },
     "execution_count": 20,
     "metadata": {},
     "output_type": "execute_result"
    }
   ],
   "source": [
    "from scipy.stats import bernoulli\n",
    "\n",
    "simulated = bernoulli.rvs(pi_hat.values)\n",
    "simulated.mean()"
   ]
  },
  {
   "cell_type": "markdown",
   "metadata": {},
   "source": [
    "Then we can run the regression model with these simulated values as the dependent variable.\n",
    "The following function shows how."
   ]
  },
  {
   "cell_type": "code",
   "execution_count": 21,
   "metadata": {},
   "outputs": [],
   "source": [
    "def bootstrap2(i):\n",
    "    flipped = data.assign(GRASS=bernoulli.rvs(pi_hat.values))\n",
    "    results = smf.logit(formula, data=flipped).fit(**options)\n",
    "    return results.params"
   ]
  },
  {
   "cell_type": "markdown",
   "metadata": {},
   "source": [
    "Again, the result from a single simulation is a random value from the sampling distribution."
   ]
  },
  {
   "cell_type": "code",
   "execution_count": 22,
   "metadata": {},
   "outputs": [
    {
     "data": {
      "text/plain": [
       "Intercept     -1.471822\n",
       "C(SEX)[T.2]   -0.399697\n",
       "AGE           -0.023254\n",
       "AGE2           0.000063\n",
       "EDUC           0.160088\n",
       "EDUC2         -0.001395\n",
       "dtype: float64"
      ]
     },
     "execution_count": 22,
     "metadata": {},
     "output_type": "execute_result"
    }
   ],
   "source": [
    "bootstrap2(0)"
   ]
  },
  {
   "cell_type": "markdown",
   "metadata": {},
   "source": [
    "If we run it many times, we get a sample from the sampling distribution."
   ]
  },
  {
   "cell_type": "code",
   "execution_count": 23,
   "metadata": {},
   "outputs": [
    {
     "data": {
      "application/vnd.jupyter.widget-view+json": {
       "model_id": "401773f3a43849428586165b1fda7b20",
       "version_major": 2,
       "version_minor": 0
      },
      "text/plain": [
       "QUEUEING TASKS | :   0%|          | 0/101 [00:00<?, ?it/s]"
      ]
     },
     "metadata": {},
     "output_type": "display_data"
    },
    {
     "data": {
      "application/vnd.jupyter.widget-view+json": {
       "model_id": "ab5d233df695472eab8c06d4484bb1da",
       "version_major": 2,
       "version_minor": 0
      },
      "text/plain": [
       "PROCESSING TASKS | :   0%|          | 0/101 [00:00<?, ?it/s]"
      ]
     },
     "metadata": {},
     "output_type": "display_data"
    },
    {
     "data": {
      "application/vnd.jupyter.widget-view+json": {
       "model_id": "28a94bfc43d64cd0880f69a121e3bffa",
       "version_major": 2,
       "version_minor": 0
      },
      "text/plain": [
       "COLLECTING RESULTS | :   0%|          | 0/101 [00:00<?, ?it/s]"
      ]
     },
     "metadata": {},
     "output_type": "display_data"
    }
   ],
   "source": [
    "from pqdm.threads import pqdm\n",
    "\n",
    "estimates = pqdm(range(101), bootstrap2, n_jobs=4)"
   ]
  },
  {
   "cell_type": "code",
   "execution_count": 24,
   "metadata": {},
   "outputs": [
    {
     "data": {
      "text/html": [
       "<div>\n",
       "<style scoped>\n",
       "    .dataframe tbody tr th:only-of-type {\n",
       "        vertical-align: middle;\n",
       "    }\n",
       "\n",
       "    .dataframe tbody tr th {\n",
       "        vertical-align: top;\n",
       "    }\n",
       "\n",
       "    .dataframe thead th {\n",
       "        text-align: right;\n",
       "    }\n",
       "</style>\n",
       "<table border=\"1\" class=\"dataframe\">\n",
       "  <thead>\n",
       "    <tr style=\"text-align: right;\">\n",
       "      <th></th>\n",
       "      <th>Intercept</th>\n",
       "      <th>C(SEX)[T.2]</th>\n",
       "      <th>AGE</th>\n",
       "      <th>AGE2</th>\n",
       "      <th>EDUC</th>\n",
       "      <th>EDUC2</th>\n",
       "    </tr>\n",
       "  </thead>\n",
       "  <tbody>\n",
       "    <tr>\n",
       "      <th>0</th>\n",
       "      <td>-1.689888</td>\n",
       "      <td>-0.395891</td>\n",
       "      <td>-0.028846</td>\n",
       "      <td>0.000134</td>\n",
       "      <td>0.209245</td>\n",
       "      <td>-0.003395</td>\n",
       "    </tr>\n",
       "    <tr>\n",
       "      <th>1</th>\n",
       "      <td>-2.032777</td>\n",
       "      <td>-0.367374</td>\n",
       "      <td>-0.027335</td>\n",
       "      <td>0.000101</td>\n",
       "      <td>0.245684</td>\n",
       "      <td>-0.004202</td>\n",
       "    </tr>\n",
       "    <tr>\n",
       "      <th>2</th>\n",
       "      <td>-1.738158</td>\n",
       "      <td>-0.355985</td>\n",
       "      <td>-0.027866</td>\n",
       "      <td>0.000109</td>\n",
       "      <td>0.211772</td>\n",
       "      <td>-0.003311</td>\n",
       "    </tr>\n",
       "    <tr>\n",
       "      <th>3</th>\n",
       "      <td>-1.881149</td>\n",
       "      <td>-0.356160</td>\n",
       "      <td>-0.021486</td>\n",
       "      <td>0.000045</td>\n",
       "      <td>0.206314</td>\n",
       "      <td>-0.003034</td>\n",
       "    </tr>\n",
       "    <tr>\n",
       "      <th>4</th>\n",
       "      <td>-1.262264</td>\n",
       "      <td>-0.381859</td>\n",
       "      <td>-0.035488</td>\n",
       "      <td>0.000191</td>\n",
       "      <td>0.158278</td>\n",
       "      <td>-0.001162</td>\n",
       "    </tr>\n",
       "  </tbody>\n",
       "</table>\n",
       "</div>"
      ],
      "text/plain": [
       "   Intercept  C(SEX)[T.2]       AGE      AGE2      EDUC     EDUC2\n",
       "0  -1.689888    -0.395891 -0.028846  0.000134  0.209245 -0.003395\n",
       "1  -2.032777    -0.367374 -0.027335  0.000101  0.245684 -0.004202\n",
       "2  -1.738158    -0.355985 -0.027866  0.000109  0.211772 -0.003311\n",
       "3  -1.881149    -0.356160 -0.021486  0.000045  0.206314 -0.003034\n",
       "4  -1.262264    -0.381859 -0.035488  0.000191  0.158278 -0.001162"
      ]
     },
     "execution_count": 24,
     "metadata": {},
     "output_type": "execute_result"
    }
   ],
   "source": [
    "sampling_dist2 = pd.DataFrame(estimates)\n",
    "sampling_dist2.head()"
   ]
  },
  {
   "cell_type": "markdown",
   "metadata": {},
   "source": [
    "Here's the sampling distribution for a single parameter."
   ]
  },
  {
   "cell_type": "code",
   "execution_count": 25,
   "metadata": {},
   "outputs": [
    {
     "data": {
      "image/png": "[encoded data removed]",
      "text/plain": [
       "<Figure size 432x288 with 1 Axes>"
      ]
     },
     "metadata": {
      "needs_background": "light"
     },
     "output_type": "display_data"
    }
   ],
   "source": [
    "ci90 = sampling_dist2['C(SEX)[T.2]'].quantile([0.05, 0.95])\n",
    "sns.kdeplot(sampling_dist2['C(SEX)[T.2]'])\n",
    "[plt.axvline(x, ls=':') for x in ci90]\n",
    "plt.title('Sampling Distribution of a parameter');"
   ]
  },
  {
   "cell_type": "markdown",
   "metadata": {},
   "source": [
    "Again, the standard deviations should be close to the standard errors, and they are."
   ]
  },
  {
   "cell_type": "code",
   "execution_count": 26,
   "metadata": {
    "scrolled": true
   },
   "outputs": [
    {
     "data": {
      "text/html": [
       "<div>\n",
       "<style scoped>\n",
       "    .dataframe tbody tr th:only-of-type {\n",
       "        vertical-align: middle;\n",
       "    }\n",
       "\n",
       "    .dataframe tbody tr th {\n",
       "        vertical-align: top;\n",
       "    }\n",
       "\n",
       "    .dataframe thead th {\n",
       "        text-align: right;\n",
       "    }\n",
       "</style>\n",
       "<table border=\"1\" class=\"dataframe\">\n",
       "  <thead>\n",
       "    <tr style=\"text-align: right;\">\n",
       "      <th></th>\n",
       "      <th>Sampling std</th>\n",
       "      <th>Standard error</th>\n",
       "      <th>Relative % diff</th>\n",
       "    </tr>\n",
       "  </thead>\n",
       "  <tbody>\n",
       "    <tr>\n",
       "      <th>Intercept</th>\n",
       "      <td>0.236273</td>\n",
       "      <td>0.240243</td>\n",
       "      <td>-1.652341</td>\n",
       "    </tr>\n",
       "    <tr>\n",
       "      <th>C(SEX)[T.2]</th>\n",
       "      <td>0.030465</td>\n",
       "      <td>0.031057</td>\n",
       "      <td>-1.905955</td>\n",
       "    </tr>\n",
       "    <tr>\n",
       "      <th>AGE</th>\n",
       "      <td>0.004926</td>\n",
       "      <td>0.005153</td>\n",
       "      <td>-4.405762</td>\n",
       "    </tr>\n",
       "    <tr>\n",
       "      <th>AGE2</th>\n",
       "      <td>0.000050</td>\n",
       "      <td>0.000053</td>\n",
       "      <td>-4.627461</td>\n",
       "    </tr>\n",
       "    <tr>\n",
       "      <th>EDUC</th>\n",
       "      <td>0.030789</td>\n",
       "      <td>0.031193</td>\n",
       "      <td>-1.293946</td>\n",
       "    </tr>\n",
       "    <tr>\n",
       "      <th>EDUC2</th>\n",
       "      <td>0.001166</td>\n",
       "      <td>0.001166</td>\n",
       "      <td>0.011619</td>\n",
       "    </tr>\n",
       "  </tbody>\n",
       "</table>\n",
       "</div>"
      ],
      "text/plain": [
       "             Sampling std  Standard error  Relative % diff\n",
       "Intercept        0.236273        0.240243        -1.652341\n",
       "C(SEX)[T.2]      0.030465        0.031057        -1.905955\n",
       "AGE              0.004926        0.005153        -4.405762\n",
       "AGE2             0.000050        0.000053        -4.627461\n",
       "EDUC             0.030789        0.031193        -1.293946\n",
       "EDUC2            0.001166        0.001166         0.011619"
      ]
     },
     "execution_count": 26,
     "metadata": {},
     "output_type": "execute_result"
    }
   ],
   "source": [
    "standard_errors(sampling_dist2, result_hat)"
   ]
  },
  {
   "cell_type": "markdown",
   "metadata": {},
   "source": [
    "So we have two models of the sampling process that yield different sampling distributions. But these are not the only models.\n",
    "\n",
    "If the first method asks, \"What if we surveyed different people?\" and the second asks \"What if we surveyed the same people and they gave different answers?\", let's consider a third method that asks \"¿Por qué no los dos?\"."
   ]
  },
  {
   "cell_type": "markdown",
   "metadata": {},
   "source": [
    "## Hybrid\n",
    "\n",
    "The following function uses bootstrap sampling to simulate surveying different people; then it uses the parametric method to simulate their responses."
   ]
  },
  {
   "cell_type": "code",
   "execution_count": 27,
   "metadata": {},
   "outputs": [],
   "source": [
    "def bootstrap3(i):\n",
    "    bootstrapped = data.sample(n=len(data), replace=True)\n",
    "    pi_hat = result_hat.predict(bootstrapped)\n",
    "    flipped = bootstrapped.assign(GRASS=bernoulli.rvs(pi_hat.values))\n",
    "    results = smf.logit(formula, data=flipped).fit(**options)\n",
    "    return results.params"
   ]
  },
  {
   "cell_type": "code",
   "execution_count": 28,
   "metadata": {},
   "outputs": [
    {
     "data": {
      "text/plain": [
       "Intercept     -1.543405\n",
       "C(SEX)[T.2]   -0.390236\n",
       "AGE           -0.031007\n",
       "AGE2           0.000135\n",
       "EDUC           0.196199\n",
       "EDUC2         -0.002742\n",
       "dtype: float64"
      ]
     },
     "execution_count": 28,
     "metadata": {},
     "output_type": "execute_result"
    }
   ],
   "source": [
    "bootstrap3(0)"
   ]
  },
  {
   "cell_type": "code",
   "execution_count": 29,
   "metadata": {},
   "outputs": [
    {
     "data": {
      "application/vnd.jupyter.widget-view+json": {
       "model_id": "c56e1f9c28c04d5596b38be857fbf151",
       "version_major": 2,
       "version_minor": 0
      },
      "text/plain": [
       "QUEUEING TASKS | :   0%|          | 0/101 [00:00<?, ?it/s]"
      ]
     },
     "metadata": {},
     "output_type": "display_data"
    },
    {
     "data": {
      "application/vnd.jupyter.widget-view+json": {
       "model_id": "f7fcc199116f4c7dbad9367368a8f096",
       "version_major": 2,
       "version_minor": 0
      },
      "text/plain": [
       "PROCESSING TASKS | :   0%|          | 0/101 [00:00<?, ?it/s]"
      ]
     },
     "metadata": {},
     "output_type": "display_data"
    },
    {
     "data": {
      "application/vnd.jupyter.widget-view+json": {
       "model_id": "c50f85da955c450f99547b02724eeed2",
       "version_major": 2,
       "version_minor": 0
      },
      "text/plain": [
       "COLLECTING RESULTS | :   0%|          | 0/101 [00:00<?, ?it/s]"
      ]
     },
     "metadata": {},
     "output_type": "display_data"
    }
   ],
   "source": [
    "from pqdm.threads import pqdm\n",
    "\n",
    "estimates = pqdm(range(101), bootstrap3, n_jobs=4)"
   ]
  },
  {
   "cell_type": "code",
   "execution_count": 30,
   "metadata": {},
   "outputs": [
    {
     "data": {
      "text/html": [
       "<div>\n",
       "<style scoped>\n",
       "    .dataframe tbody tr th:only-of-type {\n",
       "        vertical-align: middle;\n",
       "    }\n",
       "\n",
       "    .dataframe tbody tr th {\n",
       "        vertical-align: top;\n",
       "    }\n",
       "\n",
       "    .dataframe thead th {\n",
       "        text-align: right;\n",
       "    }\n",
       "</style>\n",
       "<table border=\"1\" class=\"dataframe\">\n",
       "  <thead>\n",
       "    <tr style=\"text-align: right;\">\n",
       "      <th></th>\n",
       "      <th>Intercept</th>\n",
       "      <th>C(SEX)[T.2]</th>\n",
       "      <th>AGE</th>\n",
       "      <th>AGE2</th>\n",
       "      <th>EDUC</th>\n",
       "      <th>EDUC2</th>\n",
       "    </tr>\n",
       "  </thead>\n",
       "  <tbody>\n",
       "    <tr>\n",
       "      <th>0</th>\n",
       "      <td>-1.934169</td>\n",
       "      <td>-0.359771</td>\n",
       "      <td>-0.024523</td>\n",
       "      <td>0.000087</td>\n",
       "      <td>0.215415</td>\n",
       "      <td>-0.003027</td>\n",
       "    </tr>\n",
       "    <tr>\n",
       "      <th>1</th>\n",
       "      <td>-1.652920</td>\n",
       "      <td>-0.306184</td>\n",
       "      <td>-0.026194</td>\n",
       "      <td>0.000079</td>\n",
       "      <td>0.199519</td>\n",
       "      <td>-0.003164</td>\n",
       "    </tr>\n",
       "    <tr>\n",
       "      <th>2</th>\n",
       "      <td>-1.256835</td>\n",
       "      <td>-0.308523</td>\n",
       "      <td>-0.032313</td>\n",
       "      <td>0.000163</td>\n",
       "      <td>0.146099</td>\n",
       "      <td>-0.001003</td>\n",
       "    </tr>\n",
       "    <tr>\n",
       "      <th>3</th>\n",
       "      <td>-1.621364</td>\n",
       "      <td>-0.405506</td>\n",
       "      <td>-0.021471</td>\n",
       "      <td>0.000055</td>\n",
       "      <td>0.168945</td>\n",
       "      <td>-0.001733</td>\n",
       "    </tr>\n",
       "    <tr>\n",
       "      <th>4</th>\n",
       "      <td>-1.741930</td>\n",
       "      <td>-0.447606</td>\n",
       "      <td>-0.014704</td>\n",
       "      <td>-0.000018</td>\n",
       "      <td>0.167447</td>\n",
       "      <td>-0.001522</td>\n",
       "    </tr>\n",
       "  </tbody>\n",
       "</table>\n",
       "</div>"
      ],
      "text/plain": [
       "   Intercept  C(SEX)[T.2]       AGE      AGE2      EDUC     EDUC2\n",
       "0  -1.934169    -0.359771 -0.024523  0.000087  0.215415 -0.003027\n",
       "1  -1.652920    -0.306184 -0.026194  0.000079  0.199519 -0.003164\n",
       "2  -1.256835    -0.308523 -0.032313  0.000163  0.146099 -0.001003\n",
       "3  -1.621364    -0.405506 -0.021471  0.000055  0.168945 -0.001733\n",
       "4  -1.741930    -0.447606 -0.014704 -0.000018  0.167447 -0.001522"
      ]
     },
     "execution_count": 30,
     "metadata": {},
     "output_type": "execute_result"
    }
   ],
   "source": [
    "sampling_dist3 = pd.DataFrame(estimates)\n",
    "sampling_dist3.head()"
   ]
  },
  {
   "cell_type": "markdown",
   "metadata": {},
   "source": [
    "Here's the sampling distribution for one of the parameters."
   ]
  },
  {
   "cell_type": "code",
   "execution_count": 31,
   "metadata": {},
   "outputs": [
    {
     "data": {
      "image/png": "[encoded data removed]",
      "text/plain": [
       "<Figure size 432x288 with 1 Axes>"
      ]
     },
     "metadata": {
      "needs_background": "light"
     },
     "output_type": "display_data"
    }
   ],
   "source": [
    "ci90 = sampling_dist3['C(SEX)[T.2]'].quantile([0.05, 0.95])\n",
    "sns.kdeplot(sampling_dist3['C(SEX)[T.2]'])\n",
    "[plt.axvline(x, ls=':') for x in ci90];"
   ]
  },
  {
   "cell_type": "markdown",
   "metadata": {},
   "source": [
    "Again, the standard errors are comparable to the ones computed by StatsModels."
   ]
  },
  {
   "cell_type": "code",
   "execution_count": 32,
   "metadata": {
    "scrolled": true
   },
   "outputs": [
    {
     "data": {
      "text/html": [
       "<div>\n",
       "<style scoped>\n",
       "    .dataframe tbody tr th:only-of-type {\n",
       "        vertical-align: middle;\n",
       "    }\n",
       "\n",
       "    .dataframe tbody tr th {\n",
       "        vertical-align: top;\n",
       "    }\n",
       "\n",
       "    .dataframe thead th {\n",
       "        text-align: right;\n",
       "    }\n",
       "</style>\n",
       "<table border=\"1\" class=\"dataframe\">\n",
       "  <thead>\n",
       "    <tr style=\"text-align: right;\">\n",
       "      <th></th>\n",
       "      <th>Sampling std</th>\n",
       "      <th>Standard error</th>\n",
       "      <th>Relative % diff</th>\n",
       "    </tr>\n",
       "  </thead>\n",
       "  <tbody>\n",
       "    <tr>\n",
       "      <th>Intercept</th>\n",
       "      <td>0.252933</td>\n",
       "      <td>0.240243</td>\n",
       "      <td>5.282157</td>\n",
       "    </tr>\n",
       "    <tr>\n",
       "      <th>C(SEX)[T.2]</th>\n",
       "      <td>0.028866</td>\n",
       "      <td>0.031057</td>\n",
       "      <td>-7.052251</td>\n",
       "    </tr>\n",
       "    <tr>\n",
       "      <th>AGE</th>\n",
       "      <td>0.004829</td>\n",
       "      <td>0.005153</td>\n",
       "      <td>-6.292529</td>\n",
       "    </tr>\n",
       "    <tr>\n",
       "      <th>AGE2</th>\n",
       "      <td>0.000049</td>\n",
       "      <td>0.000053</td>\n",
       "      <td>-6.943883</td>\n",
       "    </tr>\n",
       "    <tr>\n",
       "      <th>EDUC</th>\n",
       "      <td>0.034269</td>\n",
       "      <td>0.031193</td>\n",
       "      <td>9.862360</td>\n",
       "    </tr>\n",
       "    <tr>\n",
       "      <th>EDUC2</th>\n",
       "      <td>0.001275</td>\n",
       "      <td>0.001166</td>\n",
       "      <td>9.379115</td>\n",
       "    </tr>\n",
       "  </tbody>\n",
       "</table>\n",
       "</div>"
      ],
      "text/plain": [
       "             Sampling std  Standard error  Relative % diff\n",
       "Intercept        0.252933        0.240243         5.282157\n",
       "C(SEX)[T.2]      0.028866        0.031057        -7.052251\n",
       "AGE              0.004829        0.005153        -6.292529\n",
       "AGE2             0.000049        0.000053        -6.943883\n",
       "EDUC             0.034269        0.031193         9.862360\n",
       "EDUC2            0.001275        0.001166         9.379115"
      ]
     },
     "execution_count": 32,
     "metadata": {},
     "output_type": "execute_result"
    }
   ],
   "source": [
    "standard_errors(sampling_dist3, result_hat)"
   ]
  },
  {
   "cell_type": "markdown",
   "metadata": {},
   "source": [
    "Now we have four ways to compute sampling distributions, confidence intervals, and standard errors, and they yield different results. So you might wonder..."
   ]
  },
  {
   "cell_type": "markdown",
   "metadata": {},
   "source": [
    "## Which One Is Right?\n",
    "\n",
    "None of them are right.\n",
    "They are based on different models of the sampling process, so they quantify different sources of uncertainty.\n",
    "\n",
    "In some cases we might find that different methods converge on the same results, asymptotically, under certain assumptions.\n",
    "But that doesn't really matter, because with finite data sets, the results are not generally the same.\n",
    "So the important question is whether the difference are big enough to matter in practice.\n",
    "\n",
    "In this example, it is easy to implement multiple models and compare the results. If they were substantially different, we would need to think more carefully about the modeling assumptions they are based on and choose the one we think is the best description of the data-generating process.\n",
    "\n",
    "But in this example, the differences are small enough that they probably don't matter in practice.\n",
    "So we are free to choose whichever is easiest to implement, or fastest to compute, or convenient in some other way.\n",
    "\n",
    "It is a common error to presume that the result of an analytic method is uniquely correct, and that results from computational methods like resampling are approximations to it.\n",
    "Analytic methods are often fast to compute, but they are always based on modeling assumptions and usually based on approximations, so they are no more correct than computational methods."
   ]
  },
  {
   "cell_type": "markdown",
   "metadata": {},
   "source": [
    "Copyright 2023 Allen Downey\n",
    "\n",
    "[Attribution-NonCommercial-ShareAlike 4.0 International (CC BY-NC-SA 4.0)](https://creativecommons.org/licenses/by-nc-sa/4.0/)"
   ]
  }
 ],
 "metadata": {
  "kernelspec": {
   "display_name": "Python 3 (ipykernel)",
   "language": "python",
   "name": "python3"
  },
  "language_info": {
   "codemirror_mode": {
    "name": "ipython",
    "version": 3
   },
   "file_extension": ".py",
   "mimetype": "text/x-python",
   "name": "python",
   "nbconvert_exporter": "python",
   "pygments_lexer": "ipython3",
   "version": "3.7.7"
  }
 },
 "nbformat": 4,
 "nbformat_minor": 4
}
