{
 "cells": [
  {
   "cell_type": "markdown",
   "metadata": {},
   "source": [
    "# Missing values and resampling\n",
    "\n",
    "Allen Downey\n",
    "\n",
    "[MIT License](https://en.wikipedia.org/wiki/MIT_License)"
   ]
  },
  {
   "cell_type": "code",
   "execution_count": 1,
   "metadata": {},
   "outputs": [],
   "source": [
    "import pandas as pd\n",
    "import numpy as np\n",
    "import matplotlib.pyplot as plt\n",
    "import seaborn as sns\n",
    "\n",
    "import statsmodels.formula.api as smf"
   ]
  },
  {
   "cell_type": "markdown",
   "metadata": {},
   "source": [
    "## Missing value imputation\n",
    "\n",
    "This notebook demonstrates a version of [\"hot-deck\" missing value imputation](https://en.wikipedia.org/wiki/Imputation_(statistics)).\n",
    "\n",
    "First I'll load a dataset from the General Social Survey (GSS)."
   ]
  },
  {
   "cell_type": "code",
   "execution_count": 42,
   "metadata": {},
   "outputs": [],
   "source": [
    "# Load the data file\n",
    "\n",
    "import os\n",
    "\n",
    "datafile = 'gss_eda.hdf5'\n",
    "if not os.path.exists(datafile):\n",
    "    !wget https://github.com/AllenDowney/PoliticalAlignmentCaseStudy/raw/master/gss_eda.hdf5"
   ]
  },
  {
   "cell_type": "code",
   "execution_count": 3,
   "metadata": {},
   "outputs": [
    {
     "data": {
      "text/plain": [
       "(64814, 165)"
      ]
     },
     "execution_count": 3,
     "metadata": {},
     "output_type": "execute_result"
    }
   ],
   "source": [
    "gss = pd.read_hdf(datafile, 'gss')\n",
    "gss.shape"
   ]
  },
  {
   "cell_type": "markdown",
   "metadata": {},
   "source": [
    "It includes 64814 respondents and 165 variables for each respondent."
   ]
  },
  {
   "cell_type": "markdown",
   "metadata": {},
   "source": [
    "Suppose we want to run a model that compares income for men and women, controlling for age and education level.\n",
    "\n",
    "Here's what it looks like if we don't fill missing data."
   ]
  },
  {
   "cell_type": "code",
   "execution_count": 43,
   "metadata": {},
   "outputs": [
    {
     "data": {
      "text/html": [
       "<table class=\"simpletable\">\n",
       "<caption>OLS Regression Results</caption>\n",
       "<tr>\n",
       "  <th>Dep. Variable:</th>         <td>realinc</td>     <th>  R-squared:         </th>  <td>   0.183</td>  \n",
       "</tr>\n",
       "<tr>\n",
       "  <th>Model:</th>                   <td>OLS</td>       <th>  Adj. R-squared:    </th>  <td>   0.183</td>  \n",
       "</tr>\n",
       "<tr>\n",
       "  <th>Method:</th>             <td>Least Squares</td>  <th>  F-statistic:       </th>  <td>   2605.</td>  \n",
       "</tr>\n",
       "<tr>\n",
       "  <th>Date:</th>             <td>Fri, 17 Apr 2020</td> <th>  Prob (F-statistic):</th>   <td>  0.00</td>   \n",
       "</tr>\n",
       "<tr>\n",
       "  <th>Time:</th>                 <td>12:12:35</td>     <th>  Log-Likelihood:    </th> <td>-6.7458e+05</td>\n",
       "</tr>\n",
       "<tr>\n",
       "  <th>No. Observations:</th>      <td> 58110</td>      <th>  AIC:               </th>  <td>1.349e+06</td> \n",
       "</tr>\n",
       "<tr>\n",
       "  <th>Df Residuals:</th>          <td> 58104</td>      <th>  BIC:               </th>  <td>1.349e+06</td> \n",
       "</tr>\n",
       "<tr>\n",
       "  <th>Df Model:</th>              <td>     5</td>      <th>                     </th>      <td> </td>     \n",
       "</tr>\n",
       "<tr>\n",
       "  <th>Covariance Type:</th>      <td>nonrobust</td>    <th>                     </th>      <td> </td>     \n",
       "</tr>\n",
       "</table>\n",
       "<table class=\"simpletable\">\n",
       "<tr>\n",
       "       <td></td>          <th>coef</th>     <th>std err</th>      <th>t</th>      <th>P>|t|</th>  <th>[0.025</th>    <th>0.975]</th>  \n",
       "</tr>\n",
       "<tr>\n",
       "  <th>Intercept</th>   <td>-2.452e+04</td> <td> 1384.380</td> <td>  -17.713</td> <td> 0.000</td> <td>-2.72e+04</td> <td>-2.18e+04</td>\n",
       "</tr>\n",
       "<tr>\n",
       "  <th>C(sex)[T.2]</th> <td>-4612.6446</td> <td>  222.704</td> <td>  -20.712</td> <td> 0.000</td> <td>-5049.145</td> <td>-4176.144</td>\n",
       "</tr>\n",
       "<tr>\n",
       "  <th>educ</th>        <td> -294.8175</td> <td>  168.502</td> <td>   -1.750</td> <td> 0.080</td> <td> -625.082</td> <td>   35.447</td>\n",
       "</tr>\n",
       "<tr>\n",
       "  <th>educ2</th>       <td>  143.3503</td> <td>    6.622</td> <td>   21.648</td> <td> 0.000</td> <td>  130.371</td> <td>  156.329</td>\n",
       "</tr>\n",
       "<tr>\n",
       "  <th>age</th>         <td> 1698.3989</td> <td>   36.532</td> <td>   46.491</td> <td> 0.000</td> <td> 1626.797</td> <td> 1770.001</td>\n",
       "</tr>\n",
       "<tr>\n",
       "  <th>age2</th>        <td>  -16.9586</td> <td>    0.365</td> <td>  -46.436</td> <td> 0.000</td> <td>  -17.674</td> <td>  -16.243</td>\n",
       "</tr>\n",
       "</table>\n",
       "<table class=\"simpletable\">\n",
       "<tr>\n",
       "  <th>Omnibus:</th>       <td>20760.569</td> <th>  Durbin-Watson:     </th> <td>   1.627</td> \n",
       "</tr>\n",
       "<tr>\n",
       "  <th>Prob(Omnibus):</th>  <td> 0.000</td>   <th>  Jarque-Bera (JB):  </th> <td>74398.723</td>\n",
       "</tr>\n",
       "<tr>\n",
       "  <th>Skew:</th>           <td> 1.807</td>   <th>  Prob(JB):          </th> <td>    0.00</td> \n",
       "</tr>\n",
       "<tr>\n",
       "  <th>Kurtosis:</th>       <td> 7.203</td>   <th>  Cond. No.          </th> <td>3.68e+04</td> \n",
       "</tr>\n",
       "</table><br/><br/>Warnings:<br/>[1] Standard Errors assume that the covariance matrix of the errors is correctly specified.<br/>[2] The condition number is large, 3.68e+04. This might indicate that there are<br/>strong multicollinearity or other numerical problems."
      ],
      "text/plain": [
       "<class 'statsmodels.iolib.summary.Summary'>\n",
       "\"\"\"\n",
       "                            OLS Regression Results                            \n",
       "==============================================================================\n",
       "Dep. Variable:                realinc   R-squared:                       0.183\n",
       "Model:                            OLS   Adj. R-squared:                  0.183\n",
       "Method:                 Least Squares   F-statistic:                     2605.\n",
       "Date:                Fri, 17 Apr 2020   Prob (F-statistic):               0.00\n",
       "Time:                        12:12:35   Log-Likelihood:            -6.7458e+05\n",
       "No. Observations:               58110   AIC:                         1.349e+06\n",
       "Df Residuals:                   58104   BIC:                         1.349e+06\n",
       "Df Model:                           5                                         \n",
       "Covariance Type:            nonrobust                                         \n",
       "===============================================================================\n",
       "                  coef    std err          t      P>|t|      [0.025      0.975]\n",
       "-------------------------------------------------------------------------------\n",
       "Intercept   -2.452e+04   1384.380    -17.713      0.000   -2.72e+04   -2.18e+04\n",
       "C(sex)[T.2] -4612.6446    222.704    -20.712      0.000   -5049.145   -4176.144\n",
       "educ         -294.8175    168.502     -1.750      0.080    -625.082      35.447\n",
       "educ2         143.3503      6.622     21.648      0.000     130.371     156.329\n",
       "age          1698.3989     36.532     46.491      0.000    1626.797    1770.001\n",
       "age2          -16.9586      0.365    -46.436      0.000     -17.674     -16.243\n",
       "==============================================================================\n",
       "Omnibus:                    20760.569   Durbin-Watson:                   1.627\n",
       "Prob(Omnibus):                  0.000   Jarque-Bera (JB):            74398.723\n",
       "Skew:                           1.807   Prob(JB):                         0.00\n",
       "Kurtosis:                       7.203   Cond. No.                     3.68e+04\n",
       "==============================================================================\n",
       "\n",
       "Warnings:\n",
       "[1] Standard Errors assume that the covariance matrix of the errors is correctly specified.\n",
       "[2] The condition number is large, 3.68e+04. This might indicate that there are\n",
       "strong multicollinearity or other numerical problems.\n",
       "\"\"\""
      ]
     },
     "execution_count": 43,
     "metadata": {},
     "output_type": "execute_result"
    }
   ],
   "source": [
    "gss['age2'] = gss['age']**2\n",
    "gss['educ2'] = gss['educ']**2\n",
    "\n",
    "model = smf.ols('realinc ~ educ + educ2 + age + age2 + C(sex)', data=gss)\n",
    "results = model.fit()\n",
    "results.summary()"
   ]
  },
  {
   "cell_type": "markdown",
   "metadata": {},
   "source": [
    "Notice that the number of observations is 58110.  The model has quietly dropped respondents who are missing any of the independents variables or the dependent variable.\n",
    "\n",
    "We can plot the results like this."
   ]
  },
  {
   "cell_type": "code",
   "execution_count": 44,
   "metadata": {},
   "outputs": [],
   "source": [
    "def plot_results(results):\n",
    "    df = pd.DataFrame()\n",
    "    df['age'] = np.linspace(18, 89)\n",
    "    df['educ'] = 16\n",
    "\n",
    "    df['age2'] = df['age']**2\n",
    "    df['educ2'] = df['educ']**2\n",
    "\n",
    "    df['sex'] = 1\n",
    "    pred1 = results.predict(df)\n",
    "    pred1.index = df['age']\n",
    "\n",
    "    df['sex'] = 2\n",
    "    pred2 = results.predict(df)\n",
    "    pred2.index = df['age']\n",
    "    \n",
    "    pred1.plot(label='Male', alpha=0.6)\n",
    "    pred2.plot(label='Female', alpha=0.6)\n",
    "\n",
    "    plt.xlabel('Age')\n",
    "    plt.ylabel('Real income (1986 $)')\n",
    "    plt.title('Real income versus age, grouped by sex')\n",
    "    plt.legend()"
   ]
  },
  {
   "cell_type": "code",
   "execution_count": 45,
   "metadata": {},
   "outputs": [
    {
     "data": {
      "image/png": "[encoded data removed]",
      "text/plain": [
       "<Figure size 432x288 with 1 Axes>"
      ]
     },
     "metadata": {
      "needs_background": "light"
     },
     "output_type": "display_data"
    }
   ],
   "source": [
    "plot_results(results)"
   ]
  },
  {
   "cell_type": "markdown",
   "metadata": {},
   "source": [
    "Let's see where those missing values are."
   ]
  },
  {
   "cell_type": "code",
   "execution_count": 7,
   "metadata": {},
   "outputs": [
    {
     "data": {
      "text/plain": [
       "228"
      ]
     },
     "execution_count": 7,
     "metadata": {},
     "output_type": "execute_result"
    }
   ],
   "source": [
    "gss['age'].isna().sum()"
   ]
  },
  {
   "cell_type": "markdown",
   "metadata": {},
   "source": [
    "There are 228 respondents with unknown age."
   ]
  },
  {
   "cell_type": "code",
   "execution_count": 8,
   "metadata": {},
   "outputs": [
    {
     "data": {
      "text/plain": [
       "177"
      ]
     },
     "execution_count": 8,
     "metadata": {},
     "output_type": "execute_result"
    }
   ],
   "source": [
    "gss['educ'].isna().sum()"
   ]
  },
  {
   "cell_type": "markdown",
   "metadata": {},
   "source": [
    "There are 177 respondents with unknown education level."
   ]
  },
  {
   "cell_type": "code",
   "execution_count": 9,
   "metadata": {},
   "outputs": [
    {
     "data": {
      "text/plain": [
       "0"
      ]
     },
     "execution_count": 9,
     "metadata": {},
     "output_type": "execute_result"
    }
   ],
   "source": [
    "gss['sex'].isna().sum()"
   ]
  },
  {
   "cell_type": "markdown",
   "metadata": {},
   "source": [
    "There are no respondents with unknown sex."
   ]
  },
  {
   "cell_type": "code",
   "execution_count": 10,
   "metadata": {},
   "outputs": [
    {
     "data": {
      "text/plain": [
       "6521"
      ]
     },
     "execution_count": 10,
     "metadata": {},
     "output_type": "execute_result"
    }
   ],
   "source": [
    "gss['realinc'].isna().sum()"
   ]
  },
  {
   "cell_type": "markdown",
   "metadata": {},
   "source": [
    "And there are 6521 respondents with unknown income.  So let's start filling things in."
   ]
  },
  {
   "cell_type": "markdown",
   "metadata": {},
   "source": [
    "The following function takes a Pandas Series and modifies it in place, replacing any NaN values with randomly-chosen valid values."
   ]
  },
  {
   "cell_type": "code",
   "execution_count": 46,
   "metadata": {},
   "outputs": [],
   "source": [
    "def fill_missing_values(series):\n",
    "    \"\"\"Fills missing values of the given Series.\n",
    "\n",
    "    series: Pandas Series\n",
    "    \"\"\"\n",
    "    # Boolean Series: true where values are missing\n",
    "    null = series.isnull()\n",
    "\n",
    "    # Series of valid values\n",
    "    valid = series.dropna()\n",
    "    \n",
    "    # the fill values are a sample of the valid values \n",
    "    fill = valid.sample(null.sum(), replace=True)\n",
    "    \n",
    "    # we need the index of the fill values to line up\n",
    "    # with the index of the DataFrame\n",
    "    fill.index = series.index[null]\n",
    "\n",
    "    # replace NaNs with the fill values\n",
    "    series.fillna(fill, inplace=True)"
   ]
  },
  {
   "cell_type": "markdown",
   "metadata": {},
   "source": [
    "Now, I will fill missing values for `age` and `educ`."
   ]
  },
  {
   "cell_type": "code",
   "execution_count": 47,
   "metadata": {},
   "outputs": [],
   "source": [
    "varnames = ['age', 'educ']\n",
    "for varname in varnames:\n",
    "    fill_missing_values(gss[varname])"
   ]
  },
  {
   "cell_type": "markdown",
   "metadata": {},
   "source": [
    "And we can confirm that there are no NaNs left."
   ]
  },
  {
   "cell_type": "code",
   "execution_count": 13,
   "metadata": {},
   "outputs": [
    {
     "data": {
      "text/plain": [
       "0"
      ]
     },
     "execution_count": 13,
     "metadata": {},
     "output_type": "execute_result"
    }
   ],
   "source": [
    "gss['age'].isna().sum()"
   ]
  },
  {
   "cell_type": "code",
   "execution_count": 14,
   "metadata": {},
   "outputs": [
    {
     "data": {
      "text/plain": [
       "0"
      ]
     },
     "execution_count": 14,
     "metadata": {},
     "output_type": "execute_result"
    }
   ],
   "source": [
    "gss['educ'].isna().sum()"
   ]
  },
  {
   "cell_type": "markdown",
   "metadata": {},
   "source": [
    "I will not bother to fill `realinc` because it is the dependent variable.\n",
    "\n",
    "Filling in the independent variables make it possible to include respondents with partial information, so it helps by adding information to the model.\n",
    "\n",
    "Filling in the dependent variable would do nothing but add randomness to the results.  If the missing values introduce sampling bias (for example, if people with high income are less likely to respond), filling missing values would not help with that problem.\n",
    "\n",
    "Now I'll run the model again with the filled data."
   ]
  },
  {
   "cell_type": "code",
   "execution_count": 48,
   "metadata": {},
   "outputs": [
    {
     "data": {
      "text/html": [
       "<table class=\"simpletable\">\n",
       "<caption>OLS Regression Results</caption>\n",
       "<tr>\n",
       "  <th>Dep. Variable:</th>         <td>realinc</td>     <th>  R-squared:         </th>  <td>   0.183</td>  \n",
       "</tr>\n",
       "<tr>\n",
       "  <th>Model:</th>                   <td>OLS</td>       <th>  Adj. R-squared:    </th>  <td>   0.183</td>  \n",
       "</tr>\n",
       "<tr>\n",
       "  <th>Method:</th>             <td>Least Squares</td>  <th>  F-statistic:       </th>  <td>   2605.</td>  \n",
       "</tr>\n",
       "<tr>\n",
       "  <th>Date:</th>             <td>Fri, 17 Apr 2020</td> <th>  Prob (F-statistic):</th>   <td>  0.00</td>   \n",
       "</tr>\n",
       "<tr>\n",
       "  <th>Time:</th>                 <td>12:49:36</td>     <th>  Log-Likelihood:    </th> <td>-6.7674e+05</td>\n",
       "</tr>\n",
       "<tr>\n",
       "  <th>No. Observations:</th>      <td> 58293</td>      <th>  AIC:               </th>  <td>1.353e+06</td> \n",
       "</tr>\n",
       "<tr>\n",
       "  <th>Df Residuals:</th>          <td> 58287</td>      <th>  BIC:               </th>  <td>1.354e+06</td> \n",
       "</tr>\n",
       "<tr>\n",
       "  <th>Df Model:</th>              <td>     5</td>      <th>                     </th>      <td> </td>     \n",
       "</tr>\n",
       "<tr>\n",
       "  <th>Covariance Type:</th>      <td>nonrobust</td>    <th>                     </th>      <td> </td>     \n",
       "</tr>\n",
       "</table>\n",
       "<table class=\"simpletable\">\n",
       "<tr>\n",
       "       <td></td>          <th>coef</th>     <th>std err</th>      <th>t</th>      <th>P>|t|</th>  <th>[0.025</th>    <th>0.975]</th>  \n",
       "</tr>\n",
       "<tr>\n",
       "  <th>Intercept</th>   <td>-2.451e+04</td> <td> 1381.328</td> <td>  -17.743</td> <td> 0.000</td> <td>-2.72e+04</td> <td>-2.18e+04</td>\n",
       "</tr>\n",
       "<tr>\n",
       "  <th>C(sex)[T.2]</th> <td>-4636.0289</td> <td>  222.482</td> <td>  -20.838</td> <td> 0.000</td> <td>-5072.095</td> <td>-4199.962</td>\n",
       "</tr>\n",
       "<tr>\n",
       "  <th>educ</th>        <td> -280.3947</td> <td>  168.059</td> <td>   -1.668</td> <td> 0.095</td> <td> -609.791</td> <td>   49.002</td>\n",
       "</tr>\n",
       "<tr>\n",
       "  <th>educ2</th>       <td>  142.6127</td> <td>    6.605</td> <td>   21.590</td> <td> 0.000</td> <td>  129.666</td> <td>  155.559</td>\n",
       "</tr>\n",
       "<tr>\n",
       "  <th>age</th>         <td> 1695.1496</td> <td>   36.486</td> <td>   46.461</td> <td> 0.000</td> <td> 1623.637</td> <td> 1766.662</td>\n",
       "</tr>\n",
       "<tr>\n",
       "  <th>age2</th>        <td>  -16.9267</td> <td>    0.365</td> <td>  -46.415</td> <td> 0.000</td> <td>  -17.641</td> <td>  -16.212</td>\n",
       "</tr>\n",
       "</table>\n",
       "<table class=\"simpletable\">\n",
       "<tr>\n",
       "  <th>Omnibus:</th>       <td>20842.655</td> <th>  Durbin-Watson:     </th> <td>   1.628</td> \n",
       "</tr>\n",
       "<tr>\n",
       "  <th>Prob(Omnibus):</th>  <td> 0.000</td>   <th>  Jarque-Bera (JB):  </th> <td>74760.189</td>\n",
       "</tr>\n",
       "<tr>\n",
       "  <th>Skew:</th>           <td> 1.808</td>   <th>  Prob(JB):          </th> <td>    0.00</td> \n",
       "</tr>\n",
       "<tr>\n",
       "  <th>Kurtosis:</th>       <td> 7.207</td>   <th>  Cond. No.          </th> <td>3.68e+04</td> \n",
       "</tr>\n",
       "</table><br/><br/>Warnings:<br/>[1] Standard Errors assume that the covariance matrix of the errors is correctly specified.<br/>[2] The condition number is large, 3.68e+04. This might indicate that there are<br/>strong multicollinearity or other numerical problems."
      ],
      "text/plain": [
       "<class 'statsmodels.iolib.summary.Summary'>\n",
       "\"\"\"\n",
       "                            OLS Regression Results                            \n",
       "==============================================================================\n",
       "Dep. Variable:                realinc   R-squared:                       0.183\n",
       "Model:                            OLS   Adj. R-squared:                  0.183\n",
       "Method:                 Least Squares   F-statistic:                     2605.\n",
       "Date:                Fri, 17 Apr 2020   Prob (F-statistic):               0.00\n",
       "Time:                        12:49:36   Log-Likelihood:            -6.7674e+05\n",
       "No. Observations:               58293   AIC:                         1.353e+06\n",
       "Df Residuals:                   58287   BIC:                         1.354e+06\n",
       "Df Model:                           5                                         \n",
       "Covariance Type:            nonrobust                                         \n",
       "===============================================================================\n",
       "                  coef    std err          t      P>|t|      [0.025      0.975]\n",
       "-------------------------------------------------------------------------------\n",
       "Intercept   -2.451e+04   1381.328    -17.743      0.000   -2.72e+04   -2.18e+04\n",
       "C(sex)[T.2] -4636.0289    222.482    -20.838      0.000   -5072.095   -4199.962\n",
       "educ         -280.3947    168.059     -1.668      0.095    -609.791      49.002\n",
       "educ2         142.6127      6.605     21.590      0.000     129.666     155.559\n",
       "age          1695.1496     36.486     46.461      0.000    1623.637    1766.662\n",
       "age2          -16.9267      0.365    -46.415      0.000     -17.641     -16.212\n",
       "==============================================================================\n",
       "Omnibus:                    20842.655   Durbin-Watson:                   1.628\n",
       "Prob(Omnibus):                  0.000   Jarque-Bera (JB):            74760.189\n",
       "Skew:                           1.808   Prob(JB):                         0.00\n",
       "Kurtosis:                       7.207   Cond. No.                     3.68e+04\n",
       "==============================================================================\n",
       "\n",
       "Warnings:\n",
       "[1] Standard Errors assume that the covariance matrix of the errors is correctly specified.\n",
       "[2] The condition number is large, 3.68e+04. This might indicate that there are\n",
       "strong multicollinearity or other numerical problems.\n",
       "\"\"\""
      ]
     },
     "execution_count": 48,
     "metadata": {},
     "output_type": "execute_result"
    }
   ],
   "source": [
    "gss['age2'] = gss['age']**2\n",
    "gss['educ2'] = gss['educ']**2\n",
    "\n",
    "model2 = smf.ols('realinc ~ educ + educ2 + age + age2 + C(sex)', data=gss)\n",
    "results2 = model2.fit()\n",
    "results2.summary()"
   ]
  },
  {
   "cell_type": "markdown",
   "metadata": {},
   "source": [
    "And plot the results."
   ]
  },
  {
   "cell_type": "code",
   "execution_count": 16,
   "metadata": {},
   "outputs": [
    {
     "data": {
      "image/png": "[encoded data removed]",
      "text/plain": [
       "<Figure size 432x288 with 1 Axes>"
      ]
     },
     "metadata": {
      "needs_background": "light"
     },
     "output_type": "display_data"
    }
   ],
   "source": [
    "plot_results(results)\n",
    "plot_results(results2)"
   ]
  },
  {
   "cell_type": "markdown",
   "metadata": {},
   "source": [
    "There is no visible difference between the results with and without filling, which suggests that for this dataset missing data is not a substantial source of uncertainty.\n",
    "\n",
    "If it were, I would consider other ways of imputing missing values, including [regression](https://en.wikipedia.org/wiki/Imputation_(statistics)#Regression)."
   ]
  },
  {
   "cell_type": "markdown",
   "metadata": {},
   "source": [
    "## Resampling\n",
    "\n",
    "Next we'll use resampling to quantify variability in the model due to random sampling.  The following function takes a DataFrame and resamples the rows."
   ]
  },
  {
   "cell_type": "code",
   "execution_count": 17,
   "metadata": {},
   "outputs": [],
   "source": [
    "def resample_rows_weighted(df, column):\n",
    "    \"\"\"Resamples a DataFrame using probabilities proportional to given column.\n",
    "\n",
    "    df: DataFrame\n",
    "    column: string column name to use as weights\n",
    "\n",
    "    returns: DataFrame\n",
    "    \"\"\"\n",
    "    weights = df[column]\n",
    "    sample = df.sample(n=len(df), replace=True, weights=weights)\n",
    "    return sample"
   ]
  },
  {
   "cell_type": "markdown",
   "metadata": {},
   "source": [
    "The GSS uses stratified sampling, which means that some groups are deliberately oversampled.  The variable `wtssall` contains sampling weights, which we use during resampling to undersample the groups that were oversampled, and vice versa.\n",
    "\n",
    "As a result, in the resampled dataset, every row has the same sampling weight; that is, the resampled dataset is representative of the population.\n",
    "\n",
    "In the GSS dataset, the sampling weights are computed for each cycle of data collection, so I'll group the dataset by year, resample within each year, and then put the results back into one DataFrame."
   ]
  },
  {
   "cell_type": "code",
   "execution_count": 49,
   "metadata": {},
   "outputs": [],
   "source": [
    "def resample_by_year(df, column):\n",
    "    \"\"\"Resample rows within each year.\n",
    "\n",
    "    df: DataFrame\n",
    "    column: string name of weight variable\n",
    "\n",
    "    returns DataFrame\n",
    "    \"\"\"\n",
    "    grouped = df.groupby('year')\n",
    "    samples = [resample_rows_weighted(group, column)\n",
    "               for _, group in grouped]\n",
    "    sample = pd.concat(samples, ignore_index=True)\n",
    "    return sample"
   ]
  },
  {
   "cell_type": "markdown",
   "metadata": {},
   "source": [
    "Here's how we use these functions:"
   ]
  },
  {
   "cell_type": "code",
   "execution_count": 19,
   "metadata": {},
   "outputs": [],
   "source": [
    "gss = pd.read_hdf(datafile, 'gss')\n",
    "sample = resample_by_year(gss, 'wtssall')"
   ]
  },
  {
   "cell_type": "markdown",
   "metadata": {},
   "source": [
    "The following function takes a resampled dataset, runs the model, and returns the results."
   ]
  },
  {
   "cell_type": "code",
   "execution_count": 50,
   "metadata": {},
   "outputs": [],
   "source": [
    "def run_model(df):\n",
    "    varnames = ['age', 'educ']\n",
    "    for varname in varnames:\n",
    "        fill_missing_values(df[varname])\n",
    "    \n",
    "    df['age2'] = df['age']**2\n",
    "    df['educ2'] = df['educ']**2\n",
    "\n",
    "    model = smf.ols('realinc ~ educ + educ2 + age + age2 + C(sex)', data=df)\n",
    "    results = model.fit()\n",
    "    return results"
   ]
  },
  {
   "cell_type": "markdown",
   "metadata": {},
   "source": [
    "Here's how we can use it with one resampled dataset."
   ]
  },
  {
   "cell_type": "code",
   "execution_count": 51,
   "metadata": {},
   "outputs": [
    {
     "data": {
      "text/html": [
       "<table class=\"simpletable\">\n",
       "<caption>OLS Regression Results</caption>\n",
       "<tr>\n",
       "  <th>Dep. Variable:</th>         <td>realinc</td>     <th>  R-squared:         </th>  <td>   0.172</td>  \n",
       "</tr>\n",
       "<tr>\n",
       "  <th>Model:</th>                   <td>OLS</td>       <th>  Adj. R-squared:    </th>  <td>   0.172</td>  \n",
       "</tr>\n",
       "<tr>\n",
       "  <th>Method:</th>             <td>Least Squares</td>  <th>  F-statistic:       </th>  <td>   2396.</td>  \n",
       "</tr>\n",
       "<tr>\n",
       "  <th>Date:</th>             <td>Fri, 17 Apr 2020</td> <th>  Prob (F-statistic):</th>   <td>  0.00</td>   \n",
       "</tr>\n",
       "<tr>\n",
       "  <th>Time:</th>                 <td>12:55:14</td>     <th>  Log-Likelihood:    </th> <td>-6.7331e+05</td>\n",
       "</tr>\n",
       "<tr>\n",
       "  <th>No. Observations:</th>      <td> 57712</td>      <th>  AIC:               </th>  <td>1.347e+06</td> \n",
       "</tr>\n",
       "<tr>\n",
       "  <th>Df Residuals:</th>          <td> 57706</td>      <th>  BIC:               </th>  <td>1.347e+06</td> \n",
       "</tr>\n",
       "<tr>\n",
       "  <th>Df Model:</th>              <td>     5</td>      <th>                     </th>      <td> </td>     \n",
       "</tr>\n",
       "<tr>\n",
       "  <th>Covariance Type:</th>      <td>nonrobust</td>    <th>                     </th>      <td> </td>     \n",
       "</tr>\n",
       "</table>\n",
       "<table class=\"simpletable\">\n",
       "<tr>\n",
       "       <td></td>          <th>coef</th>     <th>std err</th>      <th>t</th>      <th>P>|t|</th>  <th>[0.025</th>    <th>0.975]</th>  \n",
       "</tr>\n",
       "<tr>\n",
       "  <th>Intercept</th>   <td>-2.335e+04</td> <td> 1453.046</td> <td>  -16.070</td> <td> 0.000</td> <td>-2.62e+04</td> <td>-2.05e+04</td>\n",
       "</tr>\n",
       "<tr>\n",
       "  <th>C(sex)[T.2]</th> <td>-4010.7110</td> <td>  235.822</td> <td>  -17.007</td> <td> 0.000</td> <td>-4472.924</td> <td>-3548.498</td>\n",
       "</tr>\n",
       "<tr>\n",
       "  <th>educ</th>        <td>  -72.5272</td> <td>  178.890</td> <td>   -0.405</td> <td> 0.685</td> <td> -423.152</td> <td>  278.097</td>\n",
       "</tr>\n",
       "<tr>\n",
       "  <th>educ2</th>       <td>  143.2837</td> <td>    7.059</td> <td>   20.299</td> <td> 0.000</td> <td>  129.448</td> <td>  157.119</td>\n",
       "</tr>\n",
       "<tr>\n",
       "  <th>age</th>         <td> 1652.1489</td> <td>   38.586</td> <td>   42.817</td> <td> 0.000</td> <td> 1576.520</td> <td> 1727.778</td>\n",
       "</tr>\n",
       "<tr>\n",
       "  <th>age2</th>        <td>  -16.5914</td> <td>    0.396</td> <td>  -41.845</td> <td> 0.000</td> <td>  -17.369</td> <td>  -15.814</td>\n",
       "</tr>\n",
       "</table>\n",
       "<table class=\"simpletable\">\n",
       "<tr>\n",
       "  <th>Omnibus:</th>       <td>17926.666</td> <th>  Durbin-Watson:     </th> <td>   1.990</td> \n",
       "</tr>\n",
       "<tr>\n",
       "  <th>Prob(Omnibus):</th>  <td> 0.000</td>   <th>  Jarque-Bera (JB):  </th> <td>52014.279</td>\n",
       "</tr>\n",
       "<tr>\n",
       "  <th>Skew:</th>           <td> 1.645</td>   <th>  Prob(JB):          </th> <td>    0.00</td> \n",
       "</tr>\n",
       "<tr>\n",
       "  <th>Kurtosis:</th>       <td> 6.286</td>   <th>  Cond. No.          </th> <td>3.43e+04</td> \n",
       "</tr>\n",
       "</table><br/><br/>Warnings:<br/>[1] Standard Errors assume that the covariance matrix of the errors is correctly specified.<br/>[2] The condition number is large, 3.43e+04. This might indicate that there are<br/>strong multicollinearity or other numerical problems."
      ],
      "text/plain": [
       "<class 'statsmodels.iolib.summary.Summary'>\n",
       "\"\"\"\n",
       "                            OLS Regression Results                            \n",
       "==============================================================================\n",
       "Dep. Variable:                realinc   R-squared:                       0.172\n",
       "Model:                            OLS   Adj. R-squared:                  0.172\n",
       "Method:                 Least Squares   F-statistic:                     2396.\n",
       "Date:                Fri, 17 Apr 2020   Prob (F-statistic):               0.00\n",
       "Time:                        12:55:14   Log-Likelihood:            -6.7331e+05\n",
       "No. Observations:               57712   AIC:                         1.347e+06\n",
       "Df Residuals:                   57706   BIC:                         1.347e+06\n",
       "Df Model:                           5                                         \n",
       "Covariance Type:            nonrobust                                         \n",
       "===============================================================================\n",
       "                  coef    std err          t      P>|t|      [0.025      0.975]\n",
       "-------------------------------------------------------------------------------\n",
       "Intercept   -2.335e+04   1453.046    -16.070      0.000   -2.62e+04   -2.05e+04\n",
       "C(sex)[T.2] -4010.7110    235.822    -17.007      0.000   -4472.924   -3548.498\n",
       "educ          -72.5272    178.890     -0.405      0.685    -423.152     278.097\n",
       "educ2         143.2837      7.059     20.299      0.000     129.448     157.119\n",
       "age          1652.1489     38.586     42.817      0.000    1576.520    1727.778\n",
       "age2          -16.5914      0.396    -41.845      0.000     -17.369     -15.814\n",
       "==============================================================================\n",
       "Omnibus:                    17926.666   Durbin-Watson:                   1.990\n",
       "Prob(Omnibus):                  0.000   Jarque-Bera (JB):            52014.279\n",
       "Skew:                           1.645   Prob(JB):                         0.00\n",
       "Kurtosis:                       6.286   Cond. No.                     3.43e+04\n",
       "==============================================================================\n",
       "\n",
       "Warnings:\n",
       "[1] Standard Errors assume that the covariance matrix of the errors is correctly specified.\n",
       "[2] The condition number is large, 3.43e+04. This might indicate that there are\n",
       "strong multicollinearity or other numerical problems.\n",
       "\"\"\""
      ]
     },
     "execution_count": 51,
     "metadata": {},
     "output_type": "execute_result"
    }
   ],
   "source": [
    "results3 = run_model(sample)\n",
    "results3.summary()"
   ]
  },
  {
   "cell_type": "markdown",
   "metadata": {},
   "source": [
    "Now we can compare the results with the original and resampled datasets."
   ]
  },
  {
   "cell_type": "code",
   "execution_count": 22,
   "metadata": {},
   "outputs": [
    {
     "data": {
      "image/png": "[encoded data removed]",
      "text/plain": [
       "<Figure size 432x288 with 1 Axes>"
      ]
     },
     "metadata": {
      "needs_background": "light"
     },
     "output_type": "display_data"
    }
   ],
   "source": [
    "plot_results(results)\n",
    "plot_results(results3)"
   ]
  },
  {
   "cell_type": "markdown",
   "metadata": {},
   "source": [
    "In this example, there is a substantial difference, which suggests that the groups that were oversampled tended to have lower incomes.  When we use resampling to correct for stratified sampling, predicted incomes increase."
   ]
  },
  {
   "cell_type": "markdown",
   "metadata": {},
   "source": [
    "## Confidence intervals\n",
    "\n",
    "We can use repeated resampling to generate confidence intervals.  The following look resamples the dataset 11 times, runs the model, and collects the results."
   ]
  },
  {
   "cell_type": "code",
   "execution_count": 53,
   "metadata": {},
   "outputs": [],
   "source": [
    "result_seq = []\n",
    "gss = pd.read_hdf(datafile, 'gss')\n",
    "\n",
    "for i in range(11):\n",
    "    sample = resample_by_year(gss, 'wtssall')\n",
    "    results = run_model(sample)\n",
    "    result_seq.append(results)"
   ]
  },
  {
   "cell_type": "markdown",
   "metadata": {},
   "source": [
    "I'll use the following function to generate predictions for each resampled dataset."
   ]
  },
  {
   "cell_type": "code",
   "execution_count": 54,
   "metadata": {},
   "outputs": [],
   "source": [
    "def make_predict(results, sex):\n",
    "    df = pd.DataFrame()\n",
    "    df['age'] = np.linspace(18, 89)\n",
    "    df['educ'] = 16\n",
    "\n",
    "    df['age2'] = df['age']**2\n",
    "    df['educ2'] = df['educ']**2\n",
    "\n",
    "    df['sex'] = sex\n",
    "    pred = results.predict(df)\n",
    "    pred.index = df['age']\n",
    "    return pred"
   ]
  },
  {
   "cell_type": "markdown",
   "metadata": {},
   "source": [
    "A quick way to visualize variability due to sampling is to plot predictions for each of the resampled dataset using a low value of `alpha`."
   ]
  },
  {
   "cell_type": "code",
   "execution_count": 55,
   "metadata": {},
   "outputs": [
    {
     "data": {
      "image/png": "[encoded data removed]",
      "text/plain": [
       "<Figure size 432x288 with 1 Axes>"
      ]
     },
     "metadata": {
      "needs_background": "light"
     },
     "output_type": "display_data"
    }
   ],
   "source": [
    "for results in result_seq:\n",
    "    pred = make_predict(results, 1)\n",
    "    pred.plot(color='C0', alpha=0.1)\n",
    "\n",
    "for results in result_seq:\n",
    "    pred = make_predict(results, 2)\n",
    "    pred.plot(color='C1', alpha=0.1)\n",
    "    \n",
    "plt.xlabel('Age')\n",
    "plt.ylabel('Real income (1986 $)')\n",
    "plt.title('Real income versus age, grouped by sex');"
   ]
  },
  {
   "cell_type": "markdown",
   "metadata": {},
   "source": [
    "And alternative is to collect the predictions in a list:"
   ]
  },
  {
   "cell_type": "code",
   "execution_count": 41,
   "metadata": {},
   "outputs": [],
   "source": [
    "result_seq = []\n",
    "gss = pd.read_hdf(datafile, 'gss')\n",
    "\n",
    "for i in range(51):\n",
    "    sample = resample_by_year(gss, 'wtssall')\n",
    "    results = run_model(sample)\n",
    "    result_seq.append(results)"
   ]
  },
  {
   "cell_type": "markdown",
   "metadata": {},
   "source": [
    "The result is a list of Series, but we can treat it as an array with one row for each resampled dataset and one column for each of the ages in the range.\n",
    "\n",
    "Then we can use `np.percentiles` to compute the 5th, 50th, and 95th percentile in each columns (`axis=0` means we perform the computation along the first axis, which is down the columns).\n",
    "\n",
    "The result is an array with 3 rows, which we can assign to variables.  Then we use `fill_between` to plot the area between the 5th and 95th percentiles, and `plot` to draw a line through the median values."
   ]
  },
  {
   "cell_type": "code",
   "execution_count": 56,
   "metadata": {},
   "outputs": [],
   "source": [
    "def plot_percentiles(result_seq, sex, **options):\n",
    "    pred_list = []\n",
    "\n",
    "    for results in result_seq:\n",
    "        pred = make_predict(results, sex)\n",
    "        pred_list.append(pred)\n",
    "\n",
    "    low, med, high = np.percentile(pred_list, [5, 50, 95], axis=0)\n",
    "    plt.fill_between(pred.index, low, high, alpha=0.3)\n",
    "    plt.plot(pred.index, med, **options)"
   ]
  },
  {
   "cell_type": "markdown",
   "metadata": {},
   "source": [
    "Here's what it looks like."
   ]
  },
  {
   "cell_type": "code",
   "execution_count": 40,
   "metadata": {},
   "outputs": [
    {
     "data": {
      "image/png": "[encoded data removed]",
      "text/plain": [
       "<Figure size 432x288 with 1 Axes>"
      ]
     },
     "metadata": {
      "needs_background": "light"
     },
     "output_type": "display_data"
    }
   ],
   "source": [
    "plot_percentiles(result_seq, 1, label='Male')\n",
    "plot_percentiles(result_seq, 2, label='Female')\n",
    "\n",
    "plt.xlabel('Age')\n",
    "plt.ylabel('Real income (1986 $)')\n",
    "plt.title('Real income versus age, grouped by sex')\n",
    "plt.legend();"
   ]
  },
  {
   "cell_type": "markdown",
   "metadata": {},
   "source": [
    "The 90% confidence intervals are barely wider than the plotted lines, which suggests that random sampling is not a big source of uncertainty.\n",
    "\n",
    "In summary, for this example:\n",
    "\n",
    "1. Missing values are not a substantial source of uncertainty, so we could use a simple form of imputation, or (even simpler) drop rows with missing values.\n",
    "\n",
    "2. Stratified sampling has a big effect on the results, so it is important to correct for it.\n",
    "\n",
    "3. The confidence intervals show that random sampling contributes only small variations in the model's predictions."
   ]
  }
 ],
 "metadata": {
  "kernelspec": {
   "display_name": "Python 3",
   "language": "python",
   "name": "python3"
  },
  "language_info": {
   "codemirror_mode": {
    "name": "ipython",
    "version": 3
   },
   "file_extension": ".py",
   "mimetype": "text/x-python",
   "name": "python",
   "nbconvert_exporter": "python",
   "pygments_lexer": "ipython3",
   "version": "3.7.7"
  }
 },
 "nbformat": 4,
 "nbformat_minor": 4
}
