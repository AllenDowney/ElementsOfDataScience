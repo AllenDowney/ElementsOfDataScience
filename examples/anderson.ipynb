{
 "cells": [
  {
   "cell_type": "markdown",
   "metadata": {},
   "source": [
    "# Never Test for Normality\n",
    "\n",
    "Way back in 2013, I wrote [this blog post](https://allendowney.blogspot.com/2013/08/are-my-data-normal.html) explaining why you should never use a statistical test to check whether a sample came from a Gaussian distribution.\n",
    "\n",
    "I argued that data from the real world never come from a Gaussian distribution, or any other simple mathematical model, so the answer to the question is always no.\n",
    "\n",
    "And there are only two possible outcomes from the test:\n",
    "\n",
    "* If you have enough data, the test will reject the hypothesis that the data came from a Gaussian distribution, or\n",
    "\n",
    "* If you don't have enough data, the test fails to reject the hypothesis.\n",
    "\n",
    "Either way, the result doesn't tell you anything useful.\n",
    "\n",
    "In this article, I will explore a particular example and demonstrate this relationship between the sample size and the outcome of the test. And I will conclude, again, that\n",
    "\n",
    "> Choosing a distribution is not a statistical question; it is a modeling decision.  No statistical test can tell you whether a particular distribution is a good model for your data. \n",
    "\n",
    "[Click here to run this notebook on Colab](https://colab.research.google.com/github/AllenDowney/ElementsOfDataScience/blob/master/examples/anderson.ipynb)"
   ]
  },
  {
   "cell_type": "code",
   "execution_count": 49,
   "metadata": {},
   "outputs": [],
   "source": [
    "import pandas as pd\n",
    "import numpy as np\n",
    "import matplotlib.pyplot as plt\n",
    "import seaborn as sns\n",
    "\n",
    "np.random.seed(0)"
   ]
  },
  {
   "cell_type": "code",
   "execution_count": 50,
   "metadata": {},
   "outputs": [],
   "source": [
    "try:\n",
    "    import empiricaldist\n",
    "except ImportError:\n",
    "    !pip install empiricaldist"
   ]
  },
  {
   "cell_type": "markdown",
   "metadata": {},
   "source": [
    "I'll start by generating a sample that is actually from a lognormal distribution."
   ]
  },
  {
   "cell_type": "code",
   "execution_count": 51,
   "metadata": {},
   "outputs": [],
   "source": [
    "from scipy.stats import norm\n",
    "\n",
    "dist = norm(2, 0.2)\n",
    "logs = dist.rvs(200)\n",
    "sample = np.exp(logs)"
   ]
  },
  {
   "cell_type": "markdown",
   "metadata": {},
   "source": [
    "I'll use the sample mean and standard deviation to make a Gaussian model of the sample."
   ]
  },
  {
   "cell_type": "code",
   "execution_count": 52,
   "metadata": {},
   "outputs": [],
   "source": [
    "mu, sigma = sample.mean(), sample.std()\n",
    "\n",
    "low, high = mu - 3.5*sigma, mu + 3.5*sigma\n",
    "xs = np.linspace(low, high)\n",
    "ys = norm.cdf(xs, mu, sigma)"
   ]
  },
  {
   "cell_type": "markdown",
   "metadata": {},
   "source": [
    "Here's what the empirical distribution of the sample looks like compared to the CDF of the Gaussian distribution."
   ]
  },
  {
   "cell_type": "code",
   "execution_count": 53,
   "metadata": {},
   "outputs": [
    {
     "data": {
      "image/png": "[encoded data removed]",
      "text/plain": [
       "<Figure size 432x288 with 1 Axes>"
      ]
     },
     "metadata": {
      "needs_background": "light"
     },
     "output_type": "display_data"
    }
   ],
   "source": [
    "from empiricaldist import Cdf\n",
    "\n",
    "plt.plot(xs, ys, color='gray', alpha=0.4)\n",
    "Cdf.from_seq(sample).plot()\n",
    "plt.xlabel('Quantity')\n",
    "plt.ylabel('CDF');"
   ]
  },
  {
   "cell_type": "markdown",
   "metadata": {},
   "source": [
    "It looks like the Gaussian distribution is a pretty good model for the data. Depending on the application, it might be good enough.\n",
    "\n",
    "Let's see what the [Anderson-Darling test](https://docs.scipy.org/doc/scipy/reference/generated/scipy.stats.anderson.html) has to say:"
   ]
  },
  {
   "cell_type": "code",
   "execution_count": 54,
   "metadata": {},
   "outputs": [
    {
     "data": {
      "text/plain": [
       "1.7262363980891564"
      ]
     },
     "execution_count": 54,
     "metadata": {},
     "output_type": "execute_result"
    }
   ],
   "source": [
    "from scipy.stats import anderson\n",
    "\n",
    "statistic, critical_values, significance_level = anderson(sample)\n",
    "statistic"
   ]
  },
  {
   "cell_type": "code",
   "execution_count": 55,
   "metadata": {},
   "outputs": [
    {
     "data": {
      "text/plain": [
       "array([15. , 10. ,  5. ,  2.5,  1. ])"
      ]
     },
     "execution_count": 55,
     "metadata": {},
     "output_type": "execute_result"
    }
   ],
   "source": [
    "significance_level"
   ]
  },
  {
   "cell_type": "code",
   "execution_count": 56,
   "metadata": {},
   "outputs": [
    {
     "data": {
      "text/plain": [
       "0.772"
      ]
     },
     "execution_count": 56,
     "metadata": {},
     "output_type": "execute_result"
    }
   ],
   "source": [
    "critical_values[2]"
   ]
  },
  {
   "cell_type": "markdown",
   "metadata": {},
   "source": [
    "The A-D statistic is 1.7, which exceeds the critical value, 0.772, so at the 5% significance level, we can reject the hypothesis that this sample came from a Gaussian distribution. That's the right answer, so it might seem like we've done something useful. But we haven't.\n"
   ]
  },
  {
   "cell_type": "markdown",
   "metadata": {},
   "source": [
    "## Sample size\n",
    "\n",
    "The result from the A-D test depends on the sample size. To demonstrate, I'll wrap the test in a function that returns a boolean."
   ]
  },
  {
   "cell_type": "code",
   "execution_count": 10,
   "metadata": {},
   "outputs": [],
   "source": [
    "def anderson_test(sample):\n",
    "    statistic, critical_values, _ = anderson(sample)\n",
    "    return statistic > critical_values[2]"
   ]
  },
  {
   "cell_type": "code",
   "execution_count": 11,
   "metadata": {},
   "outputs": [
    {
     "data": {
      "text/plain": [
       "True"
      ]
     },
     "execution_count": 11,
     "metadata": {},
     "output_type": "execute_result"
    }
   ],
   "source": [
    "anderson_test(sample)"
   ]
  },
  {
   "cell_type": "markdown",
   "metadata": {},
   "source": [
    "And wrap that in a function that takes a distribution and a sample size, generates a sample, runs the test, and returns the result."
   ]
  },
  {
   "cell_type": "code",
   "execution_count": 12,
   "metadata": {},
   "outputs": [],
   "source": [
    "def sample_and_test(dist, n):\n",
    "    logs = dist.rvs(n)\n",
    "    sample = np.exp(logs)\n",
    "    return anderson_test(sample)"
   ]
  },
  {
   "cell_type": "markdown",
   "metadata": {},
   "source": [
    "Now let's see what the results look like as we vary the sample size.\n",
    "\n",
    "I'll run the test 1000 times, adjusting the sample size after each iteration. If the test rejects the null hypothesis, I'll decrease the sample size by abut 4%; if the test fails to reject, I'll increase the sample size by 4%.\n",
    "\n",
    "That way the sample size does a random walk that tends to linger in the vicinity of the critical size where the probability of rejecting the null is near 50%."
   ]
  },
  {
   "cell_type": "code",
   "execution_count": 13,
   "metadata": {},
   "outputs": [],
   "source": [
    "n = 10\n",
    "steps = norm(1.04, 0.01).rvs(1000)\n",
    "res = []\n",
    "\n",
    "for step in steps:\n",
    "    result = sample_and_test(dist, int(n))\n",
    "    res.append((result, n))\n",
    "    if result:\n",
    "        n /= step\n",
    "    else:\n",
    "        n *= step"
   ]
  },
  {
   "cell_type": "markdown",
   "metadata": {},
   "source": [
    "Here are the first few results."
   ]
  },
  {
   "cell_type": "code",
   "execution_count": 14,
   "metadata": {},
   "outputs": [
    {
     "data": {
      "text/html": [
       "<div>\n",
       "<style scoped>\n",
       "    .dataframe tbody tr th:only-of-type {\n",
       "        vertical-align: middle;\n",
       "    }\n",
       "\n",
       "    .dataframe tbody tr th {\n",
       "        vertical-align: top;\n",
       "    }\n",
       "\n",
       "    .dataframe thead th {\n",
       "        text-align: right;\n",
       "    }\n",
       "</style>\n",
       "<table border=\"1\" class=\"dataframe\">\n",
       "  <thead>\n",
       "    <tr style=\"text-align: right;\">\n",
       "      <th></th>\n",
       "      <th>y</th>\n",
       "      <th>x</th>\n",
       "    </tr>\n",
       "  </thead>\n",
       "  <tbody>\n",
       "    <tr>\n",
       "      <th>0</th>\n",
       "      <td>0</td>\n",
       "      <td>10.000000</td>\n",
       "    </tr>\n",
       "    <tr>\n",
       "      <th>1</th>\n",
       "      <td>1</td>\n",
       "      <td>10.455596</td>\n",
       "    </tr>\n",
       "    <tr>\n",
       "      <th>2</th>\n",
       "      <td>0</td>\n",
       "      <td>9.967918</td>\n",
       "    </tr>\n",
       "    <tr>\n",
       "      <th>3</th>\n",
       "      <td>0</td>\n",
       "      <td>10.324539</td>\n",
       "    </tr>\n",
       "    <tr>\n",
       "      <th>4</th>\n",
       "      <td>0</td>\n",
       "      <td>10.748332</td>\n",
       "    </tr>\n",
       "  </tbody>\n",
       "</table>\n",
       "</div>"
      ],
      "text/plain": [
       "   y          x\n",
       "0  0  10.000000\n",
       "1  1  10.455596\n",
       "2  0   9.967918\n",
       "3  0  10.324539\n",
       "4  0  10.748332"
      ]
     },
     "execution_count": 14,
     "metadata": {},
     "output_type": "execute_result"
    }
   ],
   "source": [
    "data = pd.DataFrame(res, columns=['y', 'x'])\n",
    "data['y'] = data['y'].astype(int)\n",
    "data.head()"
   ]
  },
  {
   "cell_type": "markdown",
   "metadata": {},
   "source": [
    "Now we can use logistic regression to model the probability of rejecting the null as a function of sample size."
   ]
  },
  {
   "cell_type": "code",
   "execution_count": 37,
   "metadata": {},
   "outputs": [
    {
     "data": {
      "text/plain": [
       "Intercept   -1.897221\n",
       "x            0.015756\n",
       "dtype: float64"
      ]
     },
     "execution_count": 37,
     "metadata": {},
     "output_type": "execute_result"
    }
   ],
   "source": [
    "import statsmodels.formula.api as smf\n",
    "\n",
    "results = smf.logit('y ~ x', data=data).fit(disp=False)\n",
    "results.params"
   ]
  },
  {
   "cell_type": "markdown",
   "metadata": {},
   "source": [
    "Here's what the result looks like (with sample size on a log axis)."
   ]
  },
  {
   "cell_type": "code",
   "execution_count": 59,
   "metadata": {},
   "outputs": [
    {
     "data": {
      "image/png": "[encoded data removed]",
      "text/plain": [
       "<Figure size 432x288 with 1 Axes>"
      ]
     },
     "metadata": {
      "needs_background": "light"
     },
     "output_type": "display_data"
    }
   ],
   "source": [
    "from scipy.special import expit\n",
    "\n",
    "b, a = results.params\n",
    "ns = np.logspace(1, 3)\n",
    "ps = expit(a * ns + b)\n",
    "\n",
    "plt.plot(ns, ps)\n",
    "plt.xlabel('Sample size')\n",
    "plt.ylabel('Probability of rejection')\n",
    "plt.xscale('log')"
   ]
  },
  {
   "cell_type": "markdown",
   "metadata": {},
   "source": [
    "When the sample size is more than 200, the probability of rejection is high.\n",
    "When the sample size is less than 100, the probability of rejection is low. But notice that it doesn't go all the way to zero, because there is always a 5% chance of a false positive.\n",
    "\n",
    "We can use the parameters of the logistic model to compute the critical value."
   ]
  },
  {
   "cell_type": "code",
   "execution_count": 58,
   "metadata": {},
   "outputs": [
    {
     "data": {
      "text/plain": [
       "122.30768574013753"
      ]
     },
     "execution_count": 58,
     "metadata": {},
     "output_type": "execute_result"
    }
   ],
   "source": [
    "from scipy.special import logit\n",
    "\n",
    "b, a = results.params\n",
    "n = (logit(0.5) - b) / a - b\n",
    "n"
   ]
  },
  {
   "cell_type": "markdown",
   "metadata": {},
   "source": [
    "At this sample size, the probability of rejecting the null is close to 50%."
   ]
  },
  {
   "cell_type": "code",
   "execution_count": 46,
   "metadata": {},
   "outputs": [
    {
     "data": {
      "text/plain": [
       "0.498"
      ]
     },
     "execution_count": 46,
     "metadata": {},
     "output_type": "execute_result"
    }
   ],
   "source": [
    "outcomes = [sample_and_test(dist, int(n)) for i in range(1000)]\n",
    "np.mean(outcomes)"
   ]
  },
  {
   "cell_type": "markdown",
   "metadata": {},
   "source": [
    "So, again, the result just depends on the sample size. If you have enough data, you'll reject the null; otherwise you probably won't. Either way, you learn nothing about the question you really care about, which is whether the Gaussian model is a *good enough* model of the data for your purposes.\n",
    "\n",
    "That's a modeling decision, and no statistical test can help. In [the original article](https://allendowney.blogspot.com/2013/08/are-my-data-normal.html), I suggested some methods that might."
   ]
  },
  {
   "cell_type": "markdown",
   "metadata": {},
   "source": [
    "Copyright 2023 Allen Downey\n",
    "\n",
    "[Attribution-NonCommercial-ShareAlike 4.0 International (CC BY-NC-SA 4.0)](https://creativecommons.org/licenses/by-nc-sa/4.0/)"
   ]
  }
 ],
 "metadata": {
  "kernelspec": {
   "display_name": "Python 3 (ipykernel)",
   "language": "python",
   "name": "python3"
  },
  "language_info": {
   "codemirror_mode": {
    "name": "ipython",
    "version": 3
   },
   "file_extension": ".py",
   "mimetype": "text/x-python",
   "name": "python",
   "nbconvert_exporter": "python",
   "pygments_lexer": "ipython3",
   "version": "3.7.7"
  }
 },
 "nbformat": 4,
 "nbformat_minor": 4
}
